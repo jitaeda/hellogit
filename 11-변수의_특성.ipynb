{
 "cells": [
  {
   "cell_type": "markdown",
   "metadata": {},
   "source": [
    "# 변수의 특성\n",
    "\n",
    "## 튜플의 원소를 각각 다른 변수에 저장하기"
   ]
  },
  {
   "cell_type": "code",
   "execution_count": 1,
   "metadata": {},
   "outputs": [
    {
     "name": "stdout",
     "output_type": "stream",
     "text": [
      "python\n",
      "bigdata\n"
     ]
    }
   ],
   "source": [
    "# 튜플을 통한 변수 생성\n",
    "a, b = (\"python\", \"bigdata\")\n",
    "print(a)\n",
    "print(b)"
   ]
  },
  {
   "cell_type": "code",
   "execution_count": 2,
   "metadata": {},
   "outputs": [
    {
     "name": "stdout",
     "output_type": "stream",
     "text": [
      "hello\n",
      "world\n"
     ]
    }
   ],
   "source": [
    "# 위의 구문과 동일한 기능\n",
    "(a, b) = \"hello\", \"world\"\n",
    "print(a)\n",
    "print(b)"
   ]
  },
  {
   "cell_type": "code",
   "execution_count": 3,
   "metadata": {},
   "outputs": [
    {
     "name": "stdout",
     "output_type": "stream",
     "text": [
      "안녕\n",
      "파이썬\n"
     ]
    }
   ],
   "source": [
    "# 위의 구문과 동일한 기능\n",
    "(a, b) = (\"안녕\", \"파이썬\")\n",
    "print(a)\n",
    "print(b)"
   ]
  },
  {
   "cell_type": "markdown",
   "metadata": {},
   "source": [
    "## 리스트의 원소를 각각 다른 변수에 저장하기"
   ]
  },
  {
   "cell_type": "code",
   "execution_count": 4,
   "metadata": {},
   "outputs": [
    {
     "name": "stdout",
     "output_type": "stream",
     "text": [
      "python\n",
      "bigdata\n"
     ]
    }
   ],
   "source": [
    "# 리스트를 통한 방법도 같은 결과\n",
    "a, b = [\"python\", \"bigdata\"]\n",
    "print(a)\n",
    "print(b)"
   ]
  },
  {
   "cell_type": "code",
   "execution_count": 5,
   "metadata": {},
   "outputs": [
    {
     "name": "stdout",
     "output_type": "stream",
     "text": [
      "hello\n",
      "world\n"
     ]
    }
   ],
   "source": [
    "[a, b] = \"hello\", \"world\"\n",
    "print(a)\n",
    "print(b)"
   ]
  },
  {
   "cell_type": "code",
   "execution_count": 6,
   "metadata": {},
   "outputs": [
    {
     "name": "stdout",
     "output_type": "stream",
     "text": [
      "안녕\n",
      "파이썬\n"
     ]
    }
   ],
   "source": [
    "# 리스트를 활용한 변수 생성\n",
    "[a, b] = [\"안녕\", \"파이썬\"]\n",
    "print(a)\n",
    "print(b)"
   ]
  },
  {
   "cell_type": "markdown",
   "metadata": {},
   "source": [
    "## 동일한 값을 갖는 여러 개의 변수 일괄 생성"
   ]
  },
  {
   "cell_type": "code",
   "execution_count": 7,
   "metadata": {},
   "outputs": [
    {
     "name": "stdout",
     "output_type": "stream",
     "text": [
      "1234\n",
      "1234\n",
      "1234\n"
     ]
    }
   ],
   "source": [
    "a = b = c = 1234\n",
    "print(a)\n",
    "print(b)\n",
    "print(c)"
   ]
  },
  {
   "cell_type": "markdown",
   "metadata": {},
   "source": [
    "## 두 변수의 값을 교환하기"
   ]
  },
  {
   "cell_type": "code",
   "execution_count": 9,
   "metadata": {},
   "outputs": [
    {
     "name": "stdout",
     "output_type": "stream",
     "text": [
      "x=1, y=2\n",
      "x=2, y=1\n"
     ]
    }
   ],
   "source": [
    "x = 1\n",
    "y = 2\n",
    "print(\"x=%d, y=%d\" % (x, y))\n",
    "\n",
    "# 두 변수의 값을 교환\n",
    "x, y = y, x\n",
    "print(\"x=%d, y=%d\" % (x, y))"
   ]
  },
  {
   "cell_type": "markdown",
   "metadata": {},
   "source": [
    "## 값 복사"
   ]
  },
  {
   "cell_type": "code",
   "execution_count": 10,
   "metadata": {},
   "outputs": [
    {
     "name": "stdout",
     "output_type": "stream",
     "text": [
      "100\n",
      "100\n"
     ]
    }
   ],
   "source": [
    "# 숫자형,문자열,논리값을 대입할 경우 변수값의 복사\n",
    "a = 100\n",
    "b = a\n",
    "print(a)\n",
    "print(b)"
   ]
  },
  {
   "cell_type": "code",
   "execution_count": 11,
   "metadata": {},
   "outputs": [
    {
     "name": "stdout",
     "output_type": "stream",
     "text": [
      "100\n",
      "200\n"
     ]
    }
   ],
   "source": [
    "# 복사본을 변경하더라도 원본에는 변화가 없다. (반대의 경우도 마찬가지)\n",
    "b = 200\n",
    "print(a)\n",
    "print(b)"
   ]
  },
  {
   "cell_type": "markdown",
   "metadata": {},
   "source": [
    "## 연속형 자료형의 참조 복사"
   ]
  },
  {
   "cell_type": "code",
   "execution_count": 12,
   "metadata": {},
   "outputs": [
    {
     "name": "stdout",
     "output_type": "stream",
     "text": [
      "[1, 2, 3]\n",
      "[1, 2, 3]\n"
     ]
    }
   ],
   "source": [
    "# 객체의 참조 --> 리스트,딕셔너리 등\n",
    "foo = [ 1, 2, 3 ]\n",
    "bar = foo\n",
    "print(foo)\n",
    "print(bar)"
   ]
  },
  {
   "cell_type": "code",
   "execution_count": 13,
   "metadata": {},
   "outputs": [
    {
     "name": "stdout",
     "output_type": "stream",
     "text": [
      "[1, 20, 3]\n",
      "[1, 20, 3]\n"
     ]
    }
   ],
   "source": [
    "# -> 참조된 복사본을 변경하면 원본도 함께 변경됨.\n",
    "# -> 반대의 경우도 마찬가지\n",
    "# -> 지금까지의 내용들 중에는 리스트, 딕셔너리에 적용됨.\n",
    "bar[1] = 20\n",
    "print(foo)\n",
    "print(bar)"
   ]
  },
  {
   "cell_type": "markdown",
   "metadata": {},
   "source": [
    "## 연속형 자료형의 고전적인 값 복사 방법"
   ]
  },
  {
   "cell_type": "code",
   "execution_count": 18,
   "metadata": {},
   "outputs": [
    {
     "name": "stdout",
     "output_type": "stream",
     "text": [
      "[1, 2, 3]\n",
      "[1, 2, 1000]\n"
     ]
    }
   ],
   "source": [
    "# 리스트 복사 (고전적인 방법)\n",
    "# -> 같은 길이의 리스트를 만들고 각 원소를 일일이 복사함.\n",
    "bar = [ 1, 2, 3 ]\n",
    "cp1 = [ 0, 0, 0 ]\n",
    "cp1[0] = bar[0]\n",
    "cp1[1] = bar[1]\n",
    "cp1[2] = bar[2]\n",
    "\n",
    "# -> 복사본을 변경하더라도 원본에 변화 없음.\n",
    "cp1[2] = 1000\n",
    "print(bar)\n",
    "print(cp1)"
   ]
  },
  {
   "cell_type": "markdown",
   "metadata": {},
   "source": [
    "## 슬라이싱을 활용한 연속성 자료형의 값 복사"
   ]
  },
  {
   "cell_type": "code",
   "execution_count": 21,
   "metadata": {},
   "outputs": [
    {
     "name": "stdout",
     "output_type": "stream",
     "text": [
      "[1, 2, 3]\n",
      "[1, 12345, 3]\n"
     ]
    }
   ],
   "source": [
    "# 슬라이싱을 활용한 방법\n",
    "cp2 = bar[:]\n",
    "\n",
    "# -> 복사본을 변경하더라도 원본에 영향이 없다.\n",
    "cp2[1] = 12345\n",
    "print(bar)\n",
    "print(cp2)"
   ]
  },
  {
   "cell_type": "markdown",
   "metadata": {},
   "source": [
    "## 리스트 객체의 함수를 사용하는 값 복사"
   ]
  },
  {
   "cell_type": "code",
   "execution_count": 22,
   "metadata": {},
   "outputs": [
    {
     "name": "stdout",
     "output_type": "stream",
     "text": [
      "[1, 12345, 3]\n",
      "[12345, 12345, 3]\n"
     ]
    }
   ],
   "source": [
    "# 리스트 객체의 함수를 사용하는 방법\n",
    "cp3 = cp2.copy()\n",
    "\n",
    "# -> 복사본을 변경하더라도 원본에 영향이 없다.\n",
    "cp3[0] = 12345\n",
    "print(cp2)\n",
    "print(cp3)"
   ]
  },
  {
   "cell_type": "markdown",
   "metadata": {},
   "source": [
    "## 조건문에서의 변수의 유효 범위"
   ]
  },
  {
   "cell_type": "code",
   "execution_count": 1,
   "metadata": {},
   "outputs": [
    {
     "name": "stdout",
     "output_type": "stream",
     "text": [
      "100\n",
      "200\n"
     ]
    }
   ],
   "source": [
    "# 변수는 자신이 최초로 생성된 위치보다 깊은 레벨로는 침투가 가능.\n",
    "num1 = 100\n",
    "\n",
    "if num1 == 100:\n",
    "    print(num1)\n",
    "    num2 = num1 + 100\n",
    "    \n",
    "# 자신이 최초로 생성된 위치보다 얕은 레벨에서는\n",
    "# 변수를 생성하는 구문의 실행 여부에 따라 식별 가능여부가 결정됨\n",
    "print(num2)"
   ]
  },
  {
   "cell_type": "markdown",
   "metadata": {},
   "source": [
    "## 반복문에서의 변수의 유효 범위"
   ]
  },
  {
   "cell_type": "code",
   "execution_count": 2,
   "metadata": {},
   "outputs": [
    {
     "name": "stdout",
     "output_type": "stream",
     "text": [
      "900\n"
     ]
    }
   ],
   "source": [
    "# 반복문이 1회 이상 수행되었다면 반복문 안에서 생성된 변수는 밖에서 식별 가능\n",
    "for i in range(1, 10):\n",
    "    result = i * 100\n",
    "\n",
    "# 반복문이 한번도 실행되지 않았다면 result라는 변수는 존재하지 않는다.\n",
    "print(result)"
   ]
  },
  {
   "cell_type": "markdown",
   "metadata": {},
   "source": [
    "## 변수의 유효 범위 결론"
   ]
  },
  {
   "cell_type": "code",
   "execution_count": 5,
   "metadata": {},
   "outputs": [
    {
     "name": "stdout",
     "output_type": "stream",
     "text": [
      "None\n"
     ]
    }
   ],
   "source": [
    "# if,for 등의 블록을 구성하는 구문 안에서 변수를 생성해야 한다면,\n",
    "# 블록 밖에서 미리 변수를 만들어 두는 것이 좋다.\n",
    "x = None\n",
    "\n",
    "# if 문이 실행되지 않더라도 미리 x를 준비해 두었기 때문에\n",
    "# 42라인은 에러가 발생하지 않는다.\n",
    "if num1 > 100:\n",
    "    x = num1\n",
    "    \n",
    "print(x)"
   ]
  },
  {
   "cell_type": "markdown",
   "metadata": {},
   "source": [
    "## 사용자로부터 입력값 받기"
   ]
  },
  {
   "cell_type": "code",
   "execution_count": 7,
   "metadata": {},
   "outputs": [
    {
     "name": "stdin",
     "output_type": "stream",
     "text": [
      "내용을 입력하세요:  안녕하세요.\n"
     ]
    },
    {
     "name": "stdout",
     "output_type": "stream",
     "text": [
      "안녕하세요.\n"
     ]
    }
   ],
   "source": [
    "msg = input(\"내용을 입력하세요: \")\n",
    "print(msg)"
   ]
  },
  {
   "cell_type": "markdown",
   "metadata": {},
   "source": [
    "## 입력값을 숫자로 변환하기\n",
    "\n",
    "입력값은 무조건 문자열이므로 숫자를 더할 경우 에러가 발생한다."
   ]
  },
  {
   "cell_type": "code",
   "execution_count": 8,
   "metadata": {},
   "outputs": [
    {
     "name": "stdin",
     "output_type": "stream",
     "text": [
      "숫자를 입력하세요:  100\n"
     ]
    },
    {
     "ename": "TypeError",
     "evalue": "can only concatenate str (not \"int\") to str",
     "output_type": "error",
     "traceback": [
      "\u001b[0;31m---------------------------------------------------------------------------\u001b[0m",
      "\u001b[0;31mTypeError\u001b[0m                                 Traceback (most recent call last)",
      "\u001b[0;32m<ipython-input-8-33b279c2f103>\u001b[0m in \u001b[0;36m<module>\u001b[0;34m\u001b[0m\n\u001b[1;32m      2\u001b[0m \u001b[0;34m\u001b[0m\u001b[0m\n\u001b[1;32m      3\u001b[0m \u001b[0;31m# 입력값은 무조건 문자열이므로 숫자를 더할 경우 에러가 발생한다.\u001b[0m\u001b[0;34m\u001b[0m\u001b[0;34m\u001b[0m\u001b[0;34m\u001b[0m\u001b[0m\n\u001b[0;32m----> 4\u001b[0;31m \u001b[0mprint\u001b[0m\u001b[0;34m(\u001b[0m\u001b[0mmsg\u001b[0m \u001b[0;34m+\u001b[0m \u001b[0;36m100\u001b[0m\u001b[0;34m)\u001b[0m\u001b[0;34m\u001b[0m\u001b[0;34m\u001b[0m\u001b[0m\n\u001b[0m",
      "\u001b[0;31mTypeError\u001b[0m: can only concatenate str (not \"int\") to str"
     ]
    }
   ],
   "source": [
    "msg = input(\"숫자를 입력하세요: \")\n",
    "print(msg + 100)"
   ]
  },
  {
   "cell_type": "markdown",
   "metadata": {},
   "source": [
    "## `int()` 함수를 사용한 숫자 형변환\n",
    "\n",
    "문자열을 숫자로 변환하기 위해서는 int()함수를 사용해야 한다."
   ]
  },
  {
   "cell_type": "code",
   "execution_count": 12,
   "metadata": {},
   "outputs": [
    {
     "name": "stdin",
     "output_type": "stream",
     "text": [
      "숫자를 입력하세요:  345\n"
     ]
    },
    {
     "name": "stdout",
     "output_type": "stream",
     "text": [
      "445\n"
     ]
    }
   ],
   "source": [
    "msg = input(\"숫자를 입력하세요: \")\n",
    "num = int(msg)\n",
    "print(num + 100)"
   ]
  },
  {
   "cell_type": "markdown",
   "metadata": {},
   "source": [
    "## 숫자를 문자열로 변환하기\n",
    "\n",
    "숫자를 문자열로 변환하기 위해서는 `str()` 함수를 사용한다."
   ]
  },
  {
   "cell_type": "code",
   "execution_count": 13,
   "metadata": {},
   "outputs": [
    {
     "name": "stdout",
     "output_type": "stream",
     "text": [
      "100200\n"
     ]
    }
   ],
   "source": [
    "num = 100\n",
    "msg = str(num)\n",
    "print(msg + \"200\")"
   ]
  }
 ],
 "metadata": {
  "kernelspec": {
   "display_name": "Python 3 (ipykernel)",
   "language": "python",
   "name": "python3"
  },
  "language_info": {
   "codemirror_mode": {
    "name": "ipython",
    "version": 3
   },
   "file_extension": ".py",
   "mimetype": "text/x-python",
   "name": "python",
   "nbconvert_exporter": "python",
   "pygments_lexer": "ipython3",
   "version": "3.9.7"
  }
 },
 "nbformat": 4,
 "nbformat_minor": 4
}
