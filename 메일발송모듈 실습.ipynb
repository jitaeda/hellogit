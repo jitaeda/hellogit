{
 "cells": [
  {
   "cell_type": "code",
   "execution_count": 2,
   "id": "07569862-4a7b-4d39-b248-09832d81fecc",
   "metadata": {},
   "outputs": [],
   "source": [
    "from SendMail import send_mail\n",
    "\n",
    "from_addr = \"jitaeda1@gmail.com\"\n",
    "to_addr = \"jitaeda1@naver.com\"\n",
    "subject = '김정욱_파이썬기본연습문제'\n",
    "\n",
    "content = \"\"\"<html>\n",
    "  <head></head>\n",
    "  <body>\n",
    "    <h1>안녕하세요</h1>\n",
    "    <h2>수강생 김정욱 입니다</h2>\n",
    "    <p>\n",
    "        사실 2차접종 후 어제까지 감기증상과 두통으로<br>\n",
    "        수업에 집중도 잘 안됐고 복습도 필요한 양보다<br>\n",
    "        많이 부족한 거 같아 좀 조급해하고 있습니다.<br>\n",
    "        다행히 오늘 아침부터는 타이레놀 없이 37도 이하로 나와서<br>\n",
    "        다음 주엔 등원이 가능할 거 같습니다.<br>\n",
    "        멀긴 하지만 등원하는게 여러모로 학습에 좋을 거 같습니다.<br>\n",
    "        제가 느끼기엔 꽤 많은 양의 파이썬 관련 학습을 한 거 같고<br>\n",
    "        코드를 보면 이해는 되는데 막상 짜려고 하면 안 떠오르는게<br>\n",
    "        사실이지만 책만 보고 줄그으며 공부하는 것보단 훨씬 재밌습니다.<br>\n",
    "        앞으로도 따라가는 데 집중하겠습니다.<br>\n",
    "    </p>\n",
    "  </body>\n",
    "</html>\"\"\"\n",
    "\n",
    "files = [\"mail/hello.txt\", \"mail/world.txt\"]"
   ]
  },
  {
   "cell_type": "code",
   "execution_count": 4,
   "id": "26667aa5-60ab-4c15-8c4a-c976a4a1319f",
   "metadata": {},
   "outputs": [],
   "source": [
    "send_mail(from_addr, to_addr, subject, content, files)"
   ]
  },
  {
   "cell_type": "code",
   "execution_count": null,
   "id": "2c6d48d5-84c7-4c06-ae25-f00fc337a2d4",
   "metadata": {},
   "outputs": [],
   "source": []
  }
 ],
 "metadata": {
  "kernelspec": {
   "display_name": "Python 3 (ipykernel)",
   "language": "python",
   "name": "python3"
  },
  "language_info": {
   "codemirror_mode": {
    "name": "ipython",
    "version": 3
   },
   "file_extension": ".py",
   "mimetype": "text/x-python",
   "name": "python",
   "nbconvert_exporter": "python",
   "pygments_lexer": "ipython3",
   "version": "3.9.7"
  }
 },
 "nbformat": 4,
 "nbformat_minor": 5
}
