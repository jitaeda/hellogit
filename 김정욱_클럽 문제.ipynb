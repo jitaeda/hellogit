{
 "cells": [
  {
   "cell_type": "code",
   "execution_count": null,
   "id": "9e49f56a-c5bb-4e1c-aef2-246cfaf895c4",
   "metadata": {},
   "outputs": [],
   "source": [
    "\"\"\"시행횟수 A를 입력받은 후, 반복횟수 B, 문자 C번를 입력했을때 조건을 만족하는\n",
    "새로운 문자열을 출력하는 프로그램을 작성해주세요\n",
    "EX )\n",
    "몇 개가 필요합니까? 2\n",
    "반복하고 싶은 *숫자*는요? 5\n",
    "어떤 문자열을 반복하고 싶나요 ㅁㄴㅇㄹ\n",
    "ㅁㅁㅁㅁㅁㄴㄴㄴㄴㄴㅇㅇㅇㅇㅇㄹㄹㄹㄹㄹ\n",
    "반복하고 싶은 *숫자*는요? 3\n",
    "어떤 문자열을 반복하고 싶나요 ㄷ륟ㄱ\n",
    "ㄷㄷㄷ륟륟륟ㄱㄱㄱ\"\"\"\n",
    "\n",
    "for i in range(int(input(\"몇 개가 필요합니까?\"))):\n",
    "    r = int(input(\"반복하고 싶은 *숫자*는요?\"))\n",
    "    s = list(input(\"어떤 문자열을 반복하고 싶나요\"))\n",
    "    for j in range(len(s)):\n",
    "        print(s[j] * r,end='')\n",
    "    print(end=\"\\n\")"
   ]
  },
  {
   "cell_type": "code",
   "execution_count": 13,
   "id": "818bb41a-556a-42b2-9871-410c7ec96824",
   "metadata": {},
   "outputs": [
    {
     "name": "stdin",
     "output_type": "stream",
     "text": [
      " 2\n",
      " 5 ABC\n"
     ]
    },
    {
     "name": "stdout",
     "output_type": "stream",
     "text": [
      "AAAAABBBBBCCCCC\n"
     ]
    },
    {
     "name": "stdin",
     "output_type": "stream",
     "text": [
      " 3 CCD\n"
     ]
    },
    {
     "name": "stdout",
     "output_type": "stream",
     "text": [
      "CCCCCCDDD\n"
     ]
    }
   ],
   "source": [
    "t = int(input())\n",
    "for i in range(t):\n",
    "    a, b = input().split()\n",
    "    for j in b:\n",
    "        print(j*int(a), end='')\n",
    "    print()"
   ]
  },
  {
   "cell_type": "code",
   "execution_count": null,
   "id": "b65bfaed-51e5-4672-aa55-6cb45e5b6123",
   "metadata": {},
   "outputs": [],
   "source": []
  },
  {
   "cell_type": "code",
   "execution_count": 15,
   "id": "d97a1db3-df71-4b25-aecf-856e7f75c6cf",
   "metadata": {},
   "outputs": [
    {
     "name": "stdin",
     "output_type": "stream",
     "text": [
      "시행횟수 2\n",
      "반복횟수 2\n",
      "문장은? as\n"
     ]
    },
    {
     "name": "stdout",
     "output_type": "stream",
     "text": [
      "aass"
     ]
    },
    {
     "name": "stdin",
     "output_type": "stream",
     "text": [
      "반복횟수 3\n",
      "문장은? asd\n"
     ]
    },
    {
     "name": "stdout",
     "output_type": "stream",
     "text": [
      "aaasssddd"
     ]
    }
   ],
   "source": [
    "count = int(input(\"시행횟수\"))\n",
    "\n",
    "for i in range(0, count):\n",
    "    rep = int(input(\"반복횟수\"))\n",
    "    line = list(input(\"문장은?\"))\n",
    "    for j in range(0, len(line)):\n",
    "        print(line[j] * rep, end = '')"
   ]
  },
  {
   "cell_type": "code",
   "execution_count": null,
   "id": "a657319d-3db7-4c1b-b1c3-566f83e83e1d",
   "metadata": {},
   "outputs": [],
   "source": []
  }
 ],
 "metadata": {
  "kernelspec": {
   "display_name": "Python 3 (ipykernel)",
   "language": "python",
   "name": "python3"
  },
  "language_info": {
   "codemirror_mode": {
    "name": "ipython",
    "version": 3
   },
   "file_extension": ".py",
   "mimetype": "text/x-python",
   "name": "python",
   "nbconvert_exporter": "python",
   "pygments_lexer": "ipython3",
   "version": "3.9.7"
  }
 },
 "nbformat": 4,
 "nbformat_minor": 5
}
