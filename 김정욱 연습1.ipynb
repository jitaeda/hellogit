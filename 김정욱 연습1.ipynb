{
 "cells": [
  {
   "cell_type": "markdown",
   "metadata": {},
   "source": [
    "# 파이썬 중간점검 연습문제 01\n",
    "\n",
    "---------\n",
    "\n",
    "### 문제 1\n",
    "\n",
    "다음(Daum)의 주가가 89,000원이고 네이버(Naver)의 주가가 751,000원이라고 가정하고, \n",
    "어떤 사람이 다음 주식 100주와 네이버 주식 20주를 가지고 있을 때 \n",
    "그 사람이 가지고 있는 주식의 총액을 계산하는 프로그램을 작성하세요."
   ]
  },
  {
   "cell_type": "code",
   "execution_count": 6,
   "metadata": {},
   "outputs": [
    {
     "name": "stdout",
     "output_type": "stream",
     "text": [
      "23920000\n"
     ]
    }
   ],
   "source": [
    "Daum = 89000\n",
    "Naver = 751000\n",
    "Sum = (Daum*100 + Naver*20)\n",
    "print(Sum)"
   ]
  },
  {
   "cell_type": "markdown",
   "metadata": {},
   "source": [
    "---\n",
    "\n",
    "### 문제 2\n",
    "\n",
    "문제 1에서 구한 주식 총액에서 다음과 네이버의 주가가 각각 5%, 10% 하락한 경우에 손실액을 구하는 프로그램을 작성하세요."
   ]
  },
  {
   "cell_type": "code",
   "execution_count": 8,
   "metadata": {},
   "outputs": [
    {
     "name": "stdout",
     "output_type": "stream",
     "text": [
      "1947000.0\n"
     ]
    }
   ],
   "source": [
    "Loss = Daum*100*0.05+Naver*20*0.1\n",
    "print(Loss)"
   ]
  },
  {
   "cell_type": "markdown",
   "metadata": {},
   "source": [
    "---\n",
    "\n",
    "### 문제 3\n",
    "\n",
    "우리나라는 섭씨 온도를 사용하는 반면 미국과 유럽은 화씨 온도를 주로 사용합니다. 화씨 온도(F)를 섭씨 온도(C)로 변환할 때는 다음과 같은 공식을 사용합니다. 이 공식을 사용해 화씨 온도가 50일 때의 섭씨 온도를 계산해 보세요.\n",
    "\n",
    "```python\n",
    "C = (F-32)/1.8\n",
    "```"
   ]
  },
  {
   "cell_type": "code",
   "execution_count": 11,
   "metadata": {},
   "outputs": [
    {
     "name": "stdin",
     "output_type": "stream",
     "text": [
      "화씨 변환기 50\n"
     ]
    },
    {
     "name": "stdout",
     "output_type": "stream",
     "text": [
      "현재 온도는 10.0 도 입니다.\n"
     ]
    },
    {
     "data": {
      "text/plain": [
       "10.0"
      ]
     },
     "execution_count": 11,
     "metadata": {},
     "output_type": "execute_result"
    }
   ],
   "source": [
    "num = int(input(\"화씨 변환기\"))\n",
    "print(\"현재 온도는\", (num-32)/1.8,\"도 입니다.\")\n",
    "\n",
    "(50-32)/1.8"
   ]
  },
  {
   "cell_type": "markdown",
   "metadata": {},
   "source": [
    "---\n",
    "\n",
    "### 문제 4\n",
    "\n",
    "s라는 변수에 'Daum KaKao'라는 문자열이 바인딩돼 있다고 했을 때 문자열의 슬라이싱 기능과 연결하기를 이용해 s의 값을 'KaKao Daum'으로 변경해 보세요."
   ]
  },
  {
   "cell_type": "code",
   "execution_count": 17,
   "metadata": {},
   "outputs": [
    {
     "name": "stdout",
     "output_type": "stream",
     "text": [
      "KaKao Daum\n"
     ]
    }
   ],
   "source": [
    "s = 'Daum KaKao'\n",
    "print(s[5:],s[0:4])"
   ]
  },
  {
   "cell_type": "markdown",
   "metadata": {},
   "source": [
    "---\n",
    "\n",
    "## 문제5\n",
    "\n",
    "사용자로부터 입력을 받기 위해서는 `input(str)` 함수를 사용합니다. \n",
    "\n",
    "이 함수는 사용자로부터 입력값을 문자열 변수로 반환합니다.\n",
    "\n",
    "```python\n",
    "myinput = input(\"아무 내용이나 입력하세요:\")\n",
    "print(\"입력하신 내용:\", myinput)\n",
    "```\n",
    "\n",
    "만약 입력값을 숫자로 사용하고자 할 경우 int() 함수를 사용하여 형변환을 수행해야 합니다.\n",
    "\n",
    "```python\n",
    "myinput = input(\"숫자를 입력하세요:\")\n",
    "mynumber = int(myinput)\n",
    "x = mynumber + 100\n",
    "print(\"입력값에 100을 더한 결과:\", x)\n",
    "```\n",
    "\n",
    "태어난 년도 `year`를 입력받아서 그 사람이 성인인지 판별하는 프로그램을 작성하시오.\n",
    "\n",
    "(단, 20세 이상인 경우 성인으로 판단합니다.)\n",
    "\n",
    "현재 년도는 now_year 변수에 직접 입력받으세요."
   ]
  },
  {
   "cell_type": "code",
   "execution_count": 23,
   "metadata": {},
   "outputs": [
    {
     "name": "stdin",
     "output_type": "stream",
     "text": [
      "태어난 년도 2010\n"
     ]
    },
    {
     "name": "stdout",
     "output_type": "stream",
     "text": [
      "밥 좀 더 먹고 와라\n"
     ]
    }
   ],
   "source": [
    "now_year = 2021\n",
    "word = input(\"태어난 년도\")\n",
    "num = int(word)\n",
    "if now_year - num >= 20:\n",
    "    print(\"삐빅 성인입니다.\")\n",
    "else:\n",
    "    print(\"밥 좀 더 먹고 와라\")\n",
    "    \n",
    "\n"
   ]
  },
  {
   "cell_type": "markdown",
   "metadata": {},
   "source": [
    "---\n",
    "\n",
    "## 문제6\n",
    "\n",
    "자신의 키를 `cm`단위로 입력받아 `m`와 `cm`단위로 분할하여 출력하시오.\n",
    "\n",
    "단, 함수를 사용하지 않고 직접 연산자를 활용하여 구해야 합니다."
   ]
  },
  {
   "cell_type": "code",
   "execution_count": 8,
   "metadata": {},
   "outputs": [
    {
     "name": "stdin",
     "output_type": "stream",
     "text": [
      "키를 cm단위로 입력해주세요 180\n"
     ]
    },
    {
     "name": "stdout",
     "output_type": "stream",
     "text": [
      "당신의 키는 1.8 m, 180 cm 입니다.\n"
     ]
    }
   ],
   "source": [
    "myinput = input('키를 cm단위로 입력해주세요')\n",
    "mynumber = int(myinput)\n",
    "print(\"당신의 키는\" ,mynumber / 100, \"m,\", mynumber, \"cm 입니다.\")"
   ]
  },
  {
   "cell_type": "markdown",
   "metadata": {},
   "source": [
    "---\n",
    "\n",
    "### 문제7\n",
    "\n",
    "여행에서 찍은 사진을 \"C:\\myphoto\\helloworld.jpg\"의 경로에 보관하고 있다. \n",
    "\n",
    "이 사진 파일의 경로를 임의의 변수에 할당하고, 사진이 보관되어 있는 폴더의 위치와 파일 이름, \n",
    "확장자를 출력하는 프로그램을 작성하시오.\n",
    "\n",
    "#### 출력결과 예시\n",
    "```\n",
    "폴더의 위치: C:\\myphoto\n",
    "파일이름: helloworld\n",
    "확장자: jpg\n",
    "```"
   ]
  },
  {
   "cell_type": "code",
   "execution_count": 17,
   "metadata": {},
   "outputs": [
    {
     "name": "stdout",
     "output_type": "stream",
     "text": [
      "C:\\myphoto\\helloworld.jpg\n",
      "폴더의 위치: C:\\myphoto 파일이름: helloworld\n",
      "확장자: jpg\n"
     ]
    }
   ],
   "source": [
    "folder = \"C:\\myphoto\\helloworld.jpg\"\n",
    "print(folder)\n",
    "print(\"폴더의 위치:\",folder[0:10], end=' ')\n",
    "print(\"파일이름:\",folder[11:21])\n",
    "print(\"확장자:\",folder[22:])"
   ]
  },
  {
   "cell_type": "markdown",
   "metadata": {},
   "source": [
    "---\n",
    "\n",
    "### 문제8\n",
    "\n",
    "임의의 숫자를 입력받은 후 그 값이 홀수인지 짝수인지를 판별하시오."
   ]
  },
  {
   "cell_type": "code",
   "execution_count": 5,
   "metadata": {},
   "outputs": [
    {
     "name": "stdin",
     "output_type": "stream",
     "text": [
      "숫자를 입력하세요 71\n"
     ]
    },
    {
     "name": "stdout",
     "output_type": "stream",
     "text": [
      "홀수\n"
     ]
    }
   ],
   "source": [
    "hj = input(\"숫자를 입력하세요\")\n",
    "price = int(hj)\n",
    "\n",
    "if price % 2 == 0:\n",
    "    print(\"짝수\")\n",
    "else:\n",
    "    print(\"홀수\")"
   ]
  },
  {
   "cell_type": "markdown",
   "metadata": {},
   "source": [
    "---\n",
    "\n",
    "### 문제9\n",
    "\n",
    "임의의 숫자를 입력받은 후 값만큼 \"HelloPython\"이라는 문구를 반복해서 출력하시오.\n",
    "\n",
    "> 예) 3을 입력한 경우 -> HelloPythonHelloPythonHelloPython"
   ]
  },
  {
   "cell_type": "code",
   "execution_count": 9,
   "metadata": {},
   "outputs": [
    {
     "name": "stdin",
     "output_type": "stream",
     "text": [
      "몇번 반복? 5\n"
     ]
    },
    {
     "name": "stdout",
     "output_type": "stream",
     "text": [
      "HelloPythonHelloPythonHelloPythonHelloPythonHelloPython\n"
     ]
    }
   ],
   "source": [
    "ab = int(input(\"몇번 반복?\"))\n",
    "print(\"HelloPython\"*ab)"
   ]
  },
  {
   "cell_type": "code",
   "execution_count": null,
   "metadata": {},
   "outputs": [],
   "source": []
  }
 ],
 "metadata": {
  "kernelspec": {
   "display_name": "Python 3 (ipykernel)",
   "language": "python",
   "name": "python3"
  },
  "language_info": {
   "codemirror_mode": {
    "name": "ipython",
    "version": 3
   },
   "file_extension": ".py",
   "mimetype": "text/x-python",
   "name": "python",
   "nbconvert_exporter": "python",
   "pygments_lexer": "ipython3",
   "version": "3.9.7"
  }
 },
 "nbformat": 4,
 "nbformat_minor": 4
}
