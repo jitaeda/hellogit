{
 "cells": [
  {
   "cell_type": "markdown",
   "id": "4c285f9e-5940-4c0c-a39c-b157df7b1edc",
   "metadata": {},
   "source": [
    "# Seaborn 패키지"
   ]
  },
  {
   "cell_type": "code",
   "execution_count": null,
   "id": "e065732a-e2c0-440a-b910-f0b44aab19a0",
   "metadata": {},
   "outputs": [],
   "source": []
  }
 ],
 "metadata": {
  "kernelspec": {
   "display_name": "Python 3 (ipykernel)",
   "language": "python",
   "name": "python3"
  },
  "language_info": {
   "codemirror_mode": {
    "name": "ipython",
    "version": 3
   },
   "file_extension": ".py",
   "mimetype": "text/x-python",
   "name": "python",
   "nbconvert_exporter": "python",
   "pygments_lexer": "ipython3",
   "version": "3.9.7"
  }
 },
 "nbformat": 4,
 "nbformat_minor": 5
}
