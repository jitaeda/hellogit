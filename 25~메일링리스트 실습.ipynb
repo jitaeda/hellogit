{
 "cells": [
  {
   "cell_type": "code",
   "execution_count": 4,
   "id": "02a51b5b-f836-4d8c-a26f-8149469928b0",
   "metadata": {},
   "outputs": [],
   "source": [
    "from SendMail import send_mail\n",
    "import datetime as dt"
   ]
  },
  {
   "cell_type": "code",
   "execution_count": 5,
   "id": "7e0523b3-d121-42c2-8503-a70c52d53ac0",
   "metadata": {},
   "outputs": [
    {
     "name": "stdout",
     "output_type": "stream",
     "text": [
      "2021 10\n"
     ]
    }
   ],
   "source": [
    "now_time = dt.datetime.now()\n",
    "now_year = now_time.year\n",
    "now_month = now_time.month\n",
    "print(now_year, now_month)"
   ]
  },
  {
   "cell_type": "code",
   "execution_count": 6,
   "id": "2dc64217-e91e-45db-baf4-d027f67b1fa6",
   "metadata": {},
   "outputs": [],
   "source": [
    "from_addr = \"jitaeda1@gmail.com\"\n",
    "subject_tpl = '{name}님의 {yy}년 {mm}월 급여명세서 입니다.'"
   ]
  },
  {
   "cell_type": "code",
   "execution_count": 7,
   "id": "8dbe6350-8327-4d2d-8206-4c8f41691c59",
   "metadata": {},
   "outputs": [],
   "source": [
    "with open(\"mail/content.html\", \"r\", encoding='utf-8') as f:\n",
    "    content_tpl = f.read()"
   ]
  },
  {
   "cell_type": "code",
   "execution_count": 8,
   "id": "0a66dbb1-0476-4621-b5ee-b49b40a33b6b",
   "metadata": {},
   "outputs": [
    {
     "name": "stdout",
     "output_type": "stream",
     "text": [
      "1/5 >> 한준(kjqw123456@gmail.com)님께 메일을 발송했습니다.\n",
      "2/5 >> 강현주(fakeplastictree13@gmail.com)님께 메일을 발송했습니다.\n",
      "3/5 >> 지환(herick.jee@gmail.com)님께 메일을 발송했습니다.\n",
      "4/5 >> 김인솔(k7132474@gmail.com)님께 메일을 발송했습니다.\n",
      "5/5 >> 주영아(j.purplerose@gmail.com)님께 메일을 발송했습니다.\n"
     ]
    }
   ],
   "source": [
    "with open(\"mail/mail_list.csv\", \"r\", encoding='euc-kr') as f:\n",
    "    csv_data = f.readlines()\n",
    "    count = len(csv_data)\n",
    "\n",
    "    result_tpl = \"{0}/{1} >> {2}({3})님께 메일을 발송했습니다.\"\n",
    "\n",
    "    for i, line in  enumerate(csv_data):\n",
    "        item = line.strip().split(\",\")\n",
    "        to_name = item[0].strip()\n",
    "        to_addr = item[1].strip()\n",
    "        file1 = item[2].strip()\n",
    "        file2 = item[3].strip()\n",
    "\n",
    "        subject = subject_tpl.format(name=to_name, yy=now_year, mm=now_month)\n",
    "        content = content_tpl.format(name=to_name, yy=now_year, mm=now_month)\n",
    "\n",
    "        send_mail(from_addr, to_addr, subject, content, [file1, file2])\n",
    "\n",
    "        print(result_tpl.format(i+1, count, to_name, to_addr))"
   ]
  }
 ],
 "metadata": {
  "kernelspec": {
   "display_name": "Python 3 (ipykernel)",
   "language": "python",
   "name": "python3"
  },
  "language_info": {
   "codemirror_mode": {
    "name": "ipython",
    "version": 3
   },
   "file_extension": ".py",
   "mimetype": "text/x-python",
   "name": "python",
   "nbconvert_exporter": "python",
   "pygments_lexer": "ipython3",
   "version": "3.9.7"
  }
 },
 "nbformat": 4,
 "nbformat_minor": 5
}
