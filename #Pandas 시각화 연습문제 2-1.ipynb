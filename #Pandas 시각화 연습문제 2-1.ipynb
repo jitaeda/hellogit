{
 "cells": [
  {
   "cell_type": "markdown",
   "id": "6083d692-36fe-409c-b776-ace133e6d806",
   "metadata": {},
   "source": [
    "# 문제 1"
   ]
  },
  {
   "cell_type": "code",
   "execution_count": 1,
   "id": "643fe8bb-1aa9-4300-a727-9a362baf0e43",
   "metadata": {},
   "outputs": [],
   "source": [
    "import pandas as pd\n",
    "from pandas import DataFrame\n",
    "from pandas import read_excel\n",
    "from matplotlib import pyplot as plt\n",
    "import seaborn as sns\n",
    "import numpy as np"
   ]
  },
  {
   "cell_type": "code",
   "execution_count": 2,
   "id": "e97d8701-e7e6-43b2-9b41-4295cee5836c",
   "metadata": {},
   "outputs": [],
   "source": [
    "plt.rcParams[\"font.family\"] = 'Malgun Gothic'\n",
    "plt.rcParams[\"font.size\"] = 16\n",
    "plt.rcParams['figure.figsize'] = (7, 5)\n",
    "plt.rcParams['axes.unicode_minus'] = False"
   ]
  },
  {
   "cell_type": "code",
   "execution_count": 3,
   "id": "64cfda67-ab43-4b04-a4bd-6fe3759d0cf0",
   "metadata": {},
   "outputs": [
    {
     "data": {
      "text/html": [
       "<div>\n",
       "<style scoped>\n",
       "    .dataframe tbody tr th:only-of-type {\n",
       "        vertical-align: middle;\n",
       "    }\n",
       "\n",
       "    .dataframe tbody tr th {\n",
       "        vertical-align: top;\n",
       "    }\n",
       "\n",
       "    .dataframe thead th {\n",
       "        text-align: right;\n",
       "    }\n",
       "</style>\n",
       "<table border=\"1\" class=\"dataframe\">\n",
       "  <thead>\n",
       "    <tr style=\"text-align: right;\">\n",
       "      <th></th>\n",
       "      <th>화학</th>\n",
       "      <th>생물학</th>\n",
       "      <th>통계학</th>\n",
       "    </tr>\n",
       "  </thead>\n",
       "  <tbody>\n",
       "    <tr>\n",
       "      <th>남자</th>\n",
       "      <td>82</td>\n",
       "      <td>86</td>\n",
       "      <td>71</td>\n",
       "    </tr>\n",
       "    <tr>\n",
       "      <th>여자</th>\n",
       "      <td>91</td>\n",
       "      <td>73</td>\n",
       "      <td>83</td>\n",
       "    </tr>\n",
       "  </tbody>\n",
       "</table>\n",
       "</div>"
      ],
      "text/plain": [
       "    화학  생물학  통계학\n",
       "남자  82   86   71\n",
       "여자  91   73   83"
      ]
     },
     "execution_count": 3,
     "metadata": {},
     "output_type": "execute_result"
    }
   ],
   "source": [
    "grd = {\n",
    "    '화학' : [82, 91],\n",
    "    '생물학' : [86, 73],\n",
    "    '통계학' : [71, 83]\n",
    "}\n",
    "\n",
    "grade = DataFrame(grd, index = ['남자', '여자'])\n",
    "grade"
   ]
  },
  {
   "cell_type": "code",
   "execution_count": 4,
   "id": "7623986c-0398-4f5b-9c2a-b230f9ed9e58",
   "metadata": {},
   "outputs": [
    {
     "name": "stdout",
     "output_type": "stream",
     "text": [
      "['화학', '생물학', '통계학']\n",
      "[0 1 2]\n",
      "[82, 86, 71]\n",
      "[91, 73, 83]\n"
     ]
    }
   ],
   "source": [
    "grade.keys\n",
    "sub = list(grade.keys())\n",
    "print(sub)\n",
    "x = np.arange(len(sub))\n",
    "print(x)\n",
    "\n",
    "male = list(grade.loc['남자'])\n",
    "fmale = list(grade.loc['여자'])\n",
    "\n",
    "print(male)\n",
    "print(fmale)"
   ]
  },
  {
   "cell_type": "code",
   "execution_count": 5,
   "id": "c5348f41-0460-4bd2-93c9-68362dd79150",
   "metadata": {},
   "outputs": [
    {
     "data": {
      "image/png": "[encoded data removed]",
      "text/plain": [
       "<Figure size 1296x648 with 1 Axes>"
      ]
     },
     "metadata": {
      "needs_background": "light"
     },
     "output_type": "display_data"
    }
   ],
   "source": [
    "fig, ax = plt.subplots(1, 1, figsize = (18,9))\n",
    "\n",
    "ax.bar(x-0.2, male, label='남자', width=0.4, color='#2E9AFE') # x = np만 가능\n",
    "ax.bar(x+0.2, fmale, label='여자', width=0.4, color='#FE2E64')\n",
    "\n",
    "ax.set_xticks(x)\n",
    "ax.set_xticklabels(sub)\n",
    "\n",
    "ax.legend()\n",
    "ax.grid()\n",
    "ax.set_xlabel('과목', fontsize=16, color='#0066ff')\n",
    "ax.set_ylabel('점수', fontsize=16, color='#0066ff')\n",
    "ax.set_ylim([0,100])\n",
    "ax.set_title('성별에 따른 과목별 시험점수', fontsize=28, pad=14)\n",
    "\n",
    "plt.show()\n",
    "plt.close()"
   ]
  },
  {
   "cell_type": "markdown",
   "id": "b39d605b-50f8-4832-9501-cced47dece53",
   "metadata": {},
   "source": [
    "# 문제 2-1"
   ]
  },
  {
   "cell_type": "code",
   "execution_count": 6,
   "id": "8b38388f-c296-4293-a79a-7e3250504306",
   "metadata": {},
   "outputs": [],
   "source": [
    "import pymysql"
   ]
  },
  {
   "cell_type": "code",
   "execution_count": 7,
   "id": "5cf7fe89-c041-4b7b-9ede-1bbc1e062203",
   "metadata": {},
   "outputs": [],
   "source": [
    "HOSTNAME = \"localhost\"\n",
    "PORT = 3306\n",
    "USERNAME = \"root\"\n",
    "PASSWORD = \"123qwe!@#\"\n",
    "DATABASE = \"myschool\"\n",
    "CHARSET = \"utf8\""
   ]
  },
  {
   "cell_type": "code",
   "execution_count": 8,
   "id": "7b39d832-2f94-4fa6-ae72-5265d7f8c183",
   "metadata": {
    "tags": []
   },
   "outputs": [],
   "source": [
    "dbcon = pymysql.connect(host = HOSTNAME, port = PORT, user = USERNAME, password = PASSWORD,\n",
    "                       db = DATABASE, charset = CHARSET)"
   ]
  },
  {
   "cell_type": "code",
   "execution_count": 9,
   "id": "8898192b-13c5-4ab1-a48e-683c3ba6a432",
   "metadata": {},
   "outputs": [],
   "source": [
    "cursor = dbcon.cursor()"
   ]
  },
  {
   "cell_type": "code",
   "execution_count": 19,
   "id": "04b11b50-8708-4738-a4ba-6a3c256853e4",
   "metadata": {},
   "outputs": [
    {
     "name": "stdout",
     "output_type": "stream",
     "text": [
      "(16,)\n",
      "(6,)\n"
     ]
    },
    {
     "data": {
      "text/html": [
       "<div>\n",
       "<style scoped>\n",
       "    .dataframe tbody tr th:only-of-type {\n",
       "        vertical-align: middle;\n",
       "    }\n",
       "\n",
       "    .dataframe tbody tr th {\n",
       "        vertical-align: top;\n",
       "    }\n",
       "\n",
       "    .dataframe thead th {\n",
       "        text-align: right;\n",
       "    }\n",
       "</style>\n",
       "<table border=\"1\" class=\"dataframe\">\n",
       "  <thead>\n",
       "    <tr style=\"text-align: right;\">\n",
       "      <th></th>\n",
       "      <th>학생수</th>\n",
       "    </tr>\n",
       "  </thead>\n",
       "  <tbody>\n",
       "    <tr>\n",
       "      <th>배정됨</th>\n",
       "      <td>10</td>\n",
       "    </tr>\n",
       "    <tr>\n",
       "      <th>미배정</th>\n",
       "      <td>6</td>\n",
       "    </tr>\n",
       "  </tbody>\n",
       "</table>\n",
       "</div>"
      ],
      "text/plain": [
       "     학생수\n",
       "배정됨   10\n",
       "미배정    6"
      ]
     },
     "execution_count": 19,
     "metadata": {},
     "output_type": "execute_result"
    }
   ],
   "source": [
    "sql1 = \"SELECT count(*) FROM student\"\n",
    "sql2 = \"SELECT count(*) FROM student WHERE profno is null\"\n",
    "cursor.execute(sql1)\n",
    "astu = cursor.fetchone()\n",
    "print(astu)\n",
    "cursor.execute(sql2)\n",
    "nstu = cursor.fetchone()\n",
    "print(nstu)\n",
    "\n",
    "source = {\n",
    "    '학생수': [astu[0]-nstu[0], nstu[0]]\n",
    "}\n",
    "\n",
    "df = DataFrame(source, index=['배정됨', '미배정'])\n",
    "df"
   ]
  },
  {
   "cell_type": "code",
   "execution_count": 21,
   "id": "484c52d7-24cd-4d0c-8d63-a9fc4938a90d",
   "metadata": {},
   "outputs": [
    {
     "data": {
      "image/png": "[encoded data removed]",
      "text/plain": [
       "<Figure size 504x360 with 1 Axes>"
      ]
     },
     "metadata": {},
     "output_type": "display_data"
    }
   ],
   "source": [
    "fix, ax = plt.subplots(1, 1)\n",
    "df['학생수'].plot.pie(\n",
    "    explode = [0.0, 0.1],\n",
    "    autopct = '%0.1f%%',\n",
    "    ax=ax)\n",
    "\n",
    "ax.set_title('교수 배정 비율')\n",
    "ax.set_ylabel(None)\n",
    "plt.show()\n",
    "plt.close()"
   ]
  },
  {
   "cell_type": "markdown",
   "id": "e10ed6b7-2f6b-4cb0-a320-eb64932256e1",
   "metadata": {},
   "source": [
    "# 문제 2-2"
   ]
  },
  {
   "cell_type": "code",
   "execution_count": 34,
   "id": "8c3a436f-5e75-433c-a235-d208561b5b53",
   "metadata": {},
   "outputs": [
    {
     "data": {
      "text/html": [
       "<div>\n",
       "<style scoped>\n",
       "    .dataframe tbody tr th:only-of-type {\n",
       "        vertical-align: middle;\n",
       "    }\n",
       "\n",
       "    .dataframe tbody tr th {\n",
       "        vertical-align: top;\n",
       "    }\n",
       "\n",
       "    .dataframe thead th {\n",
       "        text-align: right;\n",
       "    }\n",
       "</style>\n",
       "<table border=\"1\" class=\"dataframe\">\n",
       "  <thead>\n",
       "    <tr style=\"text-align: right;\">\n",
       "      <th></th>\n",
       "      <th>연봉</th>\n",
       "    </tr>\n",
       "    <tr>\n",
       "      <th>이름</th>\n",
       "      <th></th>\n",
       "    </tr>\n",
       "  </thead>\n",
       "  <tbody>\n",
       "    <tr>\n",
       "      <th>전은지</th>\n",
       "      <td>2620</td>\n",
       "    </tr>\n",
       "    <tr>\n",
       "      <th>염일웅</th>\n",
       "      <td>2980</td>\n",
       "    </tr>\n",
       "    <tr>\n",
       "      <th>이재우</th>\n",
       "      <td>3940</td>\n",
       "    </tr>\n",
       "    <tr>\n",
       "      <th>성연희</th>\n",
       "      <td>4420</td>\n",
       "    </tr>\n",
       "    <tr>\n",
       "      <th>남은혁</th>\n",
       "      <td>4900</td>\n",
       "    </tr>\n",
       "    <tr>\n",
       "      <th>이만식</th>\n",
       "      <td>5140</td>\n",
       "    </tr>\n",
       "    <tr>\n",
       "      <th>권혁일</th>\n",
       "      <td>5500</td>\n",
       "    </tr>\n",
       "    <tr>\n",
       "      <th>김도훈</th>\n",
       "      <td>6100</td>\n",
       "    </tr>\n",
       "  </tbody>\n",
       "</table>\n",
       "</div>"
      ],
      "text/plain": [
       "       연봉\n",
       "이름       \n",
       "전은지  2620\n",
       "염일웅  2980\n",
       "이재우  3940\n",
       "성연희  4420\n",
       "남은혁  4900\n",
       "이만식  5140\n",
       "권혁일  5500\n",
       "김도훈  6100"
      ]
     },
     "execution_count": 34,
     "metadata": {},
     "output_type": "execute_result"
    }
   ],
   "source": [
    "sql = \"SELECT name, sal*12+100 '연봉' FROM professor order by sal*12+100\"\n",
    "cursor.execute(sql)\n",
    "sal12 = cursor.fetchall()\n",
    "df = DataFrame(sal12, columns = ['이름', '연봉'])\n",
    "df2 = df.set_index('이름')\n",
    "df2"
   ]
  },
  {
   "cell_type": "code",
   "execution_count": 67,
   "id": "dcc799a3-0e1d-4f2c-86a0-e916cc64b4ed",
   "metadata": {},
   "outputs": [
    {
     "data": {
      "image/png": "[encoded data removed]",
      "text/plain": [
       "<Figure size 864x504 with 1 Axes>"
      ]
     },
     "metadata": {
      "needs_background": "light"
     },
     "output_type": "display_data"
    }
   ],
   "source": [
    "fig, ax = plt.subplots(1, 1, figsize = (12, 7))\n",
    "\n",
    "df2.plot.barh(rot = 0, width = 0.5, ax=ax)\n",
    "\n",
    "ax.set_title('교수 연봉순위')\n",
    "ax.set_ylabel(None)\n",
    "\n",
    "\n",
    "plt.show()\n",
    "plt.close()"
   ]
  },
  {
   "cell_type": "markdown",
   "id": "0be1e9f1-65c6-4be4-af04-698994d1815c",
   "metadata": {},
   "source": [
    "# 문제 2-3"
   ]
  },
  {
   "cell_type": "code",
   "execution_count": 69,
   "id": "d9447802-79e4-4a5a-bb06-8fa6346d039e",
   "metadata": {},
   "outputs": [
    {
     "data": {
      "text/html": [
       "<div>\n",
       "<style scoped>\n",
       "    .dataframe tbody tr th:only-of-type {\n",
       "        vertical-align: middle;\n",
       "    }\n",
       "\n",
       "    .dataframe tbody tr th {\n",
       "        vertical-align: top;\n",
       "    }\n",
       "\n",
       "    .dataframe thead th {\n",
       "        text-align: right;\n",
       "    }\n",
       "</style>\n",
       "<table border=\"1\" class=\"dataframe\">\n",
       "  <thead>\n",
       "    <tr style=\"text-align: right;\">\n",
       "      <th></th>\n",
       "      <th>키</th>\n",
       "      <th>몸무게</th>\n",
       "    </tr>\n",
       "  </thead>\n",
       "  <tbody>\n",
       "    <tr>\n",
       "      <th>0</th>\n",
       "      <td>176</td>\n",
       "      <td>72</td>\n",
       "    </tr>\n",
       "    <tr>\n",
       "      <th>1</th>\n",
       "      <td>168</td>\n",
       "      <td>52</td>\n",
       "    </tr>\n",
       "    <tr>\n",
       "      <th>2</th>\n",
       "      <td>170</td>\n",
       "      <td>88</td>\n",
       "    </tr>\n",
       "    <tr>\n",
       "      <th>3</th>\n",
       "      <td>161</td>\n",
       "      <td>42</td>\n",
       "    </tr>\n",
       "    <tr>\n",
       "      <th>4</th>\n",
       "      <td>171</td>\n",
       "      <td>54</td>\n",
       "    </tr>\n",
       "    <tr>\n",
       "      <th>5</th>\n",
       "      <td>186</td>\n",
       "      <td>72</td>\n",
       "    </tr>\n",
       "    <tr>\n",
       "      <th>6</th>\n",
       "      <td>175</td>\n",
       "      <td>92</td>\n",
       "    </tr>\n",
       "    <tr>\n",
       "      <th>7</th>\n",
       "      <td>162</td>\n",
       "      <td>72</td>\n",
       "    </tr>\n",
       "    <tr>\n",
       "      <th>8</th>\n",
       "      <td>164</td>\n",
       "      <td>48</td>\n",
       "    </tr>\n",
       "    <tr>\n",
       "      <th>9</th>\n",
       "      <td>177</td>\n",
       "      <td>92</td>\n",
       "    </tr>\n",
       "    <tr>\n",
       "      <th>10</th>\n",
       "      <td>160</td>\n",
       "      <td>68</td>\n",
       "    </tr>\n",
       "    <tr>\n",
       "      <th>11</th>\n",
       "      <td>171</td>\n",
       "      <td>70</td>\n",
       "    </tr>\n",
       "    <tr>\n",
       "      <th>12</th>\n",
       "      <td>172</td>\n",
       "      <td>64</td>\n",
       "    </tr>\n",
       "    <tr>\n",
       "      <th>13</th>\n",
       "      <td>182</td>\n",
       "      <td>70</td>\n",
       "    </tr>\n",
       "    <tr>\n",
       "      <th>14</th>\n",
       "      <td>166</td>\n",
       "      <td>51</td>\n",
       "    </tr>\n",
       "    <tr>\n",
       "      <th>15</th>\n",
       "      <td>184</td>\n",
       "      <td>62</td>\n",
       "    </tr>\n",
       "  </tbody>\n",
       "</table>\n",
       "</div>"
      ],
      "text/plain": [
       "      키  몸무게\n",
       "0   176   72\n",
       "1   168   52\n",
       "2   170   88\n",
       "3   161   42\n",
       "4   171   54\n",
       "5   186   72\n",
       "6   175   92\n",
       "7   162   72\n",
       "8   164   48\n",
       "9   177   92\n",
       "10  160   68\n",
       "11  171   70\n",
       "12  172   64\n",
       "13  182   70\n",
       "14  166   51\n",
       "15  184   62"
      ]
     },
     "execution_count": 69,
     "metadata": {},
     "output_type": "execute_result"
    }
   ],
   "source": [
    "sql = \"SELECT height, weight FROM student\"\n",
    "cursor.execute(sql)\n",
    "hwei = cursor.fetchall()\n",
    "df = DataFrame(hwei, columns = ['키', '몸무게'])\n",
    "df"
   ]
  },
  {
   "cell_type": "code",
   "execution_count": 73,
   "id": "2cf77bd0-4ad1-4c45-afb1-656707f81d07",
   "metadata": {},
   "outputs": [
    {
     "data": {
      "image/png": "[encoded data removed]",
      "text/plain": [
       "<Figure size 864x504 with 1 Axes>"
      ]
     },
     "metadata": {
      "needs_background": "light"
     },
     "output_type": "display_data"
    }
   ],
   "source": [
    "fig, ax = plt.subplots(1, 1, figsize = (12, 7))\n",
    "\n",
    "sns.scatterplot(data = df, x = df['키'], y = df['몸무게'], ax=ax)\n",
    "ax.grid()\n",
    "ax.set_title('학생들의 키, 몸무게 분포')\n",
    "\n",
    "plt.show()\n",
    "plt.close()"
   ]
  },
  {
   "cell_type": "markdown",
   "id": "43a2fa8b-74fc-45e4-97ca-402a3fc0b0c3",
   "metadata": {},
   "source": [
    "# 문제 2-4"
   ]
  },
  {
   "cell_type": "code",
   "execution_count": 81,
   "id": "e89165ad-73f2-4eaf-ba78-0db029eff805",
   "metadata": {},
   "outputs": [
    {
     "data": {
      "text/html": [
       "<div>\n",
       "<style scoped>\n",
       "    .dataframe tbody tr th:only-of-type {\n",
       "        vertical-align: middle;\n",
       "    }\n",
       "\n",
       "    .dataframe tbody tr th {\n",
       "        vertical-align: top;\n",
       "    }\n",
       "\n",
       "    .dataframe thead th {\n",
       "        text-align: right;\n",
       "    }\n",
       "</style>\n",
       "<table border=\"1\" class=\"dataframe\">\n",
       "  <thead>\n",
       "    <tr style=\"text-align: right;\">\n",
       "      <th></th>\n",
       "      <th>인원수</th>\n",
       "    </tr>\n",
       "    <tr>\n",
       "      <th>학과</th>\n",
       "      <th></th>\n",
       "    </tr>\n",
       "  </thead>\n",
       "  <tbody>\n",
       "    <tr>\n",
       "      <th>101</th>\n",
       "      <td>8</td>\n",
       "    </tr>\n",
       "    <tr>\n",
       "      <th>102</th>\n",
       "      <td>4</td>\n",
       "    </tr>\n",
       "    <tr>\n",
       "      <th>201</th>\n",
       "      <td>4</td>\n",
       "    </tr>\n",
       "  </tbody>\n",
       "</table>\n",
       "</div>"
      ],
      "text/plain": [
       "     인원수\n",
       "학과      \n",
       "101    8\n",
       "102    4\n",
       "201    4"
      ]
     },
     "execution_count": 81,
     "metadata": {},
     "output_type": "execute_result"
    }
   ],
   "source": [
    "sql1 = \"SELECT deptno, count(*) from student GROUP BY deptno\"\n",
    "sql2 = \"\"\"SELECT d.deptno, count(p.profno) From department d, professor p\n",
    "where d.deptno = p.deptno group by deptno\"\"\"\n",
    "cursor.execute(sql1)\n",
    "stu = cursor.fetchall()\n",
    "dfs = DataFrame(stu, columns = ['학과', '인원수'])\n",
    "dfs.set_index('학과', inplace=True)\n",
    "dfs"
   ]
  },
  {
   "cell_type": "code",
   "execution_count": 82,
   "id": "ab87d83a-47d2-4841-b3ab-b55fb34bd06a",
   "metadata": {},
   "outputs": [
    {
     "data": {
      "text/html": [
       "<div>\n",
       "<style scoped>\n",
       "    .dataframe tbody tr th:only-of-type {\n",
       "        vertical-align: middle;\n",
       "    }\n",
       "\n",
       "    .dataframe tbody tr th {\n",
       "        vertical-align: top;\n",
       "    }\n",
       "\n",
       "    .dataframe thead th {\n",
       "        text-align: right;\n",
       "    }\n",
       "</style>\n",
       "<table border=\"1\" class=\"dataframe\">\n",
       "  <thead>\n",
       "    <tr style=\"text-align: right;\">\n",
       "      <th></th>\n",
       "      <th>인원수</th>\n",
       "    </tr>\n",
       "    <tr>\n",
       "      <th>학과</th>\n",
       "      <th></th>\n",
       "    </tr>\n",
       "  </thead>\n",
       "  <tbody>\n",
       "    <tr>\n",
       "      <th>101</th>\n",
       "      <td>4</td>\n",
       "    </tr>\n",
       "    <tr>\n",
       "      <th>102</th>\n",
       "      <td>2</td>\n",
       "    </tr>\n",
       "    <tr>\n",
       "      <th>201</th>\n",
       "      <td>1</td>\n",
       "    </tr>\n",
       "    <tr>\n",
       "      <th>202</th>\n",
       "      <td>1</td>\n",
       "    </tr>\n",
       "  </tbody>\n",
       "</table>\n",
       "</div>"
      ],
      "text/plain": [
       "     인원수\n",
       "학과      \n",
       "101    4\n",
       "102    2\n",
       "201    1\n",
       "202    1"
      ]
     },
     "execution_count": 82,
     "metadata": {},
     "output_type": "execute_result"
    }
   ],
   "source": [
    "cursor.execute(sql2)\n",
    "pro = cursor.fetchall()\n",
    "dfp = DataFrame(pro, columns = ['학과', '인원수'])\n",
    "dfp.set_index('학과', inplace=True)\n",
    "dfp"
   ]
  },
  {
   "cell_type": "code",
   "execution_count": 96,
   "id": "694e0ded-d380-4a99-9c14-95ce78ffbd0a",
   "metadata": {},
   "outputs": [
    {
     "data": {
      "image/png": "[encoded data removed]",
      "text/plain": [
       "<Figure size 864x504 with 2 Axes>"
      ]
     },
     "metadata": {},
     "output_type": "display_data"
    }
   ],
   "source": [
    "fig, ax = plt.subplots(1, 2, figsize = (12, 7))\n",
    "\n",
    "dfs['인원수'].plot.pie(explode = [0.02, 0.01, 0.0],\n",
    "                   autopct = '%0.1f%%',\n",
    "                   ax = ax[0]\n",
    "                  )\n",
    "\n",
    "dfp['인원수'].plot.pie(explode = [0.02, 0.014, 0.007, 0.0],\n",
    "                   autopct = '%0.1f%%',\n",
    "                   ax = ax[1]\n",
    "                  )\n",
    "\n",
    "ax[0].set_title('학과별 학생 비율')\n",
    "ax[0].set_ylabel(None)\n",
    "ax[1].set_title('학과별 교수 비율')\n",
    "ax[1].set_ylabel(None)\n",
    "\n",
    "plt.show()\n",
    "plt.close()"
   ]
  },
  {
   "cell_type": "code",
   "execution_count": null,
   "id": "83247cac-02b0-4fde-a058-f933a4596cc6",
   "metadata": {},
   "outputs": [],
   "source": []
  }
 ],
 "metadata": {
  "kernelspec": {
   "display_name": "Python 3 (ipykernel)",
   "language": "python",
   "name": "python3"
  },
  "language_info": {
   "codemirror_mode": {
    "name": "ipython",
    "version": 3
   },
   "file_extension": ".py",
   "mimetype": "text/x-python",
   "name": "python",
   "nbconvert_exporter": "python",
   "pygments_lexer": "ipython3",
   "version": "3.9.7"
  }
 },
 "nbformat": 4,
 "nbformat_minor": 5
}
