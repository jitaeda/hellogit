{
 "cells": [
  {
   "cell_type": "markdown",
   "metadata": {},
   "source": [
    "# 리스트\n",
    "\n",
    "## 리스트 자료형 생성하기"
   ]
  },
  {
   "cell_type": "code",
   "execution_count": 1,
   "metadata": {},
   "outputs": [
    {
     "name": "stdout",
     "output_type": "stream",
     "text": [
      "[98, 82, 73, 64, 100]\n"
     ]
    }
   ],
   "source": [
    "# 5명의 학생에 대한 성적 나열.\n",
    "grade = [ 98, 82, 73, 64, 100 ]\n",
    "print( grade )"
   ]
  },
  {
   "cell_type": "code",
   "execution_count": 2,
   "metadata": {},
   "outputs": [
    {
     "name": "stdout",
     "output_type": "stream",
     "text": [
      "['철수', '영희', '나영', '민식', '호영']\n"
     ]
    }
   ],
   "source": [
    "# 각 학생의 이름에 대한 나열\n",
    "names = [ \"철수\", \"영희\", \"나영\", \"민식\", \"호영\" ]\n",
    "print( names )"
   ]
  },
  {
   "cell_type": "code",
   "execution_count": 3,
   "metadata": {},
   "outputs": [
    {
     "name": "stdout",
     "output_type": "stream",
     "text": [
      "['철수', 98]\n",
      "['영희', 82]\n",
      "['나영', 73]\n"
     ]
    }
   ],
   "source": [
    "# 서로 다른 자료형들을 함께 사용 가능\n",
    "stud1 = [ \"철수\", 98 ]\n",
    "stud2 = [ \"영희\", 82 ]\n",
    "stud3 = [ \"나영\", 73 ]\n",
    "print(stud1)\n",
    "print(stud2)\n",
    "print(stud3)"
   ]
  },
  {
   "cell_type": "markdown",
   "metadata": {},
   "source": [
    "## 인덱스 번호를 통해 리스트의 각 원소 사용하기\n",
    "\n",
    "리스트의 각 원소는 0부터 시작되는 일련번호를 부여받는다. --> 인덱스 번호"
   ]
  },
  {
   "cell_type": "code",
   "execution_count": 4,
   "metadata": {},
   "outputs": [
    {
     "name": "stdout",
     "output_type": "stream",
     "text": [
      "철수\n",
      "98\n"
     ]
    }
   ],
   "source": [
    "# 인덱스 번호를 통해 각 원소에 접근할 수 있다.\n",
    "name = stud1[0]\n",
    "point = stud1[1]\n",
    "print(name)\n",
    "print(point)"
   ]
  },
  {
   "cell_type": "code",
   "execution_count": 5,
   "metadata": {},
   "outputs": [
    {
     "name": "stdout",
     "output_type": "stream",
     "text": [
      "['철호', 100]\n"
     ]
    }
   ],
   "source": [
    "# 값의 변경\n",
    "stud1[0] = \"철호\"\n",
    "stud1[1] = 100\n",
    "print(stud1)"
   ]
  },
  {
   "cell_type": "code",
   "execution_count": 6,
   "metadata": {},
   "outputs": [
    {
     "name": "stdout",
     "output_type": "stream",
     "text": [
      "철호(이)의 점수는 100점 입니다.\n",
      "영희(이)의 점수는 82점 입니다.\n",
      "나영(이)의 점수는 73점 입니다.\n"
     ]
    }
   ],
   "source": [
    "# 리스트의 원소를 직접 출력하는 활용 예시\n",
    "msg = \"{0}(이)의 점수는 {1}점 입니다.\"\n",
    "print( msg.format(stud1[0], stud1[1]) )\n",
    "print( msg.format(stud2[0], stud2[1]) )\n",
    "print( msg.format(stud3[0], stud3[1]) )"
   ]
  },
  {
   "cell_type": "markdown",
   "metadata": {},
   "source": [
    "## 2차원 리스트의 생성"
   ]
  },
  {
   "cell_type": "code",
   "execution_count": 7,
   "metadata": {},
   "outputs": [
    {
     "name": "stdout",
     "output_type": "stream",
     "text": [
      "[['철수', 98], ['영희', 82], ['나영', 73]]\n"
     ]
    }
   ],
   "source": [
    "# 각 학생별 이름,점수 정의\n",
    "stud1 = [ \"철수\", 98 ]\n",
    "stud2 = [ \"영희\", 82 ]\n",
    "stud3 = [ \"나영\", 73 ]\n",
    "\n",
    "# 2차원 리스트 -> 새로운 리스트 stud_group의 각 원소가 리스트가 되는 형태\n",
    "stud_group = [ stud1, stud2, stud3 ]\n",
    "print(stud_group)"
   ]
  },
  {
   "cell_type": "markdown",
   "metadata": {},
   "source": [
    "## 2차원 리스트의 일괄 생성\n",
    "\n",
    "바깥의 리스트에 속한 원소들는 행을 구성하고, 안쪽의 리스트에 속한 원소들은 열을 구성한다."
   ]
  },
  {
   "cell_type": "code",
   "execution_count": 8,
   "metadata": {},
   "outputs": [
    {
     "name": "stdout",
     "output_type": "stream",
     "text": [
      "[['민식', 64], ['호영', 100]]\n"
     ]
    }
   ],
   "source": [
    "grade = [\n",
    "            [ \"민식\", 64 ] ,   # 0번째 행 -> 0번째 열=민식, 1번째 열=64\n",
    "            [ \"호영\", 100 ]    # 1번째 행 -> 0번째 열=호영, 1번째 열=100\n",
    "        ]\n",
    "print(grade)"
   ]
  },
  {
   "cell_type": "markdown",
   "metadata": {},
   "source": [
    "## 각 원소에 접근하여 출력하기"
   ]
  },
  {
   "cell_type": "code",
   "execution_count": 9,
   "metadata": {},
   "outputs": [
    {
     "name": "stdout",
     "output_type": "stream",
     "text": [
      "['철수', 98]\n",
      "['영희', 82]\n"
     ]
    }
   ],
   "source": [
    "# 1차원 원소에 접근하기\n",
    "print(stud_group[0])     # stud_group의 0번째 원소\n",
    "print(stud_group[1])     # stud_group의 1번째 원소"
   ]
  },
  {
   "cell_type": "code",
   "execution_count": 10,
   "metadata": {},
   "outputs": [
    {
     "name": "stdout",
     "output_type": "stream",
     "text": [
      "철수\n",
      "98\n",
      "영희\n",
      "82\n"
     ]
    }
   ],
   "source": [
    "# 2차원 원소에 접근하기\n",
    "print(stud_group[0][0])  # 0번째 원소의 0번째 항목\n",
    "print(stud_group[0][1])  # 0번째 원소의 1번째 항목\n",
    "print(stud_group[1][0])  # 1번째 원소의 0번째 항목\n",
    "print(stud_group[1][1])  # 1번째 원소의 1번째 항목"
   ]
  },
  {
   "cell_type": "markdown",
   "metadata": {},
   "source": [
    "## 리스트의 인덱싱\n",
    "\n",
    "리스트에서도 문자열과 동일하게 인덱싱을 사용하여 값에 접근할 수 있다.\n",
    "\n",
    "인덱싱의 결과는 단일 원소 값 하나를 추출한다."
   ]
  },
  {
   "cell_type": "code",
   "execution_count": 11,
   "metadata": {},
   "outputs": [],
   "source": [
    "mylist = [ 10, 20, 30, 40, 50 ]"
   ]
  },
  {
   "cell_type": "code",
   "execution_count": 12,
   "metadata": {},
   "outputs": [
    {
     "name": "stdout",
     "output_type": "stream",
     "text": [
      "20\n"
     ]
    }
   ],
   "source": [
    "# 1번째 원소에 접근 -> 0부터 카운트\n",
    "print(mylist[1])"
   ]
  },
  {
   "cell_type": "code",
   "execution_count": 13,
   "metadata": {},
   "outputs": [
    {
     "name": "stdout",
     "output_type": "stream",
     "text": [
      "50\n"
     ]
    }
   ],
   "source": [
    "# 뒤에서 1번째 원소에 접근 -> 1부터 카운트\n",
    "print(mylist[-1])"
   ]
  },
  {
   "cell_type": "markdown",
   "metadata": {},
   "source": [
    "## 리스트의 슬라이싱\n",
    "\n",
    "문자열과 동일한 규칙이 적용된다.\n",
    "\n",
    "슬라이싱의 결과는 새로운 리스트가 된다."
   ]
  },
  {
   "cell_type": "code",
   "execution_count": 14,
   "metadata": {},
   "outputs": [],
   "source": [
    "mylist = [ 60, 70, 80, 90, 100 ]"
   ]
  },
  {
   "cell_type": "code",
   "execution_count": 15,
   "metadata": {},
   "outputs": [
    {
     "name": "stdout",
     "output_type": "stream",
     "text": [
      "[70, 80]\n"
     ]
    }
   ],
   "source": [
    "# list에서 1번째 부터 3번째 전까지 -> 3번째 원소 포함안됨\n",
    "print(mylist[1:3])"
   ]
  },
  {
   "cell_type": "code",
   "execution_count": 16,
   "metadata": {},
   "outputs": [
    {
     "name": "stdout",
     "output_type": "stream",
     "text": [
      "[60, 70, 80]\n"
     ]
    }
   ],
   "source": [
    "# 처음부터 3번째 전까지 -> 3번째 원소 포함안됨\n",
    "print(mylist[:3])"
   ]
  },
  {
   "cell_type": "code",
   "execution_count": 17,
   "metadata": {},
   "outputs": [
    {
     "name": "stdout",
     "output_type": "stream",
     "text": [
      "[90, 100]\n"
     ]
    }
   ],
   "source": [
    "# list[3]부터 끝까지 -> 3번째 원소 포함됨\n",
    "print(mylist[3:])"
   ]
  },
  {
   "cell_type": "code",
   "execution_count": 18,
   "metadata": {},
   "outputs": [
    {
     "name": "stdout",
     "output_type": "stream",
     "text": [
      "[60, 70, 80, 90, 100]\n"
     ]
    }
   ],
   "source": [
    "# list의 모든 원소\n",
    "print(mylist[:])"
   ]
  },
  {
   "cell_type": "code",
   "execution_count": 19,
   "metadata": {},
   "outputs": [
    {
     "name": "stdout",
     "output_type": "stream",
     "text": [
      "[70, 80]\n"
     ]
    }
   ],
   "source": [
    "# list에서 1번째부터 뒤에서 부터 2번째 다음까지\n",
    "# -> 마이너스 값을 사용하여 지정할 경우 \"다음까지\"의 의미\n",
    "print(mylist[1:-2])"
   ]
  },
  {
   "cell_type": "markdown",
   "metadata": {},
   "source": [
    "## 리스트의 연산\n",
    "\n",
    "리스트간의 덧셈과 리스트와 정수간의 곱셈이 지원된다."
   ]
  },
  {
   "cell_type": "code",
   "execution_count": 20,
   "metadata": {},
   "outputs": [],
   "source": [
    "# 실습을 위한 리스트 정의\n",
    "list1 = [1, 2, 3]\n",
    "list2 = [4, 5, 6]"
   ]
  },
  {
   "cell_type": "code",
   "execution_count": 21,
   "metadata": {},
   "outputs": [
    {
     "name": "stdout",
     "output_type": "stream",
     "text": [
      "[1, 2, 3, 4, 5, 6]\n"
     ]
    }
   ],
   "source": [
    "# 리스트끼리의 덧셈은 단순 병합\n",
    "list3 = list1 + list2\n",
    "print(list3)"
   ]
  },
  {
   "cell_type": "code",
   "execution_count": 22,
   "metadata": {},
   "outputs": [
    {
     "name": "stdout",
     "output_type": "stream",
     "text": [
      "[1, 2, 3, 1, 2, 3, 1, 2, 3]\n"
     ]
    }
   ],
   "source": [
    "# 리스트와 정수의 곱셈은 동일 내용을 반복한다.\n",
    "list4 = list1 * 3\n",
    "print(list4)"
   ]
  },
  {
   "cell_type": "markdown",
   "metadata": {},
   "source": [
    "## 리스트 연산의 에러 케이스"
   ]
  },
  {
   "cell_type": "code",
   "execution_count": 23,
   "metadata": {},
   "outputs": [
    {
     "ename": "TypeError",
     "evalue": "can only concatenate list (not \"int\") to list",
     "output_type": "error",
     "traceback": [
      "\u001b[0;31m---------------------------------------------------------------------------\u001b[0m",
      "\u001b[0;31mTypeError\u001b[0m                                 Traceback (most recent call last)",
      "\u001b[0;32m<ipython-input-23-0a6bfce6d103>\u001b[0m in \u001b[0;36m<module>\u001b[0;34m\u001b[0m\n\u001b[0;32m----> 1\u001b[0;31m \u001b[0mprint\u001b[0m\u001b[0;34m(\u001b[0m\u001b[0mlist1\u001b[0m\u001b[0;34m+\u001b[0m\u001b[0;36m10\u001b[0m\u001b[0;34m)\u001b[0m      \u001b[0;31m# 리스트+정수\u001b[0m\u001b[0;34m\u001b[0m\u001b[0;34m\u001b[0m\u001b[0m\n\u001b[0m",
      "\u001b[0;31mTypeError\u001b[0m: can only concatenate list (not \"int\") to list"
     ]
    }
   ],
   "source": [
    "print(list1+10)      # 리스트+정수"
   ]
  },
  {
   "cell_type": "code",
   "execution_count": 24,
   "metadata": {},
   "outputs": [
    {
     "ename": "TypeError",
     "evalue": "can only concatenate list (not \"str\") to list",
     "output_type": "error",
     "traceback": [
      "\u001b[0;31m---------------------------------------------------------------------------\u001b[0m",
      "\u001b[0;31mTypeError\u001b[0m                                 Traceback (most recent call last)",
      "\u001b[0;32m<ipython-input-24-88d61c662144>\u001b[0m in \u001b[0;36m<module>\u001b[0;34m\u001b[0m\n\u001b[0;32m----> 1\u001b[0;31m \u001b[0mprint\u001b[0m\u001b[0;34m(\u001b[0m\u001b[0mlist1\u001b[0m \u001b[0;34m+\u001b[0m \u001b[0;34m\"hi\"\u001b[0m\u001b[0;34m)\u001b[0m   \u001b[0;31m# 리스트+문자열\u001b[0m\u001b[0;34m\u001b[0m\u001b[0;34m\u001b[0m\u001b[0m\n\u001b[0m",
      "\u001b[0;31mTypeError\u001b[0m: can only concatenate list (not \"str\") to list"
     ]
    }
   ],
   "source": [
    "print(list1 + \"hi\")   # 리스트+문자열"
   ]
  },
  {
   "cell_type": "code",
   "execution_count": 25,
   "metadata": {},
   "outputs": [
    {
     "ename": "TypeError",
     "evalue": "can't multiply sequence by non-int of type 'list'",
     "output_type": "error",
     "traceback": [
      "\u001b[0;31m---------------------------------------------------------------------------\u001b[0m",
      "\u001b[0;31mTypeError\u001b[0m                                 Traceback (most recent call last)",
      "\u001b[0;32m<ipython-input-25-cabd4949fb9a>\u001b[0m in \u001b[0;36m<module>\u001b[0;34m\u001b[0m\n\u001b[0;32m----> 1\u001b[0;31m \u001b[0mprint\u001b[0m\u001b[0;34m(\u001b[0m\u001b[0mlist1\u001b[0m\u001b[0;34m*\u001b[0m\u001b[0mlist2\u001b[0m\u001b[0;34m)\u001b[0m    \u001b[0;31m# 리스트*리스트\u001b[0m\u001b[0;34m\u001b[0m\u001b[0;34m\u001b[0m\u001b[0m\n\u001b[0m",
      "\u001b[0;31mTypeError\u001b[0m: can't multiply sequence by non-int of type 'list'"
     ]
    }
   ],
   "source": [
    "print(list1*list2)    # 리스트*리스트"
   ]
  },
  {
   "cell_type": "markdown",
   "metadata": {},
   "source": [
    "## 리스트의 원소 수정하기"
   ]
  },
  {
   "cell_type": "code",
   "execution_count": 26,
   "metadata": {},
   "outputs": [
    {
     "name": "stdout",
     "output_type": "stream",
     "text": [
      "[1, 2, 4]\n"
     ]
    }
   ],
   "source": [
    "# 대입연산자를 이용한 단일 값 수정\n",
    "mylist = [1, 2, 3]\n",
    "mylist[2] = 4\n",
    "print(mylist)"
   ]
  },
  {
   "cell_type": "code",
   "execution_count": 27,
   "metadata": {},
   "outputs": [
    {
     "name": "stdout",
     "output_type": "stream",
     "text": [
      "[1, 20, 30]\n"
     ]
    }
   ],
   "source": [
    "# 대입연산자를 이용하여 주어진 범위를 수정\n",
    "mylist = [1, 2, 3]\n",
    "mylist[1:3] = [20, 30]\n",
    "print(mylist)"
   ]
  },
  {
   "cell_type": "markdown",
   "metadata": {},
   "source": [
    "## 리스트의 확장, 축소"
   ]
  },
  {
   "cell_type": "code",
   "execution_count": 28,
   "metadata": {},
   "outputs": [
    {
     "name": "stdout",
     "output_type": "stream",
     "text": [
      "[1, 1000]\n"
     ]
    }
   ],
   "source": [
    "# 주어진 범위보다 작은 개수를 갖는 리스트 지정 --> 리스트가 잘림\n",
    "mylist = [1, 2, 3]\n",
    "mylist[1:3] = [1000]\n",
    "print(mylist)"
   ]
  },
  {
   "cell_type": "code",
   "execution_count": 29,
   "metadata": {},
   "outputs": [
    {
     "name": "stdout",
     "output_type": "stream",
     "text": [
      "[1, 7, 8, 9, 0, 3]\n"
     ]
    }
   ],
   "source": [
    "# 주어진 범위보다 많은 개수를 갖는 리스트 지정 --> 리스트 확장\n",
    "mylist = [1, 2, 3]\n",
    "mylist[1:2] = [7,8,9,0]\n",
    "print(mylist)"
   ]
  },
  {
   "cell_type": "code",
   "execution_count": 30,
   "metadata": {},
   "outputs": [
    {
     "name": "stdout",
     "output_type": "stream",
     "text": [
      "[1, 2, 3, 4, 5]\n",
      "[1, [100, 200], 3, 4, 5]\n"
     ]
    }
   ],
   "source": [
    "# 인덱싱으로 접근하는 경우 -> 단순 삽입\n",
    "# -> 1번째 원소에 다른 리스트 \"삽입\"\n",
    "mylist = [1,2,3,4,5]\n",
    "print(mylist)\n",
    "\n",
    "mylist[1] = [100, 200]\n",
    "print(mylist)"
   ]
  },
  {
   "cell_type": "code",
   "execution_count": 31,
   "metadata": {},
   "outputs": [
    {
     "name": "stdout",
     "output_type": "stream",
     "text": [
      "[1, 2, 3, 4, 5]\n",
      "[1, 100, 200, 3, 4, 5]\n"
     ]
    }
   ],
   "source": [
    "# 슬라이싱으로 접근하는 경우 -> 주어진 범위를 \"확장\"\n",
    "# -> 1번째 위치에는 100이 저장, 그 다음 원소에 200이 저장\n",
    "#    원래의 2번째 위치부터는 뒤로 밀려난다.\n",
    "mylist = [1,2,3,4,5]\n",
    "print(mylist)\n",
    "\n",
    "mylist[1:2] = [100, 200]\n",
    "print(mylist)"
   ]
  },
  {
   "cell_type": "markdown",
   "metadata": {},
   "source": [
    "## 리스트의 원소 삭제"
   ]
  },
  {
   "cell_type": "code",
   "execution_count": 32,
   "metadata": {},
   "outputs": [
    {
     "name": "stdout",
     "output_type": "stream",
     "text": [
      "[1, 3, 4, 5]\n"
     ]
    }
   ],
   "source": [
    "# 특정 위치의 원소 삭제\n",
    "# -> 삭제 후 빈자리가 매워짐\n",
    "mylist = [1,2,3,4,5]\n",
    "del(mylist[1])\n",
    "print(mylist)"
   ]
  },
  {
   "cell_type": "code",
   "execution_count": 33,
   "metadata": {},
   "outputs": [
    {
     "name": "stdout",
     "output_type": "stream",
     "text": [
      "[1, 4, 5]\n"
     ]
    }
   ],
   "source": [
    "# 특정 범위(1번째부터 3번째 전까지)의 원소 삭제\n",
    "# -> 삭제 후 빈자리가 매워짐\n",
    "mylist = [1,2,3,4,5]\n",
    "del(mylist[1:3])\n",
    "print(mylist)"
   ]
  },
  {
   "cell_type": "code",
   "execution_count": 34,
   "metadata": {},
   "outputs": [
    {
     "name": "stdout",
     "output_type": "stream",
     "text": [
      "[1, 4, 5]\n"
     ]
    }
   ],
   "source": [
    "# 특정 범위를 삭제하는 또 다른 방법\n",
    "mylist = [1,2,3,4,5]\n",
    "mylist[1:3] = []\n",
    "print(mylist)"
   ]
  },
  {
   "cell_type": "markdown",
   "metadata": {},
   "source": [
    "## 리스트의 원소 세기"
   ]
  },
  {
   "cell_type": "code",
   "execution_count": 35,
   "metadata": {},
   "outputs": [
    {
     "name": "stdout",
     "output_type": "stream",
     "text": [
      "3\n"
     ]
    }
   ],
   "source": [
    "# 전체 원소의 개수 조회\n",
    "my_list = [ 1, 2, 3 ]\n",
    "size = len(my_list)\n",
    "print(size)"
   ]
  },
  {
   "cell_type": "code",
   "execution_count": 36,
   "metadata": {},
   "outputs": [
    {
     "name": "stdout",
     "output_type": "stream",
     "text": [
      "2\n"
     ]
    }
   ],
   "source": [
    "# 주어진 값과 일치하는 원소의 개수 세기\n",
    "my_list = [ 1, 2, 3, 2 ]\n",
    "c = my_list.count(2)\n",
    "print(c)"
   ]
  },
  {
   "cell_type": "code",
   "execution_count": 37,
   "metadata": {},
   "outputs": [
    {
     "name": "stdout",
     "output_type": "stream",
     "text": [
      "3\n"
     ]
    }
   ],
   "source": [
    "# 해당 값이 가장 처음 나타나는 위치(인덱스 반환)\n",
    "my_list = [ 1, 2, 3, 10, 1, 2, 3, 10 ]\n",
    "x = my_list.index(10)\n",
    "print(x)"
   ]
  },
  {
   "cell_type": "markdown",
   "metadata": {},
   "source": [
    "## 리스트의 원소 추가"
   ]
  },
  {
   "cell_type": "code",
   "execution_count": 38,
   "metadata": {},
   "outputs": [
    {
     "name": "stdout",
     "output_type": "stream",
     "text": [
      "[1, 2, 3, 4]\n"
     ]
    }
   ],
   "source": [
    "# 맨 뒤에 내용 추가\n",
    "my_list = [ 1, 2, 3 ]\n",
    "my_list.append(4)\n",
    "print(my_list)"
   ]
  },
  {
   "cell_type": "code",
   "execution_count": 39,
   "metadata": {},
   "outputs": [
    {
     "name": "stdout",
     "output_type": "stream",
     "text": [
      "[1, 2, 3, [5, 6]]\n"
     ]
    }
   ],
   "source": [
    "# 리스트를 append 할 경우 2차 리스트로 삽입.\n",
    "my_list = [ 1, 2, 3 ]\n",
    "my_list.append([5,6])\n",
    "print(my_list)"
   ]
  },
  {
   "cell_type": "code",
   "execution_count": 40,
   "metadata": {},
   "outputs": [
    {
     "name": "stdout",
     "output_type": "stream",
     "text": [
      "[1, 10, 2, 3]\n"
     ]
    }
   ],
   "source": [
    "# 중간삽입\n",
    "# -> 1번째 위치에 10을 삽입. 기존의 항목들은 뒤로 밀려난다.\n",
    "my_list = [ 1, 2, 3 ]\n",
    "my_list.insert(1, 10)\n",
    "print(my_list)"
   ]
  },
  {
   "cell_type": "markdown",
   "metadata": {},
   "source": [
    "## 리스트의 확장\n",
    "\n",
    "`extend()` 함수를 호출한 원본에 파라미터로 전달된 리스트를 덧붙인다."
   ]
  },
  {
   "cell_type": "code",
   "execution_count": 41,
   "metadata": {},
   "outputs": [
    {
     "name": "stdout",
     "output_type": "stream",
     "text": [
      "[1, 2, 3, 10, 9, 8, 7]\n"
     ]
    }
   ],
   "source": [
    "my_list = [ 1, 2, 3 ]\n",
    "addon = [ 10, 9, 8, 7 ]\n",
    "my_list.extend( addon )\n",
    "print(my_list)"
   ]
  },
  {
   "cell_type": "markdown",
   "metadata": {},
   "source": [
    "## 리스트의 원소 삭제"
   ]
  },
  {
   "cell_type": "code",
   "execution_count": 42,
   "metadata": {},
   "outputs": [
    {
     "name": "stdout",
     "output_type": "stream",
     "text": [
      "3\n",
      "[1, 2]\n"
     ]
    }
   ],
   "source": [
    "# 맨 마지막 요소를 꺼내고 삭제\n",
    "# -> 마지막 요소를 리턴한다.\n",
    "my_list = [ 1, 2, 3 ]\n",
    "k = my_list.pop()\n",
    "print(k)\n",
    "print(my_list)"
   ]
  },
  {
   "cell_type": "code",
   "execution_count": 43,
   "metadata": {},
   "outputs": [
    {
     "name": "stdout",
     "output_type": "stream",
     "text": [
      "2\n",
      "[1]\n"
     ]
    }
   ],
   "source": [
    "print(my_list.pop())\n",
    "print(my_list)"
   ]
  },
  {
   "cell_type": "code",
   "execution_count": 44,
   "metadata": {},
   "outputs": [
    {
     "name": "stdout",
     "output_type": "stream",
     "text": [
      "[1, 2, 3, 1, 2, 3, 10]\n"
     ]
    }
   ],
   "source": [
    "# 주어진 값과 일치하는 첫 번째 원소를 삭제\n",
    "my_list = [ 1, 2, 3, 10, 1, 2, 3, 10 ]\n",
    "my_list.remove(10)\n",
    "print(my_list)"
   ]
  },
  {
   "cell_type": "markdown",
   "metadata": {},
   "source": [
    "## 리스트 정렬하기"
   ]
  },
  {
   "cell_type": "code",
   "execution_count": 45,
   "metadata": {},
   "outputs": [
    {
     "name": "stdout",
     "output_type": "stream",
     "text": [
      "[9, 3, 5, 7, 1]\n"
     ]
    }
   ],
   "source": [
    "# 순서 뒤집기\n",
    "my_list = [ 1, 7, 5, 3, 9 ]\n",
    "my_list.reverse()\n",
    "print(my_list)"
   ]
  },
  {
   "cell_type": "code",
   "execution_count": 46,
   "metadata": {},
   "outputs": [
    {
     "name": "stdout",
     "output_type": "stream",
     "text": [
      "[1, 2, 3, 4, 5]\n"
     ]
    }
   ],
   "source": [
    "# 순차정렬\n",
    "my_list = [ 2, 5, 1, 4, 3 ]\n",
    "my_list.sort()\n",
    "print(my_list)"
   ]
  },
  {
   "cell_type": "code",
   "execution_count": 47,
   "metadata": {},
   "outputs": [
    {
     "name": "stdout",
     "output_type": "stream",
     "text": [
      "[5, 4, 3, 2, 1]\n"
     ]
    }
   ],
   "source": [
    "# 역순정렬\n",
    "my_list = [ 2, 5, 1, 4, 3 ]\n",
    "my_list.sort(reverse=True)\n",
    "print(my_list)"
   ]
  },
  {
   "cell_type": "markdown",
   "metadata": {},
   "source": [
    "## 문자열을 잘라서 리스트로 변환하는 함수"
   ]
  },
  {
   "cell_type": "code",
   "execution_count": 48,
   "metadata": {},
   "outputs": [
    {
     "name": "stdout",
     "output_type": "stream",
     "text": [
      "['Hello', 'Python', 'World', 'Good']\n"
     ]
    }
   ],
   "source": [
    "# 문자열을 주어진 글자를 기준으로 잘라서 리스트로 변환\n",
    "# -> 문자열 객체에 포함된 함수 사용\n",
    "text = \"Hello,Python,World,Good\"\n",
    "mylist = text.split(\",\")\n",
    "print(mylist)"
   ]
  },
  {
   "cell_type": "markdown",
   "metadata": {},
   "source": [
    "## 튜플\n",
    "\n",
    "기본적으로 리스트와 동일한 특성을 갖는다.\n",
    "\n",
    "리스트는 한번 생성한 후 원소의 값을 변경할 수 있지만, 튜플은 한번 생성하고 나면 원소의 값을 수정할 수 없다.\n",
    "\n",
    "내장되어 있는 함수들도 모두 동일하다. (단 값의 변경이 발생하는 함수는 제외)"
   ]
  },
  {
   "cell_type": "code",
   "execution_count": 49,
   "metadata": {},
   "outputs": [
    {
     "name": "stdout",
     "output_type": "stream",
     "text": [
      "(98, 82, 73, 64, 100)\n"
     ]
    }
   ],
   "source": [
    "# 5명의 학생에 대한 성적 나열.\n",
    "grade = ( 98, 82, 73, 64, 100 )\n",
    "print( grade )"
   ]
  },
  {
   "cell_type": "code",
   "execution_count": 50,
   "metadata": {},
   "outputs": [
    {
     "name": "stdout",
     "output_type": "stream",
     "text": [
      "('철수', '영희', '나영', '민식', '호영')\n"
     ]
    }
   ],
   "source": [
    "# 각 학생의 이름에 대한 나열\n",
    "names = ( \"철수\", \"영희\", \"나영\", \"민식\", \"호영\" )\n",
    "print( names )"
   ]
  },
  {
   "cell_type": "code",
   "execution_count": 51,
   "metadata": {},
   "outputs": [
    {
     "name": "stdout",
     "output_type": "stream",
     "text": [
      "('철수', 98)\n"
     ]
    }
   ],
   "source": [
    "# 자료형에 대한 혼합 사용도 가능함\n",
    "stud1 = ( \"철수\", 98 )\n",
    "print(stud1)"
   ]
  },
  {
   "cell_type": "code",
   "execution_count": 52,
   "metadata": {},
   "outputs": [
    {
     "name": "stdout",
     "output_type": "stream",
     "text": [
      "철수\n",
      "98\n"
     ]
    }
   ],
   "source": [
    "# 값 읽기\n",
    "print(stud1[0])\n",
    "print(stud1[1])"
   ]
  },
  {
   "cell_type": "markdown",
   "metadata": {},
   "source": [
    "## 튜플의 원소 변경하기"
   ]
  },
  {
   "cell_type": "code",
   "execution_count": 53,
   "metadata": {},
   "outputs": [
    {
     "ename": "TypeError",
     "evalue": "'tuple' object does not support item assignment",
     "output_type": "error",
     "traceback": [
      "\u001b[0;31m---------------------------------------------------------------------------\u001b[0m",
      "\u001b[0;31mTypeError\u001b[0m                                 Traceback (most recent call last)",
      "\u001b[0;32m<ipython-input-53-b882c605cce5>\u001b[0m in \u001b[0;36m<module>\u001b[0;34m\u001b[0m\n\u001b[1;32m      1\u001b[0m \u001b[0;31m# 값의 변경 --> 튜플은 값의 변경이 불가능하므로 에러\u001b[0m\u001b[0;34m\u001b[0m\u001b[0;34m\u001b[0m\u001b[0;34m\u001b[0m\u001b[0m\n\u001b[0;32m----> 2\u001b[0;31m \u001b[0mstud1\u001b[0m\u001b[0;34m[\u001b[0m\u001b[0;36m0\u001b[0m\u001b[0;34m]\u001b[0m \u001b[0;34m=\u001b[0m \u001b[0;34m\"철호\"\u001b[0m\u001b[0;34m\u001b[0m\u001b[0;34m\u001b[0m\u001b[0m\n\u001b[0m",
      "\u001b[0;31mTypeError\u001b[0m: 'tuple' object does not support item assignment"
     ]
    }
   ],
   "source": [
    "# 값의 변경 --> 튜플은 값의 변경이 불가능하므로 에러\n",
    "stud1[0] = \"철호\""
   ]
  },
  {
   "cell_type": "code",
   "execution_count": null,
   "metadata": {},
   "outputs": [],
   "source": []
  }
 ],
 "metadata": {
  "kernelspec": {
   "display_name": "Python 3 (ipykernel)",
   "language": "python",
   "name": "python3"
  },
  "language_info": {
   "codemirror_mode": {
    "name": "ipython",
    "version": 3
   },
   "file_extension": ".py",
   "mimetype": "text/x-python",
   "name": "python",
   "nbconvert_exporter": "python",
   "pygments_lexer": "ipython3",
   "version": "3.9.7"
  }
 },
 "nbformat": 4,
 "nbformat_minor": 4
}
