{
 "cells": [
  {
   "cell_type": "code",
   "execution_count": 7,
   "id": "9e49f56a-c5bb-4e1c-aef2-246cfaf895c4",
   "metadata": {},
   "outputs": [
    {
     "name": "stdin",
     "output_type": "stream",
     "text": [
      "몇 개가 필요합니까? 2\n",
      "반복하고 싶은 *숫자*는요? 3\n",
      "어떤 문자열을 반복하고 싶나요 abc\n"
     ]
    },
    {
     "name": "stdout",
     "output_type": "stream",
     "text": [
      "aaabbbccc\n"
     ]
    },
    {
     "name": "stdin",
     "output_type": "stream",
     "text": [
      "반복하고 싶은 *숫자*는요? 5\n",
      "어떤 문자열을 반복하고 싶나요 1423\n"
     ]
    },
    {
     "name": "stdout",
     "output_type": "stream",
     "text": [
      "11111444442222233333\n"
     ]
    }
   ],
   "source": [
    "for i in range(int(input(\"몇 개가 필요합니까?\"))):\n",
    "    r = int(input(\"반복하고 싶은 *숫자*는요?\"))\n",
    "    s = list(input(\"어떤 문자열을 반복하고 싶나요\"))\n",
    "    for j in range(len(s)):\n",
    "        print(s[j] * r,end='')\n",
    "    print(end=\"\\n\")"
   ]
  },
  {
   "cell_type": "code",
   "execution_count": 13,
   "id": "818bb41a-556a-42b2-9871-410c7ec96824",
   "metadata": {},
   "outputs": [
    {
     "name": "stdin",
     "output_type": "stream",
     "text": [
      " 2\n",
      " 5 ABC\n"
     ]
    },
    {
     "name": "stdout",
     "output_type": "stream",
     "text": [
      "AAAAABBBBBCCCCC\n"
     ]
    },
    {
     "name": "stdin",
     "output_type": "stream",
     "text": [
      " 3 CCD\n"
     ]
    },
    {
     "name": "stdout",
     "output_type": "stream",
     "text": [
      "CCCCCCDDD\n"
     ]
    }
   ],
   "source": [
    "t = int(input())\n",
    "for i in range(t):\n",
    "    a, b = input().split()\n",
    "    for j in b:\n",
    "        print(j*int(a), end='')\n",
    "    print()"
   ]
  },
  {
   "cell_type": "code",
   "execution_count": null,
   "id": "07f4d450-4ecf-4b26-a145-95858d5ffcb3",
   "metadata": {},
   "outputs": [],
   "source": []
  }
 ],
 "metadata": {
  "kernelspec": {
   "display_name": "Python 3 (ipykernel)",
   "language": "python",
   "name": "python3"
  },
  "language_info": {
   "codemirror_mode": {
    "name": "ipython",
    "version": 3
   },
   "file_extension": ".py",
   "mimetype": "text/x-python",
   "name": "python",
   "nbconvert_exporter": "python",
   "pygments_lexer": "ipython3",
   "version": "3.9.7"
  }
 },
 "nbformat": 4,
 "nbformat_minor": 5
}
