{
 "cells": [
  {
   "cell_type": "markdown",
   "id": "342bc9a8-0068-45b4-b86e-79ab374cc8d8",
   "metadata": {},
   "source": [
    "### 리스트\n",
    "### 변수를 그룹으로 묶은 형태\n",
    "### 리스트이름 = [값1, 값2, ...]\n",
    "### 각 칸은 0부터 일련번호(인덱스)가 붙음\n"
   ]
  },
  {
   "cell_type": "code",
   "execution_count": 12,
   "id": "fb70d360-04e6-4bca-923f-751b0d147c3d",
   "metadata": {},
   "outputs": [
    {
     "name": "stdout",
     "output_type": "stream",
     "text": [
      "75\n",
      "91\n",
      "248\n"
     ]
    }
   ],
   "source": [
    "dooly = [75, 82, 91]\n",
    "#75 = 인덱스 0번쨰\n",
    "print(dooly[0])  #앞은 0,1,2,...\n",
    "print(dooly[-1]) #뒤부터 -1,-2,...\n",
    "sum = dooly[0] + dooly[1] + dooly[2]\n",
    "print(sum)"
   ]
  },
  {
   "cell_type": "markdown",
   "id": "0c3edf5f-22f5-45fd-9496-a9f215e52007",
   "metadata": {},
   "source": [
    "### 리스트 슬라이싱 ' : '"
   ]
  },
  {
   "cell_type": "code",
   "execution_count": 15,
   "id": "0fe2bc46-c476-4674-a52a-bd4bff1b8519",
   "metadata": {},
   "outputs": [
    {
     "name": "stdout",
     "output_type": "stream",
     "text": [
      "[2, 3]\n"
     ]
    }
   ],
   "source": [
    "mylist = [1,2,3,4,5]\n",
    "print(mylist[1:3]) # 중요!! 1번쨰부터 3번쨰 '전' 까지"
   ]
  },
  {
   "cell_type": "code",
   "execution_count": 17,
   "id": "2e8d7c10-8337-4656-a507-3720c70ed090",
   "metadata": {},
   "outputs": [
    {
     "name": "stdout",
     "output_type": "stream",
     "text": [
      "[1, 2, 3]\n"
     ]
    }
   ],
   "source": [
    "print(mylist[:3]) #처음부터 3번쨰 '전' 까지"
   ]
  },
  {
   "cell_type": "code",
   "execution_count": 19,
   "id": "5f71acff-9cb3-4c5d-9d09-365b79263025",
   "metadata": {},
   "outputs": [
    {
     "name": "stdout",
     "output_type": "stream",
     "text": [
      "[4, 5]\n"
     ]
    }
   ],
   "source": [
    "print(mylist[3:]) #0번쨰부터 시작"
   ]
  },
  {
   "cell_type": "code",
   "execution_count": 22,
   "id": "1b729fea-3791-4d3d-838f-133eada73adb",
   "metadata": {},
   "outputs": [
    {
     "name": "stdout",
     "output_type": "stream",
     "text": [
      "[1, 2, 3, 4, 5]\n"
     ]
    }
   ],
   "source": [
    "print(mylist[:]) #모든 원소, 안에 콜론 꼭 필요"
   ]
  },
  {
   "cell_type": "code",
   "execution_count": 23,
   "id": "74f90a02-d47b-46fa-a67d-9bbc8c8468bd",
   "metadata": {},
   "outputs": [
    {
     "name": "stdout",
     "output_type": "stream",
     "text": [
      "[2, 3]\n"
     ]
    }
   ],
   "source": [
    "print(mylist[1:-2]) #-2 = 4 마이너스는 '다음까지' 즉 3까지"
   ]
  },
  {
   "cell_type": "markdown",
   "id": "6f8ede07-00bf-4d7a-874b-3007bf60fe1d",
   "metadata": {},
   "source": [
    "### 리스트 연산"
   ]
  },
  {
   "cell_type": "code",
   "execution_count": 28,
   "id": "f415523e-c858-4470-ba45-ba3524f15929",
   "metadata": {},
   "outputs": [
    {
     "name": "stdout",
     "output_type": "stream",
     "text": [
      "[1, 2, 3, 4, 5, 6]\n",
      "[1, 2, 3, 1, 2, 3, 1, 2, 3]\n"
     ]
    }
   ],
   "source": [
    "List1 = [1,2,3]\n",
    "List2 = [4,5,6]\n",
    "#리스트간 덧셈과 리스트*정수 곱셈 지원\n",
    "List3 = List1+List2\n",
    "print(List3)\n",
    "List4 = 3 * List1 #곱셈은 동일내용 반복\n",
    "print(List4)\n",
    "#리스트+정수 or문자열, 리스트*리스트 = 에러"
   ]
  },
  {
   "cell_type": "code",
   "execution_count": 29,
   "id": "f004294e-7a40-43dd-a10a-34e94556c3ba",
   "metadata": {},
   "outputs": [
    {
     "name": "stdout",
     "output_type": "stream",
     "text": [
      "[1, 1, 3]\n"
     ]
    }
   ],
   "source": [
    "List1[1] = 1 #값 수정\n",
    "print(List1)"
   ]
  },
  {
   "cell_type": "code",
   "execution_count": 30,
   "id": "2f0c481c-1ef7-47ba-8d1a-5cc38448a053",
   "metadata": {},
   "outputs": [
    {
     "name": "stdout",
     "output_type": "stream",
     "text": [
      "[4, 3, 2]\n"
     ]
    }
   ],
   "source": [
    "List2[1:3] = [3,2] #1번쨰 ~ 3번쨰 '전'=2번쨰=6 > [5,6]\n",
    "print(List2)"
   ]
  },
  {
   "cell_type": "code",
   "execution_count": 31,
   "id": "4150e783-d086-4932-b558-936fa884ea72",
   "metadata": {},
   "outputs": [
    {
     "name": "stdout",
     "output_type": "stream",
     "text": [
      "[4, 3]\n"
     ]
    }
   ],
   "source": [
    "List2[1:3] = [3] #2칸을 1칸으로 대체 -> 잘린다\n",
    "print(List2)"
   ]
  },
  {
   "cell_type": "code",
   "execution_count": 33,
   "id": "01f84cc5-bd13-4532-ba71-92fb78439fb8",
   "metadata": {},
   "outputs": [
    {
     "name": "stdout",
     "output_type": "stream",
     "text": [
      "[4, 1, 2, 3]\n"
     ]
    }
   ],
   "source": [
    "List2[1:3] = [1,2,3] #2 -> 3칸 확장\n",
    "print(List2)"
   ]
  },
  {
   "cell_type": "markdown",
   "id": "5ed1fc47-fd08-434a-8758-65cc91459686",
   "metadata": {},
   "source": [
    "#### ※인덱싱과 슬라이싱의 비교"
   ]
  },
  {
   "cell_type": "code",
   "execution_count": 34,
   "id": "ff0d3664-9f41-43a2-8d76-4b9ba875b7e2",
   "metadata": {},
   "outputs": [
    {
     "name": "stdout",
     "output_type": "stream",
     "text": [
      "[1, [100, 200], 3, 4, 5]\n"
     ]
    }
   ],
   "source": [
    "mylist = [1,2,3,4,5]\n",
    "mylist[1] = [100,200]\n",
    "print(mylist)\n",
    "#인덱싱은 1번째 원소에 그냥 리스트 '삽입'"
   ]
  },
  {
   "cell_type": "code",
   "execution_count": 35,
   "id": "5f5c5a57-3d30-465e-8465-3c14825134ac",
   "metadata": {},
   "outputs": [
    {
     "name": "stdout",
     "output_type": "stream",
     "text": [
      "[1, 100, 200, 3, 4, 5]\n"
     ]
    }
   ],
   "source": [
    "mylist2 = [1,2,3,4,5]\n",
    "mylist2[1:2] = [100,200]\n",
    "print(mylist2)\n",
    "#슬라이싱은 범위 자체가 확장됨"
   ]
  },
  {
   "cell_type": "code",
   "execution_count": 37,
   "id": "68140f01-0d77-498b-abde-acb279d80503",
   "metadata": {},
   "outputs": [
    {
     "name": "stdout",
     "output_type": "stream",
     "text": [
      "5\n",
      "4\n"
     ]
    }
   ],
   "source": [
    "print(mylist[4])\n",
    "print(mylist2[4])\n",
    "#[100, 200] 자체가 하나의 원소이므로 4번째 원소는 5\n",
    "#슬라이싱은 리스트 자체가 늘어났으니 4번쨰 원소가 4"
   ]
  },
  {
   "cell_type": "markdown",
   "id": "c1ef8e54-a82f-4844-be57-4bad82356364",
   "metadata": {},
   "source": [
    "### 리스트 원소 삭제"
   ]
  },
  {
   "cell_type": "code",
   "execution_count": 39,
   "id": "68bd1519-ca06-4aae-a3ff-f80611c12a54",
   "metadata": {},
   "outputs": [
    {
     "name": "stdout",
     "output_type": "stream",
     "text": [
      "[1, 2, 4, 5]\n"
     ]
    }
   ],
   "source": [
    "mylist = [1,2,3,4,5]\n",
    "del(mylist[2:-2]) #del(), 2번쨰(3)부터 -2번쨰(4) '다음' = 3\n",
    "                  # 3~3까지니까 3 하나\n",
    "print(mylist)"
   ]
  },
  {
   "cell_type": "code",
   "execution_count": 42,
   "id": "fd753496-c418-4f7c-b3bd-a934219daeed",
   "metadata": {},
   "outputs": [
    {
     "name": "stdout",
     "output_type": "stream",
     "text": [
      "[1, 2, 4, 5]\n",
      "[1, 3, 4, 5]\n"
     ]
    }
   ],
   "source": [
    "# 다른 방법\n",
    "mylist = [1,2,3,4,5]\n",
    "mylist[2:-2] = [] #del 안쓰고 가능\n",
    "print(mylist)\n",
    "\n",
    "mylist2 = [1,2,3,4,5]\n",
    "mylist2[1:-3] = []\n",
    "print(mylist2)"
   ]
  },
  {
   "cell_type": "code",
   "execution_count": 87,
   "id": "343fd295-c54b-41d0-b684-d3839430da0d",
   "metadata": {},
   "outputs": [
    {
     "name": "stdout",
     "output_type": "stream",
     "text": [
      "[1, 2]\n",
      "2\n",
      "2\n"
     ]
    }
   ],
   "source": [
    "mylist6 = [1,2,3]\n",
    "mylist6.pop(2) #2번쨰 원소 삭제\n",
    "print(mylist6)\n",
    "print(mylist6[1])\n",
    "print(mylist6.pop()) #pop은 맨 마지막 요소 출력"
   ]
  },
  {
   "cell_type": "code",
   "execution_count": 89,
   "id": "c8d4b282-cc33-4fac-9756-08f9bba27b24",
   "metadata": {},
   "outputs": [
    {
     "name": "stdout",
     "output_type": "stream",
     "text": [
      "3\n",
      "[1, 2]\n"
     ]
    }
   ],
   "source": [
    "mylist6 = [1,2,3]\n",
    "print(mylist6.pop(2)) #잘라낸 3을 리턴\n",
    "print(mylist6)"
   ]
  },
  {
   "cell_type": "code",
   "execution_count": 79,
   "id": "955eef5d-87a1-4555-89c4-c998213c9171",
   "metadata": {},
   "outputs": [
    {
     "name": "stdout",
     "output_type": "stream",
     "text": [
      "[1, 2, 1, 1, 2, 3, 10]\n"
     ]
    }
   ],
   "source": [
    "mylist = [1,2,3,1,1,2,3,10]\n",
    "mylist.remove(3) #처음으로 나온 일치한 원소를 삭제\n",
    "print(mylist)"
   ]
  },
  {
   "cell_type": "markdown",
   "id": "d34cbcae-d5e4-4c6c-9b46-7aab44eba708",
   "metadata": {},
   "source": [
    "### ※리스트 원소 갯수 세기"
   ]
  },
  {
   "cell_type": "code",
   "execution_count": 45,
   "id": "ff9bc5cc-bfa7-4c30-a022-d3756dddaab2",
   "metadata": {},
   "outputs": [
    {
     "name": "stdout",
     "output_type": "stream",
     "text": [
      "3\n"
     ]
    }
   ],
   "source": [
    "mylist3 = [1,2,3]\n",
    "print(len(mylist3)) #len() 자주 씀\n",
    "#리스트내 원소 갯수"
   ]
  },
  {
   "cell_type": "code",
   "execution_count": 47,
   "id": "9e5ad6f1-6987-4750-a2b8-6f7caa7e4951",
   "metadata": {},
   "outputs": [
    {
     "name": "stdout",
     "output_type": "stream",
     "text": [
      "2\n"
     ]
    }
   ],
   "source": [
    "mylist4 = [1,2,3,2]\n",
    "print(mylist4.count(2)) #len,del과 달리 점으로\n",
    "#리스트내 2의 갯수"
   ]
  },
  {
   "cell_type": "code",
   "execution_count": 50,
   "id": "1a21bdc5-dc19-408e-9ec3-116ab4ca722b",
   "metadata": {},
   "outputs": [
    {
     "name": "stdout",
     "output_type": "stream",
     "text": [
      "2\n"
     ]
    }
   ],
   "source": [
    "mylist5 = [1,2,3,10,1,2,3,10]\n",
    "print(mylist5.index(3)) #3 = 실제 원소, 위치가 아님\n",
    "#리스트내 3의 위치"
   ]
  },
  {
   "cell_type": "markdown",
   "id": "743238c5-af59-44ee-9148-6c65109b8510",
   "metadata": {},
   "source": [
    "### 리스트 원소 추가"
   ]
  },
  {
   "cell_type": "code",
   "execution_count": 65,
   "id": "d9d38686-0d70-4889-aae5-6f3bdf7d10f2",
   "metadata": {},
   "outputs": [
    {
     "name": "stdout",
     "output_type": "stream",
     "text": [
      "[1, 2, 3, 4]\n"
     ]
    }
   ],
   "source": [
    "mylist = [1,2,3]\n",
    "mylist.append(4)\n",
    "print(mylist)"
   ]
  },
  {
   "cell_type": "code",
   "execution_count": 67,
   "id": "95eee242-c559-40f7-b100-15d80c6f94b2",
   "metadata": {},
   "outputs": [
    {
     "name": "stdout",
     "output_type": "stream",
     "text": [
      "[1, 2, 3, [4]]\n"
     ]
    }
   ],
   "source": [
    "mylist = [1,2,3]\n",
    "mylist.append([4])\n",
    "print(mylist) #슬라이싱이 아니라서 리스트 쨰로 들어감"
   ]
  },
  {
   "cell_type": "code",
   "execution_count": 69,
   "id": "b426c0b9-1c60-4869-a389-31c12d1fa373",
   "metadata": {},
   "outputs": [
    {
     "name": "stdout",
     "output_type": "stream",
     "text": [
      "[1, 10, 2, 3]\n"
     ]
    }
   ],
   "source": [
    "mylista = [1,2,3]\n",
    "mylista.insert(1,10) #insert(a,b)\n",
    "#a번쨰 위치에 b를 삽입, 기존 항목은 밀려남\n",
    "print(mylista)"
   ]
  },
  {
   "cell_type": "code",
   "execution_count": 70,
   "id": "98c14ef6-d9d5-4285-b55f-f77f2b9e459d",
   "metadata": {},
   "outputs": [
    {
     "name": "stdout",
     "output_type": "stream",
     "text": [
      "[1, 2, 3, 10, 9, 8, 7]\n"
     ]
    }
   ],
   "source": [
    "my_list = [1,2,3]\n",
    "addon = [10,9,8,7]\n",
    "my_list.extend(addon)\n",
    "print(my_list)"
   ]
  },
  {
   "cell_type": "markdown",
   "id": "375f9535-02c1-404a-a19d-aa5c13f441df",
   "metadata": {},
   "source": [
    "### 리스트 정렬"
   ]
  },
  {
   "cell_type": "code",
   "execution_count": 83,
   "id": "46d8968c-a6ef-4bc1-943d-c9448b7f67ac",
   "metadata": {},
   "outputs": [
    {
     "name": "stdout",
     "output_type": "stream",
     "text": [
      "[9, 3, 5, 7, 1]\n"
     ]
    }
   ],
   "source": [
    "mylist = [1,7,5,3,9]\n",
    "mylist.reverse() #뒤집기\n",
    "print(mylist)"
   ]
  },
  {
   "cell_type": "code",
   "execution_count": 90,
   "id": "94cd7076-fdbb-4d35-994b-8c1f4af98fd1",
   "metadata": {},
   "outputs": [
    {
     "name": "stdout",
     "output_type": "stream",
     "text": [
      "[1, 3, 5, 7, 9]\n"
     ]
    }
   ],
   "source": [
    "mylist = [1,7,5,3,9]\n",
    "mylist.sort() #정렬\n",
    "print(mylist)"
   ]
  },
  {
   "cell_type": "code",
   "execution_count": 92,
   "id": "d5a42de0-fc9f-4a2b-a0e9-b55e9f4891ee",
   "metadata": {},
   "outputs": [
    {
     "name": "stdout",
     "output_type": "stream",
     "text": [
      "[5, 4, 3, 2, 1]\n"
     ]
    }
   ],
   "source": [
    "mylist = [2,5,1,4,3]\n",
    "mylist.sort(reverse = True) #역정렬\n",
    "print(mylist)"
   ]
  },
  {
   "cell_type": "markdown",
   "id": "85f50f49-703e-4339-bfe4-7ab1f0e8f942",
   "metadata": {},
   "source": [
    "#### 문자열을 잘라 리스트로 변환해주는 함수"
   ]
  },
  {
   "cell_type": "code",
   "execution_count": 94,
   "id": "4c0e0d67-06e6-4b06-a93a-c43a7dce81f7",
   "metadata": {},
   "outputs": [
    {
     "name": "stdout",
     "output_type": "stream",
     "text": [
      "['Hello', 'Python', 'World', 'good']\n"
     ]
    }
   ],
   "source": [
    "text = \"Hello,Python,World,good\"\n",
    "mylist = text.split(\",\") #쉼표로 자르기\n",
    "print(mylist)"
   ]
  },
  {
   "cell_type": "code",
   "execution_count": 3,
   "id": "8a864363-fc2a-413e-9319-157f80e1da55",
   "metadata": {},
   "outputs": [
    {
     "name": "stdout",
     "output_type": "stream",
     "text": [
      "['철수', '영희', '나영']\n"
     ]
    }
   ],
   "source": [
    "names = [\"철수\", \"영희\", \"나영\"]\n",
    "print(names) #문자열도 가능"
   ]
  },
  {
   "cell_type": "code",
   "execution_count": 9,
   "id": "7bc7cab4-d946-4fca-be22-52818f1f8590",
   "metadata": {},
   "outputs": [
    {
     "name": "stdout",
     "output_type": "stream",
     "text": [
      "철수\n",
      "80\n"
     ]
    }
   ],
   "source": [
    "stu1 = [\"철수\", 98] #다른 자료형 믹스가능\n",
    "stu2 = [\"영희\", 80]\n",
    "print(stu1[0])\n",
    "print(stu2[1])"
   ]
  },
  {
   "cell_type": "code",
   "execution_count": 11,
   "id": "ee73c8de-cd5f-41ce-ab6d-649f43334932",
   "metadata": {},
   "outputs": [
    {
     "name": "stdout",
     "output_type": "stream",
     "text": [
      "['찰스', 98]\n"
     ]
    }
   ],
   "source": [
    "#값의 변경\n",
    "stu1[0] = \"찰스\"\n",
    "print(stu1)"
   ]
  },
  {
   "cell_type": "code",
   "execution_count": 14,
   "id": "8be62d08-0dba-42f0-a30d-3bb54087b880",
   "metadata": {},
   "outputs": [
    {
     "name": "stdout",
     "output_type": "stream",
     "text": [
      "찰스의 점수는 98점 입니다.\n"
     ]
    }
   ],
   "source": [
    "#리스트 원소 직접 출력 활용 예시\n",
    "msg = \"{0}의 점수는 {1}점 입니다.\"\n",
    "print(msg.format(stu1[0], stu1[1]))"
   ]
  },
  {
   "cell_type": "markdown",
   "id": "e707c1f1-b813-4c18-b469-aaa2a4b11333",
   "metadata": {},
   "source": [
    "### 2차원 리스트"
   ]
  },
  {
   "cell_type": "code",
   "execution_count": 20,
   "id": "f582cdd9-d10f-437f-8368-47f9c3825d54",
   "metadata": {},
   "outputs": [
    {
     "name": "stdout",
     "output_type": "stream",
     "text": [
      "[[1, 2, 3], [10, 20, 30], [100, 200, 300]]\n"
     ]
    }
   ],
   "source": [
    "a = [1,2,3]\n",
    "b = [10,20,30]\n",
    "c = [100,200,300]\n",
    "my_list = [a,b,c]\n",
    "print(my_list)\n",
    "#개별적인 리스트가 새로운 리스트의 원소가 됨"
   ]
  },
  {
   "cell_type": "code",
   "execution_count": 21,
   "id": "0de3e3dc-cabf-4602-a0ad-a28b1d95c64a",
   "metadata": {},
   "outputs": [
    {
     "name": "stdout",
     "output_type": "stream",
     "text": [
      "[10, 20, 30]\n"
     ]
    }
   ],
   "source": [
    "#0번째 행 1  2  3\n",
    "#1번째 행 10 20 30\n",
    "#2번째 행 100 200 300\n",
    "print(my_list[1])\n",
    "#1개면 행을 출력"
   ]
  },
  {
   "cell_type": "code",
   "execution_count": 24,
   "id": "422c065c-8889-4c95-b4a6-999e09377368",
   "metadata": {},
   "outputs": [
    {
     "name": "stdout",
     "output_type": "stream",
     "text": [
      "20\n"
     ]
    }
   ],
   "source": [
    "#          0열 1열 2열\n",
    "#0번째 행   1   2   3\n",
    "#1번째 행  10  20  30\n",
    "#2번째 행 100 200 300\n",
    "print(my_list[1][1])\n",
    "#2개면 행,열 을 출력"
   ]
  },
  {
   "cell_type": "code",
   "execution_count": 1,
   "id": "9d10fa8e-2b2e-4a46-ac0b-0ab0e7d6ef64",
   "metadata": {},
   "outputs": [
    {
     "name": "stdout",
     "output_type": "stream",
     "text": [
      "[['철수', 98], ['영희', 82], ['나영', 73]]\n"
     ]
    }
   ],
   "source": [
    "stu1 = [\"철수\", 98]\n",
    "stu2 = [\"영희\", 82]\n",
    "stu3 = [\"나영\", 73]\n",
    "\n",
    "stu = [stu1, stu2, stu3]\n",
    "print(stu)\n",
    "#stu 리스트의 각 원소가 또한 리스트인 형태"
   ]
  },
  {
   "cell_type": "code",
   "execution_count": 10,
   "id": "3b5df816-dcc0-49fc-af28-b731ed18b4ae",
   "metadata": {},
   "outputs": [
    {
     "name": "stdout",
     "output_type": "stream",
     "text": [
      "[['철수', 98], ['영희', 82]]\n",
      "철수\n"
     ]
    }
   ],
   "source": [
    "stuc = [\n",
    "            [\"철수\", 98], #0번쨰 행, 0열=철수 1열=98\n",
    "            [\"영희\", 82]  #1번째 행, 0열=영희 1열=82\n",
    "        ]\n",
    "print(stuc)\n",
    "print(stuc[0][0])"
   ]
  },
  {
   "cell_type": "markdown",
   "id": "9be3b5c0-718d-4b32-b16a-f29dd57c30d7",
   "metadata": {},
   "source": [
    "## 튜플 = 콤마(,) 로 분리된 값을 의미하며 순서있는 임의의 객체의 모음"
   ]
  },
  {
   "cell_type": "markdown",
   "id": "dd562898-afad-43de-8734-555dc2afac4a",
   "metadata": {},
   "source": [
    "### 리스트와 동일한 특성\n"
   ]
  },
  {
   "cell_type": "code",
   "execution_count": 100,
   "id": "1319cba4-3531-4985-b9f7-ceda267f8ecd",
   "metadata": {},
   "outputs": [
    {
     "name": "stdout",
     "output_type": "stream",
     "text": [
      "(98, 82, 73, 64, 100)\n"
     ]
    },
    {
     "data": {
      "text/plain": [
       "tuple"
      ]
     },
     "execution_count": 100,
     "metadata": {},
     "output_type": "execute_result"
    }
   ],
   "source": [
    "grade = (98,82,73,64,100) #리스트는 [], 튜플은 ()\n",
    "print(grade)\n",
    "type(grade)"
   ]
  },
  {
   "cell_type": "code",
   "execution_count": 96,
   "id": "a627e7a6-6f80-48b4-85fa-ae8983cfccbc",
   "metadata": {},
   "outputs": [
    {
     "name": "stdout",
     "output_type": "stream",
     "text": [
      "('철수', '영희', '나영', '민식', '호영')\n"
     ]
    }
   ],
   "source": [
    "name = (\"철수\",\"영희\",\"나영\",\"민식\",\"호영\")\n",
    "print(name)"
   ]
  },
  {
   "cell_type": "code",
   "execution_count": 97,
   "id": "3b97caa7-fe7f-4c27-8465-5f9d7b55b91c",
   "metadata": {},
   "outputs": [
    {
     "name": "stdout",
     "output_type": "stream",
     "text": [
      "('철수', 98)\n"
     ]
    }
   ],
   "source": [
    "stud1 = (\"철수\", 98)\n",
    "print(stud1)"
   ]
  },
  {
   "cell_type": "markdown",
   "id": "9e492345-fd8b-464a-bfaa-4f2a9e402e42",
   "metadata": {},
   "source": [
    "### 튜플의 원소변경"
   ]
  },
  {
   "cell_type": "code",
   "execution_count": 99,
   "id": "4a0f697a-b71b-4595-8eb2-d988b25ee589",
   "metadata": {},
   "outputs": [
    {
     "ename": "TypeError",
     "evalue": "'tuple' object does not support item assignment",
     "output_type": "error",
     "traceback": [
      "\u001b[1;31m---------------------------------------------------------------------------\u001b[0m",
      "\u001b[1;31mTypeError\u001b[0m                                 Traceback (most recent call last)",
      "\u001b[1;32m~\\AppData\\Local\\Temp/ipykernel_8844/4107542221.py\u001b[0m in \u001b[0;36m<module>\u001b[1;34m\u001b[0m\n\u001b[1;32m----> 1\u001b[1;33m \u001b[0mstud1\u001b[0m\u001b[1;33m[\u001b[0m\u001b[1;36m0\u001b[0m\u001b[1;33m]\u001b[0m \u001b[1;33m=\u001b[0m \u001b[1;34m\"철호\"\u001b[0m\u001b[1;33m\u001b[0m\u001b[1;33m\u001b[0m\u001b[0m\n\u001b[0m\u001b[0;32m      2\u001b[0m \u001b[0mprint\u001b[0m\u001b[1;33m(\u001b[0m\u001b[0mstud1\u001b[0m\u001b[1;33m)\u001b[0m\u001b[1;33m\u001b[0m\u001b[1;33m\u001b[0m\u001b[0m\n",
      "\u001b[1;31mTypeError\u001b[0m: 'tuple' object does not support item assignment"
     ]
    }
   ],
   "source": [
    "stud1[0] = \"철호\"\n",
    "print(stud1) #에러에 튜플은 수정안됨"
   ]
  },
  {
   "cell_type": "markdown",
   "id": "ee1176a8-96f6-4789-8c58-1c6c0e2e9363",
   "metadata": {},
   "source": [
    "### 딕셔너리 형식"
   ]
  },
  {
   "cell_type": "code",
   "execution_count": 1,
   "id": "188f5344-0acb-4ef6-b2a2-8d6532d3cc3f",
   "metadata": {},
   "outputs": [
    {
     "name": "stdout",
     "output_type": "stream",
     "text": [
      "{'name': '철수', 'phone': '010-1234-5678', 'birth': '0115'}\n"
     ]
    }
   ],
   "source": [
    "dic = {\"name\":\"철수\", \"phone\":\"010-1234-5678\",\"birth\":\"0115\"}\n",
    "print(dic)"
   ]
  },
  {
   "cell_type": "code",
   "execution_count": 2,
   "id": "127b74bf-3fe1-4b72-a55f-d8eba03edfce",
   "metadata": {},
   "outputs": [
    {
     "name": "stdout",
     "output_type": "stream",
     "text": [
      "철수\n"
     ]
    }
   ],
   "source": [
    "print(dic[\"name\"])"
   ]
  },
  {
   "cell_type": "code",
   "execution_count": 3,
   "id": "2b9b785e-7f85-42c6-ae6c-3792dca3957c",
   "metadata": {},
   "outputs": [
    {
     "name": "stdout",
     "output_type": "stream",
     "text": [
      "010-1234-5678\n"
     ]
    }
   ],
   "source": [
    "phone = dic[\"phone\"]\n",
    "print(phone)"
   ]
  },
  {
   "cell_type": "code",
   "execution_count": 4,
   "id": "7eb1725a-c8d5-41b4-8a3d-73affc92d8e1",
   "metadata": {},
   "outputs": [
    {
     "ename": "KeyError",
     "evalue": "'010-1234-5678'",
     "output_type": "error",
     "traceback": [
      "\u001b[1;31m---------------------------------------------------------------------------\u001b[0m",
      "\u001b[1;31mKeyError\u001b[0m                                  Traceback (most recent call last)",
      "\u001b[1;32m~\\AppData\\Local\\Temp/ipykernel_15444/295015500.py\u001b[0m in \u001b[0;36m<module>\u001b[1;34m\u001b[0m\n\u001b[0;32m      1\u001b[0m \u001b[0mdic\u001b[0m\u001b[1;33m[\u001b[0m\u001b[1;34m\"phone\"\u001b[0m\u001b[1;33m]\u001b[0m \u001b[1;33m=\u001b[0m \u001b[1;34m\"010-1234-5656\"\u001b[0m\u001b[1;33m\u001b[0m\u001b[1;33m\u001b[0m\u001b[0m\n\u001b[1;32m----> 2\u001b[1;33m \u001b[0mprint\u001b[0m\u001b[1;33m(\u001b[0m\u001b[0mdic\u001b[0m\u001b[1;33m[\u001b[0m\u001b[0mphone\u001b[0m\u001b[1;33m]\u001b[0m\u001b[1;33m)\u001b[0m\u001b[1;33m\u001b[0m\u001b[1;33m\u001b[0m\u001b[0m\n\u001b[0m",
      "\u001b[1;31mKeyError\u001b[0m: '010-1234-5678'"
     ]
    }
   ],
   "source": [
    "dic[\"phone\"] = \"010-1234-5656\"\n",
    "print(dic[phone])"
   ]
  },
  {
   "cell_type": "code",
   "execution_count": 5,
   "id": "d8d00f93-93fe-401c-8a4d-cb21f04ab94d",
   "metadata": {},
   "outputs": [
    {
     "name": "stdout",
     "output_type": "stream",
     "text": [
      "010-1234-5656\n"
     ]
    }
   ],
   "source": [
    "print(dic[\"phone\"])"
   ]
  },
  {
   "cell_type": "code",
   "execution_count": 6,
   "id": "656e1ae1-f5d2-4f30-b128-fc6a243852b6",
   "metadata": {},
   "outputs": [
    {
     "ename": "SyntaxError",
     "evalue": "EOL while scanning string literal (Temp/ipykernel_15444/3130873903.py, line 1)",
     "output_type": "error",
     "traceback": [
      "\u001b[1;36m  File \u001b[1;32m\"C:\\Users\\jitae\\AppData\\Local\\Temp/ipykernel_15444/3130873903.py\"\u001b[1;36m, line \u001b[1;32m1\u001b[0m\n\u001b[1;33m    del(dic[\"birth\u001b[0m\n\u001b[1;37m                  ^\u001b[0m\n\u001b[1;31mSyntaxError\u001b[0m\u001b[1;31m:\u001b[0m EOL while scanning string literal\n"
     ]
    }
   ],
   "source": [
    "del(dic[\"birth\n",
    "        \"])\n",
    "print(dic)"
   ]
  },
  {
   "cell_type": "code",
   "execution_count": 7,
   "id": "52bf2e5b-8814-49e2-aef7-0d0d56ecadc5",
   "metadata": {},
   "outputs": [
    {
     "name": "stdout",
     "output_type": "stream",
     "text": [
      "{'name': '철수', 'phone': '010-1234-5656'}\n"
     ]
    }
   ],
   "source": [
    "del(dic[\"birth\"])\n",
    "print(dic) #키삭제시 value도 같이 삭제"
   ]
  },
  {
   "cell_type": "code",
   "execution_count": 8,
   "id": "bf01ee9a-cd6b-430d-bedd-46987e80e1ad",
   "metadata": {},
   "outputs": [
    {
     "name": "stdout",
     "output_type": "stream",
     "text": [
      "{'name': '철수', 'phone': '010-1234-5656', 'height': 175}\n"
     ]
    }
   ],
   "source": [
    "dic[\"height\"] = 175\n",
    "print(dic) #새로운 값 할당시 확장됨"
   ]
  },
  {
   "cell_type": "code",
   "execution_count": 9,
   "id": "44db9c2d-21ab-45b0-af17-aa6d0f7d33b4",
   "metadata": {},
   "outputs": [],
   "source": [
    "data = {\"msg\":\"hello\", \"msg\":\"python\"}"
   ]
  },
  {
   "cell_type": "code",
   "execution_count": 10,
   "id": "c68af579-0d61-41dc-9a31-de961d660111",
   "metadata": {},
   "outputs": [
    {
     "name": "stdout",
     "output_type": "stream",
     "text": [
      "{'msg': 'python'}\n"
     ]
    }
   ],
   "source": [
    "print(data) #중복되면 하나만 표시됨(일반적으로 가장 나중거)"
   ]
  },
  {
   "cell_type": "code",
   "execution_count": 11,
   "id": "34c711bb-b1db-4b71-8477-e37278344592",
   "metadata": {},
   "outputs": [
    {
     "name": "stdout",
     "output_type": "stream",
     "text": [
      "{'userid': 'python', 'age': 20, 'addr': ['서울', '서초구', '강남대로'], 'grade': {'korean': 98, 'math': 77, 'english': 82}}\n"
     ]
    }
   ],
   "source": [
    "### 딕셔너리는 리스트나 다른 딕셔너리를 포함할 수 있다\n",
    "### >> 정보를 계층화해서 표현 가능하다\n",
    "addr = [\"서울\", \"서초구\", \"강남대로\"]\n",
    "grade = {\"korean\":98, \"math\":77, \"english\":82}\n",
    "member = {\"userid\":\"python\", \"age\":20,\n",
    "         \"addr\":addr, \"grade\":grade}\n",
    "print(member)"
   ]
  },
  {
   "cell_type": "code",
   "execution_count": 12,
   "id": "4b299551-e561-412c-85ba-25a8cd799d02",
   "metadata": {},
   "outputs": [
    {
     "name": "stdout",
     "output_type": "stream",
     "text": [
      "python\n"
     ]
    }
   ],
   "source": [
    "print(member[\"userid\"])"
   ]
  },
  {
   "cell_type": "code",
   "execution_count": 13,
   "id": "096c6fb9-76eb-4451-b7d5-3e7255fd3b66",
   "metadata": {},
   "outputs": [
    {
     "name": "stdout",
     "output_type": "stream",
     "text": [
      "서초구\n",
      "98\n"
     ]
    }
   ],
   "source": [
    "print(member[\"addr\"][1])\n",
    "print(member[\"grade\"][\"korean\"])"
   ]
  },
  {
   "cell_type": "code",
   "execution_count": 15,
   "id": "3325333d-3d03-4d2d-affd-d4b2272d2afe",
   "metadata": {},
   "outputs": [
    {
     "name": "stdout",
     "output_type": "stream",
     "text": [
      "철수의 국어점수는 95점, 영어점수는 88점입니다\n"
     ]
    }
   ],
   "source": [
    "grade = [\n",
    "    {\"name\": \"철수\", \"kor\": 95, \"eng\": 88},\n",
    "    {\"name\": \"영희\", \"kor\": 92, \"eng\": 90},\n",
    "    {\"name\": \"철민\", \"kor\": 88, \"eng\": 76}\n",
    "]\n",
    "\n",
    "tpl = \"{0}의 국어점수는 {1}점, 영어점수는 {2}점입니다\"\n",
    "print(tpl.format(grade[0][\"name\"],grade[0][\"kor\"],grade[0][\"eng\"]))"
   ]
  },
  {
   "cell_type": "code",
   "execution_count": 16,
   "id": "1e7d13ca-a691-492f-a08a-70253ab0cd2d",
   "metadata": {},
   "outputs": [
    {
     "name": "stdout",
     "output_type": "stream",
     "text": [
      "철수\n",
      "철수\n"
     ]
    }
   ],
   "source": [
    "dic = {\"name\":\"철수\", \"phone\":\"010-1234-5678\",\"birth\":\"0115\"}\n",
    "print(dic[\"name\"])\n",
    "print(dic.get(\"name\")) #get() 함수 위와 결과는 같다"
   ]
  },
  {
   "cell_type": "code",
   "execution_count": 18,
   "id": "bf7926d2-a86a-4d8e-92c1-d2fea8a1442f",
   "metadata": {},
   "outputs": [
    {
     "name": "stdout",
     "output_type": "stream",
     "text": [
      "None\n"
     ]
    }
   ],
   "source": [
    "#차이점\n",
    "#print(dic[\"gender\"]) #없으면 에러가 난다.\n",
    "print(dic.get(\"gender\")) # None을 출력한다 "
   ]
  },
  {
   "cell_type": "code",
   "execution_count": 19,
   "id": "e66fd47f-b582-426f-ac3a-4b811ef13eb8",
   "metadata": {},
   "outputs": [
    {
     "name": "stdout",
     "output_type": "stream",
     "text": [
      "남자\n"
     ]
    }
   ],
   "source": [
    "print(dic.get(\"gender\", \"남자\")) #키가 없을때 반환값 설정가능"
   ]
  },
  {
   "cell_type": "code",
   "execution_count": 23,
   "id": "bae22af9-045f-4c50-b328-072c879948e2",
   "metadata": {},
   "outputs": [
    {
     "name": "stdout",
     "output_type": "stream",
     "text": [
      "dict_keys(['name', 'phone', 'birth'])\n"
     ]
    }
   ],
   "source": [
    "#key만 모으기\n",
    "keys = dic.keys()\n",
    "print(keys)"
   ]
  },
  {
   "cell_type": "code",
   "execution_count": 24,
   "id": "11df2f0f-2382-45dc-a228-8caf5604dbff",
   "metadata": {},
   "outputs": [
    {
     "name": "stdout",
     "output_type": "stream",
     "text": [
      "['name', 'phone', 'birth']\n"
     ]
    }
   ],
   "source": [
    "#list로 변환\n",
    "key_list = list(keys)\n",
    "print(key_list)"
   ]
  },
  {
   "cell_type": "code",
   "execution_count": 25,
   "id": "7e12b0c8-8f9b-4889-93df-4bcf98ddc999",
   "metadata": {},
   "outputs": [
    {
     "name": "stdout",
     "output_type": "stream",
     "text": [
      "dict_values(['철수', '010-1234-5678', '0115'])\n"
     ]
    }
   ],
   "source": [
    "#value만 모으기\n",
    "values = dic.values()\n",
    "print(values)"
   ]
  },
  {
   "cell_type": "code",
   "execution_count": 26,
   "id": "6d0a0989-e2a3-439b-affb-092f67a27252",
   "metadata": {},
   "outputs": [
    {
     "name": "stdout",
     "output_type": "stream",
     "text": [
      "['철수', '010-1234-5678', '0115']\n"
     ]
    }
   ],
   "source": [
    "#list로 변환\n",
    "values_list = list(values)\n",
    "print(values_list)"
   ]
  },
  {
   "cell_type": "code",
   "execution_count": 27,
   "id": "9031599c-c534-43e8-bd6d-8f38d062f015",
   "metadata": {},
   "outputs": [
    {
     "name": "stdout",
     "output_type": "stream",
     "text": [
      "dict_items([('name', '철수'), ('phone', '010-1234-5678'), ('birth', '0115')])\n"
     ]
    }
   ],
   "source": [
    "#key-value 로 묶은 튜플의 모임으로 분리\n",
    "items = dic.items()\n",
    "print(items)"
   ]
  },
  {
   "cell_type": "code",
   "execution_count": 29,
   "id": "32baa649-2fb7-4b97-bc3a-b510e9ee421d",
   "metadata": {},
   "outputs": [
    {
     "name": "stdout",
     "output_type": "stream",
     "text": [
      "[('name', '철수'), ('phone', '010-1234-5678'), ('birth', '0115')]\n"
     ]
    }
   ],
   "source": [
    "lists = list(items)\n",
    "print(lists)"
   ]
  }
 ],
 "metadata": {
  "kernelspec": {
   "display_name": "Python 3 (ipykernel)",
   "language": "python",
   "name": "python3"
  },
  "language_info": {
   "codemirror_mode": {
    "name": "ipython",
    "version": 3
   },
   "file_extension": ".py",
   "mimetype": "text/x-python",
   "name": "python",
   "nbconvert_exporter": "python",
   "pygments_lexer": "ipython3",
   "version": "3.9.7"
  }
 },
 "nbformat": 4,
 "nbformat_minor": 5
}
