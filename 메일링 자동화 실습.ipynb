{
 "cells": [
  {
   "cell_type": "code",
   "execution_count": 36,
   "id": "b77feca2-ae7f-4e06-bf5b-f57b96bedc6a",
   "metadata": {},
   "outputs": [],
   "source": [
    "import os.path\n",
    "\n",
    "from smtplib import SMTP\n",
    "\n",
    "from email.mime.text import MIMEText\n",
    "\n",
    "from email.mime.application import MIMEApplication\n",
    "\n",
    "from email.mime.multipart import MIMEMultipart"
   ]
  },
  {
   "cell_type": "code",
   "execution_count": 37,
   "id": "293985a7-df2b-4cfa-8685-3c7dbcf1dd8c",
   "metadata": {},
   "outputs": [],
   "source": [
    "content_type = \"html\"\n",
    "username = 'jitaeda1@gmail.com'\n",
    "password = 'nmralkperffegfhl' #기기용 앱 비번\n",
    "smtp = 'smtp.gmail.com'\n",
    "port = 587\n",
    "from_addr = \"jitaeda1@gmail.com\"\n",
    "to_addr = \"j.purplerose@gmail.com\"\n",
    "subject = '김정욱_파이썬기본연습문제'"
   ]
  },
  {
   "cell_type": "code",
   "execution_count": 38,
   "id": "37a2f384-bf7e-4e6f-9f27-76f6c9d51e98",
   "metadata": {},
   "outputs": [],
   "source": [
    "# files = []\n",
    "\n",
    "files = [\"mail/hello.txt\", \"mail/world.txt\"]"
   ]
  },
  {
   "cell_type": "code",
   "execution_count": 39,
   "id": "907a1174-c775-4d6d-91ca-6189933a9a33",
   "metadata": {},
   "outputs": [],
   "source": [
    "content = \"\"\"<html>\n",
    "  <head></head>\n",
    "  <body>\n",
    "    <h1>안녕하세요</h1>\n",
    "    <h2>수강생 김정욱 입니다</h2>\n",
    "    <p>\n",
    "        사실 2차접종 후 어제까지 감기증상과 두통으로<br>\n",
    "        수업에 집중도 잘 안됐고 복습도 필요한 양보다<br>\n",
    "        많이 부족한 거 같아 좀 조급해하고 있습니다.<br>\n",
    "        다행히 오늘 아침부터는 타이레놀 없이 37도 이하로 나와서<br>\n",
    "        다음 주엔 등원이 가능할 거 같습니다.<br>\n",
    "        멀긴 하지만 등원하는게 여러모로 학습에 좋을 거 같습니다.<br>\n",
    "        제가 느끼기엔 꽤 많은 양의 파이썬 관련 학습을 한 거 같고<br>\n",
    "        코드를 보면 이해는 되는데 막상 짜려고 하면 안 떠오르는게<br>\n",
    "        사실이지만 책만 보고 줄그으며 공부하는 것보단 훨씬 재밌습니다.<br>\n",
    "        앞으로도 따라가는 데 집중하겠습니다.<br>\n",
    "    </p>\n",
    "  </body>\n",
    "</html>\"\"\""
   ]
  },
  {
   "cell_type": "code",
   "execution_count": 40,
   "id": "83c17b12-2888-4310-bf37-e46fea84b718",
   "metadata": {},
   "outputs": [],
   "source": [
    "msg = MIMEMultipart()\n",
    "\n",
    "msg['Subject'] = subject\n",
    "msg['From'] = from_addr\n",
    "msg['To'] = to_addr\n",
    "\n",
    "msg.attach(MIMEText(content, content_type))"
   ]
  },
  {
   "cell_type": "code",
   "execution_count": 41,
   "id": "060171a4-0dd9-4146-8eba-cd3ac3ce867e",
   "metadata": {},
   "outputs": [],
   "source": [
    "if files:\n",
    "    for f in files:\n",
    "        with open(f, 'rb') as a_file:\n",
    "            basename = os.path.basename(f)\n",
    "            part = MIMEApplication(a_file.read(), Name=basename)\n",
    "\n",
    "            part['Content-Disposition'] = 'attachment; filename=\"%s\"' % basename\n",
    "            msg.attach(part)"
   ]
  },
  {
   "cell_type": "code",
   "execution_count": 42,
   "id": "3fe8042c-f27e-42a8-aef4-ef2f7213aeff",
   "metadata": {},
   "outputs": [
    {
     "data": {
      "text/plain": [
       "(221, b'2.0.0 closing connection bf7sm4497765pjb.14 - gsmtp')"
      ]
     },
     "execution_count": 42,
     "metadata": {},
     "output_type": "execute_result"
    }
   ],
   "source": [
    "mail = SMTP(smtp)\n",
    "\n",
    "mail.ehlo()\n",
    "\n",
    "mail.starttls()\n",
    "\n",
    "mail.login(username, password)\n",
    "\n",
    "mail.sendmail(from_addr, to_addr, msg.as_string())\n",
    "\n",
    "mail.quit()"
   ]
  },
  {
   "cell_type": "code",
   "execution_count": null,
   "id": "c65fd276-00cd-43b3-9fbe-d0f1c0b28203",
   "metadata": {},
   "outputs": [],
   "source": []
  }
 ],
 "metadata": {
  "kernelspec": {
   "display_name": "Python 3 (ipykernel)",
   "language": "python",
   "name": "python3"
  },
  "language_info": {
   "codemirror_mode": {
    "name": "ipython",
    "version": 3
   },
   "file_extension": ".py",
   "mimetype": "text/x-python",
   "name": "python",
   "nbconvert_exporter": "python",
   "pygments_lexer": "ipython3",
   "version": "3.9.7"
  }
 },
 "nbformat": 4,
 "nbformat_minor": 5
}
