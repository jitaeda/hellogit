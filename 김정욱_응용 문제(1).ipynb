{
 "cells": [
  {
   "cell_type": "markdown",
   "metadata": {},
   "source": [
    "# 파이썬 기본 문법 응용 문제 (1)"
   ]
  },
  {
   "cell_type": "markdown",
   "metadata": {},
   "source": [
    "----\n",
    "\n",
    "## 문제1\n",
    "\n",
    "2~10 사이의 숫자 x, y를 입력받은 후 1부터 100까지의 자연수 중에서 x와 y의 공배수를 모두 출력하고 총 합이 얼마인지 출력하시오."
   ]
  },
  {
   "cell_type": "code",
   "execution_count": 2,
   "metadata": {},
   "outputs": [
    {
     "name": "stdin",
     "output_type": "stream",
     "text": [
      "첫 번째 숫자를 입력하세요:  3\n",
      "두 번째 숫자를 입력하세요:  7\n"
     ]
    },
    {
     "name": "stdout",
     "output_type": "stream",
     "text": [
      "[3, 6, 9, 12, 15, 18, 21]\n",
      "[7, 14, 21]\n",
      "[21]\n",
      "[21, 42, 63, 84]\n",
      "210\n"
     ]
    }
   ],
   "source": [
    "x = int(input('첫 번째 숫자를 입력하세요: '))\n",
    "y = int(input('두 번째 숫자를 입력하세요: '))\n",
    "\n",
    "multix = []\n",
    "multiy = []\n",
    "\n",
    "for i in range(1, y+1):\n",
    "    multix.append(i*x)\n",
    "for i in range(1, x+1):\n",
    "    multiy.append(i*y)\n",
    "    \n",
    "print(multix)\n",
    "print(multiy)\n",
    "\n",
    "lcm = []\n",
    "for i in multix:\n",
    "    if i in multiy:\n",
    "        lcm.append(i)\n",
    "        break\n",
    "print(lcm)\n",
    "\n",
    "cm = []\n",
    "x = 1\n",
    "while x <= 100:    \n",
    "    cm.append(x * lcm[0]) #extend 요소로 더해준다.\n",
    "    if x * lcm[0] > 100:\n",
    "        break\n",
    "    x += 1\n",
    "if max(cm) > 100:\n",
    "    cm.remove(max(cm))\n",
    "              \n",
    "print(cm)\n",
    "print(sum(cm))"
   ]
  },
  {
   "cell_type": "markdown",
   "metadata": {},
   "source": [
    "---\n",
    "\n",
    "## 문제2\n",
    "\n",
    "하나의 정수 x를 입력받아 x개의 행을 출력하는 별찍기 프로그램을 작성하시오.\n",
    "\n",
    "- 첫 번째 행은 1개의 별을 출력하고, \n",
    "- 두 번재 행은 2개의 별을 출력하고,\n",
    "- x 번째 행은 x개의 별을 출력합니다."
   ]
  },
  {
   "cell_type": "code",
   "execution_count": 3,
   "metadata": {},
   "outputs": [
    {
     "name": "stdin",
     "output_type": "stream",
     "text": [
      "몇 줄이요? 3\n"
     ]
    },
    {
     "name": "stdout",
     "output_type": "stream",
     "text": [
      "*\n",
      "**\n",
      "***\n"
     ]
    }
   ],
   "source": [
    "x = int(input(\"몇 줄이요?\"))\n",
    "for i in range(1, x+1):\n",
    "    star = \"\"\n",
    "    for j in range(1, i+1):\n",
    "        star += \"*\"\n",
    "    print(star)"
   ]
  },
  {
   "cell_type": "code",
   "execution_count": 61,
   "metadata": {},
   "outputs": [
    {
     "name": "stdin",
     "output_type": "stream",
     "text": [
      "몇 줄이요? 4\n"
     ]
    },
    {
     "name": "stdout",
     "output_type": "stream",
     "text": [
      "*\n",
      "**\n",
      "***\n",
      "****\n"
     ]
    }
   ],
   "source": [
    "x = int(input(\"몇 줄이요?\"))\n",
    "for i in range(1, x+1):\n",
    "    for j in range(i):\n",
    "        print(\"*\", end = \"\")\n",
    "    print()"
   ]
  },
  {
   "cell_type": "markdown",
   "metadata": {},
   "source": [
    "----\n",
    "\n",
    "## 문제3\n",
    "\n",
    "n개의 과목에 대한 점수를 입력하는 프로그램을 만들고자 한다.\n",
    "\n",
    "숫자 n을 입력 받아 n번 반복을 수행하면서 숫자를 입력받는다.\n",
    "\n",
    "반복문 안에서 입력받은 숫자는 data라는 리스트의 원소로 추가된다.\n",
    "\n",
    "이 리스트의 모든 원소에 대한 총합과 평균을 구하시오.\n",
    "\n",
    "(평균은 소수점 둘째 자리까지만 표시한다.)"
   ]
  },
  {
   "cell_type": "code",
   "execution_count": 1,
   "metadata": {},
   "outputs": [
    {
     "name": "stdin",
     "output_type": "stream",
     "text": [
      "몇 과목입니까? 5\n",
      "1번째 점수:  95\n",
      "2번째 점수:  85\n",
      "3번째 점수:  97\n",
      "4번째 점수:  53\n",
      "5번째 점수:  60\n"
     ]
    },
    {
     "name": "stdout",
     "output_type": "stream",
     "text": [
      "총점 = 390\n",
      "평균 = 78.0\n"
     ]
    }
   ],
   "source": [
    "count = int(input(\"몇 과목입니까?\"))\n",
    "\n",
    "grade = []\n",
    "\n",
    "for i in range(0, count):\n",
    "    number = int(input(f\"{i+1}번째 점수: \"))\n",
    "    grade.append(number)\n",
    "    \n",
    "print(\"총점 =\", sum(grade))\n",
    "print(\"평균 =\", format(sum(grade) / (i+1),\".2f\"))"
   ]
  },
  {
   "cell_type": "markdown",
   "metadata": {},
   "source": [
    "---\n",
    "\n",
    "## 문제4\n",
    "\n",
    "`n`개의 숫자를 입력받아서 리스트에 원소로 추가한 후 그 숫자들 중에서 가장 큰 값을 구하는 프로그램을 작성하시오.\n",
    "\n",
    "단, 최대값은 `max()`함수를 사용하지 않고 반복문을 통해 직접 구해야 합니다."
   ]
  },
  {
   "cell_type": "code",
   "execution_count": 36,
   "metadata": {},
   "outputs": [
    {
     "name": "stdin",
     "output_type": "stream",
     "text": [
      "숫자를 입력하세요 3\n",
      "1번째 숫자를 입력하세요:  5\n",
      "2번째 숫자를 입력하세요:  5\n",
      "3번째 숫자를 입력하세요:  2\n"
     ]
    },
    {
     "name": "stdout",
     "output_type": "stream",
     "text": [
      "최대값 : 5\n"
     ]
    }
   ],
   "source": [
    "count = int(input(\"숫자를 입력하세요\"))\n",
    "\n",
    "numbers = []\n",
    "\n",
    "for i in range(0, count):\n",
    "    number = int(input(f\"{i+1}번째 숫자를 입력하세요: \"))\n",
    "    numbers.append(number)\n",
    "    max_value = None\n",
    "for num in numbers:\n",
    "    if (max_value is None or num > max_value):\n",
    "        max_value = num\n",
    "\n",
    "print('최대값 :', max_value)"
   ]
  },
  {
   "cell_type": "markdown",
   "metadata": {},
   "source": [
    "---\n",
    "\n",
    "## 문제5\n",
    "\n",
    "`n`개의 숫자를 입력받아서 리스트에 원소로 추가한 후 그 숫자를 오름차순으로 정렬한 결과를 출력하는 프로그램을 작성하시오.\n",
    "\n",
    "단, 정렬은 `sort()`함수를 사용하지 않고 반복문을 통해 직접 처리해야 합니다."
   ]
  },
  {
   "cell_type": "code",
   "execution_count": 4,
   "metadata": {},
   "outputs": [
    {
     "name": "stdin",
     "output_type": "stream",
     "text": [
      "숫자를 입력하세요 5\n",
      "1번째 숫자를 입력하세요:  3\n",
      "2번째 숫자를 입력하세요:  9\n",
      "3번째 숫자를 입력하세요:  5\n",
      "4번째 숫자를 입력하세요:  8\n",
      "5번째 숫자를 입력하세요:  6\n"
     ]
    },
    {
     "name": "stdout",
     "output_type": "stream",
     "text": [
      "[3, 5, 6, 8, 9]\n"
     ]
    }
   ],
   "source": [
    "count = int(input(\"숫자를 입력하세요\"))\n",
    "\n",
    "numbers = []\n",
    "\n",
    "for i in range(0, count):\n",
    "    number = int(input(f\"{i+1}번째 숫자를 입력하세요: \"))\n",
    "    numbers.append(number)\n",
    "    \n",
    "for j in range(len(numbers)):\n",
    "    k = len(numbers) - j\n",
    "    for i in range(1, k):\n",
    "        if numbers[i-1] >= numbers[i]:\n",
    "            temp = numbers[i-1]\n",
    "            numbers[i-1] = numbers[i]\n",
    "            numbers[i] = temp\n",
    "print(numbers)"
   ]
  }
 ],
 "metadata": {
  "kernelspec": {
   "display_name": "Python 3 (ipykernel)",
   "language": "python",
   "name": "python3"
  },
  "language_info": {
   "codemirror_mode": {
    "name": "ipython",
    "version": 3
   },
   "file_extension": ".py",
   "mimetype": "text/x-python",
   "name": "python",
   "nbconvert_exporter": "python",
   "pygments_lexer": "ipython3",
   "version": "3.9.7"
  }
 },
 "nbformat": 4,
 "nbformat_minor": 4
}
