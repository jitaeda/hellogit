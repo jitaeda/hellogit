{
 "cells": [
  {
   "cell_type": "markdown",
   "metadata": {},
   "source": [
    "# 파이썬 기본 문법 응용 문제 (2)\n",
    "\n",
    "---\n",
    "\n",
    "# 문제(1~3)\n",
    "\n",
    "아래의 데이터는 2021년 01월 25일부터 02월 01일까지의 Covid19 일별 확진자 수를 표현한 자료구조다.\n",
    "\n",
    "```python\n",
    "covid19 = [\n",
    "    {'0125': 426}, {'0126': 343}, {'0127': 547}, {'0128': 490}, \n",
    "    {'0129': 460}, {'0130': 443}, {'0131': 338}, {'0201': 299}\n",
    "]\n",
    "```\n",
    "\n",
    "위 데이터를 기반으로하여 아래의 물음에 답하시오.\n",
    "\n",
    "## 문제1.\n",
    "\n",
    "1월 25일부터 2월 1일까지의 누적 확진자 수와 일 평균 확진자 수를 구하시오."
   ]
  },
  {
   "cell_type": "code",
   "execution_count": 54,
   "metadata": {},
   "outputs": [
    {
     "name": "stdout",
     "output_type": "stream",
     "text": [
      "[426, 343, 547, 490, 460, 443, 338, 299]\n",
      "누적 확진자 수 = 3346\n",
      "일 평균 확진자 수 = 418.25\n"
     ]
    }
   ],
   "source": [
    "c19 = [\n",
    "    {'0125': 426}, {'0126': 343}, {'0127': 547}, {'0128': 490}, \n",
    "    {'0129': 460}, {'0130': 443}, {'0131': 338}, {'0201': 299}\n",
    "]\n",
    "\n",
    "print([c19[0]['0125'],c19[1]['0126'],c19[2]['0127'],c19[3]['0128'],c19[4]['0129'],\n",
    "       c19[5]['0130'],c19[6]['0131'],c19[7]['0201']])\n",
    "\n",
    "print(\"누적 확진자 수 =\", sum([c19[0]['0125'],c19[1]['0126'],c19[2]['0127'],c19[3]['0128'],c19[4]['0129'],\n",
    "     c19[5]['0130'],c19[6]['0131'],c19[7]['0201']]))\n",
    "\n",
    "print(\"일 평균 확진자 수 =\", sum([c19[0]['0125'],c19[1]['0126'],c19[2]['0127'],c19[3]['0128'],c19[4]['0129'],\n",
    "     c19[5]['0130'],c19[6]['0131'],c19[7]['0201']]) / 8)"
   ]
  },
  {
   "cell_type": "code",
   "execution_count": 48,
   "metadata": {},
   "outputs": [
    {
     "name": "stdout",
     "output_type": "stream",
     "text": [
      "426\n",
      "343\n",
      "547\n",
      "490\n",
      "460\n",
      "443\n",
      "338\n",
      "299\n",
      "누적 확진자 수 = 3346\n",
      "일 평균 확진자 수 418.25\n"
     ]
    }
   ],
   "source": [
    "c19 = [\n",
    "    {'0125': 426}, {'0126': 343}, {'0127': 547}, {'0128': 490}, \n",
    "    {'0129': 460}, {'0130': 443}, {'0131': 338}, {'0201': 299}\n",
    "]\n",
    "lstsum = 0\n",
    "for i in c19:\n",
    "    lstv = list(i.values()) #value 만 List()로 추출\n",
    "    print(lstv[0])\n",
    "    lstsum += lstv[0] # sum(lstv[0]) 은 안됨\n",
    "    lstavg = lstsum / len(c19)\n",
    "    \n",
    "print(\"누적 확진자 수 =\", lstsum)\n",
    "print(\"일 평균 확진자 수\", lstavg)\n",
    "\n",
    "        "
   ]
  },
  {
   "cell_type": "markdown",
   "metadata": {},
   "source": [
    "---\n",
    "\n",
    "## 문제2\n",
    "\n",
    "1월 25일부터 2월 1일까지 중에서 확진자가 가장 많이 나타난 날짜는 언제인가?"
   ]
  },
  {
   "cell_type": "code",
   "execution_count": 1,
   "metadata": {},
   "outputs": [
    {
     "name": "stdout",
     "output_type": "stream",
     "text": [
      "확진자가 가장 많이 나타난 날짜 = 0127\n"
     ]
    }
   ],
   "source": [
    "c19 = [\n",
    "    {'0125': 426}, {'0126': 343}, {'0127': 547}, {'0128': 490}, \n",
    "    {'0129': 460}, {'0130': 443}, {'0131': 338}, {'0201': 299}\n",
    "]\n",
    "maxk = 0\n",
    "maxv = 0\n",
    "for i in c19:\n",
    "    lstk = list(i.keys()) #key 추출\n",
    "    lstv = list(i.values())\n",
    "    if maxv < lstv[0]: #대조해가며 maxv값을 대체\n",
    "        maxv = lstv[0]\n",
    "        maxk = lstk[0] #maxv 를 찾았을 때의 key값을 maxk로 할당\n",
    "\n",
    "print(\"확진자가 가장 많이 나타난 날짜 =\", maxk)"
   ]
  },
  {
   "cell_type": "markdown",
   "metadata": {},
   "source": [
    "---\n",
    "\n",
    "## 문제 3\n",
    "\n",
    "위의 데이터를 확진자 수에 대한 오름차순으로 정렬하시오."
   ]
  },
  {
   "cell_type": "code",
   "execution_count": 52,
   "metadata": {},
   "outputs": [
    {
     "name": "stdout",
     "output_type": "stream",
     "text": [
      "[{'0201': 299}, {'0131': 338}, {'0126': 343}, {'0125': 426}, {'0130': 443}, {'0129': 460}, {'0128': 490}, {'0127': 547}]\n"
     ]
    }
   ],
   "source": [
    "c19 = [\n",
    "    {'0125': 426}, {'0126': 343}, {'0127': 547}, {'0128': 490}, \n",
    "    {'0129': 460}, {'0130': 443}, {'0131': 338}, {'0201': 299}\n",
    "]\n",
    "\n",
    "for i in range(0,len(c19)): #첫번째부터\n",
    "    for j in range(i+1,len(c19)): #두번째부터\n",
    "        if list(c19[i].values()) > list(c19[j].values()): #value 추출 후 비교\n",
    "                   c19[i], c19[j] = c19[j], c19[i]\n",
    "print(c19)"
   ]
  },
  {
   "cell_type": "markdown",
   "metadata": {},
   "source": [
    "---\n",
    "\n",
    "## 문제 4.\n",
    "\n",
    "다음은 10명의 학생들에 대한 혈액형 데이터 이다.\n",
    "\n",
    "```python\n",
    "['A', 'A', 'A', 'O', 'B', 'B', 'O', 'AB', 'AB', 'O']\n",
    "```\n",
    "\n",
    "for문을 이용하여 각 혈액형 별 학생수를 아래의 딕셔너리 `reuslt`에 구하시오.\n",
    "\n",
    "```python\n",
    "result = {\"A\" : 0, \"B\" : 0, \"AB\" : 0, \"O\" : 0}\n",
    "```"
   ]
  },
  {
   "cell_type": "code",
   "execution_count": 38,
   "metadata": {},
   "outputs": [
    {
     "data": {
      "text/plain": [
       "{'A': 3, 'B': 2, 'AB': 2, 'O': 3}"
      ]
     },
     "execution_count": 38,
     "metadata": {},
     "output_type": "execute_result"
    }
   ],
   "source": [
    "ABO = ['A', 'A', 'A', 'O', 'B', 'B', 'O', 'AB', 'AB', 'O']\n",
    "\n",
    "result = {\"A\" : 0, \"B\" : 0, \"AB\" : 0, \"O\" : 0}\n",
    "\n",
    "for i in ABO:\n",
    "    A = ABO.count('A')\n",
    "    B = ABO.count('B')\n",
    "    AB = ABO.count('AB')\n",
    "    O = ABO.count('O')\n",
    "\n",
    "result[\"A\"] = A\n",
    "result[\"B\"] = B\n",
    "result[\"AB\"] = AB\n",
    "result[\"O\"] = O\n",
    "\n",
    "result"
   ]
  },
  {
   "cell_type": "markdown",
   "metadata": {},
   "source": [
    "---\n",
    "\n",
    "## 문제 5.\n",
    "\n",
    "for문을 중첩하여 실행하여 아래와 같은 출력 결과를 만드시오.\n",
    "\n",
    "```python\n",
    "0 1 2 3 \n",
    "1 2 3 4 \n",
    "2 3 4 5 \n",
    "3 4 5 6 \n",
    "```"
   ]
  },
  {
   "cell_type": "code",
   "execution_count": 86,
   "metadata": {},
   "outputs": [
    {
     "name": "stdout",
     "output_type": "stream",
     "text": [
      "0 1 2 3 \n",
      "1 2 3 4 \n",
      "2 3 4 5 \n",
      "3 4 5 6 \n"
     ]
    }
   ],
   "source": [
    "for i in range(0, 4):\n",
    "    print(i, end = \" \")\n",
    "    for j in range(i+1, i+4):      \n",
    "        print(j, end = \" \")\n",
    "    print()"
   ]
  },
  {
   "cell_type": "code",
   "execution_count": null,
   "metadata": {},
   "outputs": [
    {
     "name": "stdout",
     "output_type": "stream",
     "text": [
      "0123\n",
      "1234\n",
      "2345\n",
      "3456\n"
     ]
    }
   ],
   "source": [
    "tpl = \"{0}\" \"{1}\" \"{2}\" \"{3}\"\n",
    "\n",
    "for a in range(0,4):\n",
    "        b = a + 1\n",
    "        c = b + 1\n",
    "        d = c + 1\n",
    "        print(tpl.format(a, b, c, d))\n",
    "        \n",
    "                "
   ]
  },
  {
   "cell_type": "code",
   "execution_count": null,
   "metadata": {},
   "outputs": [],
   "source": []
  },
  {
   "cell_type": "code",
   "execution_count": null,
   "metadata": {},
   "outputs": [],
   "source": []
  }
 ],
 "metadata": {
  "kernelspec": {
   "display_name": "Python 3 (ipykernel)",
   "language": "python",
   "name": "python3"
  },
  "language_info": {
   "codemirror_mode": {
    "name": "ipython",
    "version": 3
   },
   "file_extension": ".py",
   "mimetype": "text/x-python",
   "name": "python",
   "nbconvert_exporter": "python",
   "pygments_lexer": "ipython3",
   "version": "3.9.7"
  }
 },
 "nbformat": 4,
 "nbformat_minor": 4
}
