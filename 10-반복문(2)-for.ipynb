{
 "cells": [
  {
   "cell_type": "markdown",
   "metadata": {},
   "source": [
    "# 반복문(2) - For\n",
    "\n",
    "## for의 기본 특성\n",
    "\n",
    "초기식,조건식,증감식 일괄표현"
   ]
  },
  {
   "cell_type": "code",
   "execution_count": 1,
   "metadata": {},
   "outputs": [
    {
     "name": "stdout",
     "output_type": "stream",
     "text": [
      "x=1\n",
      "x=2\n",
      "x=3\n",
      "x=4\n",
      "x=5\n",
      "x=6\n",
      "x=7\n",
      "x=8\n",
      "x=9\n",
      "x=10\n"
     ]
    }
   ],
   "source": [
    "# x가 1부터 11전까지 1씩 증가하면서 반복수행\n",
    "for x in range(1, 11):\n",
    "    print(\"x=%d\" % x)   # 반복이 진행되는 동안 수행할 명령"
   ]
  },
  {
   "cell_type": "markdown",
   "metadata": {},
   "source": [
    "## 구구단 7단 출력하기"
   ]
  },
  {
   "cell_type": "code",
   "execution_count": 2,
   "metadata": {},
   "outputs": [
    {
     "name": "stdout",
     "output_type": "stream",
     "text": [
      "7 x 1 = 7\n",
      "7 x 2 = 14\n",
      "7 x 3 = 21\n",
      "7 x 4 = 28\n",
      "7 x 5 = 35\n",
      "7 x 6 = 42\n",
      "7 x 7 = 49\n",
      "7 x 8 = 56\n",
      "7 x 9 = 63\n"
     ]
    }
   ],
   "source": [
    "# -> 1부터 10전까지 1씩 증가하는 값을 y에 설정\n",
    "for y in range(1, 10):\n",
    "    # 반복이 진행되는 동안 수행할 명령\n",
    "    z = 7*y\n",
    "    print( \"7 x %d = %d\" % (y, z) )"
   ]
  },
  {
   "cell_type": "markdown",
   "metadata": {},
   "source": [
    "## 총 합 구하기"
   ]
  },
  {
   "cell_type": "code",
   "execution_count": 3,
   "metadata": {},
   "outputs": [
    {
     "name": "stdout",
     "output_type": "stream",
     "text": [
      "x=1, sum=1\n",
      "x=2, sum=3\n",
      "x=3, sum=6\n",
      "x=4, sum=10\n",
      "x=5, sum=15\n",
      "x=6, sum=21\n",
      "x=7, sum=28\n",
      "x=8, sum=36\n",
      "x=9, sum=45\n",
      "x=10, sum=55\n"
     ]
    }
   ],
   "source": [
    "# 1~10까지의 총 합을 구하기\n",
    "sum = 0                 # 총 합을 누적해서 저장할 변수\n",
    "\n",
    "for x in range(1, 11):  # x가 1부터 11전까지 1씩 증가하면서 반복수행\n",
    "    sum += x\n",
    "    print(\"x=%d, sum=%d\" % (x, sum))"
   ]
  },
  {
   "cell_type": "markdown",
   "metadata": {},
   "source": [
    "## 값의 변화단계 조절하기\n",
    "\n",
    "range 함수의 세 번째 파라미터로 변화량을 설정할 수 있다."
   ]
  },
  {
   "cell_type": "code",
   "execution_count": 4,
   "metadata": {},
   "outputs": [
    {
     "name": "stdout",
     "output_type": "stream",
     "text": [
      "a=0\n",
      "a=10\n",
      "a=20\n",
      "a=30\n",
      "a=40\n",
      "a=50\n",
      "a=60\n",
      "a=70\n",
      "a=80\n",
      "a=90\n"
     ]
    }
   ],
   "source": [
    "# 0부터 100전(=99)까지 10씩 증가\n",
    "for a in range(0, 100, 10):\n",
    "    print( \"a=%d\" % a )"
   ]
  },
  {
   "cell_type": "code",
   "execution_count": 5,
   "metadata": {},
   "outputs": [
    {
     "name": "stdout",
     "output_type": "stream",
     "text": [
      "b=10\n",
      "b=8\n",
      "b=6\n",
      "b=4\n",
      "b=2\n"
     ]
    }
   ],
   "source": [
    "# 10부터 0전(=1)까지 2씩 감소\n",
    "for b in range(10, 0, -2):\n",
    "    print( \"b=%d\" % b )"
   ]
  },
  {
   "cell_type": "markdown",
   "metadata": {},
   "source": [
    "## 문자열에 대한 반복"
   ]
  },
  {
   "cell_type": "code",
   "execution_count": 6,
   "metadata": {},
   "outputs": [
    {
     "name": "stdout",
     "output_type": "stream",
     "text": [
      "P\n",
      "y\n",
      "t\n",
      "h\n",
      "o\n",
      "n\n"
     ]
    }
   ],
   "source": [
    "test_str = \"Python\"\n",
    "\n",
    "# -> 문자열의 각 글자를 순차적으로 i에 대입하면서 반복\n",
    "for i in test_str:\n",
    "    print(i)"
   ]
  },
  {
   "cell_type": "markdown",
   "metadata": {},
   "source": [
    "## 리스트에 대한 반복"
   ]
  },
  {
   "cell_type": "code",
   "execution_count": 7,
   "metadata": {},
   "outputs": [
    {
     "name": "stdout",
     "output_type": "stream",
     "text": [
      "python\n",
      "is\n",
      "good\n"
     ]
    }
   ],
   "source": [
    "test_list = ['python', 'is', 'good']\n",
    "\n",
    "# -> 리스트의 각 원소를 순차적으로 i에 대입하면서 반복\n",
    "# -> 단점: 몇 번째 원소인지는 알 수 없다.\n",
    "for i in test_list:\n",
    "    print(i)"
   ]
  },
  {
   "cell_type": "markdown",
   "metadata": {},
   "source": [
    "## 반복문 안에서 현재 원소의 인덱스를 파악하기 위한 보완 처리\n",
    "\n",
    "반복이 진행되는 동안 0부터 1씩 증가하는 별도의 변수를 관리한다면 이 변수가 리스트의 인덱스와 동일한 역할을 할 수 있다."
   ]
  },
  {
   "cell_type": "code",
   "execution_count": 10,
   "metadata": {},
   "outputs": [
    {
     "name": "stdout",
     "output_type": "stream",
     "text": [
      "0번째 원소: python\n",
      "1번째 원소: is\n",
      "2번째 원소: good\n"
     ]
    }
   ],
   "source": [
    "# 몇 번째 원소인지를 카운트하기 위한 별도의 변수 사용\n",
    "# -> 단점: 별도의 변수를 관리해야 하므로 처리가 복잡해진다.\n",
    "count = 0\n",
    "for i in test_list:\n",
    "    print( \"%d번째 원소: %s\" % (count, i) )\n",
    "    count += 1"
   ]
  },
  {
   "cell_type": "markdown",
   "metadata": {},
   "source": [
    "## 리스트의 인덱스 자체로 반복의 범위를 지정하기\n",
    "len() 함수를 사용하여 리스트의 길이를 알아낸다.\n",
    "\n",
    "0부터 길이까지 반복의 범위를 설정한다면 반복은 설정된 길이 전까지 진행되므로 리스트의 인덱스 역할을 할 수 있다.\n",
    "\n",
    "리스트의 인덱스는 길이-1 까지만 존재한다는 특성 활용"
   ]
  },
  {
   "cell_type": "code",
   "execution_count": 11,
   "metadata": {},
   "outputs": [
    {
     "name": "stdout",
     "output_type": "stream",
     "text": [
      "0번째 원소: python\n",
      "1번째 원소: is\n",
      "2번째 원소: good\n"
     ]
    }
   ],
   "source": [
    "# 원소의 수를 조회한 다음 직접 반복범위 지정하기\n",
    "# -> 단점: 각 원소가 저장되는 변수가 없기 때문에\n",
    "#          원소에 대한 접근을 리스트를 통해 직접 수행해야 한다.\n",
    "size = len(test_list)\n",
    "for i in range(0, size):\n",
    "    print( \"%d번째 원소: %s\" % (i, test_list[i]) )"
   ]
  },
  {
   "cell_type": "markdown",
   "metadata": {},
   "source": [
    "## 내장함수를 사용하여 인덱스와 값 한번에 얻기"
   ]
  },
  {
   "cell_type": "code",
   "execution_count": 12,
   "metadata": {},
   "outputs": [
    {
     "name": "stdout",
     "output_type": "stream",
     "text": [
      "0번째 값 >> python\n",
      "1번째 값 >> is\n",
      "2번째 값 >> good\n"
     ]
    }
   ],
   "source": [
    "# i에는 리스트의 인덱스가 저장된다.\n",
    "# value에는 리스트의 값(원소)가 저장된다.\n",
    "# i, value는 단순 변수이므로 개발자 편의에 따라 이름지을 수 있다.\n",
    "for i, value in enumerate(test_list):\n",
    "    print(\"%d번째 값 >> %s\" % (i, value))"
   ]
  },
  {
   "cell_type": "markdown",
   "metadata": {},
   "source": [
    "## 반복문의 활용"
   ]
  },
  {
   "cell_type": "code",
   "execution_count": 13,
   "metadata": {},
   "outputs": [
    {
     "name": "stdout",
     "output_type": "stream",
     "text": [
      "총점: 407, 평균: 81\n"
     ]
    }
   ],
   "source": [
    "# 성적에 대한 총점과 평균 구하기\n",
    "point_list = [ 100, 82, 98, 76, 51 ]\n",
    "\n",
    "# -> 총점을 저장할 변수\n",
    "total = 0\n",
    "\n",
    "for point in point_list:\n",
    "    # 총점은 각 원소를 누적해서 더한다.\n",
    "    total += point\n",
    "\n",
    "# 평균은 총 합에서 원소의 수를 나눈다.\n",
    "# -> \"//\"는 나눗셈에서 정수부분의 몫만 구한다.\n",
    "avg = total // len(point_list)\n",
    "\n",
    "tpl = \"총점: {0}, 평균: {1}\"\n",
    "print(tpl.format(total, avg))"
   ]
  },
  {
   "cell_type": "code",
   "execution_count": null,
   "metadata": {},
   "outputs": [],
   "source": []
  }
 ],
 "metadata": {
  "kernelspec": {
   "display_name": "Python 3 (ipykernel)",
   "language": "python",
   "name": "python3"
  },
  "language_info": {
   "codemirror_mode": {
    "name": "ipython",
    "version": 3
   },
   "file_extension": ".py",
   "mimetype": "text/x-python",
   "name": "python",
   "nbconvert_exporter": "python",
   "pygments_lexer": "ipython3",
   "version": "3.9.7"
  }
 },
 "nbformat": 4,
 "nbformat_minor": 4
}
