{
 "cells": [
  {
   "cell_type": "markdown",
   "id": "8c6e2b49-851f-4239-abfb-493678f67a94",
   "metadata": {},
   "source": [
    "### 문자열 포매팅\n",
    "#### %d 10진 정수\n",
    "#### %f 10진 실수\n",
    "#### %s 문자열\n",
    "#### %c character(문자 1개)\n",
    "#### %o 8진 정수\n",
    "#### %x 16진 정수\n",
    "#### %% % 자체"
   ]
  },
  {
   "cell_type": "code",
   "execution_count": 2,
   "id": "25aa1d69-066f-488b-adfb-45f967b04bb0",
   "metadata": {},
   "outputs": [
    {
     "name": "stdout",
     "output_type": "stream",
     "text": [
      "나는 20세 입니다\n"
     ]
    }
   ],
   "source": [
    "str = \"나는 %d세 입니다\" # %d 10진 정수\n",
    "result = str % 20\n",
    "print(result)"
   ]
  },
  {
   "cell_type": "code",
   "execution_count": 26,
   "id": "4ef67db1-fb6b-421f-974c-cec9e0884359",
   "metadata": {},
   "outputs": [
    {
     "name": "stdout",
     "output_type": "stream",
     "text": [
      "원주율은 3.140000 이다\n",
      "원주율은 3.140000% 이다\n"
     ]
    }
   ],
   "source": [
    "str1 = \"원주율은 %f 이다\" # %f 10진 실수(소수점 포함)\n",
    "result1 = str1 % 3.14\n",
    "print(result1)\n",
    "print(\"원주율은 %f%% 이다\" % 3.14) #묶어서도 가능 %를 쓰려면 2개 붙여서"
   ]
  },
  {
   "cell_type": "code",
   "execution_count": 11,
   "id": "7e6ee3e9-32a8-4269-bce6-8a165f95c332",
   "metadata": {
    "tags": []
   },
   "outputs": [
    {
     "name": "stdout",
     "output_type": "stream",
     "text": [
      "나는 10개의 사과를 갖고 있다\n"
     ]
    }
   ],
   "source": [
    "print(\"나는 %d개의 %s를 갖고 있다\" % (10, \"사과\"))"
   ]
  },
  {
   "cell_type": "code",
   "execution_count": 40,
   "id": "21aeffdc-cd26-449f-b97b-90dfae6edabc",
   "metadata": {},
   "outputs": [
    {
     "name": "stdout",
     "output_type": "stream",
     "text": [
      "나는 병원에 7일 있었다\n"
     ]
    }
   ],
   "source": [
    "# \"%\"연산자 뒤의 값이 \"%d\"를 치환한다.\n",
    "str2 = \"나는 병원에 %d일 있었다\" % 7\n",
    "print(str2)"
   ]
  },
  {
   "cell_type": "code",
   "execution_count": 44,
   "id": "bce0fe38-7765-4f0d-aa16-c772e4245471",
   "metadata": {},
   "outputs": [
    {
     "name": "stdout",
     "output_type": "stream",
     "text": [
      "동아리 날짜는 2021년 2월 5일\n"
     ]
    }
   ],
   "source": [
    "str3 = \"%s 날짜는 %d년 %d월 %d일\"\n",
    "msg1 = str3 % (\"동아리\", 2021, 2, 5) #문자는 항상 \"\"로 묶는다\n",
    "print(msg1)"
   ]
  },
  {
   "cell_type": "markdown",
   "id": "4ec03cbd-c72e-413a-9500-333139366bc3",
   "metadata": {},
   "source": [
    "### 정수의 자릿수 지정 및 정렬\n",
    "#### %5d 숫자를 5자리로 맞춰 오른쪽 정렬, 부족하면 공백\n",
    "#### %-5d 숫자  5자리         왼쪽  정렬\n",
    "#### %05d 5자리 오른쪽 정렬, 부족하면 0으로 채움(왼쪽 지원 안함, 0말곤 사용 불가)"
   ]
  },
  {
   "cell_type": "code",
   "execution_count": 29,
   "id": "9fd88de8-e91e-4ede-9a42-9ad380418e75",
   "metadata": {},
   "outputs": [
    {
     "name": "stdout",
     "output_type": "stream",
     "text": [
      "판매 금액은    3500 입니다\n",
      "판매 금액은 3500    입니다\n",
      "판매 금액은 0003500 입니다\n"
     ]
    }
   ],
   "source": [
    "print(\"판매 금액은 %7d 입니다\" % 3500)\n",
    "print(\"판매 금액은 %-7d 입니다\" % 3500)\n",
    "print(\"판매 금액은 %07d 입니다\" % 3500)"
   ]
  },
  {
   "cell_type": "code",
   "execution_count": 34,
   "id": "3778b4b1-2392-4a26-ab02-829c5bc987bb",
   "metadata": {
    "tags": []
   },
   "outputs": [
    {
     "name": "stdout",
     "output_type": "stream",
     "text": [
      "Hello python   입니다\n",
      "Hello python 입니다  \n"
     ]
    }
   ],
   "source": [
    "print(\"Hello python %5s\" % \"입니다\" )\n",
    "print(\"Hello python %-5s\" % \"입니다\" ) #%05s 0은 지원 안함"
   ]
  },
  {
   "cell_type": "markdown",
   "id": "70bcffcd-d115-41b2-8cda-31b31d541c1e",
   "metadata": {},
   "source": [
    "### 실수의 자릿수 지정 및 정렬\n",
    "#### 출력값이 지정된 소수점 자릿수를 초과하면 반올림 처리된다.\n",
    "##### %0.3f 제한없이 셋째 자리까지 출력\n",
    "##### %10.3f 전체 10자리 출력하고 그중 소수점 이하는 셋째 자리까지 설정, 오른쪽 정렬, 나머지 공백\n",
    "##### %-10.3f 전체 10자리 출력         소수점 이하     세자리          ,   왼쪽 정렬, 나머지 공백\n",
    "##### %010.3f 10자리 출력, 소수점 셋째 자리까지, 공백->0으로"
   ]
  },
  {
   "cell_type": "code",
   "execution_count": 35,
   "id": "19f7d264-f600-46a1-8870-afd406277509",
   "metadata": {},
   "outputs": [
    {
     "name": "stdout",
     "output_type": "stream",
     "text": [
      "123.457\n"
     ]
    }
   ],
   "source": [
    "print(\"%0.3f\" % 123.4567) #반올림"
   ]
  },
  {
   "cell_type": "code",
   "execution_count": 36,
   "id": "321a5915-68ae-4690-a6c8-c39d90d5d0b8",
   "metadata": {},
   "outputs": [
    {
     "name": "stdout",
     "output_type": "stream",
     "text": [
      "   123.457\n"
     ]
    }
   ],
   "source": [
    "print(\"%10.3f\" % 123.4567) #왼 공백"
   ]
  },
  {
   "cell_type": "code",
   "execution_count": 37,
   "id": "8d2b1bff-5ae2-499a-89bf-e58e60648087",
   "metadata": {},
   "outputs": [
    {
     "name": "stdout",
     "output_type": "stream",
     "text": [
      "123.457   \n"
     ]
    }
   ],
   "source": [
    "print(\"%-10.3f\" % 123.4567) #오른 공백"
   ]
  },
  {
   "cell_type": "code",
   "execution_count": 38,
   "id": "33d23635-ca98-4299-b253-fd20e5b4fa11",
   "metadata": {},
   "outputs": [
    {
     "name": "stdout",
     "output_type": "stream",
     "text": [
      "000123.457\n"
     ]
    }
   ],
   "source": [
    "print(\"%010.3f\" % 123.4567) 0으로 공백 채움"
   ]
  },
  {
   "cell_type": "markdown",
   "id": "a6e33774-cf0c-4c9b-ae6b-4543ebfe5a0b",
   "metadata": {},
   "source": [
    "### format 함수를 사용한 포매팅"
   ]
  },
  {
   "cell_type": "code",
   "execution_count": 45,
   "id": "bdd78a46-fcd5-4909-b88d-982bb58c8305",
   "metadata": {},
   "outputs": [
    {
     "name": "stdout",
     "output_type": "stream",
     "text": [
      "이 연필은 1200원 입니다.\n"
     ]
    }
   ],
   "source": [
    "str = \"이 연필은 {0}{1} 입니다.\"\n",
    "print(str.format(1200, \"원\"))"
   ]
  },
  {
   "cell_type": "code",
   "execution_count": 46,
   "id": "94878468-d28e-4a22-9063-e007b428a1d2",
   "metadata": {},
   "outputs": [
    {
     "name": "stdout",
     "output_type": "stream",
     "text": [
      "이 연필은 1200원입니다\n"
     ]
    }
   ],
   "source": [
    "str = \"이 연필은 {price}{unit}입니다\"\n",
    "print(str.format(unit=\"원\", price=\"1200\"))"
   ]
  },
  {
   "cell_type": "code",
   "execution_count": 50,
   "id": "799dcbc6-5d6e-482b-beff-fb4b9c4f1e91",
   "metadata": {},
   "outputs": [
    {
     "name": "stdout",
     "output_type": "stream",
     "text": [
      "이 책은 좋은 교과서입니다.\n"
     ]
    }
   ],
   "source": [
    "str = \"이 {0}은 {1} {name}입니다.\"\n",
    "print(str.format(\"책\", \"좋은\", name = \"교과서\")) #숫자형식 치환자가 먼저 와야한다"
   ]
  },
  {
   "cell_type": "code",
   "execution_count": 55,
   "id": "ba713404-ad87-4147-aef3-ea5bbbec4fe0",
   "metadata": {},
   "outputs": [
    {
     "name": "stdout",
     "output_type": "stream",
     "text": [
      "이         피망은       1000원 입니다.\n",
      "이 ********피망은 @@@@@@1000원 입니다.\n"
     ]
    }
   ],
   "source": [
    "str = \"이 {0:>10}은 {1:>10}원 입니다.\" #10자리, 인덱스번호:>자릿수 오른쪽 정렬\n",
    "print(str.format(\"피망\", 1000))\n",
    "str = \"이 {0:*>10}은 {1:@>10}원 입니다.\" # :다음 문자로 채워준다\n",
    "print(str.format(\"피망\", 1000))"
   ]
  },
  {
   "cell_type": "code",
   "execution_count": 56,
   "id": "94f6c8f7-f1d1-45a0-8cec-f276955fdf67",
   "metadata": {},
   "outputs": [
    {
     "name": "stdout",
     "output_type": "stream",
     "text": [
      "이 피망        은 1000      원 입니다.\n",
      "이 피망********은 1000@@@@@@원 입니다.\n"
     ]
    }
   ],
   "source": [
    "str = \"이 {0:<10}은 {1:<10}원 입니다.\" #10자리, 왼쪽 정렬\n",
    "print(str.format(\"피망\", 1000))\n",
    "str = \"이 {0:*<10}은 {1:@<10}원 입니다.\" # :다음 문자로 채워준다\n",
    "print(str.format(\"피망\", 1000))"
   ]
  },
  {
   "cell_type": "code",
   "execution_count": 58,
   "id": "dbbdb592-bf00-49e5-bef0-ffa4bb4a4baa",
   "metadata": {},
   "outputs": [
    {
     "name": "stdout",
     "output_type": "stream",
     "text": [
      "이     피망    은    1000   원 입니다.\n",
      "이 ****피망****은 @@@1000@@@원 입니다.\n"
     ]
    }
   ],
   "source": [
    "str = \"이 {0:^10}은 {1:^10}원 입니다.\" #가운데 정렬\n",
    "print(str.format(\"피망\", 1000))\n",
    "str = \"이 {0:*^10}은 {1:@^10}원 입니다.\"\n",
    "print(str.format(\"피망\", 1000))"
   ]
  },
  {
   "cell_type": "code",
   "execution_count": 60,
   "id": "533056cd-1e37-4373-8cc0-4874b058b5bb",
   "metadata": {},
   "outputs": [
    {
     "name": "stdout",
     "output_type": "stream",
     "text": [
      "123.4568+12.346\n"
     ]
    }
   ],
   "source": [
    "str =  \"{0:0.4f}+{1:0.3f}\" #소수점 4자리, 3자리까지 표현하고 반올림\n",
    "print(str.format(123.456789, 12.3456789))"
   ]
  },
  {
   "cell_type": "code",
   "execution_count": 70,
   "id": "1c0d8b65-cb33-4499-a607-8aa5667e62e3",
   "metadata": {},
   "outputs": [
    {
     "name": "stdout",
     "output_type": "stream",
     "text": [
      "  123.4568+    12.346\n"
     ]
    }
   ],
   "source": [
    "str = \"{0:10.4f}+{1:-10.3f}\" #전체 10글자, 소수점4, 3자리 오른,왼 정렬\n",
    "print(str.format(123.456789, 12.3456789))"
   ]
  },
  {
   "cell_type": "code",
   "execution_count": 73,
   "id": "d88eba9f-ff8d-4bb1-9e31-3d2a6821bdff",
   "metadata": {},
   "outputs": [
    {
     "name": "stdout",
     "output_type": "stream",
     "text": [
      "00123.4568+12.3460000\n",
      "00123.4568+0012.34600\n"
     ]
    }
   ],
   "source": [
    "str = \"{0:010.4f}+{1:<-010.3f}\" #위와 동일, 0으로 채움, < 왼쪽 정렬\n",
    "# > 오른쪽정렬은 사용하지 않는 경우와 결과가 동일\n",
    "print(str.format(123.456789, 12.3456789))\n",
    "str = \"{0:>010.4f}+{1:^-010.3f}\"\n",
    "print(str.format(123.456789, 12.3456789)) #> 동일, 가운데 정렬"
   ]
  },
  {
   "cell_type": "code",
   "execution_count": 80,
   "id": "25fe5cb3-776e-4ad8-b6b5-ff7076988c52",
   "metadata": {},
   "outputs": [
    {
     "name": "stdout",
     "output_type": "stream",
     "text": [
      "python은 어렵다.\n",
      "{python}은 어렵다.\n"
     ]
    }
   ],
   "source": [
    "str = \"{0}은 {1}다.\"\n",
    "print(str.format(\"python\", \"어렵\"))\n",
    "str = \"{{python}}은 {0}다.\" #{}사용하려면 2개겹\n",
    "print(str.format(\"어렵\"))"
   ]
  },
  {
   "cell_type": "markdown",
   "id": "01ec786d-4fb8-47d9-b975-410d9abd3765",
   "metadata": {},
   "source": [
    "### 함수"
   ]
  },
  {
   "cell_type": "code",
   "execution_count": 1,
   "id": "27dee2c4-0dd9-4e6e-bffb-3b96fa4dfa99",
   "metadata": {},
   "outputs": [
    {
     "name": "stdout",
     "output_type": "stream",
     "text": [
      "Life is too short, You Need Python\n"
     ]
    }
   ],
   "source": [
    "#실습용 문자열\n",
    "str = \"Life is too short, You Need Python\"\n",
    "print(str)"
   ]
  },
  {
   "cell_type": "code",
   "execution_count": 5,
   "id": "50e6f398-893b-4dea-a8a9-78af10c45ab2",
   "metadata": {},
   "outputs": [
    {
     "name": "stdout",
     "output_type": "stream",
     "text": [
      "34\n",
      "34\n"
     ]
    }
   ],
   "source": [
    "a = len(str) #문자열의 글자수 함수 len()\n",
    "print(a)\n",
    "print(len(str)) #직접 출력도 가능"
   ]
  },
  {
   "cell_type": "code",
   "execution_count": 8,
   "id": "43badc6b-45cf-430a-a9e5-d282454c056b",
   "metadata": {},
   "outputs": [
    {
     "name": "stdout",
     "output_type": "stream",
     "text": [
      "2\n",
      "1\n",
      "1\n"
     ]
    }
   ],
   "source": [
    "print(str.count(\"i\")) #특정 문자열 갯수 count\n",
    "print(str.count(\"Y\")) #대소문자 구별함\n",
    "print(str.count(\"Life\"))"
   ]
  },
  {
   "cell_type": "code",
   "execution_count": 9,
   "id": "0faef130-6122-4645-98ee-9b6da18c2216",
   "metadata": {},
   "outputs": [
    {
     "name": "stdout",
     "output_type": "stream",
     "text": [
      "8\n",
      "-1\n",
      "12\n"
     ]
    }
   ],
   "source": [
    "print(str.find(\"t\")) #처음 등장하는 위치 조회 find()\n",
    "print(str.find(\"z\")) #없으면 -1 출력함\n",
    "print(str.find(\"short\")) #첫글자 위치 출력"
   ]
  },
  {
   "cell_type": "code",
   "execution_count": 12,
   "id": "4981eadf-91f9-4367-ac9d-902269a1d420",
   "metadata": {},
   "outputs": [
    {
     "name": "stdout",
     "output_type": "stream",
     "text": [
      "30\n",
      "12\n",
      "-1\n"
     ]
    }
   ],
   "source": [
    "print(str.rfind(\"t\")) #마지막 등장하는 위치 조회 rfind()\n",
    "print(str.rfind(\"short\"))\n",
    "print(str.rfind(\"z\")) #없으면 -1"
   ]
  },
  {
   "cell_type": "code",
   "execution_count": 15,
   "id": "95163fd2-2400-4274-9397-0f3c8866bd53",
   "metadata": {},
   "outputs": [
    {
     "name": "stdout",
     "output_type": "stream",
     "text": [
      "True\n",
      "False\n",
      "True\n"
     ]
    }
   ],
   "source": [
    "print(str.startswith(\"L\")) #특정 단어나 글자로 시작하는지 여부 -> True, False\n",
    "print(str.startswith(\"l\"))\n",
    "print(str.startswith(\"Life\"))"
   ]
  },
  {
   "cell_type": "code",
   "execution_count": 18,
   "id": "5c637315-a8ec-4e6e-90dc-82e939be02b9",
   "metadata": {},
   "outputs": [
    {
     "name": "stdout",
     "output_type": "stream",
     "text": [
      "True\n",
      "True\n",
      "False\n"
     ]
    }
   ],
   "source": [
    "print(str.endswith(\"n\")) #특정 단어,글자로 끝나는지 True, False\n",
    "print(str.endswith(\"Python\"))\n",
    "print(str.endswith(\"python\")) #대소문자 구별"
   ]
  },
  {
   "cell_type": "code",
   "execution_count": 20,
   "id": "7692b39d-efe7-46cb-824b-af2cba9990a0",
   "metadata": {},
   "outputs": [
    {
     "name": "stdout",
     "output_type": "stream",
     "text": [
      "LIFE IS TOO SHORT, YOU NEED PYTHON\n",
      "LIFE IS TOO SHORT, YOU NEED PYTHON\n"
     ]
    }
   ],
   "source": [
    "upchar = str.upper()\n",
    "print(upchar)\n",
    "print(str.upper()) #모든 글자를 대문자로"
   ]
  },
  {
   "cell_type": "code",
   "execution_count": 21,
   "id": "aeb98889-c931-441f-9958-2a824d525783",
   "metadata": {},
   "outputs": [
    {
     "name": "stdout",
     "output_type": "stream",
     "text": [
      "life is too short, you need python\n",
      "life is too short, you need python\n"
     ]
    }
   ],
   "source": [
    "lowchar = str.lower()\n",
    "print(lowchar)\n",
    "print(str.lower()) #모든 글자를 소문자로"
   ]
  },
  {
   "cell_type": "code",
   "execution_count": 22,
   "id": "1c5766c4-e521-4dba-8f35-b5f7e3403359",
   "metadata": {},
   "outputs": [
    {
     "name": "stdout",
     "output_type": "stream",
     "text": [
      "lIFE IS TOO SHORT, yOU nEED pYTHON\n"
     ]
    }
   ],
   "source": [
    "print(str.swapcase()) #대,소문자 스왑"
   ]
  },
  {
   "cell_type": "code",
   "execution_count": 23,
   "id": "2536b4e0-55cb-400a-8180-536e419adb37",
   "metadata": {},
   "outputs": [
    {
     "name": "stdout",
     "output_type": "stream",
     "text": [
      "Life is too short, you need python\n"
     ]
    }
   ],
   "source": [
    "print(str.capitalize()) #문장 첫 글자를 대문자로 변환 나머지 대문자는 소문자로"
   ]
  },
  {
   "cell_type": "code",
   "execution_count": 24,
   "id": "daf7ed45-2705-4160-a026-03983b6dd902",
   "metadata": {},
   "outputs": [
    {
     "name": "stdout",
     "output_type": "stream",
     "text": [
      "Life Is Too Short, You Need Python\n"
     ]
    }
   ],
   "source": [
    "print(str.title()) #각 단어 첫 글자를 대문자로 변환"
   ]
  },
  {
   "cell_type": "code",
   "execution_count": 29,
   "id": "c675e869-67e5-4267-a77b-b73632f11dce",
   "metadata": {},
   "outputs": [
    {
     "name": "stdout",
     "output_type": "stream",
     "text": [
      "life is too short, You Need Python\n"
     ]
    }
   ],
   "source": [
    "print(str.replace(\"Life\", \"life\")) # replace(A, B) A를 B로 변경"
   ]
  },
  {
   "cell_type": "code",
   "execution_count": 30,
   "id": "b294dcb2-77b2-45bb-bae5-9c865b712bc3",
   "metadata": {},
   "outputs": [
    {
     "name": "stdout",
     "output_type": "stream",
     "text": [
      "python    \n",
      "    python\n",
      "python\n"
     ]
    }
   ],
   "source": [
    "#실습용 문자열\n",
    "k = \"    python    \" #4칸씩 공백\n",
    "print(k.lstrip()) #왼쪽 공백 삭제\n",
    "print(k.rstrip()) #오른쪽 공백 삭제\n",
    "print(k.strip()) #좌,우 공백 삭제\n",
    "#문자열 앞,뒤 공백만 제거가능하며"
   ]
  },
  {
   "cell_type": "code",
   "execution_count": 31,
   "id": "1fd49271-b418-402f-a039-a371357ae197",
   "metadata": {},
   "outputs": [
    {
     "name": "stdout",
     "output_type": "stream",
     "text": [
      "Lifeis too short, You Need Python\n"
     ]
    }
   ],
   "source": [
    "print(str.replace(\"e i\", \"ei\")) #문자열 중간의 공백을 삭제하려면 replace()사용"
   ]
  },
  {
   "cell_type": "code",
   "execution_count": null,
   "id": "93e51087-f7cf-496d-89a7-f287a2f52a5a",
   "metadata": {},
   "outputs": [],
   "source": []
  }
 ],
 "metadata": {
  "kernelspec": {
   "display_name": "Python 3 (ipykernel)",
   "language": "python",
   "name": "python3"
  },
  "language_info": {
   "codemirror_mode": {
    "name": "ipython",
    "version": 3
   },
   "file_extension": ".py",
   "mimetype": "text/x-python",
   "name": "python",
   "nbconvert_exporter": "python",
   "pygments_lexer": "ipython3",
   "version": "3.9.7"
  }
 },
 "nbformat": 4,
 "nbformat_minor": 5
}
