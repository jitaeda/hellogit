{
 "cells": [
  {
   "cell_type": "code",
   "execution_count": 5,
   "id": "c0601597-a4b6-4dc5-9f4c-e3f05999c1ff",
   "metadata": {},
   "outputs": [
    {
     "name": "stdout",
     "output_type": "stream",
     "text": [
      "hello Python\n",
      "안녕 파이썬\n"
     ]
    }
   ],
   "source": [
    "def say_hello():\n",
    "    print(\"hello Python\")\n",
    "    print(\"안녕 파이썬\") #함수 정의\n",
    "say_hello() #함수 호출"
   ]
  },
  {
   "cell_type": "code",
   "execution_count": 6,
   "id": "9f9940f9-e087-4a81-89fb-da65fca31945",
   "metadata": {},
   "outputs": [
    {
     "name": "stdout",
     "output_type": "stream",
     "text": [
      "3\n"
     ]
    }
   ],
   "source": [
    "def plus(x, y):\n",
    "    print(x+y)\n",
    "plus(1,2) #plus 라는 함수를 만듬"
   ]
  },
  {
   "cell_type": "code",
   "execution_count": 25,
   "id": "84b0c280-90a1-48be-ac59-c550fc7d22c0",
   "metadata": {},
   "outputs": [
    {
     "name": "stdout",
     "output_type": "stream",
     "text": [
      "f(2) => 2 + 1 = 3\n",
      "f(3) => 3 + 1 = 4\n",
      "None\n"
     ]
    }
   ],
   "source": [
    "def f(x):\n",
    "    y = x + 1\n",
    "    tpl = \"f({0}) => {0} + 1 = {1}\"\n",
    "    print(tpl.format(x, y))\n",
    "\n",
    "f(2)\n"
   ]
  },
  {
   "cell_type": "code",
   "execution_count": 9,
   "id": "7debd966-8de6-4afb-a0f8-504c58eeafd4",
   "metadata": {},
   "outputs": [
    {
     "name": "stdout",
     "output_type": "stream",
     "text": [
      "hello(2, 3) => 2 + 3 = 5\n"
     ]
    }
   ],
   "source": [
    "def hello(x, y):\n",
    "    z = x + y\n",
    "    tpl = \"hello({0}, {1}) => {0} + {1} = {2}\"\n",
    "    print(tpl.format(x, y, z))\n",
    "    \n",
    "hello(2, 3)"
   ]
  },
  {
   "cell_type": "code",
   "execution_count": 18,
   "id": "656a3d1b-ac3b-4e5d-a47c-328206773c26",
   "metadata": {},
   "outputs": [
    {
     "name": "stdout",
     "output_type": "stream",
     "text": [
      "sum(1 + 4 + 0) => 1 + 4 + 0 = 5\n",
      "sum(1 + 2 + 3) => 1 + 2 + 3 = 6\n",
      "sum(1 + 2 + 3) => 1 + 2 + 3 = 6\n"
     ]
    },
    {
     "ename": "TypeError",
     "evalue": "sum1() missing 1 required positional argument: 'x'",
     "output_type": "error",
     "traceback": [
      "\u001b[1;31m---------------------------------------------------------------------------\u001b[0m",
      "\u001b[1;31mTypeError\u001b[0m                                 Traceback (most recent call last)",
      "\u001b[1;32m~\\AppData\\Local\\Temp/ipykernel_13164/1472213902.py\u001b[0m in \u001b[0;36m<module>\u001b[1;34m\u001b[0m\n\u001b[0;32m      6\u001b[0m \u001b[0msum1\u001b[0m\u001b[1;33m(\u001b[0m\u001b[1;36m1\u001b[0m\u001b[1;33m,\u001b[0m\u001b[1;36m2\u001b[0m\u001b[1;33m,\u001b[0m\u001b[1;36m3\u001b[0m\u001b[1;33m)\u001b[0m \u001b[1;31m#재지정하면 바뀜\u001b[0m\u001b[1;33m\u001b[0m\u001b[1;33m\u001b[0m\u001b[0m\n\u001b[0;32m      7\u001b[0m \u001b[0msum1\u001b[0m\u001b[1;33m(\u001b[0m\u001b[0my\u001b[0m\u001b[1;33m=\u001b[0m\u001b[1;36m2\u001b[0m\u001b[1;33m,\u001b[0m \u001b[0mx\u001b[0m\u001b[1;33m=\u001b[0m\u001b[1;36m1\u001b[0m\u001b[1;33m,\u001b[0m \u001b[0mz\u001b[0m\u001b[1;33m=\u001b[0m\u001b[1;36m3\u001b[0m\u001b[1;33m)\u001b[0m \u001b[1;31m#이름지정 호출 > 순서무시 가능\u001b[0m\u001b[1;33m\u001b[0m\u001b[1;33m\u001b[0m\u001b[0m\n\u001b[1;32m----> 8\u001b[1;33m \u001b[0msum1\u001b[0m\u001b[1;33m(\u001b[0m\u001b[0my\u001b[0m\u001b[1;33m=\u001b[0m\u001b[1;36m20\u001b[0m\u001b[1;33m,\u001b[0m \u001b[0mz\u001b[0m\u001b[1;33m=\u001b[0m\u001b[1;36m30\u001b[0m\u001b[1;33m)\u001b[0m \u001b[1;31m# >에러 x값은 초기값이 없으므로 생략 불가능\u001b[0m\u001b[1;33m\u001b[0m\u001b[1;33m\u001b[0m\u001b[0m\n\u001b[0m",
      "\u001b[1;31mTypeError\u001b[0m: sum1() missing 1 required positional argument: 'x'"
     ]
    }
   ],
   "source": [
    "def sum1(x, y, z = 0): #초기값 설정, 뒤에서부터 설정가능(x, y=0, z)>에러\n",
    "    tpl = \"sum({0} + {1} + {2}) => {0} + {1} + {2} = {3}\"\n",
    "    print(tpl.format(x, y, z, x+y+z))\n",
    "\n",
    "sum1(1,4) #초기값 설정된 파라미터는 생략가능\n",
    "sum1(1,2,3) #재지정하면 바뀜\n",
    "sum1(y=2, x=1, z=3) #이름지정 호출 > 순서무시 가능\n",
    "sum1(y=20, z=30) # >에러 x값은 초기값이 없으므로 생략 불가능"
   ]
  },
  {
   "cell_type": "code",
   "execution_count": 22,
   "id": "792436f3-d273-4505-80df-6aaf00f76d18",
   "metadata": {},
   "outputs": [
    {
     "data": {
      "text/plain": [
       "3"
      ]
     },
     "execution_count": 22,
     "metadata": {},
     "output_type": "execute_result"
    }
   ],
   "source": [
    "def plus(x, y):\n",
    "    z = x + y\n",
    "    return z #print 와 달리 값을 반환해줌\n",
    "\n",
    "plus(1,2)"
   ]
  },
  {
   "cell_type": "code",
   "execution_count": 32,
   "id": "6061b3e7-0c7e-4d79-bb39-ffede8cf010a",
   "metadata": {},
   "outputs": [
    {
     "name": "stdout",
     "output_type": "stream",
     "text": [
      "5\n",
      "300\n",
      "213\n"
     ]
    }
   ],
   "source": [
    "a = plus(2, 3) #def에 print(z)였다면\n",
    "print(a)       #여기서 None 이라고 나옴\n",
    "print(plus(100,200))\n",
    "b = plus(5, 8) + 200 #리턴값을 갖는 함수라서 다른 연산에도 활용가능\n",
    "print(b)"
   ]
  },
  {
   "cell_type": "code",
   "execution_count": 30,
   "id": "09f2c96f-65f3-49f9-a35e-ad79fb13c03e",
   "metadata": {},
   "outputs": [
    {
     "data": {
      "text/plain": [
       "3.0"
      ]
     },
     "execution_count": 30,
     "metadata": {},
     "output_type": "execute_result"
    }
   ],
   "source": [
    "#삼각형의 넓이를 구하는 함수\n",
    "def tri(x, y):\n",
    "    z = x * y / 2\n",
    "    return z\n",
    "tri(2,3)"
   ]
  },
  {
   "cell_type": "code",
   "execution_count": 36,
   "id": "5dfdc494-edc8-4af3-abea-e43238b0d3f7",
   "metadata": {},
   "outputs": [
    {
     "data": {
      "text/plain": [
       "0"
      ]
     },
     "execution_count": 36,
     "metadata": {},
     "output_type": "execute_result"
    }
   ],
   "source": [
    "#리턴문의 특성\n",
    "def foo(x,y):\n",
    "    if x < 10 or y < 10:\n",
    "        return 0\n",
    "    \n",
    "    z = x + y\n",
    "    return z\n",
    "\n",
    "foo(2,14) #조건에 맞는 return을 만나면 그 즉시 수행을 종료(아래x)"
   ]
  },
  {
   "cell_type": "code",
   "execution_count": 45,
   "id": "b348f9b5-a79e-4e15-a7ba-af3aa3351e33",
   "metadata": {},
   "outputs": [
    {
     "data": {
      "text/plain": [
       "'내용을 입력하세요'"
      ]
     },
     "execution_count": 45,
     "metadata": {},
     "output_type": "execute_result"
    }
   ],
   "source": [
    "member_list = ['user1', 'user2', 'user3']\n",
    "def id_check(user_id):\n",
    "    if not user_id: #값이 없으면 중단\n",
    "        return(\"내용을 입력하세요\")\n",
    "    if user_id in member_list:\n",
    "        print(\"사용할 수 없는 아이디입니다.\")\n",
    "    else:\n",
    "        print(\"사용 가능한 아이디입니다.\")\n",
    "\n",
    "id_check(\"\") #리턴에서 종료(print였다면 밑에 사용 가능이라고 같이 뜸)"
   ]
  },
  {
   "cell_type": "code",
   "execution_count": 47,
   "id": "7a2c759f-0758-4b9e-a7b0-2ec881165308",
   "metadata": {},
   "outputs": [
    {
     "name": "stdout",
     "output_type": "stream",
     "text": [
      "사용할 수 없는 아이디입니다.\n",
      "사용 가능한 아이디입니다.\n"
     ]
    }
   ],
   "source": [
    "id_check(\"user3\")\n",
    "id_check(\"user5\")"
   ]
  },
  {
   "cell_type": "code",
   "execution_count": 52,
   "id": "5e96648f-f1fd-48b7-b3c3-97c1743f37d4",
   "metadata": {},
   "outputs": [
    {
     "data": {
      "text/plain": [
       "(1, 2)"
      ]
     },
     "execution_count": 52,
     "metadata": {},
     "output_type": "execute_result"
    }
   ],
   "source": [
    "def bar():\n",
    "    x = 1\n",
    "    y = 2\n",
    "    return(x, y)\n",
    "bar()"
   ]
  },
  {
   "cell_type": "code",
   "execution_count": 54,
   "id": "c598e7dd-04c7-4156-b402-89394d81a09d",
   "metadata": {},
   "outputs": [
    {
     "name": "stdout",
     "output_type": "stream",
     "text": [
      "(1, 2)\n",
      "1\n"
     ]
    }
   ],
   "source": [
    "a = bar() #튜플을 a에 할당\n",
    "print(a) \n",
    "print(a[0]) #인덱스로 원소에 접근"
   ]
  },
  {
   "cell_type": "code",
   "execution_count": 55,
   "id": "a0bc8d34-44fb-492c-b85a-6c070cabbddb",
   "metadata": {},
   "outputs": [
    {
     "name": "stdout",
     "output_type": "stream",
     "text": [
      "1\n",
      "2\n"
     ]
    }
   ],
   "source": [
    "m, n = bar() #변수 생성 규칙\n",
    "print(m)\n",
    "print(n)"
   ]
  },
  {
   "cell_type": "code",
   "execution_count": 59,
   "id": "56343a6a-eb2f-4417-bc5d-32dd552fc536",
   "metadata": {},
   "outputs": [
    {
     "name": "stdout",
     "output_type": "stream",
     "text": [
      "300\n"
     ]
    },
    {
     "ename": "NameError",
     "evalue": "name 'c' is not defined",
     "output_type": "error",
     "traceback": [
      "\u001b[1;31m---------------------------------------------------------------------------\u001b[0m",
      "\u001b[1;31mNameError\u001b[0m                                 Traceback (most recent call last)",
      "\u001b[1;32m~\\AppData\\Local\\Temp/ipykernel_13164/536168676.py\u001b[0m in \u001b[0;36m<module>\u001b[1;34m\u001b[0m\n\u001b[0;32m      6\u001b[0m \u001b[1;33m\u001b[0m\u001b[0m\n\u001b[0;32m      7\u001b[0m \u001b[0mfoo\u001b[0m\u001b[1;33m(\u001b[0m\u001b[1;33m)\u001b[0m\u001b[1;33m\u001b[0m\u001b[1;33m\u001b[0m\u001b[0m\n\u001b[1;32m----> 8\u001b[1;33m \u001b[0mprint\u001b[0m\u001b[1;33m(\u001b[0m\u001b[0mc\u001b[0m\u001b[1;33m)\u001b[0m\u001b[1;33m\u001b[0m\u001b[1;33m\u001b[0m\u001b[0m\n\u001b[0m",
      "\u001b[1;31mNameError\u001b[0m: name 'c' is not defined"
     ]
    }
   ],
   "source": [
    "a = 100\n",
    "b = 200\n",
    "def foo():\n",
    "    c = a + b\n",
    "    print(c)\n",
    "    \n",
    "foo()\n",
    "print(c) #함수 밖에선 변수 식별 불가 에러"
   ]
  },
  {
   "cell_type": "code",
   "execution_count": 69,
   "id": "40bed7bf-8ba3-4e6f-abc7-56fa74bbb540",
   "metadata": {},
   "outputs": [
    {
     "name": "stdout",
     "output_type": "stream",
     "text": [
      "lifeisgood\n",
      "life is good 100\n",
      "life\n",
      "is\n",
      "good\n",
      "lifeis good\n",
      "life is good~!!//"
     ]
    }
   ],
   "source": [
    "#내장함수\n",
    "\n",
    "#print() 함수\n",
    "print(\"life\" + \"is\" + \"good\") # + 는 띄어쓰기 없이 단순 연결\n",
    "print(\"life\", \"is\", \"good\", 100) # , 는 띄어쓰기, 다른 타입도 가능(숫자)\n",
    "print(\"life\")\n",
    "print(\"is\")\n",
    "print(\"good\")\n",
    "print(\"life\", end = \"\") #end = \"\" 지정하면 줄바꿈 x\n",
    "print(\"is\", end = \" \") #end 안에 공백주면 띄어쓰기\n",
    "print(\"good\")\n",
    "print(\"life\", \"is\", \"good\", end = \"~!!//\")\n",
    "#end는 마무리를 지정하는 기능, 기본값은 줄바꿈문자\"\\n\"으로 지정됨"
   ]
  },
  {
   "cell_type": "code",
   "execution_count": 73,
   "id": "84c50411-c24c-45f2-9424-80c04d162b99",
   "metadata": {},
   "outputs": [
    {
     "name": "stdout",
     "output_type": "stream",
     "text": [
      "<class 'int'>\n"
     ]
    }
   ],
   "source": [
    "#자료형 조회 type() 함수\n",
    "a = 100\n",
    "type(a) #그냥 int라고만 나옴\n",
    "print(type(a))"
   ]
  },
  {
   "cell_type": "code",
   "execution_count": 75,
   "id": "7ca500ab-934a-4091-bee0-5c53059033cf",
   "metadata": {},
   "outputs": [
    {
     "name": "stdout",
     "output_type": "stream",
     "text": [
      "<class 'str'>\n",
      "<class 'bool'>\n",
      "<class 'list'>\n",
      "<class 'tuple'>\n",
      "<class 'dict'>\n"
     ]
    }
   ],
   "source": [
    "print(type(\"hello\"))\n",
    "print(type(True))\n",
    "print(type([1,2]))\n",
    "print(type((1,2)))\n",
    "print(type({\"name\" : \"python\"}))"
   ]
  },
  {
   "cell_type": "code",
   "execution_count": 76,
   "id": "34543218-8d89-460d-9fc8-d50e6f8d0c13",
   "metadata": {},
   "outputs": [
    {
     "name": "stdout",
     "output_type": "stream",
     "text": [
      "True\n"
     ]
    }
   ],
   "source": [
    "i = {\"name\" : \"python\"}\n",
    "k = isinstance(i, dict) #isinstance() 검사함수 > dict가 맞나?\n",
    "print(k) "
   ]
  },
  {
   "cell_type": "code",
   "execution_count": 78,
   "id": "b1fab4e6-1725-4033-8c26-3e54315e8432",
   "metadata": {},
   "outputs": [
    {
     "name": "stdout",
     "output_type": "stream",
     "text": [
      "a는 정수가 아닙니다.\n"
     ]
    }
   ],
   "source": [
    "a = [1,2]\n",
    "if isinstance(a, int) == True: #== True 생략가능\n",
    "    print(\"a는 정수가 맞습니다.\")\n",
    "else:\n",
    "    print(\"a는 정수가 아닙니다.\")\n"
   ]
  },
  {
   "cell_type": "code",
   "execution_count": 80,
   "id": "b997dd38-b675-4e90-8b74-4831a5914e62",
   "metadata": {},
   "outputs": [
    {
     "name": "stdout",
     "output_type": "stream",
     "text": [
      "12345\n"
     ]
    }
   ],
   "source": [
    "#형변환\n",
    "x = \"123\"\n",
    "y = \"45\"\n",
    "print(x+y) #문자열 합"
   ]
  },
  {
   "cell_type": "code",
   "execution_count": 83,
   "id": "1ec7eb22-6710-4b47-ac81-dbfc42bca5d0",
   "metadata": {},
   "outputs": [
    {
     "name": "stdout",
     "output_type": "stream",
     "text": [
      "168\n",
      "168.0\n"
     ]
    }
   ],
   "source": [
    "x1 = int(x)\n",
    "y1 = int(y)\n",
    "print(x1+y1) #숫자 합\n",
    "\n",
    "x2 = float(x)\n",
    "y2 = float(y)\n",
    "print(x2 + y2) #실수로 변환 후 합"
   ]
  },
  {
   "cell_type": "code",
   "execution_count": 84,
   "id": "c6152b28-93ad-4b72-a9d1-010dbb8d4c32",
   "metadata": {},
   "outputs": [
    {
     "name": "stdout",
     "output_type": "stream",
     "text": [
      "256\n",
      "256\n"
     ]
    }
   ],
   "source": [
    "a = pow(2, 8) #제곱함수\n",
    "b = 2**8 #a와 동일\n",
    "print(a)\n",
    "print(b)"
   ]
  },
  {
   "cell_type": "code",
   "execution_count": 85,
   "id": "dfb7a728-58b1-46ae-8639-76d0fdfb2d9f",
   "metadata": {},
   "outputs": [
    {
     "name": "stdout",
     "output_type": "stream",
     "text": [
      "100\n",
      "12.34\n"
     ]
    }
   ],
   "source": [
    "a = abs(-100) #절대값\n",
    "print(a)\n",
    "b = abs(12.34)\n",
    "print(b)"
   ]
  },
  {
   "cell_type": "code",
   "execution_count": 86,
   "id": "7786846a-1f56-4dbd-bdec-f51321169a75",
   "metadata": {},
   "outputs": [
    {
     "name": "stdout",
     "output_type": "stream",
     "text": [
      "(2, 1)\n"
     ]
    }
   ],
   "source": [
    "#나눗셈 몫과 나머지 튜플로 리턴 함수\n",
    "c = divmod(7,3)\n",
    "print(c)"
   ]
  },
  {
   "cell_type": "code",
   "execution_count": 88,
   "id": "a275e3b9-23f1-4b2a-8956-f95e34c194ec",
   "metadata": {},
   "outputs": [
    {
     "name": "stdin",
     "output_type": "stream",
     "text": [
      "시간을 입력하세요 800\n"
     ]
    },
    {
     "name": "stdout",
     "output_type": "stream",
     "text": [
      "33일 8시간\n"
     ]
    }
   ],
   "source": [
    "hours = int(input(\"시간을 입력하세요\"))\n",
    "d = divmod(hours, 24)\n",
    "tpl = \"{0}일 {1}시간\"\n",
    "print(tpl.format(d[0], d[1]))"
   ]
  },
  {
   "cell_type": "code",
   "execution_count": 99,
   "id": "340e2712-74ee-492d-b1e9-308b2f15855c",
   "metadata": {},
   "outputs": [
    {
     "name": "stdout",
     "output_type": "stream",
     "text": [
      "(37, 12)\n",
      "37\n",
      "12\n",
      "37\n",
      "12\n"
     ]
    }
   ],
   "source": [
    "print(divmod(900, 24))\n",
    "type(divmod(900, 24)) #튜플\n",
    "day = divmod(900, 24)[0]\n",
    "time = divmod(900, 24)[1]\n",
    "print(day)\n",
    "print(time) #인덱스면 길어진다.\n",
    "\n",
    "days, times = divmod(900, 24) #한번에 할당(변수 생성 규칙)\n",
    "print(days)\n",
    "print(times)"
   ]
  },
  {
   "cell_type": "code",
   "execution_count": 103,
   "id": "351ec45f-8fab-4149-816a-e728b0b6c5b3",
   "metadata": {},
   "outputs": [
    {
     "name": "stdout",
     "output_type": "stream",
     "text": [
      "3\n",
      "3\n"
     ]
    }
   ],
   "source": [
    "a = [\"1\", \"2\", \"3\"]\n",
    "print(len(a))\n",
    "b = [1,2,3]\n",
    "print(len(b))"
   ]
  },
  {
   "cell_type": "code",
   "execution_count": 106,
   "id": "f67b335a-d073-4cd1-bf18-75023e139af0",
   "metadata": {},
   "outputs": [
    {
     "name": "stdout",
     "output_type": "stream",
     "text": [
      "3\n",
      "1\n",
      "6\n",
      "2.0\n"
     ]
    }
   ],
   "source": [
    "#최대, 최소, 합계 구하기\n",
    "a = (1, 2, 3) #튜플도 가능, 리스트 가능\n",
    "print(max(a))\n",
    "print(min(a))\n",
    "print(sum(a))\n",
    "print(sum(a) / len(a)) # 평균 avg()는 없다."
   ]
  },
  {
   "cell_type": "code",
   "execution_count": 117,
   "id": "14cdae66-b779-4484-95e7-fa6576bc68b3",
   "metadata": {},
   "outputs": [
    {
     "name": "stdout",
     "output_type": "stream",
     "text": [
      "3.0\n",
      "3\n"
     ]
    }
   ],
   "source": [
    "b = (1, 2, 3, 4, 5)\n",
    "avg = sum(b) / len(b)\n",
    "print(avg)\n",
    "print(\"%0.0f\" % avg) #소수점 0자리까지 출력"
   ]
  },
  {
   "cell_type": "code",
   "execution_count": 119,
   "id": "1fb5b8f0-959c-483e-ae15-729ad948df03",
   "metadata": {},
   "outputs": [
    {
     "name": "stdout",
     "output_type": "stream",
     "text": [
      "['p', 'y', 't', 'h', 'o', 'n']\n",
      "('p', 'y', 't', 'h', 'o', 'n')\n"
     ]
    }
   ],
   "source": [
    "#리스트, 튜플 상호 변환\n",
    "a = \"python\"\n",
    "b = list(a)\n",
    "print(b)\n",
    "c = tuple(a)\n",
    "print(c) #괄호가 다르다."
   ]
  },
  {
   "cell_type": "code",
   "execution_count": 122,
   "id": "e4b3ab5f-a015-4a59-9129-4af1d3d10828",
   "metadata": {},
   "outputs": [
    {
     "name": "stdout",
     "output_type": "stream",
     "text": [
      "[1, 2, 3]\n"
     ]
    }
   ],
   "source": [
    "c = (1,2,3)\n",
    "d = list(c)\n",
    "print(d) #리스트로 변환"
   ]
  },
  {
   "cell_type": "code",
   "execution_count": 126,
   "id": "4e84e325-ef4d-4594-bd30-c20a4284a0cd",
   "metadata": {},
   "outputs": [
    {
     "name": "stdout",
     "output_type": "stream",
     "text": [
      "(1, 2, 3)\n",
      "[1, 2, 3]\n"
     ]
    }
   ],
   "source": [
    "e = [1,2,3]\n",
    "f = tuple(e)\n",
    "print(f) #튜플로 변환\n",
    "g = list(e)\n",
    "print(g)"
   ]
  },
  {
   "cell_type": "code",
   "execution_count": 129,
   "id": "45bbb6d1-8525-4d1b-9f78-109a288982c0",
   "metadata": {},
   "outputs": [
    {
     "name": "stdout",
     "output_type": "stream",
     "text": [
      "['a', 'b']\n",
      "dict_keys(['a', 'b'])\n"
     ]
    }
   ],
   "source": [
    "#딕셔너리의 key, value 분리\n",
    "a = {\"a\":180, \"b\":200}\n",
    "keys_a = list(a.keys()) #a의 키 분리해서 리스트로 변환\n",
    "print(keys_a)\n",
    "print(a.keys()) #원래 분리형태"
   ]
  },
  {
   "cell_type": "code",
   "execution_count": 130,
   "id": "7b55837f-2812-4b7a-8bcd-94733a05d7a6",
   "metadata": {},
   "outputs": [
    {
     "name": "stdout",
     "output_type": "stream",
     "text": [
      "[180, 200]\n",
      "dict_values([180, 200])\n"
     ]
    }
   ],
   "source": [
    "value_a = list(a.values())\n",
    "print(value_a)\n",
    "print(a.values())"
   ]
  },
  {
   "cell_type": "code",
   "execution_count": 136,
   "id": "81efdcc3-0376-4afd-9ef6-4751161bda1f",
   "metadata": {},
   "outputs": [
    {
     "name": "stdout",
     "output_type": "stream",
     "text": [
      "<class 'range'>\n",
      "range(1, 10)\n",
      "[1, 2, 3, 4, 5, 6, 7, 8, 9]\n",
      "[1, 3, 5, 7, 9]\n"
     ]
    }
   ],
   "source": [
    "k = range(1, 10)\n",
    "print(type(k))\n",
    "print(k)\n",
    "print(list(k)) #리스트로 바꿔줘야 개별원소 표시\n",
    "l = range(1, 10, 2) #1에서 10\"전\"까지 2씩 증가하는 수열\n",
    "print(list(l))"
   ]
  },
  {
   "cell_type": "code",
   "execution_count": 138,
   "id": "21e16778-cf7d-4d89-bc11-ad22e848c946",
   "metadata": {},
   "outputs": [
    {
     "name": "stdout",
     "output_type": "stream",
     "text": [
      "[1, 2, 3, 4, 7]\n"
     ]
    }
   ],
   "source": [
    "#리스트정렬 함수\n",
    "data = [1,3,2,4,7]\n",
    "data.sort() #자체로 리턴해주는게 아니라 data만 정렬해줌\n",
    "print(data)"
   ]
  },
  {
   "cell_type": "code",
   "execution_count": 140,
   "id": "7d0c80a6-1b3b-4138-8003-77538e31ca37",
   "metadata": {},
   "outputs": [
    {
     "name": "stdout",
     "output_type": "stream",
     "text": [
      "[1, 3, 2, 4, 7]\n",
      "[1, 2, 3, 4, 7]\n"
     ]
    }
   ],
   "source": [
    "data = [1,3,2,4,7]\n",
    "a = sorted(data) #!정렬된! 데이터 = a로 할당\n",
    "print(data) #원본은 안 바뀌고\n",
    "print(a) #할당된 a만 정렬된다."
   ]
  },
  {
   "cell_type": "code",
   "execution_count": null,
   "id": "bdffde96-6286-43a6-9199-34b130f3382a",
   "metadata": {},
   "outputs": [],
   "source": []
  }
 ],
 "metadata": {
  "kernelspec": {
   "display_name": "Python 3 (ipykernel)",
   "language": "python",
   "name": "python3"
  },
  "language_info": {
   "codemirror_mode": {
    "name": "ipython",
    "version": 3
   },
   "file_extension": ".py",
   "mimetype": "text/x-python",
   "name": "python",
   "nbconvert_exporter": "python",
   "pygments_lexer": "ipython3",
   "version": "3.9.7"
  }
 },
 "nbformat": 4,
 "nbformat_minor": 5
}
