{
 "cells": [
  {
   "cell_type": "markdown",
   "id": "e623d640-125f-479c-8998-76d1ef59e2b0",
   "metadata": {},
   "source": [
    "# 데이터프레임 확인하기"
   ]
  },
  {
   "cell_type": "code",
   "execution_count": 1,
   "id": "0f0c0216-1766-4726-b549-adbe64538220",
   "metadata": {},
   "outputs": [],
   "source": [
    "#패키지 로드\n",
    "from pandas import DataFrame"
   ]
  },
  {
   "cell_type": "code",
   "execution_count": 3,
   "id": "972b0d88-6b10-4a1d-8916-7a26300a3a3d",
   "metadata": {},
   "outputs": [],
   "source": [
    "from pandas import read_excel"
   ]
  },
  {
   "cell_type": "code",
   "execution_count": 4,
   "id": "a0855122-277f-4e99-9bd4-dfa6d791d734",
   "metadata": {},
   "outputs": [
    {
     "data": {
      "text/html": [
       "<div>\n",
       "<style scoped>\n",
       "    .dataframe tbody tr th:only-of-type {\n",
       "        vertical-align: middle;\n",
       "    }\n",
       "\n",
       "    .dataframe tbody tr th {\n",
       "        vertical-align: top;\n",
       "    }\n",
       "\n",
       "    .dataframe thead th {\n",
       "        text-align: right;\n",
       "    }\n",
       "</style>\n",
       "<table border=\"1\" class=\"dataframe\">\n",
       "  <thead>\n",
       "    <tr style=\"text-align: right;\">\n",
       "      <th></th>\n",
       "      <th>학년</th>\n",
       "      <th>성별</th>\n",
       "      <th>국어</th>\n",
       "      <th>영어</th>\n",
       "      <th>수학</th>\n",
       "      <th>과학</th>\n",
       "    </tr>\n",
       "    <tr>\n",
       "      <th>이름</th>\n",
       "      <th></th>\n",
       "      <th></th>\n",
       "      <th></th>\n",
       "      <th></th>\n",
       "      <th></th>\n",
       "      <th></th>\n",
       "    </tr>\n",
       "  </thead>\n",
       "  <tbody>\n",
       "    <tr>\n",
       "      <th>철수</th>\n",
       "      <td>1</td>\n",
       "      <td>남자</td>\n",
       "      <td>98</td>\n",
       "      <td>NaN</td>\n",
       "      <td>88.0</td>\n",
       "      <td>64.0</td>\n",
       "    </tr>\n",
       "    <tr>\n",
       "      <th>영희</th>\n",
       "      <td>2</td>\n",
       "      <td>여자</td>\n",
       "      <td>88</td>\n",
       "      <td>90.0</td>\n",
       "      <td>62.0</td>\n",
       "      <td>72.0</td>\n",
       "    </tr>\n",
       "    <tr>\n",
       "      <th>민수</th>\n",
       "      <td>1</td>\n",
       "      <td>남자</td>\n",
       "      <td>92</td>\n",
       "      <td>70.0</td>\n",
       "      <td>NaN</td>\n",
       "      <td>NaN</td>\n",
       "    </tr>\n",
       "    <tr>\n",
       "      <th>수현</th>\n",
       "      <td>3</td>\n",
       "      <td>여자</td>\n",
       "      <td>63</td>\n",
       "      <td>60.0</td>\n",
       "      <td>31.0</td>\n",
       "      <td>70.0</td>\n",
       "    </tr>\n",
       "    <tr>\n",
       "      <th>호영</th>\n",
       "      <td>4</td>\n",
       "      <td>남자</td>\n",
       "      <td>120</td>\n",
       "      <td>50.0</td>\n",
       "      <td>NaN</td>\n",
       "      <td>88.0</td>\n",
       "    </tr>\n",
       "  </tbody>\n",
       "</table>\n",
       "</div>"
      ],
      "text/plain": [
       "    학년  성별   국어    영어    수학    과학\n",
       "이름                               \n",
       "철수   1  남자   98   NaN  88.0  64.0\n",
       "영희   2  여자   88  90.0  62.0  72.0\n",
       "민수   1  남자   92  70.0   NaN   NaN\n",
       "수현   3  여자   63  60.0  31.0  70.0\n",
       "호영   4  남자  120  50.0   NaN  88.0"
      ]
     },
     "execution_count": 4,
     "metadata": {},
     "output_type": "execute_result"
    }
   ],
   "source": [
    "#데이터 프레임 구성하기\n",
    "xlsx = read_excel('http://itpaper.co.kr/data/grade_card.xlsx', engine='openpyxl')\n",
    "df = xlsx.set_index('이름')\n",
    "df"
   ]
  },
  {
   "cell_type": "markdown",
   "id": "4f33e806-1a8e-4dd3-a3cf-1498f763854f",
   "metadata": {},
   "source": [
    "# 2. 데이터에 접근하기"
   ]
  },
  {
   "cell_type": "code",
   "execution_count": 5,
   "id": "57a918f7-6ef9-4be8-965f-21a987818c79",
   "metadata": {},
   "outputs": [
    {
     "data": {
      "text/plain": [
       "(5, 6)"
      ]
     },
     "execution_count": 5,
     "metadata": {},
     "output_type": "execute_result"
    }
   ],
   "source": [
    "size = df.shape\n",
    "size"
   ]
  },
  {
   "cell_type": "code",
   "execution_count": 6,
   "id": "0903b818-6c00-4846-a19b-bd4cc781f80c",
   "metadata": {},
   "outputs": [
    {
     "name": "stdout",
     "output_type": "stream",
     "text": [
      "5\n",
      "6\n"
     ]
    }
   ],
   "source": [
    "#행,열 크기를 다른 변수에 나눠서\n",
    "rows, cols = df.shape\n",
    "print(rows)\n",
    "print(cols)"
   ]
  },
  {
   "cell_type": "code",
   "execution_count": 7,
   "id": "ae6cd316-fc31-4bc7-84ac-b516f5ee62ed",
   "metadata": {},
   "outputs": [
    {
     "data": {
      "text/html": [
       "<div>\n",
       "<style scoped>\n",
       "    .dataframe tbody tr th:only-of-type {\n",
       "        vertical-align: middle;\n",
       "    }\n",
       "\n",
       "    .dataframe tbody tr th {\n",
       "        vertical-align: top;\n",
       "    }\n",
       "\n",
       "    .dataframe thead th {\n",
       "        text-align: right;\n",
       "    }\n",
       "</style>\n",
       "<table border=\"1\" class=\"dataframe\">\n",
       "  <thead>\n",
       "    <tr style=\"text-align: right;\">\n",
       "      <th></th>\n",
       "      <th>학년</th>\n",
       "      <th>성별</th>\n",
       "      <th>국어</th>\n",
       "      <th>영어</th>\n",
       "      <th>수학</th>\n",
       "      <th>과학</th>\n",
       "    </tr>\n",
       "    <tr>\n",
       "      <th>이름</th>\n",
       "      <th></th>\n",
       "      <th></th>\n",
       "      <th></th>\n",
       "      <th></th>\n",
       "      <th></th>\n",
       "      <th></th>\n",
       "    </tr>\n",
       "  </thead>\n",
       "  <tbody>\n",
       "    <tr>\n",
       "      <th>철수</th>\n",
       "      <td>1</td>\n",
       "      <td>남자</td>\n",
       "      <td>98</td>\n",
       "      <td>NaN</td>\n",
       "      <td>88.0</td>\n",
       "      <td>64.0</td>\n",
       "    </tr>\n",
       "    <tr>\n",
       "      <th>영희</th>\n",
       "      <td>2</td>\n",
       "      <td>여자</td>\n",
       "      <td>88</td>\n",
       "      <td>90.0</td>\n",
       "      <td>62.0</td>\n",
       "      <td>72.0</td>\n",
       "    </tr>\n",
       "    <tr>\n",
       "      <th>민수</th>\n",
       "      <td>1</td>\n",
       "      <td>남자</td>\n",
       "      <td>92</td>\n",
       "      <td>70.0</td>\n",
       "      <td>NaN</td>\n",
       "      <td>NaN</td>\n",
       "    </tr>\n",
       "  </tbody>\n",
       "</table>\n",
       "</div>"
      ],
      "text/plain": [
       "    학년  성별  국어    영어    수학    과학\n",
       "이름                              \n",
       "철수   1  남자  98   NaN  88.0  64.0\n",
       "영희   2  여자  88  90.0  62.0  72.0\n",
       "민수   1  남자  92  70.0   NaN   NaN"
      ]
     },
     "execution_count": 7,
     "metadata": {},
     "output_type": "execute_result"
    }
   ],
   "source": [
    "#상위 3건 확인하기\n",
    "top3 = df.head(3)\n",
    "top3"
   ]
  },
  {
   "cell_type": "code",
   "execution_count": 8,
   "id": "d3dd1c2b-05ac-4336-b4e0-02f990cb2db7",
   "metadata": {},
   "outputs": [
    {
     "data": {
      "text/html": [
       "<div>\n",
       "<style scoped>\n",
       "    .dataframe tbody tr th:only-of-type {\n",
       "        vertical-align: middle;\n",
       "    }\n",
       "\n",
       "    .dataframe tbody tr th {\n",
       "        vertical-align: top;\n",
       "    }\n",
       "\n",
       "    .dataframe thead th {\n",
       "        text-align: right;\n",
       "    }\n",
       "</style>\n",
       "<table border=\"1\" class=\"dataframe\">\n",
       "  <thead>\n",
       "    <tr style=\"text-align: right;\">\n",
       "      <th></th>\n",
       "      <th>학년</th>\n",
       "      <th>성별</th>\n",
       "      <th>국어</th>\n",
       "      <th>영어</th>\n",
       "      <th>수학</th>\n",
       "      <th>과학</th>\n",
       "    </tr>\n",
       "    <tr>\n",
       "      <th>이름</th>\n",
       "      <th></th>\n",
       "      <th></th>\n",
       "      <th></th>\n",
       "      <th></th>\n",
       "      <th></th>\n",
       "      <th></th>\n",
       "    </tr>\n",
       "  </thead>\n",
       "  <tbody>\n",
       "    <tr>\n",
       "      <th>민수</th>\n",
       "      <td>1</td>\n",
       "      <td>남자</td>\n",
       "      <td>92</td>\n",
       "      <td>70.0</td>\n",
       "      <td>NaN</td>\n",
       "      <td>NaN</td>\n",
       "    </tr>\n",
       "    <tr>\n",
       "      <th>수현</th>\n",
       "      <td>3</td>\n",
       "      <td>여자</td>\n",
       "      <td>63</td>\n",
       "      <td>60.0</td>\n",
       "      <td>31.0</td>\n",
       "      <td>70.0</td>\n",
       "    </tr>\n",
       "    <tr>\n",
       "      <th>호영</th>\n",
       "      <td>4</td>\n",
       "      <td>남자</td>\n",
       "      <td>120</td>\n",
       "      <td>50.0</td>\n",
       "      <td>NaN</td>\n",
       "      <td>88.0</td>\n",
       "    </tr>\n",
       "  </tbody>\n",
       "</table>\n",
       "</div>"
      ],
      "text/plain": [
       "    학년  성별   국어    영어    수학    과학\n",
       "이름                               \n",
       "민수   1  남자   92  70.0   NaN   NaN\n",
       "수현   3  여자   63  60.0  31.0  70.0\n",
       "호영   4  남자  120  50.0   NaN  88.0"
      ]
     },
     "execution_count": 8,
     "metadata": {},
     "output_type": "execute_result"
    }
   ],
   "source": [
    "#하위 3건 확인하기\n",
    "last3 = df.tail(3)\n",
    "last3"
   ]
  },
  {
   "cell_type": "code",
   "execution_count": 9,
   "id": "1f04a038-979d-4aa5-a125-a967e759a4b2",
   "metadata": {},
   "outputs": [
    {
     "data": {
      "text/plain": [
       "Index(['철수', '영희', '민수', '수현', '호영'], dtype='object', name='이름')"
      ]
     },
     "execution_count": 9,
     "metadata": {},
     "output_type": "execute_result"
    }
   ],
   "source": [
    "#인덱스 이름 확인\n",
    "df.index"
   ]
  },
  {
   "cell_type": "code",
   "execution_count": 10,
   "id": "ef23c37b-3bd5-47f9-ac44-5f104288b0f4",
   "metadata": {},
   "outputs": [
    {
     "data": {
      "text/plain": [
       "['철수', '영희', '민수', '수현', '호영']"
      ]
     },
     "execution_count": 10,
     "metadata": {},
     "output_type": "execute_result"
    }
   ],
   "source": [
    "#인덱스 이름을 리스트로 변환\n",
    "i_list = list(df.index)\n",
    "i_list"
   ]
  },
  {
   "cell_type": "code",
   "execution_count": 12,
   "id": "a2d896b0-e3ac-414c-b628-8f81a143bc32",
   "metadata": {},
   "outputs": [
    {
     "data": {
      "text/plain": [
       "Index(['학년', '성별', '국어', '영어', '수학', '과학'], dtype='object')"
      ]
     },
     "execution_count": 12,
     "metadata": {},
     "output_type": "execute_result"
    }
   ],
   "source": [
    "#컬럼 이름 확인\n",
    "df.columns"
   ]
  },
  {
   "cell_type": "code",
   "execution_count": 20,
   "id": "2bfe40e4-457e-4a22-8d1c-3e4d83964799",
   "metadata": {},
   "outputs": [
    {
     "data": {
      "text/plain": [
       "['학년', '성별', '국어', '영어', '수학', '과학']"
      ]
     },
     "execution_count": 20,
     "metadata": {},
     "output_type": "execute_result"
    }
   ],
   "source": [
    "#컬럼 이름을 리스트로 변환\n",
    "c_list = list(df.columns)\n",
    "c_list"
   ]
  },
  {
   "cell_type": "code",
   "execution_count": 21,
   "id": "69c637c1-9c3f-45ca-af7a-7ac7318a7933",
   "metadata": {},
   "outputs": [
    {
     "name": "stdout",
     "output_type": "stream",
     "text": [
      "<class 'numpy.ndarray'>\n"
     ]
    },
    {
     "data": {
      "text/plain": [
       "array([[1, '남자', 99, nan, 88.0, 64.0],\n",
       "       [2, '여자', 88, 90.0, 62.0, 72.0],\n",
       "       [1, '남자', 92, 70.0, nan, nan],\n",
       "       [3, '여자', 63, 60.0, 31.0, 70.0],\n",
       "       [4, '남자', 120, 50.0, nan, 88.0]], dtype=object)"
      ]
     },
     "execution_count": 21,
     "metadata": {},
     "output_type": "execute_result"
    }
   ],
   "source": [
    "#데이터의 값들만 확인\n",
    "print(type(df.values))\n",
    "df.values"
   ]
  },
  {
   "cell_type": "code",
   "execution_count": 13,
   "id": "eae6b260-6c18-4a27-9520-95067857fb1a",
   "metadata": {},
   "outputs": [
    {
     "name": "stdout",
     "output_type": "stream",
     "text": [
      "<class 'pandas.core.series.Series'>\n"
     ]
    },
    {
     "data": {
      "text/plain": [
       "학년       1\n",
       "성별      남자\n",
       "국어      98\n",
       "영어     NaN\n",
       "수학    88.0\n",
       "과학    64.0\n",
       "Name: 철수, dtype: object"
      ]
     },
     "execution_count": 13,
     "metadata": {},
     "output_type": "execute_result"
    }
   ],
   "source": [
    "#행 단위로 접근하기\n",
    "cs = df.loc['철수']\n",
    "print(type(cs))\n",
    "cs"
   ]
  },
  {
   "cell_type": "code",
   "execution_count": 22,
   "id": "111a94ac-5c0f-4220-8d72-e02420e804c8",
   "metadata": {},
   "outputs": [
    {
     "data": {
      "text/html": [
       "<div>\n",
       "<style scoped>\n",
       "    .dataframe tbody tr th:only-of-type {\n",
       "        vertical-align: middle;\n",
       "    }\n",
       "\n",
       "    .dataframe tbody tr th {\n",
       "        vertical-align: top;\n",
       "    }\n",
       "\n",
       "    .dataframe thead th {\n",
       "        text-align: right;\n",
       "    }\n",
       "</style>\n",
       "<table border=\"1\" class=\"dataframe\">\n",
       "  <thead>\n",
       "    <tr style=\"text-align: right;\">\n",
       "      <th>이름</th>\n",
       "      <th>철수</th>\n",
       "      <th>영희</th>\n",
       "      <th>민수</th>\n",
       "      <th>수현</th>\n",
       "      <th>호영</th>\n",
       "    </tr>\n",
       "  </thead>\n",
       "  <tbody>\n",
       "    <tr>\n",
       "      <th>학년</th>\n",
       "      <td>1</td>\n",
       "      <td>2</td>\n",
       "      <td>1</td>\n",
       "      <td>3</td>\n",
       "      <td>4</td>\n",
       "    </tr>\n",
       "    <tr>\n",
       "      <th>성별</th>\n",
       "      <td>남자</td>\n",
       "      <td>여자</td>\n",
       "      <td>남자</td>\n",
       "      <td>여자</td>\n",
       "      <td>남자</td>\n",
       "    </tr>\n",
       "    <tr>\n",
       "      <th>국어</th>\n",
       "      <td>99</td>\n",
       "      <td>88</td>\n",
       "      <td>92</td>\n",
       "      <td>63</td>\n",
       "      <td>120</td>\n",
       "    </tr>\n",
       "    <tr>\n",
       "      <th>영어</th>\n",
       "      <td>NaN</td>\n",
       "      <td>90.0</td>\n",
       "      <td>70.0</td>\n",
       "      <td>60.0</td>\n",
       "      <td>50.0</td>\n",
       "    </tr>\n",
       "    <tr>\n",
       "      <th>수학</th>\n",
       "      <td>88.0</td>\n",
       "      <td>62.0</td>\n",
       "      <td>NaN</td>\n",
       "      <td>31.0</td>\n",
       "      <td>NaN</td>\n",
       "    </tr>\n",
       "    <tr>\n",
       "      <th>과학</th>\n",
       "      <td>64.0</td>\n",
       "      <td>72.0</td>\n",
       "      <td>NaN</td>\n",
       "      <td>70.0</td>\n",
       "      <td>88.0</td>\n",
       "    </tr>\n",
       "  </tbody>\n",
       "</table>\n",
       "</div>"
      ],
      "text/plain": [
       "이름    철수    영희    민수    수현    호영\n",
       "학년     1     2     1     3     4\n",
       "성별    남자    여자    남자    여자    남자\n",
       "국어    99    88    92    63   120\n",
       "영어   NaN  90.0  70.0  60.0  50.0\n",
       "수학  88.0  62.0   NaN  31.0   NaN\n",
       "과학  64.0  72.0   NaN  70.0  88.0"
      ]
     },
     "execution_count": 22,
     "metadata": {},
     "output_type": "execute_result"
    }
   ],
   "source": [
    "#전치 구하기(행, 열 위치 교체)\n",
    "#데이터 프레임 객체의 T 속성을 통해 전치 형태의 데이터 프레임을 확인할 수 있다.\n",
    "df_t = df.T\n",
    "df_t"
   ]
  },
  {
   "cell_type": "code",
   "execution_count": 24,
   "id": "20fd43b4-a55f-4282-9d30-c497d6e0389f",
   "metadata": {},
   "outputs": [
    {
     "data": {
      "text/plain": [
       "학년      int64\n",
       "성별     object\n",
       "국어      int64\n",
       "영어    float64\n",
       "수학    float64\n",
       "과학    float64\n",
       "dtype: object"
      ]
     },
     "execution_count": 24,
     "metadata": {},
     "output_type": "execute_result"
    }
   ],
   "source": [
    "#열단위로  접근\n",
    "df.dtypes"
   ]
  },
  {
   "cell_type": "code",
   "execution_count": 26,
   "id": "06746106-6103-407b-9e85-d8519a33e852",
   "metadata": {},
   "outputs": [
    {
     "name": "stdout",
     "output_type": "stream",
     "text": [
      "<class 'pandas.core.series.Series'>\n"
     ]
    },
    {
     "data": {
      "text/plain": [
       "이름\n",
       "철수     99\n",
       "영희     88\n",
       "민수     92\n",
       "수현     63\n",
       "호영    120\n",
       "Name: 국어, dtype: int64"
      ]
     },
     "execution_count": 26,
     "metadata": {},
     "output_type": "execute_result"
    }
   ],
   "source": [
    "print(type(df['국어']))\n",
    "df['국어']"
   ]
  },
  {
   "cell_type": "code",
   "execution_count": 14,
   "id": "72b3cab0-c2e2-4d17-bd8e-d969e757c0f8",
   "metadata": {},
   "outputs": [
    {
     "name": "stdout",
     "output_type": "stream",
     "text": [
      "<class 'numpy.ndarray'>\n"
     ]
    },
    {
     "data": {
      "text/plain": [
       "array([1, '남자', 98, nan, 88.0, 64.0], dtype=object)"
      ]
     },
     "execution_count": 14,
     "metadata": {},
     "output_type": "execute_result"
    }
   ],
   "source": [
    "# 특정 열 값들을 numpy 배열로 변환\n",
    "arr = df.loc['철수'].values\n",
    "print(type(arr))\n",
    "arr"
   ]
  },
  {
   "cell_type": "code",
   "execution_count": 15,
   "id": "d0aa9929-a813-4e31-ab6b-91c63281fa99",
   "metadata": {},
   "outputs": [
    {
     "name": "stdout",
     "output_type": "stream",
     "text": [
      "<class 'list'>\n"
     ]
    },
    {
     "data": {
      "text/plain": [
       "[1, '남자', 98, nan, 88.0, 64.0]"
      ]
     },
     "execution_count": 15,
     "metadata": {},
     "output_type": "execute_result"
    }
   ],
   "source": [
    "#numpy 배열과 파이썬의 리스트 타입은 서로 호환되므로 컬럼자체를 list()로 리스트 타입으로 변환하는 것도 가능\n",
    "ls = list(df.loc['철수'])\n",
    "print(type(ls))\n",
    "ls"
   ]
  },
  {
   "cell_type": "code",
   "execution_count": 16,
   "id": "c79d6809-3506-4960-8178-fb492bf0e8aa",
   "metadata": {},
   "outputs": [
    {
     "data": {
      "text/plain": [
       "98"
      ]
     },
     "execution_count": 16,
     "metadata": {},
     "output_type": "execute_result"
    }
   ],
   "source": [
    "#특정 위치값에 직접 접근\n",
    "#열>행 순으로\n",
    "df['국어']['철수']"
   ]
  },
  {
   "cell_type": "code",
   "execution_count": 17,
   "id": "f4a52773-3417-41ad-90f4-77a9209c579f",
   "metadata": {},
   "outputs": [
    {
     "data": {
      "text/plain": [
       "98"
      ]
     },
     "execution_count": 17,
     "metadata": {},
     "output_type": "execute_result"
    }
   ],
   "source": [
    "#loc 붙이면 행>열 순으로 가능\n",
    "df.loc['철수', '국어']"
   ]
  },
  {
   "cell_type": "code",
   "execution_count": null,
   "id": "dd6e3a36-1467-4aa0-8127-9224cf611bad",
   "metadata": {},
   "outputs": [],
   "source": [
    "#파이썬만 열부터 접근\n",
    "#행이 많으면 기계능력이 중요\n",
    "#열이 많으면 사람능력이 중요(데이터분석가)"
   ]
  },
  {
   "cell_type": "code",
   "execution_count": 18,
   "id": "da74284b-8661-47fe-9c70-c800a65a72aa",
   "metadata": {},
   "outputs": [
    {
     "data": {
      "text/html": [
       "<div>\n",
       "<style scoped>\n",
       "    .dataframe tbody tr th:only-of-type {\n",
       "        vertical-align: middle;\n",
       "    }\n",
       "\n",
       "    .dataframe tbody tr th {\n",
       "        vertical-align: top;\n",
       "    }\n",
       "\n",
       "    .dataframe thead th {\n",
       "        text-align: right;\n",
       "    }\n",
       "</style>\n",
       "<table border=\"1\" class=\"dataframe\">\n",
       "  <thead>\n",
       "    <tr style=\"text-align: right;\">\n",
       "      <th></th>\n",
       "      <th>학년</th>\n",
       "      <th>성별</th>\n",
       "      <th>국어</th>\n",
       "      <th>영어</th>\n",
       "      <th>수학</th>\n",
       "      <th>과학</th>\n",
       "    </tr>\n",
       "    <tr>\n",
       "      <th>이름</th>\n",
       "      <th></th>\n",
       "      <th></th>\n",
       "      <th></th>\n",
       "      <th></th>\n",
       "      <th></th>\n",
       "      <th></th>\n",
       "    </tr>\n",
       "  </thead>\n",
       "  <tbody>\n",
       "    <tr>\n",
       "      <th>철수</th>\n",
       "      <td>1</td>\n",
       "      <td>남자</td>\n",
       "      <td>99</td>\n",
       "      <td>NaN</td>\n",
       "      <td>88.0</td>\n",
       "      <td>64.0</td>\n",
       "    </tr>\n",
       "    <tr>\n",
       "      <th>영희</th>\n",
       "      <td>2</td>\n",
       "      <td>여자</td>\n",
       "      <td>88</td>\n",
       "      <td>90.0</td>\n",
       "      <td>62.0</td>\n",
       "      <td>72.0</td>\n",
       "    </tr>\n",
       "    <tr>\n",
       "      <th>민수</th>\n",
       "      <td>1</td>\n",
       "      <td>남자</td>\n",
       "      <td>92</td>\n",
       "      <td>70.0</td>\n",
       "      <td>NaN</td>\n",
       "      <td>NaN</td>\n",
       "    </tr>\n",
       "    <tr>\n",
       "      <th>수현</th>\n",
       "      <td>3</td>\n",
       "      <td>여자</td>\n",
       "      <td>63</td>\n",
       "      <td>60.0</td>\n",
       "      <td>31.0</td>\n",
       "      <td>70.0</td>\n",
       "    </tr>\n",
       "    <tr>\n",
       "      <th>호영</th>\n",
       "      <td>4</td>\n",
       "      <td>남자</td>\n",
       "      <td>120</td>\n",
       "      <td>50.0</td>\n",
       "      <td>NaN</td>\n",
       "      <td>88.0</td>\n",
       "    </tr>\n",
       "  </tbody>\n",
       "</table>\n",
       "</div>"
      ],
      "text/plain": [
       "    학년  성별   국어    영어    수학    과학\n",
       "이름                               \n",
       "철수   1  남자   99   NaN  88.0  64.0\n",
       "영희   2  여자   88  90.0  62.0  72.0\n",
       "민수   1  남자   92  70.0   NaN   NaN\n",
       "수현   3  여자   63  60.0  31.0  70.0\n",
       "호영   4  남자  120  50.0   NaN  88.0"
      ]
     },
     "execution_count": 18,
     "metadata": {},
     "output_type": "execute_result"
    }
   ],
   "source": [
    "#특정 값 변경하기 > loc, 즉 행우선으로만 가능\n",
    "df.loc['철수','국어'] = 99\n",
    "df"
   ]
  },
  {
   "cell_type": "code",
   "execution_count": null,
   "id": "08199866-e653-4967-a26a-1c444cba1919",
   "metadata": {},
   "outputs": [],
   "source": []
  }
 ],
 "metadata": {
  "kernelspec": {
   "display_name": "Python 3 (ipykernel)",
   "language": "python",
   "name": "python3"
  },
  "language_info": {
   "codemirror_mode": {
    "name": "ipython",
    "version": 3
   },
   "file_extension": ".py",
   "mimetype": "text/x-python",
   "name": "python",
   "nbconvert_exporter": "python",
   "pygments_lexer": "ipython3",
   "version": "3.9.7"
  }
 },
 "nbformat": 4,
 "nbformat_minor": 5
}
