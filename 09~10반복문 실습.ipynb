{
 "cells": [
  {
   "cell_type": "markdown",
   "id": "8d8d7ade-5b4e-4111-94ee-6b9574d82635",
   "metadata": {},
   "source": [
    "## while문"
   ]
  },
  {
   "cell_type": "code",
   "execution_count": 1,
   "id": "c10517be-f3f3-44b0-a5bf-6336f5fefcb8",
   "metadata": {},
   "outputs": [
    {
     "name": "stdout",
     "output_type": "stream",
     "text": [
      "x=2\n",
      "x=3\n",
      "x=4\n",
      "x=5\n",
      "x=6\n",
      "x=7\n",
      "x=8\n",
      "x=9\n",
      "x=10\n",
      "x=11\n"
     ]
    }
   ],
   "source": [
    "x = 1\n",
    "while x<=10:\n",
    "    x += 1 #1부터 더하고\n",
    "    print(\"x=%d\" % x) #프린트하므로 2부터 출력"
   ]
  },
  {
   "cell_type": "code",
   "execution_count": 6,
   "id": "e03e99b7-7501-4724-a549-7186e732c27b",
   "metadata": {},
   "outputs": [
    {
     "name": "stdout",
     "output_type": "stream",
     "text": [
      "7 X 1 = 7\n",
      "7 X 2 = 14\n",
      "7 X 3 = 21\n",
      "7 X 4 = 28\n",
      "7 X 5 = 35\n",
      "7 X 6 = 42\n",
      "7 X 7 = 49\n",
      "7 X 8 = 56\n",
      "7 X 9 = 63\n"
     ]
    }
   ],
   "source": [
    "y = 1\n",
    "while y < 10:\n",
    "    print(\"7 X %d = %d\" % (y, 7*y))\n",
    "    y += 1"
   ]
  },
  {
   "cell_type": "code",
   "execution_count": 2,
   "id": "46f43a92-ab4f-4d78-bb2a-5e18071cae2d",
   "metadata": {},
   "outputs": [
    {
     "name": "stdout",
     "output_type": "stream",
     "text": [
      "1\n",
      "3\n",
      "6\n",
      "10\n",
      "15\n",
      "21\n",
      "28\n",
      "36\n",
      "45\n",
      "55\n"
     ]
    }
   ],
   "source": [
    "#1~10까지 총합\n",
    "x = 1\n",
    "sum = 0 #합을 저장할 변수\n",
    "while x < 11:\n",
    "    sum += x\n",
    "    print(sum)\n",
    "    x += 1"
   ]
  },
  {
   "cell_type": "code",
   "execution_count": 5,
   "id": "f76abb3a-3851-47c3-a14d-bbb5e4e4676c",
   "metadata": {},
   "outputs": [
    {
     "name": "stdout",
     "output_type": "stream",
     "text": [
      "a = 0\n",
      "a = 20\n",
      "a = 40\n",
      "a = 60\n",
      "a = 80\n"
     ]
    }
   ],
   "source": [
    "#0부터 99까지 증가\n",
    "a = 0\n",
    "while a < 100:\n",
    "    print(\"a = %d\" % a)\n",
    "    a += 20"
   ]
  },
  {
   "cell_type": "code",
   "execution_count": 2,
   "id": "5e40539d-b54e-4caa-a3a5-e6bfc1946f1d",
   "metadata": {},
   "outputs": [
    {
     "name": "stdout",
     "output_type": "stream",
     "text": [
      "b = 10\n",
      "b = 8\n",
      "b = 6\n",
      "b = 4\n",
      "b = 2\n",
      "b = 0\n"
     ]
    }
   ],
   "source": [
    "#10부터 0까지 2씩 감소\n",
    "b = 10\n",
    "while b > -1:\n",
    "    print(\"b = %d\" % b)\n",
    "    b -= 2"
   ]
  },
  {
   "cell_type": "code",
   "execution_count": 3,
   "id": "15b6175f-54c4-4d75-a005-16a944669011",
   "metadata": {},
   "outputs": [
    {
     "name": "stdout",
     "output_type": "stream",
     "text": [
      "[100, 200, 300, 400, 500]\n"
     ]
    }
   ],
   "source": [
    "mylist = [10, 20, 30, 40, 50]\n",
    "size = len(mylist)\n",
    "i = 0\n",
    "\n",
    "while i < size:\n",
    "    mylist[i] *= 10\n",
    "    i +=1\n",
    "print(mylist)"
   ]
  },
  {
   "cell_type": "markdown",
   "id": "9f2cf7a5-dc6c-4aa3-83b3-f39ed278ac16",
   "metadata": {},
   "source": [
    "## For 문"
   ]
  },
  {
   "cell_type": "code",
   "execution_count": 7,
   "id": "c575ce94-2971-4cc9-a217-26bdc77c925a",
   "metadata": {},
   "outputs": [
    {
     "name": "stdout",
     "output_type": "stream",
     "text": [
      "x = 1\n",
      "x = 2\n",
      "x = 3\n",
      "x = 4\n",
      "x = 5\n",
      "x = 6\n",
      "x = 7\n",
      "x = 8\n",
      "x = 9\n",
      "x = 10\n"
     ]
    }
   ],
   "source": [
    "for x in range(1, 11):\n",
    "    print(\"x = %d\" % x) #while과 결과 동일"
   ]
  },
  {
   "cell_type": "code",
   "execution_count": 10,
   "id": "f208d427-e261-4ab2-b9c6-3e33da11eaf9",
   "metadata": {},
   "outputs": [
    {
     "name": "stdout",
     "output_type": "stream",
     "text": [
      "7 X 1 = 7\n",
      "7 X 2 = 14\n",
      "7 X 3 = 21\n",
      "7 X 4 = 28\n",
      "7 X 5 = 35\n",
      "7 X 6 = 42\n",
      "7 X 7 = 49\n",
      "7 X 8 = 56\n",
      "7 X 9 = 63\n"
     ]
    }
   ],
   "source": [
    "for y in range(1, 10): #1에서 10'전'까지 1씩 증가\n",
    "    z = 7*y\n",
    "    print(\"7 X %d = %d\" % (y, z))"
   ]
  },
  {
   "cell_type": "code",
   "execution_count": 11,
   "id": "6a4d1a22-7a0e-4c9f-a4ad-83d7dcef0ac2",
   "metadata": {},
   "outputs": [
    {
     "name": "stdout",
     "output_type": "stream",
     "text": [
      "x = 1, sum = 1\n",
      "x = 2, sum = 3\n",
      "x = 3, sum = 6\n",
      "x = 4, sum = 10\n",
      "x = 5, sum = 15\n",
      "x = 6, sum = 21\n",
      "x = 7, sum = 28\n",
      "x = 8, sum = 36\n",
      "x = 9, sum = 45\n",
      "x = 10, sum = 55\n"
     ]
    }
   ],
   "source": [
    "sum = 0\n",
    "for x in range(1,11):\n",
    "    sum += x\n",
    "    print(\"x = %d, sum = %d\" % (x, sum))"
   ]
  },
  {
   "cell_type": "code",
   "execution_count": 13,
   "id": "08102a51-8ec8-4889-bf3c-6e60ffd55adc",
   "metadata": {},
   "outputs": [
    {
     "name": "stdout",
     "output_type": "stream",
     "text": [
      "i = 0\n",
      "i = 10\n",
      "i = 20\n",
      "i = 30\n",
      "i = 40\n",
      "i = 50\n",
      "i = 60\n",
      "i = 70\n",
      "i = 80\n",
      "i = 90\n"
     ]
    }
   ],
   "source": [
    "#0부터 100 전까지 10씩 증가\n",
    "for i in range(0,100,10):\n",
    "    print(\"i = %d\" % i)"
   ]
  },
  {
   "cell_type": "code",
   "execution_count": 14,
   "id": "d092bdd4-1448-47ab-8163-154f57141cc4",
   "metadata": {},
   "outputs": [
    {
     "name": "stdout",
     "output_type": "stream",
     "text": [
      "i = 10\n",
      "i = 8\n",
      "i = 6\n",
      "i = 4\n",
      "i = 2\n",
      "i = 0\n"
     ]
    }
   ],
   "source": [
    "#10부터 0까지 2씩 감소\n",
    "for i in range(10,-1,-2):\n",
    "    print(\"i = %d\" % i)"
   ]
  },
  {
   "cell_type": "markdown",
   "id": "72c51598-1320-48e2-923a-6914f9d466c9",
   "metadata": {},
   "source": [
    "## 인덱스 번호를 기반으로 for를 이용해 원소들에 접근"
   ]
  },
  {
   "cell_type": "code",
   "execution_count": null,
   "id": "da27e4fe-a447-41f8-9fb3-a8f4aafc6fe6",
   "metadata": {},
   "outputs": [],
   "source": [
    "#for i in range(0, len(리스트)): 인덱스가 0부터 길이-1 임을 이용\n",
    "    #print(리스트[i])\n",
    "#for i in 리스트:\n",
    "    #print(i)"
   ]
  },
  {
   "cell_type": "code",
   "execution_count": 16,
   "id": "04962f26-98e6-4673-ac6c-db7168fe07d5",
   "metadata": {},
   "outputs": [
    {
     "name": "stdout",
     "output_type": "stream",
     "text": [
      "P\n",
      "y\n",
      "t\n",
      "h\n",
      "o\n",
      "n\n"
     ]
    }
   ],
   "source": [
    "test_str = 'Python'\n",
    "for i in range(0, len(test_str)):\n",
    "    print(test_str[i])"
   ]
  },
  {
   "cell_type": "code",
   "execution_count": 17,
   "id": "d170411c-d662-4085-925c-9fb47cd97977",
   "metadata": {},
   "outputs": [
    {
     "name": "stdout",
     "output_type": "stream",
     "text": [
      "P\n",
      "y\n",
      "t\n",
      "h\n",
      "o\n",
      "n\n"
     ]
    }
   ],
   "source": [
    "test_str = 'Python'\n",
    "for i in test_str:\n",
    "    print(i) #위와 결과 같음"
   ]
  },
  {
   "cell_type": "code",
   "execution_count": 19,
   "id": "3bc2307e-ebcb-41ea-9581-88cc6f12cb57",
   "metadata": {},
   "outputs": [
    {
     "name": "stdout",
     "output_type": "stream",
     "text": [
      "python\n",
      "is\n",
      "good\n"
     ]
    }
   ],
   "source": [
    "test_list = ['python', 'is', 'good']\n",
    "for i in test_list:\n",
    "    print(i)"
   ]
  },
  {
   "cell_type": "code",
   "execution_count": 21,
   "id": "9163309e-447b-4535-9f29-ef696245a9fb",
   "metadata": {},
   "outputs": [
    {
     "name": "stdout",
     "output_type": "stream",
     "text": [
      "0번째 원소 = python\n",
      "1번째 원소 = is\n",
      "2번째 원소 = good\n"
     ]
    }
   ],
   "source": [
    "test_list = ['python', 'is', 'good']\n",
    "count = 0\n",
    "for i in test_list:\n",
    "    print(\"%d번째 원소 = %s\" % (count, i))\n",
    "    count += 1"
   ]
  },
  {
   "cell_type": "code",
   "execution_count": 22,
   "id": "8bfec7ec-6c26-4aaf-9387-9cbab084b86e",
   "metadata": {},
   "outputs": [
    {
     "name": "stdout",
     "output_type": "stream",
     "text": [
      "3\n"
     ]
    }
   ],
   "source": [
    "size = len(test_list)\n",
    "print(size)"
   ]
  },
  {
   "cell_type": "code",
   "execution_count": 26,
   "id": "9b566273-46bf-4fb4-95e6-ee950b7451cd",
   "metadata": {},
   "outputs": [
    {
     "name": "stdout",
     "output_type": "stream",
     "text": [
      "0번째 원소 = python\n",
      "1번째 원소 = is\n",
      "2번째 원소 = good\n"
     ]
    }
   ],
   "source": [
    "test_list = ['python', 'is', 'good']\n",
    "size = len(test_list)\n",
    "for i in range(0, size):\n",
    "    print(\"%d번째 원소 = %s\" % (i, test_list[i]))"
   ]
  },
  {
   "cell_type": "code",
   "execution_count": 2,
   "id": "363c6026-2639-4f4c-8f38-5de917045953",
   "metadata": {},
   "outputs": [
    {
     "name": "stdout",
     "output_type": "stream",
     "text": [
      "0번째 값 >> python\n",
      "1번째 값 >> is\n",
      "2번째 값 >> good\n"
     ]
    }
   ],
   "source": [
    "test_list = ['python', 'is', 'good']\n",
    "for i, value in enumerate(test_list): #enumerate 함수는 리스트가 있는 경우 순서와 리스트의 값을 전달하는 기능을 가집니다.\n",
    "                                      #enumerate는 “열거하다”라는 뜻입니다.\n",
    "                                      #이 함수는 순서가 있는 자료형(list, set, tuple, dictionary, string)을 \n",
    "                                      #입력으로 받아 인덱스 값을 포함하는 enumerate 객체를 리턴합니다.\n",
    "                                      #보통 enumerate 함수는 for문과 함께 자주 사용됩니다\n",
    "    print(\"%d번째 값 >> %s\" % (i, value)) #순서 0,1,2 와 리스트값을 리턴"
   ]
  },
  {
   "cell_type": "code",
   "execution_count": 29,
   "id": "fa3fdacf-0004-47a8-9d5b-6962209ef624",
   "metadata": {},
   "outputs": [
    {
     "name": "stdout",
     "output_type": "stream",
     "text": [
      "총점 407, 평균 81\n"
     ]
    }
   ],
   "source": [
    "#총점과 평균 구하기\n",
    "point_list = [100,82,98,76,51]\n",
    "total = 0\n",
    "for point in point_list:\n",
    "    total += point\n",
    "avg = total // len(point_list)\n",
    "tpl = \"총점 {0}, 평균 {1}\"\n",
    "print(tpl.format(total, avg))"
   ]
  },
  {
   "cell_type": "code",
   "execution_count": 5,
   "id": "cea60b43-f31a-40b8-af45-05d947818ba2",
   "metadata": {},
   "outputs": [
    {
     "name": "stdout",
     "output_type": "stream",
     "text": [
      "407\n",
      "총점은 407점, 평균은 81점입니다.\n"
     ]
    }
   ],
   "source": [
    "point_list = [100,82,98,76,51] #총점과 평균\n",
    "total = 0\n",
    "for i in point_list:\n",
    "    total += i\n",
    "print(total)\n",
    "avg_p = total // len(point_list)\n",
    "tpl = \"총점은 {0}점, 평균은 {1}점입니다.\"\n",
    "print(tpl.format(total,avg_p))\n",
    "    "
   ]
  }
 ],
 "metadata": {
  "kernelspec": {
   "display_name": "Python 3 (ipykernel)",
   "language": "python",
   "name": "python3"
  },
  "language_info": {
   "codemirror_mode": {
    "name": "ipython",
    "version": 3
   },
   "file_extension": ".py",
   "mimetype": "text/x-python",
   "name": "python",
   "nbconvert_exporter": "python",
   "pygments_lexer": "ipython3",
   "version": "3.9.7"
  }
 },
 "nbformat": 4,
 "nbformat_minor": 5
}
