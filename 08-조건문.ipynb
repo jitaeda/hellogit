{
 "cells": [
  {
   "cell_type": "markdown",
   "metadata": {},
   "source": [
    "# 조건문\n",
    "\n",
    "## 조건문 이해하기"
   ]
  },
  {
   "cell_type": "code",
   "execution_count": 1,
   "metadata": {},
   "outputs": [
    {
     "name": "stdout",
     "output_type": "stream",
     "text": [
      "배고픈데\n",
      "식당에서\n",
      "밥을 먹자\n"
     ]
    }
   ],
   "source": [
    "# 일반 구문\n",
    "print(\"배고픈데\")\n",
    "\n",
    "# 조건문 --> if 조건식:\n",
    "have_money = True\n",
    "#have_money = False\n",
    "\n",
    "if have_money:\n",
    "    # 조건문에 속한 명령어는 반드시 들여쓰기 적용해야 함\n",
    "    # -> tab키 혹은 space x 1개 이상\n",
    "    # -> tab키와 space를 혼용해서 사용할 수 없다.\n",
    "    print(\"식당에서\")\n",
    "\n",
    "# 일반 구문\n",
    "print(\"밥을 먹자\")"
   ]
  },
  {
   "cell_type": "markdown",
   "metadata": {},
   "source": [
    "## 숫자형 변수에 대한 조건 처리"
   ]
  },
  {
   "cell_type": "code",
   "execution_count": 1,
   "metadata": {},
   "outputs": [
    {
     "name": "stdout",
     "output_type": "stream",
     "text": [
      "택시를 타고\n",
      "집에가자\n"
     ]
    }
   ],
   "source": [
    "money = 10000\n",
    "# money = 0\n",
    "\n",
    "if money:\n",
    "    print(\"택시를 타고\")\n",
    "\n",
    "print(\"집에가자\")"
   ]
  },
  {
   "cell_type": "markdown",
   "metadata": {},
   "source": [
    "## 문자열 변수에 대한 조건처리"
   ]
  },
  {
   "cell_type": "code",
   "execution_count": 3,
   "metadata": {},
   "outputs": [
    {
     "name": "stdout",
     "output_type": "stream",
     "text": [
      "Python\n",
      "프로그래밍\n"
     ]
    }
   ],
   "source": [
    "name = \"Python\"\n",
    "#name = \"\"\n",
    "\n",
    "if name:\n",
    "    print(name)\n",
    "\n",
    "print(\"프로그래밍\")"
   ]
  },
  {
   "cell_type": "markdown",
   "metadata": {},
   "source": [
    "## 리스트에 대한 조건 처리"
   ]
  },
  {
   "cell_type": "code",
   "execution_count": 4,
   "metadata": {},
   "outputs": [
    {
     "name": "stdout",
     "output_type": "stream",
     "text": [
      "국어: 100, 영어: 80, 수학: 70\n",
      "성적처리\n"
     ]
    }
   ],
   "source": [
    "grade = [100, 80, 70]\n",
    "#grade = []\n",
    "\n",
    "if grade:\n",
    "    msg = \"국어: {0}, 영어: {1}, 수학: {2}\"\n",
    "    print(msg.format(grade[0], grade[1], grade[2]))\n",
    "\n",
    "print(\"성적처리\")"
   ]
  },
  {
   "cell_type": "markdown",
   "metadata": {},
   "source": [
    "## 비교식과 논리식을 활용한 if문"
   ]
  },
  {
   "cell_type": "code",
   "execution_count": 6,
   "metadata": {},
   "outputs": [],
   "source": [
    "# 조건으로 사용할 변수\n",
    "money = 12000"
   ]
  },
  {
   "cell_type": "code",
   "execution_count": 7,
   "metadata": {},
   "outputs": [
    {
     "name": "stdout",
     "output_type": "stream",
     "text": [
      "돈이 있다.\n"
     ]
    }
   ],
   "source": [
    "# -> money가 0이 아닌 경우\n",
    "if money:\n",
    "    print(\"돈이 있다.\")"
   ]
  },
  {
   "cell_type": "code",
   "execution_count": 10,
   "metadata": {},
   "outputs": [
    {
     "name": "stdout",
     "output_type": "stream",
     "text": [
      "선물을 사고 7000원 남는다.\n"
     ]
    }
   ],
   "source": [
    "# money가 5000 이상인 경우\n",
    "if money >= 5000:\n",
    "    print(\"선물을 사고 %d원 남는다.\" % (money-5000))"
   ]
  },
  {
   "cell_type": "code",
   "execution_count": 11,
   "metadata": {},
   "outputs": [
    {
     "name": "stdout",
     "output_type": "stream",
     "text": [
      "돈이 있지만 3000원 부족하다.\n"
     ]
    }
   ],
   "source": [
    "# money가 0이 아니고 15000 보다 작은 경우\n",
    "# -> and 연산은 두 항이 모두 참인 경우만 전체가 참.\n",
    "# -> or 연산은 두 항중 하나라도 참이면 전체가 참.\n",
    "if money and money < 15000:\n",
    "    print(\"돈이 있지만 %d원 부족하다.\" % (15000-money))"
   ]
  },
  {
   "cell_type": "markdown",
   "metadata": {},
   "source": [
    "## `is`를 활용한 조건 지정"
   ]
  },
  {
   "cell_type": "code",
   "execution_count": 12,
   "metadata": {},
   "outputs": [
    {
     "name": "stdout",
     "output_type": "stream",
     "text": [
      "a와 b는 같다\n"
     ]
    }
   ],
   "source": [
    "a = 123\n",
    "b = 123\n",
    "c = 234\n",
    "\n",
    "if a is b:\n",
    "    print(\"a와 b는 같다\")\n",
    "\n",
    "if b is c:\n",
    "    print(\"b와 c는 같다\")"
   ]
  },
  {
   "cell_type": "markdown",
   "metadata": {},
   "source": [
    "## `==`와 `is`의 차이\n",
    "\n",
    "`==`은 값만 비교하므로  실수형 `1.0`과 정수형 `1`을 같다고 판별한다.\n",
    "\n",
    "`is`는 변수의 타입까지 비교하므로 실수형과 정수형은 다르다고 판별한다."
   ]
  },
  {
   "cell_type": "code",
   "execution_count": 14,
   "metadata": {},
   "outputs": [
    {
     "name": "stdout",
     "output_type": "stream",
     "text": [
      "x와 z는 같다\n"
     ]
    }
   ],
   "source": [
    "x = 1\n",
    "y = 1\n",
    "z = 1.0\n",
    "\n",
    "# 조건을 참으로 인식함\n",
    "if x == z:\n",
    "    print(\"x와 z는 같다\")\n",
    "\n",
    "# 조건을 거짓으로 인식함\n",
    "if y is z:\n",
    "    print(\"y와 z는 같다\")"
   ]
  },
  {
   "cell_type": "markdown",
   "metadata": {},
   "source": [
    "## `is not`"
   ]
  },
  {
   "cell_type": "code",
   "execution_count": 15,
   "metadata": {},
   "outputs": [
    {
     "name": "stdout",
     "output_type": "stream",
     "text": [
      "a와 b는 다르다\n",
      "b와 c는 다르다\n"
     ]
    }
   ],
   "source": [
    "# 두 값이 서로 다르다면 참인 is not\n",
    "a = 123.0\n",
    "b = 123\n",
    "c = 234\n",
    "\n",
    "if a is not b:\n",
    "    print(\"a와 b는 다르다\")\n",
    "\n",
    "if b is not c:\n",
    "    print(\"b와 c는 다르다\")"
   ]
  },
  {
   "cell_type": "markdown",
   "metadata": {},
   "source": [
    "## 포함 여부를 검사하는 in 연산자.\n",
    "\n",
    "in은 왼쪽의 값이 오른쪽 대상에 포함되어 있다면 참."
   ]
  },
  {
   "cell_type": "code",
   "execution_count": 16,
   "metadata": {},
   "outputs": [],
   "source": [
    "# 예제를 위한 변수 준비\n",
    "user1 = \"hello\"\n",
    "user2 = \"world\"\n",
    "member_list = ['hello', 'python', 'life']"
   ]
  },
  {
   "cell_type": "code",
   "execution_count": 17,
   "metadata": {},
   "outputs": [
    {
     "name": "stdout",
     "output_type": "stream",
     "text": [
      "True\n"
     ]
    }
   ],
   "source": [
    "# 왼쪽의 변수가 오른쪽의 리스트에 속한 값이므로 참\n",
    "a = user1 in member_list\n",
    "print(a)"
   ]
  },
  {
   "cell_type": "code",
   "execution_count": 18,
   "metadata": {},
   "outputs": [
    {
     "name": "stdout",
     "output_type": "stream",
     "text": [
      "False\n"
     ]
    }
   ],
   "source": [
    "# 왼쪽의 변수가 오른쪽의 리스트에 속해 있지 않으므로 거짓\n",
    "b = user2 in member_list\n",
    "print(b)"
   ]
  },
  {
   "cell_type": "markdown",
   "metadata": {},
   "source": [
    "## `in` 연산자를 활용한 조건문"
   ]
  },
  {
   "cell_type": "code",
   "execution_count": 19,
   "metadata": {},
   "outputs": [
    {
     "name": "stdout",
     "output_type": "stream",
     "text": [
      "hello(은)는 이미 가입되어 있습니다.\n"
     ]
    }
   ],
   "source": [
    "# 조건이 참이므로 결과가 출력됨\n",
    "if user1 in member_list:\n",
    "    print( user1 + \"(은)는 이미 가입되어 있습니다.\" )"
   ]
  },
  {
   "cell_type": "code",
   "execution_count": 20,
   "metadata": {},
   "outputs": [],
   "source": [
    "# 조건이 거짓이므로 결과가 출력되지 않음\n",
    "if user2 in member_list:\n",
    "    print( user2 + \"(은)는 이미 가입되어 있습니다.\" )"
   ]
  },
  {
   "cell_type": "markdown",
   "metadata": {},
   "source": [
    "## 포함되지 않았음을 검사하는 not in 연산자\n",
    "\n",
    "`not in`은 포함되어 있지 않은 경우 참이 된다."
   ]
  },
  {
   "cell_type": "code",
   "execution_count": 23,
   "metadata": {},
   "outputs": [],
   "source": [
    "# 조건이 거짓이므로 결과가 출력되지 않음\n",
    "if user1 not in member_list:\n",
    "    print( user1 + \"(은)는 가입되어 있지 않습니다.\" )"
   ]
  },
  {
   "cell_type": "code",
   "execution_count": 22,
   "metadata": {},
   "outputs": [
    {
     "name": "stdout",
     "output_type": "stream",
     "text": [
      "world(은)는 가입되어 있지 않습니다.\n"
     ]
    }
   ],
   "source": [
    "# 조건이 참이므로 결과가 출력됨\n",
    "if user2 not in member_list:\n",
    "    print( user2 + \"(은)는 가입되어 있지 않습니다.\" )"
   ]
  },
  {
   "cell_type": "markdown",
   "metadata": {},
   "source": [
    "## `else`절 활용하기\n",
    "\n",
    "\"그렇지 않으면\"의 의미\n",
    "\n",
    "독립적으로 사용될 수 없고 반드시 if문 뒤에만 위치"
   ]
  },
  {
   "cell_type": "code",
   "execution_count": 24,
   "metadata": {},
   "outputs": [
    {
     "name": "stdout",
     "output_type": "stream",
     "text": [
      "성인이 아닙니다.\n"
     ]
    }
   ],
   "source": [
    "age = 19\n",
    "\n",
    "if age > 19:\n",
    "    print(\"성인입니다.\")\n",
    "else:\n",
    "    print(\"성인이 아닙니다.\")"
   ]
  },
  {
   "cell_type": "markdown",
   "metadata": {},
   "source": [
    "## `else`문의 활용 예시"
   ]
  },
  {
   "cell_type": "code",
   "execution_count": 25,
   "metadata": {},
   "outputs": [],
   "source": [
    "# 샘플 데이터\n",
    "user1 = \"hello\"\n",
    "user2 = \"world\"\n",
    "member_list = ['hello', 'python', 'life']"
   ]
  },
  {
   "cell_type": "code",
   "execution_count": 26,
   "metadata": {},
   "outputs": [
    {
     "name": "stdout",
     "output_type": "stream",
     "text": [
      "hello는 이미 가입되어 있습니다.\n"
     ]
    }
   ],
   "source": [
    "if user1 in member_list:\n",
    "    # 조건이 참이므로 if절이 실행된다.\n",
    "    print(\"%s는 이미 가입되어 있습니다.\" % user1)\n",
    "else:\n",
    "    # 조건이 거짓이 아니므로 else절은 실행되지 않는다.\n",
    "    print(\"%s는 이미 가입되어 있지 않습니다.\" % user1)"
   ]
  },
  {
   "cell_type": "code",
   "execution_count": 27,
   "metadata": {},
   "outputs": [
    {
     "name": "stdout",
     "output_type": "stream",
     "text": [
      "world는 이미 가입되어 있지 않습니다.\n"
     ]
    }
   ],
   "source": [
    "if user2 in member_list:\n",
    "    # 조건이 거짓이므로 if절은 실행되지 않는다.\n",
    "    print(\"%s는 이미 가입되어 있습니다.\" % user2)\n",
    "else:\n",
    "    # 조건이 거짓이므로 else절이 실행된다.\n",
    "    print(\"%s는 이미 가입되어 있지 않습니다.\" % user2)"
   ]
  },
  {
   "cell_type": "markdown",
   "metadata": {},
   "source": [
    "## `elif`를 활용한 다양한 경우의 수 나열\n",
    "\n",
    "elif는 if와 else 사이에서 나열된 조건 중 처음으로 만나는 참인 조건에 대한 블록을 수행하고 나머지 조건은 무시하고 종료한다"
   ]
  },
  {
   "cell_type": "code",
   "execution_count": 28,
   "metadata": {},
   "outputs": [
    {
     "name": "stdout",
     "output_type": "stream",
     "text": [
      "C학점\n"
     ]
    }
   ],
   "source": [
    "point = 72\n",
    "\n",
    "if point > 90:\n",
    "    print(\"A학점\")\n",
    "elif point > 80:\n",
    "    print(\"B학점\")\n",
    "elif point > 70:\n",
    "    print(\"C학점\")\n",
    "elif point > 60:\n",
    "    print(\"D학점\")\n",
    "else:\n",
    "    print(\"F학점\")"
   ]
  },
  {
   "cell_type": "code",
   "execution_count": null,
   "metadata": {},
   "outputs": [],
   "source": []
  }
 ],
 "metadata": {
  "kernelspec": {
   "display_name": "Python 3 (ipykernel)",
   "language": "python",
   "name": "python3"
  },
  "language_info": {
   "codemirror_mode": {
    "name": "ipython",
    "version": 3
   },
   "file_extension": ".py",
   "mimetype": "text/x-python",
   "name": "python",
   "nbconvert_exporter": "python",
   "pygments_lexer": "ipython3",
   "version": "3.9.7"
  }
 },
 "nbformat": 4,
 "nbformat_minor": 4
}
