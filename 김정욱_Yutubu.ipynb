{
 "cells": [
  {
   "cell_type": "code",
   "execution_count": 7,
   "id": "3db20a6a-3187-46f3-bd22-3008a2c56380",
   "metadata": {},
   "outputs": [
    {
     "name": "stdout",
     "output_type": "stream",
     "text": [
      "2.0\n",
      "2\n",
      "1\n"
     ]
    }
   ],
   "source": [
    "print(6/3)\n",
    "print(6//3) #몫\n",
    "print(5//3)"
   ]
  },
  {
   "cell_type": "code",
   "execution_count": 6,
   "id": "76c95d3f-174f-4d5f-bfff-48d9f209accf",
   "metadata": {},
   "outputs": [
    {
     "name": "stdout",
     "output_type": "stream",
     "text": [
      "2\n"
     ]
    }
   ],
   "source": [
    "print(5%3) #나머지"
   ]
  },
  {
   "cell_type": "code",
   "execution_count": 8,
   "id": "71c3e796-f23a-4743-bf7d-85c0e59cbc8c",
   "metadata": {},
   "outputs": [
    {
     "name": "stdout",
     "output_type": "stream",
     "text": [
      "True\n"
     ]
    }
   ],
   "source": [
    "print(2!=3) #같지 않다"
   ]
  },
  {
   "cell_type": "code",
   "execution_count": 12,
   "id": "3aa4fbba-5ebf-4541-828b-abc5c53d1fd9",
   "metadata": {},
   "outputs": [
    {
     "name": "stdout",
     "output_type": "stream",
     "text": [
      "7\n",
      "21\n",
      "20\n",
      "5\n"
     ]
    }
   ],
   "source": [
    "num = 5\n",
    "num += 2\n",
    "print(num) #7\n",
    "num *= 3\n",
    "print(num) #21\n",
    "num -= 1\n",
    "print(num) #20\n",
    "num //= 4\n",
    "print(num)"
   ]
  },
  {
   "cell_type": "code",
   "execution_count": 15,
   "id": "fa16275e-616d-4bef-a214-a67ec4656a6f",
   "metadata": {},
   "outputs": [
    {
     "name": "stdout",
     "output_type": "stream",
     "text": [
      "5\n",
      "16\n",
      "5\n",
      "4\n",
      "3\n",
      "5\n"
     ]
    }
   ],
   "source": [
    "print(abs(-5)) #절대값\n",
    "print(pow(2,4)) #거듭제곱\n",
    "print(max(3,5))\n",
    "print(min(9,4))\n",
    "print(round(3.14)) #반올림\n",
    "print(round(4.78))"
   ]
  },
  {
   "cell_type": "code",
   "execution_count": 2,
   "id": "df98edf8-0cbe-4384-9da5-fb8fbcff42e6",
   "metadata": {},
   "outputs": [
    {
     "name": "stdout",
     "output_type": "stream",
     "text": [
      "앞60206-\n"
     ]
    }
   ],
   "source": [
    "jmin = \"860206-1234557\"\n",
    "print(\"앞\"+jmin[1:7]) #슬라이싱\n"
   ]
  },
  {
   "cell_type": "code",
   "execution_count": 1,
   "id": "5e77fb1e-78f0-4d07-9043-efe6eda0fc8e",
   "metadata": {},
   "outputs": [
    {
     "name": "stdout",
     "output_type": "stream",
     "text": [
      "python is amazing\n",
      "PYTHON IS AMAZING\n",
      "Python are amazing\n",
      "2\n"
     ]
    }
   ],
   "source": [
    "python = \"Python is amazing\"\n",
    "print(python.lower())\n",
    "print(python.upper())\n",
    "print(python.replace(\"is\",\"are\"))\n",
    "print(python.count(\"n\"))"
   ]
  },
  {
   "cell_type": "markdown",
   "id": "59c28193-5464-45cc-8228-c6e8037c2c4b",
   "metadata": {},
   "source": [
    "### 문자열 포매팅\n",
    "#### %d 10진 정수\n",
    "#### %f 10진 실수\n",
    "#### %s 문자열\n",
    "#### %c character(문자 1개)\n",
    "#### %o 8진 정수\n",
    "#### %x 16진 정수\n",
    "#### %% % 자체"
   ]
  },
  {
   "cell_type": "markdown",
   "id": "35dbcb0f-61dc-4543-9174-6da4e54b7835",
   "metadata": {},
   "source": [
    "### 정수의 자릿수 지정 및 정렬\n",
    "#### %5d 숫자를 5자리로 맞춰 오른쪽 정렬, 부족하면 공백\n",
    "#### %-5d 숫자  5자리         왼쪽  정렬\n",
    "#### %05d 5자리 오른쪽 정렬, 부족하면 0으로 채움(왼쪽 지원 안함, 0말곤 사용 불가)"
   ]
  },
  {
   "cell_type": "code",
   "execution_count": 29,
   "id": "81fcb162-a71b-43ff-a222-150f42f81fb8",
   "metadata": {},
   "outputs": [
    {
     "name": "stdout",
     "output_type": "stream",
     "text": [
      "판매 금액은    3500 입니다\n",
      "판매 금액은 3500    입니다\n",
      "판매 금액은 0003500 입니다\n"
     ]
    }
   ],
   "source": [
    "print(\"판매 금액은 %7d 입니다\" % 3500)\n",
    "print(\"판매 금액은 %-7d 입니다\" % 3500)\n",
    "print(\"판매 금액은 %07d 입니다\" % 3500)"
   ]
  },
  {
   "cell_type": "code",
   "execution_count": 34,
   "id": "0a4454a9-a526-4cd2-89b4-2ab0d3b6e5d3",
   "metadata": {
    "tags": []
   },
   "outputs": [
    {
     "name": "stdout",
     "output_type": "stream",
     "text": [
      "Hello python   입니다\n",
      "Hello python 입니다  \n"
     ]
    }
   ],
   "source": [
    "print(\"Hello python %5s\" % \"입니다\" )\n",
    "print(\"Hello python %-5s\" % \"입니다\" ) #%05s 0은 지원 안함"
   ]
  },
  {
   "cell_type": "markdown",
   "id": "a8139105-65eb-4894-aaf5-bd8d27d9e034",
   "metadata": {},
   "source": [
    "### 실수의 자릿수 지정 및 정렬\n",
    "#### 출력값이 지정된 소수점 자릿수를 초과하면 반올림 처리된다.\n",
    "##### %0.3f 제한없이 셋째 자리까지 출력\n",
    "##### %10.3f 전체 10자리 출력하고 그중 소수점 이하는 셋째 자리까지 설정, 오른쪽 정렬, 나머지 공백\n",
    "##### %-10.3f 전체 10자리 출력         소수점 이하     세자리          ,   왼쪽 정렬, 나머지 공백\n",
    "##### %010.3f 10자리 출력, 소수점 셋째 자리까지, 공백->0으로"
   ]
  },
  {
   "cell_type": "code",
   "execution_count": 35,
   "id": "b194d709-919a-4936-bdc5-9e6335ca10d8",
   "metadata": {},
   "outputs": [
    {
     "name": "stdout",
     "output_type": "stream",
     "text": [
      "123.457\n"
     ]
    }
   ],
   "source": [
    "print(\"%0.3f\" % 123.4567) #반올림"
   ]
  },
  {
   "cell_type": "code",
   "execution_count": 36,
   "id": "463c10c1-773f-425b-b0ea-812fc8cf5600",
   "metadata": {},
   "outputs": [
    {
     "name": "stdout",
     "output_type": "stream",
     "text": [
      "   123.457\n"
     ]
    }
   ],
   "source": [
    "print(\"%10.3f\" % 123.4567) #왼 공백"
   ]
  },
  {
   "cell_type": "code",
   "execution_count": 37,
   "id": "e5bbd9b0-69cb-4518-a2a0-08421704c1c2",
   "metadata": {},
   "outputs": [
    {
     "name": "stdout",
     "output_type": "stream",
     "text": [
      "123.457   \n"
     ]
    }
   ],
   "source": [
    "print(\"%-10.3f\" % 123.4567) #오른 공백"
   ]
  },
  {
   "cell_type": "code",
   "execution_count": 38,
   "id": "7c7006a3-dcba-410e-8c53-287f693a15f1",
   "metadata": {},
   "outputs": [
    {
     "name": "stdout",
     "output_type": "stream",
     "text": [
      "000123.457\n"
     ]
    }
   ],
   "source": [
    "print(\"%010.3f\" % 123.4567) 0으로 공백 채움"
   ]
  },
  {
   "cell_type": "markdown",
   "id": "81e87c05-5432-4424-aa08-546564d6e134",
   "metadata": {},
   "source": [
    "### format 함수를 사용한 포매팅"
   ]
  },
  {
   "cell_type": "code",
   "execution_count": 45,
   "id": "6f164417-5735-431a-b341-8540bcd5448f",
   "metadata": {},
   "outputs": [
    {
     "name": "stdout",
     "output_type": "stream",
     "text": [
      "이 연필은 1200원 입니다.\n"
     ]
    }
   ],
   "source": [
    "str = \"이 연필은 {0}{1} 입니다.\"\n",
    "print(str.format(1200, \"원\"))"
   ]
  },
  {
   "cell_type": "code",
   "execution_count": 46,
   "id": "5e53d751-41e4-4218-a677-484f12f0c350",
   "metadata": {},
   "outputs": [
    {
     "name": "stdout",
     "output_type": "stream",
     "text": [
      "이 연필은 1200원입니다\n"
     ]
    }
   ],
   "source": [
    "str = \"이 연필은 {price}{unit}입니다\"\n",
    "print(str.format(unit=\"원\", price=\"1200\"))"
   ]
  },
  {
   "cell_type": "code",
   "execution_count": 50,
   "id": "db26a476-f465-4b09-8218-bddcb8a95ba3",
   "metadata": {},
   "outputs": [
    {
     "name": "stdout",
     "output_type": "stream",
     "text": [
      "이 책은 좋은 교과서입니다.\n"
     ]
    }
   ],
   "source": [
    "str = \"이 {0}은 {1} {name}입니다.\"\n",
    "print(str.format(\"책\", \"좋은\", name = \"교과서\")) #숫자형식 치환자가 먼저 와야한다"
   ]
  },
  {
   "cell_type": "code",
   "execution_count": 55,
   "id": "2eb9551d-ebe3-4ab8-8cb6-36c7133c9c99",
   "metadata": {},
   "outputs": [
    {
     "name": "stdout",
     "output_type": "stream",
     "text": [
      "이         피망은       1000원 입니다.\n",
      "이 ********피망은 @@@@@@1000원 입니다.\n"
     ]
    }
   ],
   "source": [
    "str = \"이 {0:>10}은 {1:>10}원 입니다.\" #10자리, 인덱스번호:>자릿수 오른쪽 정렬\n",
    "print(str.format(\"피망\", 1000))\n",
    "str = \"이 {0:*>10}은 {1:@>10}원 입니다.\" # :다음 문자로 채워준다\n",
    "print(str.format(\"피망\", 1000))"
   ]
  },
  {
   "cell_type": "code",
   "execution_count": 56,
   "id": "5a265483-1414-4b0a-8e86-2995b53c0e7d",
   "metadata": {},
   "outputs": [
    {
     "name": "stdout",
     "output_type": "stream",
     "text": [
      "이 피망        은 1000      원 입니다.\n",
      "이 피망********은 1000@@@@@@원 입니다.\n"
     ]
    }
   ],
   "source": [
    "str = \"이 {0:<10}은 {1:<10}원 입니다.\" #10자리, 왼쪽 정렬\n",
    "print(str.format(\"피망\", 1000))\n",
    "str = \"이 {0:*<10}은 {1:@<10}원 입니다.\" # :다음 문자로 채워준다\n",
    "print(str.format(\"피망\", 1000))"
   ]
  },
  {
   "cell_type": "code",
   "execution_count": 58,
   "id": "6fc44ec4-a693-4c95-8b40-6b19da95f51e",
   "metadata": {},
   "outputs": [
    {
     "name": "stdout",
     "output_type": "stream",
     "text": [
      "이     피망    은    1000   원 입니다.\n",
      "이 ****피망****은 @@@1000@@@원 입니다.\n"
     ]
    }
   ],
   "source": [
    "str = \"이 {0:^10}은 {1:^10}원 입니다.\" #가운데 정렬\n",
    "print(str.format(\"피망\", 1000))\n",
    "str = \"이 {0:*^10}은 {1:@^10}원 입니다.\"\n",
    "print(str.format(\"피망\", 1000))"
   ]
  },
  {
   "cell_type": "code",
   "execution_count": 60,
   "id": "74f43a4f-234c-4ff5-ae57-713b33917084",
   "metadata": {},
   "outputs": [
    {
     "name": "stdout",
     "output_type": "stream",
     "text": [
      "123.4568+12.346\n"
     ]
    }
   ],
   "source": [
    "str =  \"{0:0.4f}+{1:0.3f}\" #소수점 4자리, 3자리까지 표현하고 반올림\n",
    "print(str.format(123.456789, 12.3456789))"
   ]
  },
  {
   "cell_type": "code",
   "execution_count": 70,
   "id": "58916017-8606-46b0-93b5-63a34862565f",
   "metadata": {},
   "outputs": [
    {
     "name": "stdout",
     "output_type": "stream",
     "text": [
      "  123.4568+    12.346\n"
     ]
    }
   ],
   "source": [
    "str = \"{0:10.4f}+{1:-10.3f}\" #전체 10글자, 소수점4, 3자리 오른,왼 정렬\n",
    "print(str.format(123.456789, 12.3456789))"
   ]
  },
  {
   "cell_type": "code",
   "execution_count": 73,
   "id": "33619d2e-be8a-4385-a23c-ee6035dad5f7",
   "metadata": {},
   "outputs": [
    {
     "name": "stdout",
     "output_type": "stream",
     "text": [
      "00123.4568+12.3460000\n",
      "00123.4568+0012.34600\n"
     ]
    }
   ],
   "source": [
    "str = \"{0:010.4f}+{1:<-010.3f}\" #위와 동일, 0으로 채움, < 왼쪽 정렬\n",
    "# > 오른쪽정렬은 사용하지 않는 경우와 결과가 동일\n",
    "print(str.format(123.456789, 12.3456789))\n",
    "str = \"{0:>010.4f}+{1:^-010.3f}\"\n",
    "print(str.format(123.456789, 12.3456789)) #> 동일, 가운데 정렬"
   ]
  },
  {
   "cell_type": "code",
   "execution_count": 80,
   "id": "757fe79f-d90d-41f9-aa00-dcb67346bb2d",
   "metadata": {},
   "outputs": [
    {
     "name": "stdout",
     "output_type": "stream",
     "text": [
      "python은 어렵다.\n",
      "{python}은 어렵다.\n"
     ]
    }
   ],
   "source": [
    "str = \"{0}은 {1}다.\"\n",
    "print(str.format(\"python\", \"어렵\"))\n",
    "str = \"{{python}}은 {0}다.\" #{}사용하려면 2개겹\n",
    "print(str.format(\"어렵\"))"
   ]
  },
  {
   "cell_type": "code",
   "execution_count": 17,
   "id": "b39a5256-0c7b-4222-a442-6f0a281df590",
   "metadata": {},
   "outputs": [
    {
     "name": "stdout",
     "output_type": "stream",
     "text": [
      "나는 20살입니다\n",
      "나는 파이썬가 좋다\n",
      "Apple은 A로 시작\n",
      "나는 20살 입니다\n",
      "나는 20살이고 쟤는 21살 입니다\n",
      "20살은 아직 젊고 21살 정도는 되야..\n",
      "20살은 아직 젊고 25살 정도는 되야..\n",
      "20살이 되면 존나 피곤해진다\n",
      "20살이 되면 존나 피곤해진다\n"
     ]
    }
   ],
   "source": [
    "#포매팅\n",
    "print(\"나는 %d살입니다\" % 20)\n",
    "print(\"나는 %s가 좋다\" % \"파이썬\")\n",
    "print(\"Apple은 %c로 시작\" % \"A\")\n",
    "\n",
    "print(\"나는 {}살 입니다\".format(20))\n",
    "print(\"나는 {}살이고 쟤는 {}살 입니다\".format(20,21))\n",
    "tpl = \"{0}살은 아직 젊고 {1}살 정도는 되야..\"\n",
    "tpl2 = \"{1}살은 아직 젊고 {0}살 정도는 되야..\"\n",
    "print(tpl.format(20,21))\n",
    "print(tpl2.format(25,20))\n",
    "\n",
    "tpl3 = \"{age}살이 되면 {very} 피곤해진다\"\n",
    "print(tpl3.format(age = 20, very = '존나'))\n",
    "print(tpl3.format(very = '존나', age = 20))"
   ]
  },
  {
   "cell_type": "markdown",
   "id": "7e0a51c9-1254-46bc-bd16-4fb4ca2ca064",
   "metadata": {},
   "source": [
    "### 함수"
   ]
  },
  {
   "cell_type": "code",
   "execution_count": 1,
   "id": "dc19556c-b421-4f8b-84b3-c49f2f29e843",
   "metadata": {},
   "outputs": [
    {
     "name": "stdout",
     "output_type": "stream",
     "text": [
      "Life is too short, You Need Python\n"
     ]
    }
   ],
   "source": [
    "#실습용 문자열\n",
    "str = \"Life is too short, You Need Python\"\n",
    "print(str)"
   ]
  },
  {
   "cell_type": "code",
   "execution_count": 5,
   "id": "02ab727f-cd76-4927-a46a-de46faff48f5",
   "metadata": {},
   "outputs": [
    {
     "name": "stdout",
     "output_type": "stream",
     "text": [
      "34\n",
      "34\n"
     ]
    }
   ],
   "source": [
    "a = len(str) #문자열의 글자수 함수 len()\n",
    "print(a)\n",
    "print(len(str)) #직접 출력도 가능"
   ]
  },
  {
   "cell_type": "code",
   "execution_count": 8,
   "id": "5677f02b-9683-4b48-9bf8-a2ffdc532b7c",
   "metadata": {},
   "outputs": [
    {
     "name": "stdout",
     "output_type": "stream",
     "text": [
      "2\n",
      "1\n",
      "1\n"
     ]
    }
   ],
   "source": [
    "print(str.count(\"i\")) #특정 문자열 갯수 count\n",
    "print(str.count(\"Y\")) #대소문자 구별함\n",
    "print(str.count(\"Life\"))"
   ]
  },
  {
   "cell_type": "code",
   "execution_count": 9,
   "id": "1ef606ab-60bb-4aaa-93a3-cc94fb58a6f1",
   "metadata": {},
   "outputs": [
    {
     "name": "stdout",
     "output_type": "stream",
     "text": [
      "8\n",
      "-1\n",
      "12\n"
     ]
    }
   ],
   "source": [
    "print(str.find(\"t\")) #처음 등장하는 위치 조회 find()\n",
    "print(str.find(\"z\")) #없으면 -1 출력함\n",
    "print(str.find(\"short\")) #첫글자 위치 출력"
   ]
  },
  {
   "cell_type": "code",
   "execution_count": 12,
   "id": "9221a129-4e97-4026-bede-233e4dc8682c",
   "metadata": {},
   "outputs": [
    {
     "name": "stdout",
     "output_type": "stream",
     "text": [
      "30\n",
      "12\n",
      "-1\n"
     ]
    }
   ],
   "source": [
    "print(str.rfind(\"t\")) #마지막 등장하는 위치 조회 rfind()\n",
    "print(str.rfind(\"short\"))\n",
    "print(str.rfind(\"z\")) #없으면 -1"
   ]
  },
  {
   "cell_type": "code",
   "execution_count": 15,
   "id": "72200034-f6fc-4d50-9f92-cffe130afef0",
   "metadata": {},
   "outputs": [
    {
     "name": "stdout",
     "output_type": "stream",
     "text": [
      "True\n",
      "False\n",
      "True\n"
     ]
    }
   ],
   "source": [
    "print(str.startswith(\"L\")) #특정 단어나 글자로 시작하는지 여부 -> True, False\n",
    "print(str.startswith(\"l\"))\n",
    "print(str.startswith(\"Life\"))"
   ]
  },
  {
   "cell_type": "code",
   "execution_count": 18,
   "id": "21614535-5ac5-45f8-b562-e85676fff833",
   "metadata": {},
   "outputs": [
    {
     "name": "stdout",
     "output_type": "stream",
     "text": [
      "True\n",
      "True\n",
      "False\n"
     ]
    }
   ],
   "source": [
    "print(str.endswith(\"n\")) #특정 단어,글자로 끝나는지 True, False\n",
    "print(str.endswith(\"Python\"))\n",
    "print(str.endswith(\"python\")) #대소문자 구별"
   ]
  },
  {
   "cell_type": "code",
   "execution_count": 20,
   "id": "fed10609-54c2-4af6-8793-5e4d1ace73d8",
   "metadata": {},
   "outputs": [
    {
     "name": "stdout",
     "output_type": "stream",
     "text": [
      "LIFE IS TOO SHORT, YOU NEED PYTHON\n",
      "LIFE IS TOO SHORT, YOU NEED PYTHON\n"
     ]
    }
   ],
   "source": [
    "upchar = str.upper()\n",
    "print(upchar)\n",
    "print(str.upper()) #모든 글자를 대문자로"
   ]
  },
  {
   "cell_type": "code",
   "execution_count": 21,
   "id": "052cd27f-3528-439c-b48f-2158b54bcf3c",
   "metadata": {},
   "outputs": [
    {
     "name": "stdout",
     "output_type": "stream",
     "text": [
      "life is too short, you need python\n",
      "life is too short, you need python\n"
     ]
    }
   ],
   "source": [
    "lowchar = str.lower()\n",
    "print(lowchar)\n",
    "print(str.lower()) #모든 글자를 소문자로"
   ]
  },
  {
   "cell_type": "code",
   "execution_count": 22,
   "id": "331585a5-1980-40ba-976d-0f8bedf57870",
   "metadata": {},
   "outputs": [
    {
     "name": "stdout",
     "output_type": "stream",
     "text": [
      "lIFE IS TOO SHORT, yOU nEED pYTHON\n"
     ]
    }
   ],
   "source": [
    "print(str.swapcase()) #대,소문자 스왑"
   ]
  },
  {
   "cell_type": "code",
   "execution_count": 23,
   "id": "ccbb3c6b-4020-44dc-ac4f-513fc4d520cc",
   "metadata": {},
   "outputs": [
    {
     "name": "stdout",
     "output_type": "stream",
     "text": [
      "Life is too short, you need python\n"
     ]
    }
   ],
   "source": [
    "print(str.capitalize()) #문장 첫 글자를 대문자로 변환 나머지 대문자는 소문자로"
   ]
  },
  {
   "cell_type": "code",
   "execution_count": 24,
   "id": "3f978644-6581-4745-9469-de9fe3928b45",
   "metadata": {},
   "outputs": [
    {
     "name": "stdout",
     "output_type": "stream",
     "text": [
      "Life Is Too Short, You Need Python\n"
     ]
    }
   ],
   "source": [
    "print(str.title()) #각 단어 첫 글자를 대문자로 변환"
   ]
  },
  {
   "cell_type": "code",
   "execution_count": 29,
   "id": "f2407b2d-4c0f-4297-99e4-d1af4c75d845",
   "metadata": {},
   "outputs": [
    {
     "name": "stdout",
     "output_type": "stream",
     "text": [
      "life is too short, You Need Python\n"
     ]
    }
   ],
   "source": [
    "print(str.replace(\"Life\", \"life\")) # replace(A, B) A를 B로 변경"
   ]
  },
  {
   "cell_type": "code",
   "execution_count": 30,
   "id": "b1adb241-44ba-4d30-8479-83fcbb48920a",
   "metadata": {},
   "outputs": [
    {
     "name": "stdout",
     "output_type": "stream",
     "text": [
      "python    \n",
      "    python\n",
      "python\n"
     ]
    }
   ],
   "source": [
    "#실습용 문자열\n",
    "k = \"    python    \" #4칸씩 공백\n",
    "print(k.lstrip()) #왼쪽 공백 삭제\n",
    "print(k.rstrip()) #오른쪽 공백 삭제\n",
    "print(k.strip()) #좌,우 공백 삭제\n",
    "#문자열 앞,뒤 공백만 제거가능하며"
   ]
  },
  {
   "cell_type": "code",
   "execution_count": 31,
   "id": "adb9f4e3-6075-4545-b169-7e8e8d039f06",
   "metadata": {},
   "outputs": [
    {
     "name": "stdout",
     "output_type": "stream",
     "text": [
      "Lifeis too short, You Need Python\n"
     ]
    }
   ],
   "source": [
    "print(str.replace(\"e i\", \"ei\")) #문자열 중간의 공백을 삭제하려면 replace()사용"
   ]
  },
  {
   "cell_type": "code",
   "execution_count": 5,
   "id": "1ebd0f53-aaf9-4e81-9d9e-89597494f79d",
   "metadata": {},
   "outputs": [
    {
     "name": "stdout",
     "output_type": "stream",
     "text": [
      "(0, 1)\n",
      "(1, 5)\n",
      "(2, 7)\n",
      "(3, 33)\n",
      "(4, 39)\n",
      "(5, 52)\n",
      "0 1\n",
      "1 5\n",
      "2 7\n",
      "3 33\n",
      "4 39\n",
      "5 52\n",
      "index : 0, value: 1\n",
      "index : 1, value: 5\n",
      "index : 2, value: 7\n",
      "index : 3, value: 33\n",
      "index : 4, value: 39\n",
      "index : 5, value: 52\n"
     ]
    }
   ],
   "source": [
    "#enumerate 반복\n",
    "#반복문 사용 시 몇 번째 반복문인지 확인이 필요할 수 있습니다. 이때 사용합니다.\n",
    "#인덱스 번호와 컬렉션의 원소를 tuple형태로 반환합니다.\n",
    "t = [1, 5, 7, 33, 39, 52]\n",
    "for i in enumerate(t):\n",
    "    print(i)\n",
    "for i, v in enumerate(t):\n",
    "    print(i,v)\n",
    "for i, v in enumerate(t):\n",
    "    print(\"index : {}, value: {}\".format(i,v))"
   ]
  },
  {
   "cell_type": "markdown",
   "id": "aa7353a2-75b3-4b77-b8c4-142a38983e2d",
   "metadata": {},
   "source": [
    "# 문제4\n",
    "### 다음은 학생의 점수를 나타내는 리스트이다\n",
    "####        students = [85, 65, 77, 83, 75, 22, 98, 88, 38, 100]\n",
    "### for문을 사용하여 80점 이상의 점수들의 합을 구하시오"
   ]
  },
  {
   "cell_type": "code",
   "execution_count": 3,
   "id": "4b2ccd0d-9c7d-45ef-94b9-547f17107615",
   "metadata": {},
   "outputs": [
    {
     "name": "stdout",
     "output_type": "stream",
     "text": [
      "454\n"
     ]
    }
   ],
   "source": [
    "total = 0\n",
    "\n",
    "for i in [85, 65, 77, 83, 75, 22, 98, 88, 38, 100]: #students로 먼저 지정하고 넣으면 더 깔끔\n",
    "    if i >= 80:\n",
    "        total += i\n",
    "        \n",
    "print(total)"
   ]
  },
  {
   "cell_type": "code",
   "execution_count": 6,
   "id": "2ce06822-8729-4939-bb28-4af806d74c3a",
   "metadata": {},
   "outputs": [
    {
     "name": "stdout",
     "output_type": "stream",
     "text": [
      "[85, 83, 98, 88, 100]\n",
      "5\n"
     ]
    }
   ],
   "source": [
    "#80점 이상은 모두 몇명?\n",
    "students = [85, 65, 77, 83, 75, 22, 98, 88, 38, 100]\n",
    "good = []\n",
    "for i in students:\n",
    "    if i>=80:\n",
    "        good.append(i)\n",
    "print(good)\n",
    "print(len(good))"
   ]
  },
  {
   "cell_type": "code",
   "execution_count": 15,
   "id": "09d0e0fe-6148-45f6-8281-3736f753fd02",
   "metadata": {},
   "outputs": [
    {
     "name": "stdin",
     "output_type": "stream",
     "text": [
      "어디? https://daum.co.kr\n"
     ]
    },
    {
     "name": "stdout",
     "output_type": "stream",
     "text": [
      "https://daum.co.kr 의 비밀번호는 \"dau40!\"로 사용하세요\n"
     ]
    }
   ],
   "source": [
    "#http://daum.co.kr\n",
    "#위치찾기 index\n",
    "site = input(\"어디?\")\n",
    "keys = site[site.index(\"//\")+2:site.index(\".\")]\n",
    "password = keys[0:3]+str(len(keys))+str(keys.count(\"e\"))+\"!\"\n",
    "print(\"{0} 의 비밀번호는 \\\"{1}\\\"로 사용하세요\".format(site, password))\n",
    "#print(str(keys[0,2]))\n",
    "#key = site[:site.index(\".\")]"
   ]
  },
  {
   "cell_type": "code",
   "execution_count": 2,
   "id": "3dd143df-c4dc-45e3-8c20-45f0615da2a1",
   "metadata": {},
   "outputs": [
    {
     "name": "stdin",
     "output_type": "stream",
     "text": [
      "팩토리얼 계산기 4\n"
     ]
    },
    {
     "name": "stdout",
     "output_type": "stream",
     "text": [
      "결과는 24입니다\n"
     ]
    }
   ],
   "source": [
    "#숫자 x를 입력받은 후 x에 대한 팩토리얼을 for문을 활용해 구하시오\n",
    "pr = input(\"팩토리얼 계산기\")\n",
    "pri = int(pr)\n",
    "result = 1\n",
    "for i in range(1,pri+1):\n",
    "    result *= i\n",
    "\n",
    "print(\"결과는 %s입니다\" % result)"
   ]
  },
  {
   "cell_type": "code",
   "execution_count": 3,
   "id": "c0359da3-f485-40eb-ba5f-5ad28f27a871",
   "metadata": {},
   "outputs": [
    {
     "name": "stdout",
     "output_type": "stream",
     "text": [
      "2550\n"
     ]
    }
   ],
   "source": [
    "#0부터 100사이에 있는 짝수의 합을 while 문으로 구현하시오\n",
    "#단 if문을 사용해서는 안된다\n",
    "\n",
    "res = 0\n",
    "i = 0\n",
    "while i < 101:\n",
    "    res += i\n",
    "    i += 2\n",
    "print(res)"
   ]
  },
  {
   "cell_type": "code",
   "execution_count": 2,
   "id": "5ed156c2-fc84-4bda-8e45-6efcd1f2d192",
   "metadata": {},
   "outputs": [
    {
     "name": "stdout",
     "output_type": "stream",
     "text": [
      "454\n"
     ]
    }
   ],
   "source": [
    "#다음은 학생의 점수를 나타내는 리스트이다\n",
    "#students = [85, 65, 77, 83, 75, 22, 98, 88, 38, 100]\n",
    "#for문을 사용하여 80점 이상의 점수들의 합을 구하시오\n",
    "\n",
    "students = [85, 65, 77, 83, 75, 22, 98, 88, 38, 100]\n",
    "res = 0\n",
    "for i in students:\n",
    "    if i >= 80:\n",
    "        res += i\n",
    "print(res)"
   ]
  },
  {
   "cell_type": "code",
   "execution_count": 3,
   "id": "fb7a08ca-80d1-4894-b3b3-ea1d08a98d38",
   "metadata": {},
   "outputs": [
    {
     "name": "stdout",
     "output_type": "stream",
     "text": [
      "454\n"
     ]
    }
   ],
   "source": [
    "students = [85, 65, 77, 83, 75, 22, 98, 88, 38, 100]\n",
    "total = 0\n",
    "i = 0\n",
    "while i < len(students):\n",
    "    x = students[i]    \n",
    "    if x >=80:\n",
    "        total += x\n",
    "    i += 1\n",
    "print(total)"
   ]
  },
  {
   "cell_type": "code",
   "execution_count": 11,
   "id": "75e7d369-44e5-411c-a01c-f4322a3c22fa",
   "metadata": {},
   "outputs": [
    {
     "name": "stdin",
     "output_type": "stream",
     "text": [
      "숫자입력 3\n"
     ]
    },
    {
     "name": "stdout",
     "output_type": "stream",
     "text": [
      "1 1\n",
      "2 4\n",
      "3 9\n"
     ]
    }
   ],
   "source": [
    "#정수를 한개 입력받아 1부터 입력받은 수까지 각각에 대해 제곱을 구해 프린트하는 프로그램을 작성해 보세요\n",
    "#단, while 문을 사용하세요\n",
    "inum = int(input(\"숫자입력\"))\n",
    "\n",
    "i = 1\n",
    "while i <= inum:\n",
    "    print(\"%d\" % i,i**2)\n",
    "    i += 1"
   ]
  },
  {
   "cell_type": "code",
   "execution_count": 14,
   "id": "df37a545-fe61-493b-8cbe-3333560e9b8d",
   "metadata": {},
   "outputs": [
    {
     "name": "stdout",
     "output_type": "stream",
     "text": [
      "13\n"
     ]
    }
   ],
   "source": [
    "#[9, 8, 6, 1, 4, 5] 에서 가장 큰 값을 for 문을 사용하여 구하시오\n",
    "\n",
    "list1 = [9, 8, 6, 1, 4, 5, 13]\n",
    "res = list1[0]\n",
    "for i in list1:\n",
    "    if i > res:\n",
    "        res = i\n",
    "print(res)"
   ]
  },
  {
   "cell_type": "code",
   "execution_count": 15,
   "id": "2c83a818-3ee3-4658-84ac-4976f7266ad5",
   "metadata": {},
   "outputs": [
    {
     "name": "stdout",
     "output_type": "stream",
     "text": [
      "1\n"
     ]
    }
   ],
   "source": [
    "#[9, 8, 6, 1, 4, 5] 에서 가장 작은 값을 for 문을 사용하여 구하시오\n",
    "list2 = [9, 8, 6, 1, 4, 5, 13]\n",
    "min_v = list2[0]\n",
    "for i in list2:\n",
    "    if i < min_v:\n",
    "        min_v = i\n",
    "print(min_v)"
   ]
  },
  {
   "cell_type": "code",
   "execution_count": 20,
   "id": "01255e2a-e083-45d4-9f53-c54874827e3d",
   "metadata": {},
   "outputs": [
    {
     "name": "stdin",
     "output_type": "stream",
     "text": [
      "2~10사이 아무거나 입력하세요 3\n",
      "2~10사이 아무거나 입력하세요 7\n"
     ]
    },
    {
     "name": "stdout",
     "output_type": "stream",
     "text": [
      "[21, 42, 63, 84]\n",
      "210\n"
     ]
    }
   ],
   "source": [
    "#2~10 사이의 숫자 x, y를 입력받은 후 1부터 100까지의 자연수 중에서 x와 y의 공배수를 모두 출력하고 총 합이 얼마인지 출력하시오.\n",
    "numx = int(input(\"2~10사이 아무거나 입력하세요\"))\n",
    "numy = int(input(\"2~10사이 아무거나 입력하세요\"))\n",
    "\n",
    "total = 0\n",
    "result = []\n",
    "for i in range(1, 101):\n",
    "    if i % numx == 0 and i % numy == 0:\n",
    "        result.append(i)\n",
    "        total += i\n",
    "print(result)\n",
    "print(total)"
   ]
  },
  {
   "cell_type": "code",
   "execution_count": 31,
   "id": "41168734-7c42-4ff5-9fd9-726e45e38170",
   "metadata": {},
   "outputs": [
    {
     "name": "stdin",
     "output_type": "stream",
     "text": [
      "몇 줄? 7\n"
     ]
    },
    {
     "name": "stdout",
     "output_type": "stream",
     "text": [
      "*\n",
      "**\n",
      "***\n",
      "****\n",
      "*****\n",
      "******\n",
      "*******\n"
     ]
    }
   ],
   "source": [
    "#하나의 정수 x를 입력받아 x개의 행을 출력하는 별찍기 프로그램을 작성하시오.\n",
    "\n",
    "#첫 번째 행은 1개의 별을 출력하고,\n",
    "#두 번재 행은 2개의 별을 출력하고,\n",
    "#x 번째 행은 x개의 별을 출력합니다.\n",
    "\n",
    "top = int(input(\"몇 줄?\"))\n",
    "\n",
    "for i in range(1, top+1):\n",
    "    print(i*\"*\")"
   ]
  },
  {
   "cell_type": "code",
   "execution_count": 8,
   "id": "dc73b4be-2517-46aa-b608-de349754124f",
   "metadata": {},
   "outputs": [
    {
     "name": "stdin",
     "output_type": "stream",
     "text": [
      "몇 줄? 3\n"
     ]
    },
    {
     "name": "stdout",
     "output_type": "stream",
     "text": [
      "***\n",
      "**\n",
      "*\n"
     ]
    }
   ],
   "source": [
    "top = int(input(\"몇 줄?\"))\n",
    "\n",
    "for i in range(1, top+1):\n",
    "    star = (top-i+1)*\"*\" \n",
    "    print(star)"
   ]
  },
  {
   "cell_type": "code",
   "execution_count": 52,
   "id": "aec1f33e-dfff-4324-9bd2-d994ae5b8ebc",
   "metadata": {},
   "outputs": [
    {
     "name": "stdin",
     "output_type": "stream",
     "text": [
      "과목 수는? 3\n",
      "1번째 점수 7\n",
      "2번째 점수 4\n",
      "3번째 점수 2\n"
     ]
    },
    {
     "name": "stdout",
     "output_type": "stream",
     "text": [
      "[7, 4, 2]\n",
      "총합은 13점 평균은 4.33점입니다\n"
     ]
    }
   ],
   "source": [
    "#n개의 과목에 대한 점수를 입력하는 프로그램을 만들고자 한다.\n",
    "\n",
    "#숫자 n을 입력 받아 n번 반복을 수행하면서 숫자를 입력받는다.\n",
    "\n",
    "#반복문 안에서 입력받은 숫자는 data라는 리스트의 원소로 추가된다.\n",
    "\n",
    "#이 리스트의 모든 원소에 대한 총합과 평균을 구하시오.\n",
    "\n",
    "#(평균은 소수점 둘째 자리까지만 표시한다.)\n",
    "\n",
    "number = int(input(\"과목 수는?\"))\n",
    "data = []\n",
    "for i in range(1, number+1):\n",
    "    data.append(int(input(\"%d번째 점수\" % i)))\n",
    "print(data)\n",
    "print(\"총합은\",str(sum(data))+\"점\", \"평균은\", str(\"%0.2f\" % (sum(data) / len(data)))+\"점입니다\")\n"
   ]
  },
  {
   "cell_type": "code",
   "execution_count": 73,
   "id": "343f7b87-b114-4e9a-bd69-488b5e024b7f",
   "metadata": {},
   "outputs": [
    {
     "name": "stdin",
     "output_type": "stream",
     "text": [
      "몇개? 5\n",
      "1번째 숫자:  60\n",
      "2번째 숫자:  70\n",
      "3번째 숫자:  65\n",
      "4번째 숫자:  80\n",
      "5번째 숫자:  66\n"
     ]
    },
    {
     "name": "stdout",
     "output_type": "stream",
     "text": [
      "[60, 70, 65, 80, 66]\n",
      "80\n"
     ]
    }
   ],
   "source": [
    "#n개의 숫자를 입력받아서 리스트에 원소로 추가한 후 그 숫자들 중에서 가장 큰 값을 구하는 프로그램을 작성하시오.\n",
    "\n",
    "#단, 최대값은 max()함수를 사용하지 않고 반복문을 통해 직접 구해야 합니다.\n",
    "\n",
    "cho = int(input(\"몇개?\"))\n",
    "data = []\n",
    "for i in range(1, cho+1):\n",
    "    data.append(int(input(\"%d번째 숫자: \" % i)))\n",
    "print(data)\n",
    "\n",
    "k = data[0]\n",
    "for j in data:    \n",
    "    if j > k:\n",
    "        k = j\n",
    "print(k)"
   ]
  },
  {
   "cell_type": "code",
   "execution_count": 78,
   "id": "b008475d-d254-4aab-9b4e-8353457f16ea",
   "metadata": {},
   "outputs": [
    {
     "name": "stdin",
     "output_type": "stream",
     "text": [
      "몇개? 3\n",
      "1번째 숫자 9\n",
      "2번째 숫자 2\n",
      "3번째 숫자 7\n"
     ]
    },
    {
     "name": "stdout",
     "output_type": "stream",
     "text": [
      "[9, 2, 7]\n",
      "[2, 7, 9]\n"
     ]
    }
   ],
   "source": [
    "#n개의 숫자를 입력받아서 리스트에 원소로 추가한 후 그 숫자를 오름차순으로 정렬한 결과를 출력하는 프로그램을 작성하시오.\n",
    "\n",
    "#단, 정렬은 sort()함수를 사용하지 않고 반복문을 통해 직접 처리해야 합니다.\n",
    "\n",
    "cho = int(input(\"몇개?\"))\n",
    "data = []\n",
    "for i in range(1,cho+1):\n",
    "    data.append(int(input(\"%d번째 숫자\" % i)))\n",
    "print(data)\n",
    "size = len(data)\n",
    "for j in range(0, size-1):\n",
    "    for k in range(j+1, size):\n",
    "        if data[j] > data[k]:\n",
    "            data[j],data[k] = data[k],data[j]\n",
    "print(data)"
   ]
  },
  {
   "cell_type": "markdown",
   "id": "84080d70-8aee-4d68-a14a-2f2b2ff4b28f",
   "metadata": {},
   "source": [
    "---\n",
    "\n",
    "## 문제5\n",
    "\n",
    "`n`개의 숫자를 입력받아서 리스트에 원소로 추가한 후 그 숫자를 오름차순으로 정렬한 결과를 출력하는 프로그램을 작성하시오.\n",
    "\n",
    "단, 정렬은 `sort()`함수를 사용하지 않고 반복문을 통해 직접 처리해야 합니다."
   ]
  },
  {
   "cell_type": "code",
   "execution_count": 4,
   "id": "4e81ff8c-6ffc-4e4b-9303-ca60763efe27",
   "metadata": {},
   "outputs": [
    {
     "name": "stdin",
     "output_type": "stream",
     "text": [
      "숫자를 입력하세요 5\n",
      "1번째 숫자를 입력하세요:  3\n",
      "2번째 숫자를 입력하세요:  9\n",
      "3번째 숫자를 입력하세요:  5\n",
      "4번째 숫자를 입력하세요:  8\n",
      "5번째 숫자를 입력하세요:  6\n"
     ]
    },
    {
     "name": "stdout",
     "output_type": "stream",
     "text": [
      "[3, 5, 6, 8, 9]\n"
     ]
    }
   ],
   "source": [
    "count = int(input(\"숫자를 입력하세요\"))\n",
    "\n",
    "numbers = []\n",
    "\n",
    "for i in range(0, count):\n",
    "    number = int(input(f\"{i+1}번째 숫자를 입력하세요: \"))\n",
    "    numbers.append(number)\n",
    "    \n",
    "for j in range(len(numbers)):\n",
    "    k = len(numbers) - j\n",
    "    for i in range(1, k):\n",
    "        if numbers[i-1] >= numbers[i]:\n",
    "            temp = numbers[i-1]\n",
    "            numbers[i-1] = numbers[i]\n",
    "            numbers[i] = temp\n",
    "print(numbers)"
   ]
  },
  {
   "cell_type": "markdown",
   "id": "95bb1940-64bf-4425-b63e-ac2bc0e80cf9",
   "metadata": {},
   "source": [
    "# 자주 등장하는 반복문 예제 패턴\n",
    "\n",
    "## 별찍기\n",
    "\n",
    "반복의 범위를 동적으로 설정하기 위한 예제"
   ]
  },
  {
   "cell_type": "code",
   "execution_count": 2,
   "id": "f17dc2c8-1583-4652-a3a1-2228de3bcb57",
   "metadata": {},
   "outputs": [
    {
     "name": "stdout",
     "output_type": "stream",
     "text": [
      "*\n",
      "**\n",
      "***\n",
      "****\n",
      "*****\n"
     ]
    }
   ],
   "source": [
    "for i in range(0, 5):\n",
    "    star = \"\"\n",
    "\n",
    "    for j in range(0, i+1):\n",
    "        star += \"*\"\n",
    "\n",
    "    print(star)"
   ]
  },
  {
   "cell_type": "markdown",
   "id": "3b621097-1b8c-46d6-b582-59c6586bc537",
   "metadata": {},
   "source": [
    "## 리스트의 순서 뒤집기"
   ]
  },
  {
   "cell_type": "code",
   "execution_count": 3,
   "id": "6f09c70e-3ffc-423e-af8b-700e3a7373fe",
   "metadata": {},
   "outputs": [
    {
     "name": "stdout",
     "output_type": "stream",
     "text": [
      "[5, 3, 7, 1, 9]\n",
      "[9, 1, 7, 3, 5]\n"
     ]
    }
   ],
   "source": [
    "# 원본 리스트\n",
    "mylist = [5, 3, 7, 1, 9]\n",
    "print(mylist)\n",
    "\n",
    "# 리스트의 길이 --> 5\n",
    "size = len(mylist)\n",
    "\n",
    "# 리스트의 길이를 2로 나눈 정수 부분의 몫 --> 2\n",
    "# 리스트의 길이가 홀수인 경우 가운데 원소는 위치 변경이 필요 없으므로\n",
    "# 나눗셈의 나머지를 버리고 정수부분의 몫만 취한다.\n",
    "half = size // 2\n",
    "\n",
    "# 리스트의 반 만큼만 반복 수행 --> 0부터 2전까지\n",
    "for i in range(0, half):\n",
    "    # i번째 항목의 반대쪽에 위치한 원소의 인덱스를 구한다.\n",
    "    p = size - i - 1\n",
    "\n",
    "    # i번째 원소와 p번째 원소의 값을 맞바꾼다.\n",
    "    mylist[i], mylist[p] = mylist[p], mylist[i]\n",
    "\n",
    "# 결과출력\n",
    "print(mylist)"
   ]
  },
  {
   "cell_type": "markdown",
   "id": "06f34cf8-f2f8-4be1-be9b-7f213d57cf39",
   "metadata": {},
   "source": [
    "## 리스트의 정렬"
   ]
  },
  {
   "cell_type": "code",
   "execution_count": 1,
   "id": "9a963a16-9a3b-4641-b7a8-0b45f72334e0",
   "metadata": {},
   "outputs": [
    {
     "name": "stdout",
     "output_type": "stream",
     "text": [
      "[5, 3, 7, 1, 9]\n",
      "[1, 3, 5, 7, 9]\n"
     ]
    }
   ],
   "source": [
    "# 원본 리스트\n",
    "mylist = [5, 3, 7, 1, 9]\n",
    "print(mylist)\n",
    "\n",
    "# 리스트의 길이\n",
    "size = len(mylist)\n",
    "\n",
    "# 처음부터 뒤에서 두 번째것 까지만 반복\n",
    "for i in range(0, size-1):\n",
    "    # i번째 다음부터 끝까지 반복\n",
    "    for j in range(i+1, size):\n",
    "        # i번째가 j번째보다 값이 크다면\n",
    "        if mylist[i] > mylist[j]:\n",
    "            # 두 원소를 맞바꿈\n",
    "            mylist[i], mylist[j] = mylist[j], mylist[i]\n",
    "\n",
    "# 결과 출력\n",
    "print(mylist)"
   ]
  },
  {
   "cell_type": "code",
   "execution_count": null,
   "id": "1e30dc1f-01a7-4ee0-b3c1-9f7d8b5c2c4a",
   "metadata": {},
   "outputs": [],
   "source": []
  },
  {
   "cell_type": "markdown",
   "id": "e4fa6d22-2edf-4738-8b78-cd2effcea4be",
   "metadata": {},
   "source": [
    "# 파이썬 기본 문법 응용 문제 (2)\n",
    "\n",
    "---\n",
    "\n",
    "# 문제(1~3)\n",
    "\n",
    "아래의 데이터는 2021년 01월 25일부터 02월 01일까지의 Covid19 일별 확진자 수를 표현한 자료구조다.\n",
    "\n",
    "```python\n",
    "covid19 = [\n",
    "    {'0125': 426}, {'0126': 343}, {'0127': 547}, {'0128': 490}, \n",
    "    {'0129': 460}, {'0130': 443}, {'0131': 338}, {'0201': 299}\n",
    "]\n",
    "```\n",
    "\n",
    "위 데이터를 기반으로하여 아래의 물음에 답하시오.\n",
    "\n",
    "## 문제1.\n",
    "\n",
    "1월 25일부터 2월 1일까지의 누적 확진자 수와 일 평균 확진자 수를 구하시오."
   ]
  },
  {
   "cell_type": "code",
   "execution_count": 88,
   "id": "f083e689-c101-43fd-b51d-eb415fc58e84",
   "metadata": {},
   "outputs": [
    {
     "name": "stdout",
     "output_type": "stream",
     "text": [
      "[426, 343, 547, 490, 460, 443, 338, 299]\n",
      "누적 확진자 =  3346 평균 확진자 =  418.25\n"
     ]
    }
   ],
   "source": [
    "covid19 = [\n",
    "    {'0125': 426}, {'0126': 343}, {'0127': 547}, {'0128': 490}, \n",
    "    {'0129': 460}, {'0130': 443}, {'0131': 338}, {'0201': 299}\n",
    "]\n",
    "#딕셔너리 keys와 values\n",
    "pain_sum = 0\n",
    "pain_list = []\n",
    "for i in covid19:\n",
    "    num = list(i.values())\n",
    "    pain_list.extend(num)\n",
    "print(pain_list)\n",
    "print(\"누적 확진자 = \",sum(pain_list), \"평균 확진자 = \", sum(pain_list) / len(pain_list))\n"
   ]
  },
  {
   "cell_type": "code",
   "execution_count": 117,
   "id": "d6855196-b44e-4310-846c-dd9e1f936543",
   "metadata": {},
   "outputs": [
    {
     "name": "stdout",
     "output_type": "stream",
     "text": [
      "0127\n"
     ]
    }
   ],
   "source": [
    "#확진자가 가장 많이 나타난 날짜는 언제인가?\n",
    "covid19 = [\n",
    "    {'0125': 426}, {'0126': 343}, {'0127': 547}, {'0128': 490}, \n",
    "    {'0129': 460}, {'0130': 443}, {'0131': 338}, {'0201': 299}\n",
    "]\n",
    "\n",
    "maxkey = 0\n",
    "maxlist = 0\n",
    "for im in covid19:\n",
    "    p_key = list(im.keys())\n",
    "    p_list = list(im.values())\n",
    "    if p_list[0] > maxlist:\n",
    "        maxlist = p_list[0] \n",
    "        maxkey = p_key[0] \n",
    "print(maxkey)"
   ]
  },
  {
   "cell_type": "code",
   "execution_count": 6,
   "id": "28831b9c-8aee-4ac5-a140-8cc013ea85a5",
   "metadata": {},
   "outputs": [
    {
     "name": "stdout",
     "output_type": "stream",
     "text": [
      "[{'0201': 299}, {'0131': 338}, {'0126': 343}, {'0125': 426}, {'0130': 443}, {'0129': 460}, {'0128': 490}, {'0127': 547}]\n"
     ]
    }
   ],
   "source": [
    "#위의 데이터를 확진자 수에 대한 오름차순으로 정렬하시오.\n",
    "covid19 = [\n",
    "    {'0125': 426}, {'0126': 343}, {'0127': 547}, {'0128': 490}, \n",
    "    {'0129': 460}, {'0130': 443}, {'0131': 338}, {'0201': 299}\n",
    "]\n",
    "\n",
    "len(covid19)\n",
    "for i in range(0, len(covid19)):\n",
    "    for j in range(i+1, len(covid19)):\n",
    "        x = list(covid19[i].values())\n",
    "        y = list(covid19[j].values())\n",
    "        if x[0] > y[0]:\n",
    "            covid19[i],covid19[j] = covid19[j],covid19[i]\n",
    "\n",
    "print(covid19)"
   ]
  },
  {
   "cell_type": "code",
   "execution_count": 17,
   "id": "61943705-4dec-4607-b4e9-82a17958ed42",
   "metadata": {},
   "outputs": [
    {
     "name": "stdout",
     "output_type": "stream",
     "text": [
      "[{'0127': 547}, {'0128': 490}, {'0129': 460}, {'0130': 443}, {'0125': 426}, {'0126': 343}, {'0131': 338}, {'0201': 299}]\n"
     ]
    }
   ],
   "source": [
    "#위의 데이터를 확진자 수에 대한 내림차순으로 정렬하시오.\n",
    "covid19 = [\n",
    "    {'0125': 426}, {'0126': 343}, {'0127': 547}, {'0128': 490}, \n",
    "    {'0129': 460}, {'0130': 443}, {'0131': 338}, {'0201': 299}\n",
    "]\n",
    "\n",
    "for i in range(0, len(covid19)):\n",
    "    for j in range(i+1, len(covid19)):\n",
    "        x = list(covid19[i].values())\n",
    "        y = list(covid19[j].values())\n",
    "        if x[0] < y[0]:\n",
    "            covid19[i],covid19[j] = covid19[j],covid19[i]\n",
    "\n",
    "print(covid19)"
   ]
  },
  {
   "cell_type": "markdown",
   "id": "d2d2d2c8-8712-4564-8c44-f4d283f847aa",
   "metadata": {},
   "source": [
    "## 문제 4.\n",
    "\n",
    "다음은 10명의 학생들에 대한 혈액형 데이터 이다.\n",
    "\n",
    "```python\n",
    "['A', 'A', 'A', 'O', 'B', 'B', 'O', 'AB', 'AB', 'O']\n",
    "```\n",
    "\n",
    "for문을 이용하여 각 혈액형 별 학생수를 아래의 딕셔너리 `result`에 구하시오.\n",
    "\n",
    "```python\n",
    "result = {\"A\" : 0, \"B\" : 0, \"AB\" : 0, \"O\" : 0}\n",
    "```"
   ]
  },
  {
   "cell_type": "code",
   "execution_count": 18,
   "id": "d6d8d9ca-6201-4028-81ac-3d466a4fd6f1",
   "metadata": {},
   "outputs": [
    {
     "name": "stdout",
     "output_type": "stream",
     "text": [
      "0\n",
      "{'A': 3, 'B': 2, 'AB': 2, 'O': 3}\n"
     ]
    }
   ],
   "source": [
    "bld = ['A', 'A', 'A', 'O', 'B', 'B', 'O', 'AB', 'AB', 'O']\n",
    "result = {\"A\" : 0, \"B\" : 0, \"AB\" : 0, \"O\" : 0}\n",
    "\n",
    "print(result[\"A\"])\n",
    "\n",
    "for i in bld:\n",
    "    result[i] += 1\n",
    "print(result)"
   ]
  },
  {
   "cell_type": "markdown",
   "id": "b3a828f5-eae8-4407-8b14-28186d51746b",
   "metadata": {},
   "source": [
    "## 문제 5.\n",
    "\n",
    "for문을 중첩하여 실행하여 아래와 같은 출력 결과를 만드시오.\n",
    "\n",
    "```python\n",
    "0 1 2 3 \n",
    "1 2 3 4 \n",
    "2 3 4 5 \n",
    "3 4 5 6 \n",
    "```"
   ]
  },
  {
   "cell_type": "code",
   "execution_count": 31,
   "id": "ab4d8896-d978-4268-a7c4-ebf987e9fd9e",
   "metadata": {},
   "outputs": [
    {
     "name": "stdout",
     "output_type": "stream",
     "text": [
      "0 1 2 3\n",
      "1 2 3 4\n",
      "2 3 4 5\n",
      "3 4 5 6\n"
     ]
    }
   ],
   "source": [
    "for i in range(0,4):\n",
    "    for j in range(i+1,i+2):\n",
    "        for k in range(i+2,i+3):\n",
    "            for l in range(i+3,i+4):\n",
    "                print(i,j,k,l)"
   ]
  },
  {
   "cell_type": "code",
   "execution_count": 35,
   "id": "1ece4d71-fe64-4fba-ac0a-e8fa237638ae",
   "metadata": {},
   "outputs": [
    {
     "name": "stdout",
     "output_type": "stream",
     "text": [
      "0 1 2 3 \n",
      "1 2 3 4 \n",
      "2 3 4 5 \n",
      "3 4 5 6 \n"
     ]
    }
   ],
   "source": [
    "for i in range(0, 4):\n",
    "    print(i, end = \" \")\n",
    "    for j in range(i+1, i+4):      \n",
    "        print(j, end = \" \")\n",
    "    print()\n"
   ]
  },
  {
   "cell_type": "code",
   "execution_count": 43,
   "id": "440738b4-3278-4c0a-8b36-4b270dca9e02",
   "metadata": {},
   "outputs": [
    {
     "name": "stdout",
     "output_type": "stream",
     "text": [
      "0 1 2 3 \n",
      "1 2 3 4 \n",
      "2 3 4 5 \n",
      "3 4 5 6 \n"
     ]
    }
   ],
   "source": [
    "for i in range(0, 4):\n",
    "    print(i, end = \" \")\n",
    "    for j in range(i+1, i+4):\n",
    "        print(j, end = \" \")\n",
    "    print()"
   ]
  },
  {
   "cell_type": "markdown",
   "id": "60b06b03-2d6d-4228-9acb-54bfc3d2e6a4",
   "metadata": {},
   "source": [
    "----\n",
    "\n",
    "## 문제1\n",
    "\n",
    "다음 리스트는 어느 학급의 중간고사 성적이다\n",
    "\n",
    "```python\n",
    "exam = {\n",
    "    \"철수\": [89,82,79,91],\n",
    "    \"민영\": [91,95,94,89],\n",
    "    \"남철\": [65,57,71,64],\n",
    "    \"혜진\": [82,76,81,83],\n",
    "}\n",
    "```\n",
    "\n",
    "위 데이터에서 학생별 총점과 평균을 구하시오."
   ]
  },
  {
   "cell_type": "code",
   "execution_count": 56,
   "id": "fb50fc16-deb1-4c9f-a1e7-00dabe447408",
   "metadata": {},
   "outputs": [
    {
     "name": "stdout",
     "output_type": "stream",
     "text": [
      "철수의 총점 : 341 평균 : 85.25\n",
      "민영의 총점 : 369 평균 : 92.25\n",
      "남철의 총점 : 257 평균 : 64.25\n",
      "혜진의 총점 : 322 평균 : 80.5\n"
     ]
    }
   ],
   "source": [
    "exam = {\n",
    "    \"철수\": [89,82,79,91],\n",
    "    \"민영\": [91,95,94,89],\n",
    "    \"남철\": [65,57,71,64],\n",
    "    \"혜진\": [82,76,81,83],\n",
    "}\n",
    "\n",
    "name = list(exam.keys())\n",
    "grade = list(exam.values())\n",
    "\n",
    "for i in range(0, len(name)):\n",
    "    print(name[i]+\"의 총점 :\",sum(grade[i]),\"평균 :\", sum(grade[i]) / len(grade[i]))\n",
    "    "
   ]
  },
  {
   "cell_type": "markdown",
   "id": "dcfe37fe-f786-4a93-a56a-923ed759123d",
   "metadata": {},
   "source": [
    "----\n",
    "\n",
    "## 문제2\n",
    "\n",
    "위 1번 문제의 점수가 순서대로 국어, 영어, 수학, 과학일 경우 수학에 대한 모든 학생의 총점,평균을 구하시오."
   ]
  },
  {
   "cell_type": "code",
   "execution_count": 82,
   "id": "d0f6d2cc-9c55-45df-a397-f4a4ade754e1",
   "metadata": {},
   "outputs": [
    {
     "name": "stdout",
     "output_type": "stream",
     "text": [
      "수학 총점은 325 평균은 81.25\n",
      "수학 총점은 325, 평균은 81점입니다.\n"
     ]
    }
   ],
   "source": [
    "exam = {\n",
    "    \"철수\": [89,82,79,91],\n",
    "    \"민영\": [91,95,94,89],\n",
    "    \"남철\": [65,57,71,64],\n",
    "    \"혜진\": [82,76,81,83],\n",
    "}\n",
    "\n",
    "name = list(exam.keys())\n",
    "grade = list(exam.values())\n",
    "sum = 0\n",
    "for i in range(0, len(name)):\n",
    "    sum += grade[i][2] \n",
    "\n",
    "print(\"수학 총점은\", sum, \"평균은\", sum / len(name))\n",
    "print(\"수학 총점은 %d, 평균은 %d점입니다.\" % (sum, sum / len(name)))"
   ]
  },
  {
   "cell_type": "markdown",
   "id": "5203bc71-c383-4234-b300-78e8822f6666",
   "metadata": {},
   "source": [
    "----\n",
    "\n",
    "## 문제3\n",
    "\n",
    "구구단 프로그램을 만들고자 한다.\n",
    "\n",
    "전체를 출력하는 구구단이 아니라 1번을 입력하면 홀수단(3,5,7,9) 2번을 입력하면 짝수단(2,4,6,8)을 출력하는\n",
    "프로그램을 완성하시오.\n"
   ]
  },
  {
   "cell_type": "code",
   "execution_count": 1,
   "id": "92cbfb11-e461-4878-bd08-0cd1d7c33991",
   "metadata": {},
   "outputs": [
    {
     "name": "stdin",
     "output_type": "stream",
     "text": [
      "1 or 2 =>  2\n"
     ]
    },
    {
     "name": "stdout",
     "output_type": "stream",
     "text": [
      "2 X 1 = 2\n",
      "2 X 2 = 4\n",
      "2 X 3 = 6\n",
      "2 X 4 = 8\n",
      "2 X 5 = 10\n",
      "2 X 6 = 12\n",
      "2 X 7 = 14\n",
      "2 X 8 = 16\n",
      "2 X 9 = 18\n",
      "4 X 1 = 4\n",
      "4 X 2 = 8\n",
      "4 X 3 = 12\n",
      "4 X 4 = 16\n",
      "4 X 5 = 20\n",
      "4 X 6 = 24\n",
      "4 X 7 = 28\n",
      "4 X 8 = 32\n",
      "4 X 9 = 36\n",
      "6 X 1 = 6\n",
      "6 X 2 = 12\n",
      "6 X 3 = 18\n",
      "6 X 4 = 24\n",
      "6 X 5 = 30\n",
      "6 X 6 = 36\n",
      "6 X 7 = 42\n",
      "6 X 8 = 48\n",
      "6 X 9 = 54\n",
      "8 X 1 = 8\n",
      "8 X 2 = 16\n",
      "8 X 3 = 24\n",
      "8 X 4 = 32\n",
      "8 X 5 = 40\n",
      "8 X 6 = 48\n",
      "8 X 7 = 56\n",
      "8 X 8 = 64\n",
      "8 X 9 = 72\n"
     ]
    }
   ],
   "source": [
    "fst = int(input(\"1 or 2 => \"))\n",
    "if fst == 1:\n",
    "    for i in (3,5,7,9):\n",
    "        for j in range(1,10):\n",
    "            print(i, \"X\", j, \"=\", i*j)\n",
    "                                  \n",
    "if fst == 2:\n",
    "    for i in (2,4,6,8):\n",
    "        for j in range(1,10):\n",
    "            print(i, \"X\", j, \"=\", i*j)"
   ]
  },
  {
   "cell_type": "markdown",
   "id": "ee8802d0-5400-48d0-930c-4597584e1d56",
   "metadata": {},
   "source": [
    "----\n",
    "\n",
    "## 문제4\n",
    "\n",
    "아래와 같은 출력결과가 나타나도록 중첩 반복문을 for문 형식으로 구현하라.\n",
    "\n",
    "##### 1\n",
    "##### 12\n",
    "##### 123\n",
    "##### 1234\n",
    "##### 12345\n",
    "##### 123456\n",
    "##### 1234567"
   ]
  },
  {
   "cell_type": "code",
   "execution_count": 25,
   "id": "06adc64e-1453-41c4-a2f8-c784fd39736f",
   "metadata": {},
   "outputs": [
    {
     "name": "stdin",
     "output_type": "stream",
     "text": [
      "몇 줄 =  3\n"
     ]
    },
    {
     "name": "stdout",
     "output_type": "stream",
     "text": [
      "1\n",
      "12\n",
      "123\n"
     ]
    }
   ],
   "source": [
    "fst = int(input(\"몇 줄 = \"))\n",
    "for i in range(0, fst):\n",
    "    num = \"\"\n",
    "    for j in range(0, i+1):\n",
    "        num += str(j+1)\n",
    "    print(num)"
   ]
  },
  {
   "cell_type": "code",
   "execution_count": 32,
   "id": "919904aa-f252-408a-963f-de8a586b6b37",
   "metadata": {},
   "outputs": [
    {
     "name": "stdin",
     "output_type": "stream",
     "text": [
      "몇 줄?  3\n"
     ]
    },
    {
     "name": "stdout",
     "output_type": "stream",
     "text": [
      "\n",
      "*\n",
      "**\n",
      "***\n"
     ]
    }
   ],
   "source": [
    "fst = int(input(\"몇 줄? \"))\n",
    "for i in range(0, fst+1):\n",
    "    star = \"\"\n",
    "    for j in range(1, i+1):\n",
    "        star += \"*\"\n",
    "    print(star)"
   ]
  },
  {
   "cell_type": "markdown",
   "id": "30cfe2e9-4599-4158-b84e-f6019e21be33",
   "metadata": {},
   "source": [
    "----\n",
    "\n",
    "## 문제5\n",
    "\n",
    "### 유효한 주민번호인지 판별하는 코드를 짜보자. 판별방법은 아래와 같다.\n",
    "\n",
    "#### 1. 기본 주민등록코드에는 각 숫자에 대응하는 가중치가 있다. 가중치는 주민번호 순서에 따라\n",
    "####    2 3 4 5 6 7 8 9 2 3 4 5 이다.\n",
    "#### 2. 먼저 마지막 숫자는 제외하고, 기본코드의 각 12자리와 가중치를 모두 곱하여 합한다.\n",
    "#### 3. 합한 값을 11로 나눈 나머지 값을 구한다.\n",
    "#### 4. 11에서 그 나머지 값을 뺀 후, 이를 10으로 나눈 나머지를 구한다.\n",
    "#### 5. 나머지의 1의 자리 값과 주민번호 마지막 자리 값이 맞아야 유효한 주민번호이다.\n"
   ]
  },
  {
   "cell_type": "code",
   "execution_count": 11,
   "id": "73f6aef6-8a55-46a1-8d15-7e5b3c74573d",
   "metadata": {},
   "outputs": [
    {
     "name": "stdin",
     "output_type": "stream",
     "text": [
      " 8602061162112\n"
     ]
    },
    {
     "name": "stdout",
     "output_type": "stream",
     "text": [
      "130\n",
      "2\n",
      "2\n",
      "8602061162112은(는) 유효한 주민번호입니다\n"
     ]
    }
   ],
   "source": [
    "code = input()\n",
    "imp = [2,3,4,5,6,7,8,9,2,3,4,5]\n",
    "twosum = 0\n",
    "\n",
    "for i in range(0,12):\n",
    "    twosum += int(code[i])*imp[i]\n",
    "print(twosum)\n",
    "four = (11-(twosum % 11)) % 10\n",
    "print(code[12])\n",
    "print(four)\n",
    "if four == int(code[12]):\n",
    "    print(\"%d은(는) 유효한 주민번호입니다\" % int(code))\n",
    "else:\n",
    "    print(\"%d은(는) 유효한 주민번호가 아닙니다\" % int(code))"
   ]
  },
  {
   "cell_type": "code",
   "execution_count": 11,
   "id": "af83cfdc-5665-4879-ae7f-b906dfb5f3a0",
   "metadata": {},
   "outputs": [
    {
     "name": "stdin",
     "output_type": "stream",
     "text": [
      "나이 18\n",
      "태어난 월 2\n",
      "태어난 날짜 18\n",
      "성별 여자\n"
     ]
    },
    {
     "name": "stdout",
     "output_type": "stream",
     "text": [
      "20040218 - 4******\n"
     ]
    }
   ],
   "source": [
    "#주민번호 생년월일,성별,나이 > 앞부분 완성,나이계산 등\n",
    "#2000년 이후 >> 3,4\n",
    "anum = int(input(\"나이\"))\n",
    "amon = int(input(\"태어난 월\"))\n",
    "aday = int(input(\"태어난 날짜\"))\n",
    "asex = input(\"성별\")\n",
    "\n",
    "#년도 = 2021-1986+1 = 36 2000년생 = 22살, \n",
    "#월 #일 $02d\n",
    "#성별 남자=1,3 여자=2,4\n",
    "a = 2022 - anum \n",
    "#bc = \"%02d%02d\" % (amon, aday)\n",
    "d = 0\n",
    "if asex == \"남자\" and anum > 22:\n",
    "    d += 1\n",
    "elif asex == \"남자\" and anum <= 22:\n",
    "    d += 3\n",
    "elif asex == \"여자\" and anum > 22:\n",
    "    d += 2\n",
    "else:\n",
    "    d += 4\n",
    "\n",
    "print(str(2022-anum)+\"%02d%02d\" % (amon,aday), \"-\", str(d)+\"******\")"
   ]
  },
  {
   "cell_type": "code",
   "execution_count": 13,
   "id": "d3e560d1-59f7-48f3-8919-d23b42afbcff",
   "metadata": {},
   "outputs": [
    {
     "name": "stdin",
     "output_type": "stream",
     "text": [
      "몇 점? 65\n"
     ]
    },
    {
     "name": "stdout",
     "output_type": "stream",
     "text": [
      "때려처\n"
     ]
    }
   ],
   "source": [
    "grade = int(input(\"몇 점?\"))\n",
    "if grade > 90:\n",
    "    print(\"A학점\")\n",
    "elif grade > 80:\n",
    "    print(\"B학점\")\n",
    "else:\n",
    "    print(\"때려처\")"
   ]
  },
  {
   "cell_type": "code",
   "execution_count": 19,
   "id": "f53f8648-4cac-4ee3-a4e7-d126636b6e6f",
   "metadata": {},
   "outputs": [
    {
     "name": "stdout",
     "output_type": "stream",
     "text": [
      "1683\n",
      "1050\n",
      "315\n",
      "15\n",
      "[15, 30, 45, 60, 75, 90]\n"
     ]
    }
   ],
   "source": [
    "#1~100에서 3의 배수, 5의 배수, 공배수의 총합\n",
    "three = 0\n",
    "five = 0\n",
    "common = 0\n",
    "for i in range(1,101):\n",
    "    if i % 3 == 0:\n",
    "        three += i\n",
    "    if i % 5 == 0:\n",
    "        five += i\n",
    "    if i % 3 == 0 and i % 5 == 0:\n",
    "        common += i\n",
    "print(three)\n",
    "print(five)\n",
    "print(common)\n",
    "#최소공배수\n",
    "for i in range(1,101):\n",
    "    if i % 3 == 0 and i % 5 == 0:\n",
    "        print(i)\n",
    "        break\n",
    "#공배수들의 집합\n",
    "com = []\n",
    "for i in range(1,101):\n",
    "    if i % 3 == 0 and i % 5 == 0:\n",
    "        com.append(i)\n",
    "print(com)"
   ]
  },
  {
   "cell_type": "code",
   "execution_count": 2,
   "id": "949a9fa1-23bb-4b49-8aa6-5231deb91721",
   "metadata": {},
   "outputs": [
    {
     "name": "stdout",
     "output_type": "stream",
     "text": [
      "마린 유닛이 생성되었습니다.\n",
      "체력 40, 공격력 5\n",
      "마린 유닛이 생성되었습니다.\n",
      "체력 40, 공격력 5\n",
      "탱크 유닛이 생성되었습니다.\n",
      "체력 150, 공격력 30\n"
     ]
    }
   ],
   "source": [
    "class unit:\n",
    "    def __init__(self, name, hp, damage):\n",
    "        self.name = name\n",
    "        self.hp = hp\n",
    "        self.damage = damage\n",
    "        print(\"{0} 유닛이 생성되었습니다.\".format(self.name))\n",
    "        print(\"체력 {0}, 공격력 {1}\".format(self.hp, self.damage))\n",
    "\n",
    "marine1 = unit(\"마린\", 40, 5)\n",
    "marine2 = unit(\"마린\", 40, 5)\n",
    "tank = unit(\"탱크\", 150, 30)\n",
    "\n",
    "#__init__ 생성자\n",
    "#마린이나 탱크 객체가 만들어질때 자동으로 호출\n",
    "# = 유닛 클래스의 인스턴스\n",
    "#self를 제외한 변수 숫자와 동일해야함\n"
   ]
  },
  {
   "cell_type": "code",
   "execution_count": null,
   "id": "ec4a3ef2-2b5b-4bef-bd45-3cea528b4d63",
   "metadata": {},
   "outputs": [],
   "source": []
  }
 ],
 "metadata": {
  "kernelspec": {
   "display_name": "Python 3 (ipykernel)",
   "language": "python",
   "name": "python3"
  },
  "language_info": {
   "codemirror_mode": {
    "name": "ipython",
    "version": 3
   },
   "file_extension": ".py",
   "mimetype": "text/x-python",
   "name": "python",
   "nbconvert_exporter": "python",
   "pygments_lexer": "ipython3",
   "version": "3.9.7"
  }
 },
 "nbformat": 4,
 "nbformat_minor": 5
}
