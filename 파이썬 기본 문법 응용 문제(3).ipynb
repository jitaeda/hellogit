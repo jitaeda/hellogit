{
 "cells": [
  {
   "cell_type": "markdown",
   "id": "3d3e8b7c-725d-4091-b1cd-6d6455acc1e3",
   "metadata": {},
   "source": [
    "# 파이썬 기본 문법 응용 문제 (3)"
   ]
  },
  {
   "cell_type": "markdown",
   "id": "a18e83b2-233c-42e8-ac9b-2c84e3dbc248",
   "metadata": {},
   "source": [
    "----\n",
    "\n",
    "## 문제1\n",
    "\n",
    "다음 리스트는 어느 학급의 중간고사 성적이다\n",
    "\n",
    "```python\n",
    "exam = {\n",
    "    \"철수\": [89,82,79,91],\n",
    "    \"민영\": [91,95,94,89],\n",
    "    \"남철\": [65,57,71,64],\n",
    "    \"혜진\": [82,76,81,83],\n",
    "}\n",
    "```\n",
    "\n",
    "위 데이터에서 학생별 총점과 평균을 구하시오."
   ]
  },
  {
   "cell_type": "code",
   "execution_count": null,
   "id": "a62289fd-b0e6-49ed-b904-8ba47da146e6",
   "metadata": {},
   "outputs": [],
   "source": []
  },
  {
   "cell_type": "markdown",
   "id": "2a036d2c-7d18-4070-91da-ae4ff58fba1d",
   "metadata": {},
   "source": [
    "----\n",
    "\n",
    "## 문제2\n",
    "\n",
    "위 1번 문제의 점수가 순서대로 국어, 영어, 수학, 과학일 경우 수학에 대한 모든 학생의 총점,평균을 구하시오."
   ]
  },
  {
   "cell_type": "code",
   "execution_count": null,
   "id": "6611ee97-af08-46e1-8a26-2071bba1cf20",
   "metadata": {},
   "outputs": [],
   "source": []
  },
  {
   "cell_type": "markdown",
   "id": "daf5fba1-2cf4-46c4-910e-c71372a5b022",
   "metadata": {},
   "source": [
    "----\n",
    "\n",
    "## 문제3\n",
    "\n",
    "구구단 프로그램을 만들고자 한다.\n",
    "\n",
    "전체를 출력하는 구구단이 아니라 1번을 입력하면 홀수단(3,5,7,9) 2번을 입력하면 짝수단(2,4,6,8)을 출력하는\n",
    "프로그램을 완성하시오.\n"
   ]
  },
  {
   "cell_type": "code",
   "execution_count": null,
   "id": "e90634d5-fb5e-4aa5-8196-a5cf74062fd1",
   "metadata": {},
   "outputs": [],
   "source": []
  },
  {
   "cell_type": "markdown",
   "id": "5ae86383-6570-4890-b465-f68e9997e33d",
   "metadata": {},
   "source": [
    "----\n",
    "\n",
    "## 문제4\n",
    "\n",
    "아래와 같은 출력결과가 나타나도록 중첩 반복문을 for문 형식으로 구현하라.\n",
    "\n",
    "##### 1\n",
    "##### 12\n",
    "##### 123\n",
    "##### 1234\n",
    "##### 12345\n",
    "##### 123456\n",
    "##### 1234567"
   ]
  },
  {
   "cell_type": "code",
   "execution_count": null,
   "id": "927bf8c8-47c8-40c5-8c06-a244fd615c1c",
   "metadata": {},
   "outputs": [],
   "source": []
  },
  {
   "cell_type": "markdown",
   "id": "7ea52d33-167e-4f78-8163-316592fb341e",
   "metadata": {},
   "source": [
    "----\n",
    "\n",
    "## 문제5\n",
    "\n",
    "### 유효한 주민번호인지 판별하는 코드를 짜보자. 판별방법은 아래와 같다.\n",
    "\n",
    "#### 1. 기본 주민등록코드에는 각 숫자에 대응하는 가중치가 있다. 가중치는 주민번호 순서에 따라\n",
    "####    2 3 4 5 7 8 9 2 3 4 5 이다.\n",
    "#### 2. 먼저 마지막 숫자는 제외하고, 기본코드의 각 12자리와 가중치를 모두 곱하여 합한다.\n",
    "#### 3. 합한 값을 11로 나눈 나머지 값을 구한다.\n",
    "#### 4. 11에서 그 나머지 값을 뺀 후, 이를 10으로 나눈 나머지를 구한다.\n",
    "#### 5. 나머지의 1의 자리 값과 주민번호 마지막 자리 값이 맞아야 유효한 주민번호이다.\n"
   ]
  },
  {
   "cell_type": "markdown",
   "id": "254aea71-13c4-4594-b703-16a053736691",
   "metadata": {},
   "source": []
  }
 ],
 "metadata": {
  "kernelspec": {
   "display_name": "Python 3 (ipykernel)",
   "language": "python",
   "name": "python3"
  },
  "language_info": {
   "codemirror_mode": {
    "name": "ipython",
    "version": 3
   },
   "file_extension": ".py",
   "mimetype": "text/x-python",
   "name": "python",
   "nbconvert_exporter": "python",
   "pygments_lexer": "ipython3",
   "version": "3.9.7"
  }
 },
 "nbformat": 4,
 "nbformat_minor": 5
}
