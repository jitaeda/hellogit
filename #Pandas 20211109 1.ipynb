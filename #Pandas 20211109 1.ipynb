{
 "cells": [
  {
   "cell_type": "code",
   "execution_count": 1,
   "id": "9b217c4e-5afa-47f7-b407-06299a4bf657",
   "metadata": {},
   "outputs": [
    {
     "name": "stdout",
     "output_type": "stream",
     "text": [
      "Collecting pymysql\n",
      "  Downloading PyMySQL-1.0.2-py3-none-any.whl (43 kB)\n",
      "Installing collected packages: pymysql\n",
      "Successfully installed pymysql-1.0.2\n",
      "Note: you may need to restart the kernel to use updated packages.\n"
     ]
    }
   ],
   "source": [
    "pip install --upgrade pymysql"
   ]
  },
  {
   "cell_type": "markdown",
   "id": "c7ec3137-82c7-4aa9-8dba-2cc66ad54de7",
   "metadata": {},
   "source": [
    "# 데이터 입력, 수정, 삭제"
   ]
  },
  {
   "cell_type": "code",
   "execution_count": 3,
   "id": "96475025-c8ca-4bfb-ba8a-72d067fb59a0",
   "metadata": {},
   "outputs": [],
   "source": [
    "import pymysql\n",
    "from pandas import DataFrame"
   ]
  },
  {
   "cell_type": "code",
   "execution_count": 4,
   "id": "b12c58ff-79e7-4ac9-8199-67ad2941657a",
   "metadata": {},
   "outputs": [],
   "source": [
    "HOSTNAME = \"localhost\"\n",
    "PORT = 3306\n",
    "USERNAME = \"root\"\n",
    "PASSWORD = \"123qwe!@#\"\n",
    "DATABASE = \"myschool\"\n",
    "CHARSET = \"utf8\""
   ]
  },
  {
   "cell_type": "code",
   "execution_count": 5,
   "id": "fd2c6800-f9a5-41dd-9970-fc4d59348f9a",
   "metadata": {},
   "outputs": [],
   "source": [
    "dbcon = pymysql.connect(host = HOSTNAME, port = PORT, user = USERNAME, password = PASSWORD,\n",
    "                       db = DATABASE, charset = CHARSET)"
   ]
  },
  {
   "cell_type": "code",
   "execution_count": 6,
   "id": "3dcb6041-453b-43c5-9dbe-01ff837cbc15",
   "metadata": {},
   "outputs": [],
   "source": [
    "cursor = dbcon.cursor()"
   ]
  },
  {
   "cell_type": "code",
   "execution_count": 12,
   "id": "faf6f3da-428f-418d-8c88-3b5dfac415ef",
   "metadata": {},
   "outputs": [
    {
     "name": "stdout",
     "output_type": "stream",
     "text": [
      "생성된 학과번호 : 205\n"
     ]
    },
    {
     "data": {
      "text/plain": [
       "<bound method Connection.commit of <pymysql.connections.Connection object at 0x0000019558634370>>"
      ]
     },
     "execution_count": 12,
     "metadata": {},
     "output_type": "execute_result"
    }
   ],
   "source": [
    "dname = 'Python'\n",
    "loc = '1401호'\n",
    "\n",
    "sql = \"INSERT INTO department (dname, loc) VALUES (%s, %s)\"\n",
    "cursor.execute(sql, (dname, loc))\n",
    "\n",
    "new_deptno = dbcon.insert_id()\n",
    "print(\"생성된 학과번호 : %d\" % new_deptno)\n",
    "\n",
    "dbcon.commit"
   ]
  },
  {
   "cell_type": "code",
   "execution_count": 13,
   "id": "9836b751-7a6c-451e-aa44-0eaf1b0b76fb",
   "metadata": {},
   "outputs": [
    {
     "name": "stdout",
     "output_type": "stream",
     "text": [
      "수정된 데이터 수: 1\n"
     ]
    },
    {
     "data": {
      "text/plain": [
       "<bound method Connection.commit of <pymysql.connections.Connection object at 0x0000019558634370>>"
      ]
     },
     "execution_count": 13,
     "metadata": {},
     "output_type": "execute_result"
    }
   ],
   "source": [
    "dname = '빅데이터'\n",
    "loc = '공학관'\n",
    "\n",
    "sql = \"UPDATE department SET dname = %s, loc = %s WHERE deptno = %s\"\n",
    "edit_count = cursor.execute(sql, (dname, loc, new_deptno))\n",
    "\n",
    "print(\"수정된 데이터 수: %d\" % edit_count)\n",
    "dbcon.commit"
   ]
  },
  {
   "cell_type": "code",
   "execution_count": 14,
   "id": "f989570b-dedf-412b-ab02-ded03fadb17f",
   "metadata": {},
   "outputs": [
    {
     "name": "stdout",
     "output_type": "stream",
     "text": [
      "삭제된 데이터 수: 1\n"
     ]
    }
   ],
   "source": [
    "sql = \"DELETE FROM department WHERE deptno = %s\"\n",
    "delete_count = cursor.execute(sql, (new_deptno))\n",
    "\n",
    "print(\"삭제된 데이터 수: %d\" % delete_count)\n",
    "dbcon.commit()"
   ]
  },
  {
   "cell_type": "markdown",
   "id": "5150da9d-44cf-419f-9694-6362d9a7f4e5",
   "metadata": {},
   "source": [
    "# 데이터 조회하기"
   ]
  },
  {
   "cell_type": "code",
   "execution_count": 15,
   "id": "2b3e3e48-e0d3-494d-8543-d08626067c12",
   "metadata": {},
   "outputs": [
    {
     "data": {
      "text/plain": [
       "(202, '기계공학과', '4호관')"
      ]
     },
     "execution_count": 15,
     "metadata": {},
     "output_type": "execute_result"
    }
   ],
   "source": [
    "sql = \"\"\"SELECT deptno AS '학과번호', dname AS '학과이름', loc AS '학과위치'\n",
    "        FROM department WHERE deptno=%s\"\"\"\n",
    "\n",
    "cursor.execute(sql, (202))\n",
    "result = cursor.fetchone()\n",
    "result"
   ]
  },
  {
   "cell_type": "code",
   "execution_count": 16,
   "id": "3296b712-06f2-49ee-92eb-7daf15028b68",
   "metadata": {},
   "outputs": [
    {
     "data": {
      "text/plain": [
       "((101, '컴퓨터공학과', '1호관'),\n",
       " (102, '멀티미디어학과', '2호관'),\n",
       " (201, '전자공학과', '3호관'),\n",
       " (202, '기계공학과', '4호관'),\n",
       " (203, 'Python', '1401호'))"
      ]
     },
     "execution_count": 16,
     "metadata": {},
     "output_type": "execute_result"
    }
   ],
   "source": [
    "sql = \"SELECT deptno, dname, loc FROM department\"\n",
    "cursor.execute(sql)\n",
    "\n",
    "result = cursor.fetchall()\n",
    "result"
   ]
  },
  {
   "cell_type": "code",
   "execution_count": 17,
   "id": "f025e4e6-a7d5-45c8-ac06-1356d911d769",
   "metadata": {},
   "outputs": [],
   "source": [
    "cursor = dbcon.cursor(pymysql.cursors.DictCursor)"
   ]
  },
  {
   "cell_type": "code",
   "execution_count": 19,
   "id": "6f5ce07f-c101-43dd-9b05-3d359adac77f",
   "metadata": {},
   "outputs": [
    {
     "data": {
      "text/plain": [
       "[{'학과번호': 202, '학과이름': '기계공학과', '학과위치': '4호관'}]"
      ]
     },
     "execution_count": 19,
     "metadata": {},
     "output_type": "execute_result"
    }
   ],
   "source": [
    "sql = \"\"\"SELECT deptno AS `학과번호`, dname AS '학과이름', loc AS '학과위치'\n",
    "        FROM department WHERE deptno = %s\"\"\"\n",
    "\n",
    "cursor.execute(sql, (202))\n",
    "result = cursor.fetchall()\n",
    "result"
   ]
  },
  {
   "cell_type": "code",
   "execution_count": 20,
   "id": "f78fdce1-a503-4e0d-a6fc-a6c27b668a61",
   "metadata": {},
   "outputs": [
    {
     "data": {
      "text/plain": [
       "[{'deptno': 101, 'dname': '컴퓨터공학과', 'loc': '1호관'},\n",
       " {'deptno': 102, 'dname': '멀티미디어학과', 'loc': '2호관'},\n",
       " {'deptno': 201, 'dname': '전자공학과', 'loc': '3호관'},\n",
       " {'deptno': 202, 'dname': '기계공학과', 'loc': '4호관'},\n",
       " {'deptno': 203, 'dname': 'Python', 'loc': '1401호'}]"
      ]
     },
     "execution_count": 20,
     "metadata": {},
     "output_type": "execute_result"
    }
   ],
   "source": [
    "sql = \"SELECT deptno, dname, loc FROM department\"\n",
    "cursor.execute(sql)\n",
    "\n",
    "result = cursor.fetchall()\n",
    "result"
   ]
  },
  {
   "cell_type": "code",
   "execution_count": 21,
   "id": "286dc809-e312-4ed0-999d-4e0e353d9bd6",
   "metadata": {},
   "outputs": [
    {
     "data": {
      "text/html": [
       "<div>\n",
       "<style scoped>\n",
       "    .dataframe tbody tr th:only-of-type {\n",
       "        vertical-align: middle;\n",
       "    }\n",
       "\n",
       "    .dataframe tbody tr th {\n",
       "        vertical-align: top;\n",
       "    }\n",
       "\n",
       "    .dataframe thead th {\n",
       "        text-align: right;\n",
       "    }\n",
       "</style>\n",
       "<table border=\"1\" class=\"dataframe\">\n",
       "  <thead>\n",
       "    <tr style=\"text-align: right;\">\n",
       "      <th></th>\n",
       "      <th>dname</th>\n",
       "      <th>loc</th>\n",
       "    </tr>\n",
       "    <tr>\n",
       "      <th>deptno</th>\n",
       "      <th></th>\n",
       "      <th></th>\n",
       "    </tr>\n",
       "  </thead>\n",
       "  <tbody>\n",
       "    <tr>\n",
       "      <th>101</th>\n",
       "      <td>컴퓨터공학과</td>\n",
       "      <td>1호관</td>\n",
       "    </tr>\n",
       "    <tr>\n",
       "      <th>102</th>\n",
       "      <td>멀티미디어학과</td>\n",
       "      <td>2호관</td>\n",
       "    </tr>\n",
       "    <tr>\n",
       "      <th>201</th>\n",
       "      <td>전자공학과</td>\n",
       "      <td>3호관</td>\n",
       "    </tr>\n",
       "    <tr>\n",
       "      <th>202</th>\n",
       "      <td>기계공학과</td>\n",
       "      <td>4호관</td>\n",
       "    </tr>\n",
       "    <tr>\n",
       "      <th>203</th>\n",
       "      <td>Python</td>\n",
       "      <td>1401호</td>\n",
       "    </tr>\n",
       "  </tbody>\n",
       "</table>\n",
       "</div>"
      ],
      "text/plain": [
       "          dname    loc\n",
       "deptno                \n",
       "101      컴퓨터공학과    1호관\n",
       "102     멀티미디어학과    2호관\n",
       "201       전자공학과    3호관\n",
       "202       기계공학과    4호관\n",
       "203      Python  1401호"
      ]
     },
     "execution_count": 21,
     "metadata": {},
     "output_type": "execute_result"
    }
   ],
   "source": [
    "df = DataFrame(result)\n",
    "df2 = df.set_index('deptno')\n",
    "df2"
   ]
  },
  {
   "cell_type": "code",
   "execution_count": 22,
   "id": "3b401a45-15ca-4839-a0e5-e0bcbb852ba7",
   "metadata": {},
   "outputs": [],
   "source": [
    "cursor.close()"
   ]
  }
 ],
 "metadata": {
  "kernelspec": {
   "display_name": "Python 3 (ipykernel)",
   "language": "python",
   "name": "python3"
  },
  "language_info": {
   "codemirror_mode": {
    "name": "ipython",
    "version": 3
   },
   "file_extension": ".py",
   "mimetype": "text/x-python",
   "name": "python",
   "nbconvert_exporter": "python",
   "pygments_lexer": "ipython3",
   "version": "3.9.7"
  }
 },
 "nbformat": 4,
 "nbformat_minor": 5
}
