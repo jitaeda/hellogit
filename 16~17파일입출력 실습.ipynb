{
 "cells": [
  {
   "cell_type": "markdown",
   "id": "f3eee544-cdb2-46f6-b64a-71663265415b",
   "metadata": {},
   "source": [
    "# 파일 객체 생성하기\n",
    "### 객체이름 = open(파일경로, 읽기모드, encoding = '인코딩')"
   ]
  },
  {
   "cell_type": "code",
   "execution_count": 8,
   "id": "1d30389b-6152-45bf-a42f-8eae911e7233",
   "metadata": {},
   "outputs": [],
   "source": [
    "#open() 함수\n",
    "#지정된 파일이 없으면 새로 생성하고 있으면 가져온다.\n",
    "\n",
    "#'r' : 읽기모드, 'w' : 쓰기모드(덮어쓰기), 'a' : 추가모드(유지하면서 추가)\n",
    "\n",
    "#쓰기모드\n",
    "f = open(\"helloworld.txt\", \"w\", encoding = \"utf-8\")\n",
    "f.write(\"hello python\\n\")\n",
    "f.write(\"안녕하세요\\n\")\n",
    "#helloworld.txt 파일이 없으므로 주피터 기본 폴더에 생성\n",
    "#열어보면 두 줄 입력되있다.\n",
    "f.close()"
   ]
  },
  {
   "cell_type": "code",
   "execution_count": 7,
   "id": "99038d27-8809-42e4-897f-ef88b495461e",
   "metadata": {},
   "outputs": [
    {
     "name": "stdout",
     "output_type": "stream",
     "text": [
      "hello python\n",
      "안녕하세요\n",
      "\n"
     ]
    }
   ],
   "source": [
    "#파일 읽기\n",
    "f = open(\"helloworld.txt\", \"r\", encoding = \"utf-8\") #r로 바꿈\n",
    "data = f.read()\n",
    "print(data)\n",
    "f.close() #반드시! 해줘야 함"
   ]
  },
  {
   "cell_type": "code",
   "execution_count": 11,
   "id": "f24109ed-c93a-46ae-aae7-8ab0a2811a37",
   "metadata": {},
   "outputs": [
    {
     "name": "stdout",
     "output_type": "stream",
     "text": [
      "저장이 완료되었습니다.\n"
     ]
    }
   ],
   "source": [
    "#with 를 활용한 파일 쓰기(f.close() 자동 수행)\n",
    "with open(\"helloworld.txt\", \"w\", encoding = 'utf-8') as f: # f=과 같다.\n",
    "    for i in range(1, 10):\n",
    "        f.write(\"%d >> \" % i)\n",
    "        f.write(\"Life is short, \")\n",
    "        f.write(\"you need Python\\n\")\n",
    "    print(\"저장이 완료되었습니다.\")"
   ]
  },
  {
   "cell_type": "code",
   "execution_count": 12,
   "id": "09b4c5e8-744a-4ee3-a78c-42fd0a79da4f",
   "metadata": {},
   "outputs": [
    {
     "name": "stdout",
     "output_type": "stream",
     "text": [
      "1 >> Life is short, you need Python\n",
      "2 >> Life is short, you need Python\n",
      "3 >> Life is short, you need Python\n",
      "4 >> Life is short, you need Python\n",
      "5 >> Life is short, you need Python\n",
      "6 >> Life is short, you need Python\n",
      "7 >> Life is short, you need Python\n",
      "8 >> Life is short, you need Python\n",
      "9 >> Life is short, you need Python\n",
      "\n"
     ]
    }
   ],
   "source": [
    "#with를 활용한 파일 읽기\n",
    "with open(\"helloworld.txt\", 'r', encoding = 'utf-8') as f:\n",
    "    data = f.read()\n",
    "    print(data)"
   ]
  },
  {
   "cell_type": "code",
   "execution_count": 17,
   "id": "02702606-bfcf-4d6d-89e0-76db77747f8d",
   "metadata": {},
   "outputs": [
    {
     "name": "stdout",
     "output_type": "stream",
     "text": [
      "['1 >> Life is short, you need Python\\n', '2 >> Life is short, you need Python\\n', '3 >> Life is short, you need Python\\n', '4 >> Life is short, you need Python\\n', '5 >> Life is short, you need Python\\n', '6 >> Life is short, you need Python\\n', '7 >> Life is short, you need Python\\n', '8 >> Life is short, you need Python\\n', '9 >> Life is short, you need Python\\n']\n",
      "------------------------------\n",
      "읽어들인 데이터는 총 9줄 입니다.\n",
      "------------------------------\n"
     ]
    }
   ],
   "source": [
    "#파일내용을 줄 단위로 리스트로\n",
    "with open(\"helloworld.txt\", 'r', encoding = 'utf-8') as f:\n",
    "    lines = f.readlines() #read와 readlines의 차이\n",
    "    print(lines) #리스트로 읽어온다.\n",
    "    print(\"-\"*30)\n",
    "    size = len(lines)\n",
    "    print(\"읽어들인 데이터는 총 %d줄 입니다.\" % size)\n",
    "    print(\"-\"*30) \n",
    "    #결과에 줄바꿈문자 \\n이 포함된다."
   ]
  },
  {
   "cell_type": "code",
   "execution_count": 18,
   "id": "541f6206-3882-41eb-89f3-f9f11ce87e1e",
   "metadata": {},
   "outputs": [
    {
     "name": "stdout",
     "output_type": "stream",
     "text": [
      "['1 >> Life is short, you need Python\\n', '2 >> Life is short, you need Python\\n', '3 >> Life is short, you need Python\\n', '4 >> Life is short, you need Python\\n', '5 >> Life is short, you need Python\\n', '6 >> Life is short, you need Python\\n', '7 >> Life is short, you need Python\\n', '8 >> Life is short, you need Python\\n', '9 >> Life is short, you need Python\\n']\n",
      "------------------------------\n",
      "읽어들인 데이터는 총 9줄 입니다.\n",
      "------------------------------\n",
      "1 >> Life is short, you need Python\n",
      "2 >> Life is short, you need Python\n",
      "3 >> Life is short, you need Python\n",
      "4 >> Life is short, you need Python\n",
      "5 >> Life is short, you need Python\n",
      "6 >> Life is short, you need Python\n",
      "7 >> Life is short, you need Python\n",
      "8 >> Life is short, you need Python\n",
      "9 >> Life is short, you need Python\n"
     ]
    }
   ],
   "source": [
    "with open(\"helloworld.txt\", 'r', encoding = 'utf-8') as f:\n",
    "    lines = f.readlines() #read와 readlines의 차이\n",
    "    print(lines) #리스트로 읽어온다.\n",
    "    print(\"-\"*30)\n",
    "    size = len(lines)\n",
    "    print(\"읽어들인 데이터는 총 %d줄 입니다.\" % size)\n",
    "    print(\"-\"*30) \n",
    "    #결과에 줄바꿈문자 \\n이 포함된다.\n",
    "    for i in lines:\n",
    "        print(i.strip()) #"
   ]
  },
  {
   "cell_type": "markdown",
   "id": "6c8560d2-bad9-4ef4-b0d8-f0e92dc5cc34",
   "metadata": {},
   "source": [
    "# CSV 파일 입출력"
   ]
  },
  {
   "cell_type": "code",
   "execution_count": 22,
   "id": "ce07213e-1a34-4992-a6f1-e51b8c0cbe8b",
   "metadata": {},
   "outputs": [],
   "source": [
    "#csv 파일 쓰기\n",
    "grade = [\n",
    "    {\"name\" : \"철수\", \"kor\" : 95, \"eng\" : 88, \"math\" : 72},\n",
    "    {\"name\" : \"영희\", \"kor\" : 92, \"eng\" : 90, \"math\" : 95},\n",
    "    {\"name\" : \"철민\", \"kor\" : 88, \"eng\" : 76, \"math\" : 64}\n",
    "]\n",
    "\n",
    "#CSV 파일 한 행에 대한 구문 형식\n",
    "tpl = \"{0},{1},{2},{3}\\n\"\n",
    "\n",
    "#저장하기 위한 f객체 생성(open()과 같다)\n",
    "# > Excel의 csv는 euc-kr형식이다.\n",
    "with open(\"grade2.csv\", \"w\", encoding = \"euc-kr\") as f:\n",
    "    f.write(\"이름, 국어, 영어, 수학\\n\") #각 항목의 제목\n",
    "    for item in grade: #각 행 반복하며 콤마로 구분해서 기록 후 줄바꿈\n",
    "        tmp = tpl.format(item[\"name\"], item[\"kor\"], item[\"eng\"],\n",
    "                        item[\"math\"])\n",
    "        f.write(tmp)"
   ]
  },
  {
   "cell_type": "code",
   "execution_count": 41,
   "id": "e555a136-fefc-4201-b41b-2239cb2e4212",
   "metadata": {},
   "outputs": [
    {
     "name": "stdout",
     "output_type": "stream",
     "text": [
      "['이름, 국어, 영어, 수학\\n', '철수,95,88,72\\n', '영희,92,90,95\\n', '철민,88,76,64\\n']\n",
      "철수,95,88,72\n",
      "['철수', '95', '88', '72']\n",
      "철수의 국어점수는 95, 영어점수는 88, 수학점수는 72이며 총점은 255, 평균은 85.00 입니다.\n",
      "영희,92,90,95\n",
      "['영희', '92', '90', '95']\n",
      "영희의 국어점수는 92, 영어점수는 90, 수학점수는 95이며 총점은 277, 평균은 92.33 입니다.\n",
      "철민,88,76,64\n",
      "['철민', '88', '76', '64']\n",
      "철민의 국어점수는 88, 영어점수는 76, 수학점수는 64이며 총점은 228, 평균은 76.00 입니다.\n"
     ]
    }
   ],
   "source": [
    "\"\"\"\n",
    "텍스트로 열어보면,\n",
    "\n",
    "이름, 국어, 영어, 수학\n",
    "철수,95,88,72\n",
    "영희,92,90,95\n",
    "철민,88,76,64\n",
    "\n",
    "엑셀의 각 행은 줄바꿈, 열은 콤마로 구분된다\n",
    "\"\"\"\n",
    "# csv 파일 읽어들이기\n",
    "csv_list = None #빈 변수 생성\n",
    "with open(\"grade2.csv\", 'r', encoding = 'euc-kr') as f:\n",
    "    csv_list = f.readlines() #readlines를 csv_list에 할당\n",
    "print(csv_list)\n",
    "\n",
    "# 읽어들인 내용으로 결과 산출\n",
    "for i, line in enumerate(csv_list): # i = 행 일련번호, line = 각 원소로 할당\n",
    "                                    # 을 반복\n",
    "    if i == 0:\n",
    "        continue #첫째 행 스킵(이름, 국어 등등)\n",
    "    item = line.strip()\n",
    "    print(item) # \\n 제거\n",
    "    itemi = line.strip().split(\",\")\n",
    "    print(itemi) # , 를 기준으로 잘라서 리스트로 변환\n",
    "    name = itemi[0]\n",
    "    kor = int(itemi[1])\n",
    "    eng = int(itemi[2])\n",
    "    math = int(itemi[3])\n",
    "    total = kor + eng + math\n",
    "    avg = total / 3\n",
    "    tpl = \"{0}의 국어점수는 {1}, 영어점수는 {2}, 수학점수는 {3}이며 총점은 {4}, 평균은 {5:0.2f} 입니다.\"\n",
    "    print(tpl.format(name, kor, eng, math, total, avg))"
   ]
  },
  {
   "cell_type": "code",
   "execution_count": 44,
   "id": "669e4ad2-2911-4904-af74-47b0e580fa67",
   "metadata": {},
   "outputs": [
    {
     "name": "stdout",
     "output_type": "stream",
     "text": [
      "['이름', '국어', '영어', '수학', '과학']\n",
      "이름,국어,영어,수학,과학\n"
     ]
    }
   ],
   "source": [
    "#다른 형식의 데이터를 csv 로 저장하기\n",
    "grade_dic = { #딕셔너리\n",
    "    '이름': ['철수', '영희', '민철', '수현', '호영'],\n",
    "    '국어': [98, 88, 92, 63, 120],\n",
    "    '영어': [76, 90, 70, 60, 50],\n",
    "    '수학': [88, 62, 88, 31, 76],\n",
    "    '과학': [64, 72, 45, 70, 88]\n",
    "}\n",
    "\n",
    "tpl = \"{0},{1},{2},{3},{4}\\n\"\n",
    "\n",
    "keys = list(grade_dic.keys())\n",
    "print(keys)\n",
    "p = ','\n",
    "title = p.join(keys) \n",
    "print(title) #keys 리스트 사이에 쉼표를 넣어 문자열로 변환\n",
    "with open(\"grade3.csv\", 'w', encoding = 'euc-kr') as f:\n",
    "    f.write(title + \"\\n\") # 첫 줄 제목 기록(이름, 국어 등등) =====\n",
    "    for i in range(0, len(grade_dic['이름'])):\n",
    "        \n",
    "        tmp = tpl.format(grade_dic['이름'][i], grade_dic['국어'][i],\n",
    "                         grade_dic['영어'][i], grade_dic['수학'][i],\n",
    "                         grade_dic['과학'][i])\n",
    "        f.write(tmp)"
   ]
  },
  {
   "cell_type": "code",
   "execution_count": null,
   "id": "df6fa82a-de5c-4cfe-b3a8-cfa657318f03",
   "metadata": {},
   "outputs": [],
   "source": []
  }
 ],
 "metadata": {
  "kernelspec": {
   "display_name": "Python 3 (ipykernel)",
   "language": "python",
   "name": "python3"
  },
  "language_info": {
   "codemirror_mode": {
    "name": "ipython",
    "version": 3
   },
   "file_extension": ".py",
   "mimetype": "text/x-python",
   "name": "python",
   "nbconvert_exporter": "python",
   "pygments_lexer": "ipython3",
   "version": "3.9.7"
  }
 },
 "nbformat": 4,
 "nbformat_minor": 5
}
