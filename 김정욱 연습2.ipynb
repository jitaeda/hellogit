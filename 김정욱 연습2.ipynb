{
 "cells": [
  {
   "cell_type": "markdown",
   "id": "7d68355f-5fbf-4054-b37b-0d3c91452fd1",
   "metadata": {
    "tags": []
   },
   "source": [
    "# 문제1\n",
    "### 1부터 100까지의 자연수 중에서 3의 배수의 총 합은 얼마인지 구하시오"
   ]
  },
  {
   "cell_type": "code",
   "execution_count": 3,
   "id": "aa79702d-4d61-4cf5-9aef-660d1e6a2a68",
   "metadata": {},
   "outputs": [
    {
     "name": "stdout",
     "output_type": "stream",
     "text": [
      "1683\n",
      "3366\n"
     ]
    }
   ],
   "source": [
    "total = 0 #0으로 초기화된 변수\n",
    "\n",
    "for i in range(1, 101): #1~x까지 반복수행 -> (1, x+1)\n",
    "    if i % 3 == 0: #3의 배수 = 나머지가 0\n",
    "        total += i #단항 연산자(total + i)\n",
    "\n",
    "print(total) "
   ]
  },
  {
   "cell_type": "code",
   "execution_count": 16,
   "id": "a774ce50-3d00-4c33-8da7-cf10e6526c21",
   "metadata": {},
   "outputs": [],
   "source": [
    "# 문제2\n",
    "### 숫자 x를 입력받은 후 x에 대한 팩토리얼을 for문을 활용해 구하시오\n",
    "\n",
    "x = int(input('x!(팩토리얼)계산기:')) #숫자 형변환\n",
    "\n",
    "y = 1 #결과\n",
    "\n",
    "for i in range(1, x+1):\n",
    "    y *= i\n",
    "    \n",
    "print(y)"
   ]
  },
  {
   "cell_type": "markdown",
   "id": "2603e9b6-ca34-4672-bd48-d3816a04812b",
   "metadata": {},
   "source": [
    "# 문제3\n",
    "### 0부터 100사이에 있는 짝수의 합을 while 문으로 구현하시오\n",
    "### 단 if문을 사용해서는 안된다"
   ]
  },
  {
   "cell_type": "code",
   "execution_count": 17,
   "id": "88b447b2-3d82-455c-b0e0-990efd71c936",
   "metadata": {},
   "outputs": [
    {
     "name": "stdout",
     "output_type": "stream",
     "text": [
      "2550\n"
     ]
    }
   ],
   "source": [
    "total = 0\n",
    "\n",
    "i = 0\n",
    "\n",
    "while i < 101:\n",
    "    total += i\n",
    "    i += 2\n",
    "    \n",
    "print(total)"
   ]
  },
  {
   "cell_type": "markdown",
   "id": "77591e25-ad70-4555-ac68-62d6bcfe4ad7",
   "metadata": {},
   "source": [
    "# 문제4\n",
    "### 다음은 학생의 점수를 나타내는 리스트이다\n",
    "####        students = [85, 65, 77, 83, 75, 22, 98, 88, 38, 100]\n",
    "### for문을 사용하여 80점 이상의 점수들의 합을 구하시오"
   ]
  },
  {
   "cell_type": "code",
   "execution_count": 3,
   "id": "9b53edfa-4b2c-4d11-85c2-4d88ada313b1",
   "metadata": {},
   "outputs": [
    {
     "name": "stdout",
     "output_type": "stream",
     "text": [
      "454\n"
     ]
    }
   ],
   "source": [
    "total = 0\n",
    "\n",
    "for i in [85, 65, 77, 83, 75, 22, 98, 88, 38, 100]: #students로 먼저 지정하고 넣으면 더 깔끔\n",
    "    if i >= 80:\n",
    "        total += i\n",
    "        \n",
    "print(total)"
   ]
  },
  {
   "cell_type": "code",
   "execution_count": 6,
   "id": "d72e4e28-0070-4088-b7db-805fe9241fc4",
   "metadata": {},
   "outputs": [
    {
     "name": "stdout",
     "output_type": "stream",
     "text": [
      "[85, 83, 98, 88, 100]\n",
      "5\n"
     ]
    }
   ],
   "source": [
    "#80점 이상은 모두 몇명?\n",
    "students = [85, 65, 77, 83, 75, 22, 98, 88, 38, 100]\n",
    "good = []\n",
    "for i in students:\n",
    "    if i>=80:\n",
    "        good.append(i)\n",
    "print(good)\n",
    "print(len(good))"
   ]
  },
  {
   "cell_type": "markdown",
   "id": "b452b9b2-ef1a-429b-b721-abfdff88644b",
   "metadata": {},
   "source": [
    "# 문제5\n",
    "### 정수를 한개 입력받아 1부터 입력받은 수까지 각각에 대해 제곱을 구해 프린트하는 프로그램을 작성해 보세요\n",
    "### 단, while 문을 사용하세요\n",
    "#### 예 1\n",
    "입력:3\n",
    "```\n",
    "1 1\n",
    "2 4\n",
    "3 9\n",
    "```\n",
    "\n",
    "\n",
    "#### 예 2\n",
    "입력: 5\n",
    "```\n",
    "1 1\n",
    "2 4\n",
    "3 9\n",
    "4 16\n",
    "5 25\n",
    "```"
   ]
  },
  {
   "cell_type": "code",
   "execution_count": 18,
   "id": "30dd59dc-e07e-46d4-8481-1b9875b943a8",
   "metadata": {},
   "outputs": [
    {
     "name": "stdin",
     "output_type": "stream",
     "text": [
      "숫자를 입력하세요: 5\n"
     ]
    },
    {
     "name": "stdout",
     "output_type": "stream",
     "text": [
      "1 1\n",
      "2 4\n",
      "3 9\n",
      "4 16\n",
      "5 25\n"
     ]
    }
   ],
   "source": [
    "number = int(input(\"숫자를 입력하세요:\")) #숫자 형변환\n",
    "\n",
    "i = 1\n",
    "\n",
    "while i <= number:\n",
    "    print(\"%d %d\" % (i, i**2)) #문자열 포매팅\n",
    "    i += 1"
   ]
  },
  {
   "cell_type": "markdown",
   "id": "eeac2110-6590-42d9-92f1-8d3eaa33b586",
   "metadata": {},
   "source": [
    "# 문제6\n",
    "### [9, 8, 6, 1, 4, 5] 에서 가장 큰 값을 for 문을 사용하여 구하시오"
   ]
  },
  {
   "cell_type": "code",
   "execution_count": 22,
   "id": "e4886135-a92e-43cd-809d-a50f83fde294",
   "metadata": {},
   "outputs": [
    {
     "name": "stdout",
     "output_type": "stream",
     "text": [
      "9\n"
     ]
    }
   ],
   "source": [
    "List = [9, 8, 6, 1, 4, 5]\n",
    "maxvalue = 0\n",
    "for i in List:\n",
    "    if maxvalue < i:\n",
    "        maxvalue = i #더 큰 값이 나오면 그 값으로 대체\n",
    "        \n",
    "print(maxvalue)"
   ]
  },
  {
   "cell_type": "markdown",
   "id": "8a98a4c7-767c-46e0-972a-1c0a1f58795b",
   "metadata": {},
   "source": [
    "# 문제7\n",
    "### 위 6번 문제의 로직을 응용하여 동일한 리스트 안에서 가장 작은 값을 for문을 사용하여 구하시오"
   ]
  },
  {
   "cell_type": "code",
   "execution_count": 23,
   "id": "f9ff9921-64ff-4e4b-9449-1fafabe13b31",
   "metadata": {},
   "outputs": [
    {
     "name": "stdout",
     "output_type": "stream",
     "text": [
      "1\n"
     ]
    }
   ],
   "source": [
    "List = [9, 8, 6, 1, 4, 5]\n",
    "minvalue = List[0] #임의의 원소 지정\n",
    "\n",
    "for i in List:\n",
    "    if minvalue > i:\n",
    "        minvalue = i\n",
    "        \n",
    "print(minvalue)"
   ]
  },
  {
   "cell_type": "code",
   "execution_count": null,
   "id": "46aa6baf-4950-40fa-9261-1309f93b0f6b",
   "metadata": {},
   "outputs": [],
   "source": []
  }
 ],
 "metadata": {
  "kernelspec": {
   "display_name": "Python 3 (ipykernel)",
   "language": "python",
   "name": "python3"
  },
  "language_info": {
   "codemirror_mode": {
    "name": "ipython",
    "version": 3
   },
   "file_extension": ".py",
   "mimetype": "text/x-python",
   "name": "python",
   "nbconvert_exporter": "python",
   "pygments_lexer": "ipython3",
   "version": "3.9.7"
  }
 },
 "nbformat": 4,
 "nbformat_minor": 5
}
