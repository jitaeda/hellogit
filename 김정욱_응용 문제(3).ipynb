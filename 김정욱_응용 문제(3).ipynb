{
 "cells": [
  {
   "cell_type": "markdown",
   "id": "3d3e8b7c-725d-4091-b1cd-6d6455acc1e3",
   "metadata": {
    "tags": []
   },
   "source": [
    "# 파이썬 기본 문법 응용 문제 (3)"
   ]
  },
  {
   "cell_type": "markdown",
   "id": "a18e83b2-233c-42e8-ac9b-2c84e3dbc248",
   "metadata": {},
   "source": [
    "----\n",
    "\n",
    "## 문제1\n",
    "\n",
    "다음 리스트는 어느 학급의 중간고사 성적이다\n",
    "\n",
    "```python\n",
    "exam = {\n",
    "    \"철수\": [89,82,79,91],\n",
    "    \"민영\": [91,95,94,89],\n",
    "    \"남철\": [65,57,71,64],\n",
    "    \"혜진\": [82,76,81,83],\n",
    "}\n",
    "```\n",
    "\n",
    "위 데이터에서 학생별 총점과 평균을 구하시오."
   ]
  },
  {
   "cell_type": "code",
   "execution_count": 56,
   "id": "a62289fd-b0e6-49ed-b904-8ba47da146e6",
   "metadata": {},
   "outputs": [
    {
     "name": "stdout",
     "output_type": "stream",
     "text": [
      "철수의 총점 : 341 평균 : 85.25\n",
      "민영의 총점 : 369 평균 : 92.25\n",
      "남철의 총점 : 257 평균 : 64.25\n",
      "혜진의 총점 : 322 평균 : 80.5\n"
     ]
    }
   ],
   "source": [
    "exam = {\n",
    "    \"철수\": [89,82,79,91],\n",
    "    \"민영\": [91,95,94,89],\n",
    "    \"남철\": [65,57,71,64],\n",
    "    \"혜진\": [82,76,81,83],\n",
    "}\n",
    "\n",
    "name = list(exam.keys())\n",
    "grade = list(exam.values())\n",
    "\n",
    "for i in range(0, len(name)):\n",
    "    print(name[i]+\"의 총점 :\",sum(grade[i]),\"평균 :\", sum(grade[i]) / len(grade[i]))\n",
    "    "
   ]
  },
  {
   "cell_type": "markdown",
   "id": "2a036d2c-7d18-4070-91da-ae4ff58fba1d",
   "metadata": {},
   "source": [
    "----\n",
    "\n",
    "## 문제2\n",
    "\n",
    "위 1번 문제의 점수가 순서대로 국어, 영어, 수학, 과학일 경우 수학에 대한 모든 학생의 총점,평균을 구하시오."
   ]
  },
  {
   "cell_type": "code",
   "execution_count": 82,
   "id": "6611ee97-af08-46e1-8a26-2071bba1cf20",
   "metadata": {},
   "outputs": [
    {
     "name": "stdout",
     "output_type": "stream",
     "text": [
      "수학 총점은 325 평균은 81.25\n",
      "수학 총점은 325, 평균은 81점입니다.\n"
     ]
    }
   ],
   "source": [
    "exam = {\n",
    "    \"철수\": [89,82,79,91],\n",
    "    \"민영\": [91,95,94,89],\n",
    "    \"남철\": [65,57,71,64],\n",
    "    \"혜진\": [82,76,81,83],\n",
    "}\n",
    "\n",
    "name = list(exam.keys())\n",
    "grade = list(exam.values())\n",
    "sum = 0\n",
    "for i in range(0, len(name)):\n",
    "    sum += grade[i][2] \n",
    "\n",
    "print(\"수학 총점은\", sum, \"평균은\", sum / len(name))\n",
    "print(\"수학 총점은 %d, 평균은 %d점입니다.\" % (sum, sum / len(name)))"
   ]
  },
  {
   "cell_type": "markdown",
   "id": "daf5fba1-2cf4-46c4-910e-c71372a5b022",
   "metadata": {},
   "source": [
    "----\n",
    "\n",
    "## 문제3\n",
    "\n",
    "구구단 프로그램을 만들고자 한다.\n",
    "\n",
    "전체를 출력하는 구구단이 아니라 1번을 입력하면 홀수단(3,5,7,9) 2번을 입력하면 짝수단(2,4,6,8)을 출력하는\n",
    "프로그램을 완성하시오.\n"
   ]
  },
  {
   "cell_type": "code",
   "execution_count": 1,
   "id": "057894ea-0560-4b6a-9918-634dc329c691",
   "metadata": {},
   "outputs": [
    {
     "name": "stdin",
     "output_type": "stream",
     "text": [
      "1 or 2 =>  2\n"
     ]
    },
    {
     "name": "stdout",
     "output_type": "stream",
     "text": [
      "2 X 1 = 2\n",
      "2 X 2 = 4\n",
      "2 X 3 = 6\n",
      "2 X 4 = 8\n",
      "2 X 5 = 10\n",
      "2 X 6 = 12\n",
      "2 X 7 = 14\n",
      "2 X 8 = 16\n",
      "2 X 9 = 18\n",
      "4 X 1 = 4\n",
      "4 X 2 = 8\n",
      "4 X 3 = 12\n",
      "4 X 4 = 16\n",
      "4 X 5 = 20\n",
      "4 X 6 = 24\n",
      "4 X 7 = 28\n",
      "4 X 8 = 32\n",
      "4 X 9 = 36\n",
      "6 X 1 = 6\n",
      "6 X 2 = 12\n",
      "6 X 3 = 18\n",
      "6 X 4 = 24\n",
      "6 X 5 = 30\n",
      "6 X 6 = 36\n",
      "6 X 7 = 42\n",
      "6 X 8 = 48\n",
      "6 X 9 = 54\n",
      "8 X 1 = 8\n",
      "8 X 2 = 16\n",
      "8 X 3 = 24\n",
      "8 X 4 = 32\n",
      "8 X 5 = 40\n",
      "8 X 6 = 48\n",
      "8 X 7 = 56\n",
      "8 X 8 = 64\n",
      "8 X 9 = 72\n"
     ]
    }
   ],
   "source": [
    "fst = int(input(\"1 or 2 => \"))\n",
    "if fst == 1:\n",
    "    for i in (3,5,7,9):\n",
    "        for j in range(1,10):\n",
    "            print(i, \"X\", j, \"=\", i*j)\n",
    "                                  \n",
    "if fst == 2:\n",
    "    for i in (2,4,6,8):\n",
    "        for j in range(1,10):\n",
    "            print(i, \"X\", j, \"=\", i*j)"
   ]
  },
  {
   "cell_type": "markdown",
   "id": "5ae86383-6570-4890-b465-f68e9997e33d",
   "metadata": {},
   "source": [
    "----\n",
    "\n",
    "## 문제4\n",
    "\n",
    "아래와 같은 출력결과가 나타나도록 중첩 반복문을 for문 형식으로 구현하라.\n",
    "\n",
    "##### 1\n",
    "##### 12\n",
    "##### 123\n",
    "##### 1234\n",
    "##### 12345\n",
    "##### 123456\n",
    "##### 1234567"
   ]
  },
  {
   "cell_type": "code",
   "execution_count": 25,
   "id": "927bf8c8-47c8-40c5-8c06-a244fd615c1c",
   "metadata": {},
   "outputs": [
    {
     "name": "stdin",
     "output_type": "stream",
     "text": [
      "몇 줄 =  3\n"
     ]
    },
    {
     "name": "stdout",
     "output_type": "stream",
     "text": [
      "1\n",
      "12\n",
      "123\n"
     ]
    }
   ],
   "source": [
    "fst = int(input(\"몇 줄 = \"))\n",
    "for i in range(0, fst):\n",
    "    num = \"\"\n",
    "    for j in range(0, i+1):\n",
    "        num += str(j+1)\n",
    "    print(num)"
   ]
  },
  {
   "cell_type": "code",
   "execution_count": 32,
   "id": "96c9a4a3-db03-4230-be0e-3fbea5929ac1",
   "metadata": {},
   "outputs": [
    {
     "name": "stdin",
     "output_type": "stream",
     "text": [
      "몇 줄?  3\n"
     ]
    },
    {
     "name": "stdout",
     "output_type": "stream",
     "text": [
      "\n",
      "*\n",
      "**\n",
      "***\n"
     ]
    }
   ],
   "source": [
    "fst = int(input(\"몇 줄? \"))\n",
    "for i in range(0, fst+1):\n",
    "    star = \"\"\n",
    "    for j in range(1, i+1):\n",
    "        star += \"*\"\n",
    "    print(star)"
   ]
  },
  {
   "cell_type": "markdown",
   "id": "7ea52d33-167e-4f78-8163-316592fb341e",
   "metadata": {},
   "source": [
    "----\n",
    "\n",
    "## 문제5\n",
    "\n",
    "### 유효한 주민번호인지 판별하는 코드를 짜보자. 판별방법은 아래와 같다.\n",
    "\n",
    "#### 1. 기본 주민등록코드에는 각 숫자에 대응하는 가중치가 있다. 가중치는 주민번호 순서에 따라\n",
    "####    2 3 4 5 6 7 8 9 2 3 4 5 이다.\n",
    "#### 2. 먼저 마지막 숫자는 제외하고, 기본코드의 각 12자리와 가중치를 모두 곱하여 합한다.\n",
    "#### 3. 합한 값을 11로 나눈 나머지 값을 구한다.\n",
    "#### 4. 11에서 그 나머지 값을 뺀 후, 이를 10으로 나눈 나머지를 구한다.\n",
    "#### 5. 나머지의 1의 자리 값과 주민번호 마지막 자리 값이 맞아야 유효한 주민번호이다.\n"
   ]
  },
  {
   "cell_type": "code",
   "execution_count": 11,
   "id": "1884aeba-cf21-4b01-ab98-092b01cc9446",
   "metadata": {},
   "outputs": [
    {
     "name": "stdin",
     "output_type": "stream",
     "text": [
      " 8602061162112\n"
     ]
    },
    {
     "name": "stdout",
     "output_type": "stream",
     "text": [
      "130\n",
      "2\n",
      "2\n",
      "8602061162112은(는) 유효한 주민번호입니다\n"
     ]
    }
   ],
   "source": [
    "code = input()\n",
    "imp = [2,3,4,5,6,7,8,9,2,3,4,5]\n",
    "twosum = 0\n",
    "\n",
    "for i in range(0,12):\n",
    "    twosum += int(code[i])*imp[i]\n",
    "print(twosum)\n",
    "four = (11-(twosum % 11)) % 10\n",
    "print(code[12])\n",
    "print(four)\n",
    "if four == int(code[12]):\n",
    "    print(\"%d은(는) 유효한 주민번호입니다\" % int(code))\n",
    "else:\n",
    "    print(\"%d은(는) 유효한 주민번호가 아닙니다\" % int(code))"
   ]
  }
 ],
 "metadata": {
  "kernelspec": {
   "display_name": "Python 3 (ipykernel)",
   "language": "python",
   "name": "python3"
  },
  "language_info": {
   "codemirror_mode": {
    "name": "ipython",
    "version": 3
   },
   "file_extension": ".py",
   "mimetype": "text/x-python",
   "name": "python",
   "nbconvert_exporter": "python",
   "pygments_lexer": "ipython3",
   "version": "3.9.7"
  }
 },
 "nbformat": 4,
 "nbformat_minor": 5
}
