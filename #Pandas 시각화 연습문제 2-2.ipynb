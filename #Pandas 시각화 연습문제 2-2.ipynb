{
 "cells": [
  {
   "cell_type": "code",
   "execution_count": 53,
   "id": "d4da68ce-f97c-4b9b-9ae8-9481bf7af6cd",
   "metadata": {},
   "outputs": [],
   "source": [
    "import pandas as pd\n",
    "from pandas import DataFrame\n",
    "from pandas import read_excel\n",
    "from matplotlib import pyplot as plt\n",
    "import seaborn as sns\n",
    "import numpy as np\n",
    "import pymysql\n",
    "from sqlalchemy import create_engine\n",
    "import urllib"
   ]
  },
  {
   "cell_type": "code",
   "execution_count": 54,
   "id": "d71c4e4c-4778-47fc-b38a-20ccf2a0fc35",
   "metadata": {},
   "outputs": [],
   "source": [
    "HOSTNAME = \"localhost\"\n",
    "PORT = 3306\n",
    "USERNAME = \"root\"\n",
    "PASSWORD = \"123qwe!@#\"\n",
    "DATABASE = \"myschool\"\n",
    "CHARSET = \"utf8\""
   ]
  },
  {
   "cell_type": "code",
   "execution_count": 55,
   "id": "15dbe301-7264-403d-9f4d-e7e0a051ffa8",
   "metadata": {
    "tags": []
   },
   "outputs": [],
   "source": [
    "dbcon = pymysql.connect(host = HOSTNAME, port = PORT, user = USERNAME, password = PASSWORD,\n",
    "                       db = DATABASE, charset = CHARSET)"
   ]
  },
  {
   "cell_type": "code",
   "execution_count": 56,
   "id": "6221b476-5cb8-4773-9699-2041a5fdfcdc",
   "metadata": {},
   "outputs": [],
   "source": [
    "cursor = dbcon.cursor(pymysql.cursors.DictCursor)"
   ]
  },
  {
   "cell_type": "markdown",
   "id": "f526b4f4-51b1-47c7-8d5c-2d208d197ab6",
   "metadata": {},
   "source": [
    "# 문제 1"
   ]
  },
  {
   "cell_type": "code",
   "execution_count": 57,
   "id": "26b4ced1-eb77-4792-ba4f-c12d05c5284c",
   "metadata": {},
   "outputs": [],
   "source": [
    "sql = \"\"\"SELECT s.name, s.grade, s.birthdate, s.height, s.weight,\n",
    "d.dname, p.name from student s, department d, professor p\n",
    "WHERE s.deptno = d.deptno AND p.profno = s.profno\n",
    "having s.grade = %s\"\"\"\n",
    "\n",
    "for i in range(1, 5):\n",
    "    cursor.execute(sql, i)\n",
    "    stu = cursor.fetchall()\n",
    "    df = DataFrame(stu)\n",
    "    df.to_excel('%d학년' % i+'.xlsx', sheet_name = '%d학년' % i)"
   ]
  },
  {
   "cell_type": "markdown",
   "id": "eb1eec98-ceec-496d-a67a-39c686425713",
   "metadata": {},
   "source": [
    "# 문제 2"
   ]
  },
  {
   "cell_type": "code",
   "execution_count": 58,
   "id": "b4b21b65-0b54-41e2-b96c-5ccf8046db86",
   "metadata": {},
   "outputs": [],
   "source": [
    "sql = \"\"\"SELECT avg(height) 평균_키, avg(weight) 평균_몸무게 from student\n",
    "group by grade order by grade\"\"\"\n",
    "\n",
    "cursor.execute(sql)\n",
    "avkm = DataFrame(cursor.fetchall(), index = ['1학년', '2학년', '3학년', '4학년'])\n",
    "avkm.to_csv('학년별 신체검사 자료.csv', encoding='euc-kr')"
   ]
  },
  {
   "cell_type": "markdown",
   "id": "1591dd43-84c4-4b06-983a-b506d9e51cce",
   "metadata": {},
   "source": [
    "# 문제 3"
   ]
  },
  {
   "cell_type": "code",
   "execution_count": 59,
   "id": "006e3446-3f84-44d2-be32-421aaf89995c",
   "metadata": {},
   "outputs": [],
   "source": [
    "HOSTNAME = \"localhost\"\n",
    "PORT = 3306\n",
    "USERNAME = \"root\"\n",
    "PASSWORD = \"123qwe!@#\"\n",
    "DATABASE = \"myschool\"\n",
    "CHARSET1 = \"utf8\"\n",
    "CHARSET2 = \"utf-8\""
   ]
  },
  {
   "cell_type": "code",
   "execution_count": 60,
   "id": "3e016c22-6d93-4960-baa7-52e5603265e5",
   "metadata": {},
   "outputs": [],
   "source": [
    "con_str_fmt = \"mysql+mysqldb://{0}:{1}@{2}:{3}/{4}?charset={5}\"\n",
    "\n",
    "con_str = con_str_fmt.format(USERNAME, urllib.parse.quote(PASSWORD),\n",
    "                             HOSTNAME, PORT, DATABASE, CHARSET1)"
   ]
  },
  {
   "cell_type": "code",
   "execution_count": 61,
   "id": "33ed15b7-8d21-43bc-b73a-f64f48c52321",
   "metadata": {},
   "outputs": [],
   "source": [
    "pymysql.install_as_MySQLdb()\n",
    "import MySQLdb"
   ]
  },
  {
   "cell_type": "code",
   "execution_count": 62,
   "id": "d0026cb8-71ab-4b50-9cf9-6193702eddb6",
   "metadata": {},
   "outputs": [],
   "source": [
    "engine = create_engine(con_str, encoding = CHARSET2)\n",
    "conn = engine.connect()"
   ]
  },
  {
   "cell_type": "code",
   "execution_count": 73,
   "id": "4cfff0db-e871-4de6-acf8-d56321d30400",
   "metadata": {},
   "outputs": [
    {
     "data": {
      "text/html": [
       "<div>\n",
       "<style scoped>\n",
       "    .dataframe tbody tr th:only-of-type {\n",
       "        vertical-align: middle;\n",
       "    }\n",
       "\n",
       "    .dataframe tbody tr th {\n",
       "        vertical-align: top;\n",
       "    }\n",
       "\n",
       "    .dataframe thead th {\n",
       "        text-align: right;\n",
       "    }\n",
       "</style>\n",
       "<table border=\"1\" class=\"dataframe\">\n",
       "  <thead>\n",
       "    <tr style=\"text-align: right;\">\n",
       "      <th></th>\n",
       "      <th>deptno</th>\n",
       "      <th>pro</th>\n",
       "      <th>stu</th>\n",
       "    </tr>\n",
       "  </thead>\n",
       "  <tbody>\n",
       "    <tr>\n",
       "      <th>0</th>\n",
       "      <td>101</td>\n",
       "      <td>4</td>\n",
       "      <td>8.0</td>\n",
       "    </tr>\n",
       "    <tr>\n",
       "      <th>1</th>\n",
       "      <td>102</td>\n",
       "      <td>2</td>\n",
       "      <td>4.0</td>\n",
       "    </tr>\n",
       "    <tr>\n",
       "      <th>2</th>\n",
       "      <td>201</td>\n",
       "      <td>1</td>\n",
       "      <td>4.0</td>\n",
       "    </tr>\n",
       "    <tr>\n",
       "      <th>3</th>\n",
       "      <td>202</td>\n",
       "      <td>1</td>\n",
       "      <td>NaN</td>\n",
       "    </tr>\n",
       "  </tbody>\n",
       "</table>\n",
       "</div>"
      ],
      "text/plain": [
       "   deptno  pro  stu\n",
       "0     101    4  8.0\n",
       "1     102    2  4.0\n",
       "2     201    1  4.0\n",
       "3     202    1  NaN"
      ]
     },
     "execution_count": 73,
     "metadata": {},
     "output_type": "execute_result"
    }
   ],
   "source": [
    "sql = \"\"\"SELECT d.deptno, pro, stu from department d\n",
    "LEFT OUTER JOIN(\n",
    "SELECT deptno, count(deptno) as pro FROM professor group by deptno\n",
    ") AS p1 ON d.deptno = p1.deptno\n",
    "LEFT OUTER JOIN(\n",
    "SELECT deptno , count(deptno) as stu FROM student group by deptno\n",
    ") AS s1 ON d.deptno = s1.deptno \n",
    "\"\"\"\n",
    "\n",
    "cursor.execute(sql)\n",
    "res = cursor.fetchall()\n",
    "df = DataFrame(res)\n",
    "df"
   ]
  },
  {
   "cell_type": "code",
   "execution_count": 74,
   "id": "63316dc8-e336-4a38-ace5-5f02b12e4a94",
   "metadata": {},
   "outputs": [],
   "source": [
    "df.to_sql('department_people', con = conn, index = False)\n",
    "\n",
    "conn.close()\n",
    "dbcon.close()"
   ]
  },
  {
   "cell_type": "code",
   "execution_count": null,
   "id": "7b5ab215-a4a5-4beb-8034-13af052300e9",
   "metadata": {},
   "outputs": [],
   "source": []
  }
 ],
 "metadata": {
  "kernelspec": {
   "display_name": "Python 3 (ipykernel)",
   "language": "python",
   "name": "python3"
  },
  "language_info": {
   "codemirror_mode": {
    "name": "ipython",
    "version": 3
   },
   "file_extension": ".py",
   "mimetype": "text/x-python",
   "name": "python",
   "nbconvert_exporter": "python",
   "pygments_lexer": "ipython3",
   "version": "3.9.7"
  }
 },
 "nbformat": 4,
 "nbformat_minor": 5
}
