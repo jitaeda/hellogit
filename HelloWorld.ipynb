{
 "cells": [
  {
   "cell_type": "code",
   "execution_count": 1,
   "id": "dcffb95d-023d-4600-97cd-26f3c2a705cf",
   "metadata": {},
   "outputs": [
    {
     "name": "stdout",
     "output_type": "stream",
     "text": [
      "HelloWorld\n"
     ]
    },
    {
     "ename": "NameError",
     "evalue": "name 'HelloWorld' is not defined",
     "output_type": "error",
     "traceback": [
      "\u001b[1;31m---------------------------------------------------------------------------\u001b[0m",
      "\u001b[1;31mNameError\u001b[0m                                 Traceback (most recent call last)",
      "\u001b[1;32m~\\AppData\\Local\\Temp/ipykernel_4252/156360657.py\u001b[0m in \u001b[0;36m<module>\u001b[1;34m\u001b[0m\n\u001b[0;32m      1\u001b[0m \u001b[0mprint\u001b[0m\u001b[1;33m(\u001b[0m\u001b[1;34m\"HelloWorld\"\u001b[0m\u001b[1;33m)\u001b[0m\u001b[1;33m\u001b[0m\u001b[1;33m\u001b[0m\u001b[0m\n\u001b[1;32m----> 2\u001b[1;33m \u001b[0mprint\u001b[0m\u001b[1;33m(\u001b[0m\u001b[0mHelloWorld\u001b[0m\u001b[1;33m)\u001b[0m\u001b[1;33m\u001b[0m\u001b[1;33m\u001b[0m\u001b[0m\n\u001b[0m",
      "\u001b[1;31mNameError\u001b[0m: name 'HelloWorld' is not defined"
     ]
    }
   ],
   "source": [
    "print(\"HelloWorld\")\n",
    "print(HelloWorld)"
   ]
  },
  {
   "cell_type": "code",
   "execution_count": 3,
   "id": "33f6fece-620d-4049-9f2b-4612b79f795b",
   "metadata": {},
   "outputs": [
    {
     "name": "stdout",
     "output_type": "stream",
     "text": [
      "300\n"
     ]
    }
   ],
   "source": [
    "a=100\n",
    "b=200\n",
    "print(a+b)"
   ]
  },
  {
   "cell_type": "code",
   "execution_count": 2,
   "id": "84c44b99-e438-40b8-a787-8cbcd8ee56a8",
   "metadata": {
    "tags": []
   },
   "outputs": [
    {
     "ename": "NameError",
     "evalue": "name 'HelloWorld' is not defined",
     "output_type": "error",
     "traceback": [
      "\u001b[1;31m---------------------------------------------------------------------------\u001b[0m",
      "\u001b[1;31mNameError\u001b[0m                                 Traceback (most recent call last)",
      "\u001b[1;32m~\\AppData\\Local\\Temp/ipykernel_4252/1224962379.py\u001b[0m in \u001b[0;36m<module>\u001b[1;34m\u001b[0m\n\u001b[0;32m      1\u001b[0m \u001b[1;31m#print(\"HelloWorld\")\u001b[0m\u001b[1;33m\u001b[0m\u001b[1;33m\u001b[0m\u001b[0m\n\u001b[1;32m----> 2\u001b[1;33m \u001b[0mprint\u001b[0m\u001b[1;33m(\u001b[0m\u001b[0mHelloWorld\u001b[0m\u001b[1;33m)\u001b[0m\u001b[1;33m\u001b[0m\u001b[1;33m\u001b[0m\u001b[0m\n\u001b[0m",
      "\u001b[1;31mNameError\u001b[0m: name 'HelloWorld' is not defined"
     ]
    }
   ],
   "source": [
    "#print(\"HelloWorld\")\n",
    "print(HelloWorld)"
   ]
  },
  {
   "cell_type": "code",
   "execution_count": 7,
   "id": "5a820000-bf71-4196-85c0-866bb6d8cbc5",
   "metadata": {},
   "outputs": [],
   "source": [
    "a=100\n",
    "b=200"
   ]
  },
  {
   "cell_type": "code",
   "execution_count": 8,
   "id": "223cd1d6-14ce-4086-a7fd-eb3d10ebd9aa",
   "metadata": {
    "tags": []
   },
   "outputs": [
    {
     "name": "stdout",
     "output_type": "stream",
     "text": [
      "300\n"
     ]
    }
   ],
   "source": [
    "print(a+b)"
   ]
  },
  {
   "cell_type": "code",
   "execution_count": null,
   "id": "2c336143-6142-4f55-9bf5-884dcd8492af",
   "metadata": {},
   "outputs": [],
   "source": [
    "a = 100\n",
    "b = 200"
   ]
  },
  {
   "cell_type": "code",
   "execution_count": 9,
   "id": "ab74f2f0-9df1-418e-9d0a-e7553ea4460e",
   "metadata": {},
   "outputs": [
    {
     "name": "stdout",
     "output_type": "stream",
     "text": [
      "300\n"
     ]
    }
   ],
   "source": [
    "print(a+b)"
   ]
  },
  {
   "cell_type": "code",
   "execution_count": 10,
   "id": "65f6051b-0fea-456b-a338-3a2ff79c086c",
   "metadata": {},
   "outputs": [
    {
     "name": "stdout",
     "output_type": "stream",
     "text": [
      "-100\n"
     ]
    }
   ],
   "source": [
    "print(a-b)"
   ]
  },
  {
   "cell_type": "code",
   "execution_count": 11,
   "id": "9822ddbd-c60b-435f-9d4c-6ec0c35580fe",
   "metadata": {},
   "outputs": [
    {
     "name": "stdout",
     "output_type": "stream",
     "text": [
      "200\n"
     ]
    }
   ],
   "source": [
    "number1=200\n",
    "print(number1)"
   ]
  },
  {
   "cell_type": "code",
   "execution_count": 12,
   "id": "36225480-64bf-4ff4-b66a-3f84a25fa42f",
   "metadata": {},
   "outputs": [
    {
     "data": {
      "text/plain": [
       "200"
      ]
     },
     "execution_count": 12,
     "metadata": {},
     "output_type": "execute_result"
    }
   ],
   "source": [
    "number1"
   ]
  },
  {
   "cell_type": "code",
   "execution_count": 13,
   "id": "fd93aa9a-d6bb-43e9-94c3-3add89b3ae97",
   "metadata": {},
   "outputs": [
    {
     "ename": "SyntaxError",
     "evalue": "invalid syntax (Temp/ipykernel_4252/1437534213.py, line 1)",
     "output_type": "error",
     "traceback": [
      "\u001b[1;36m  File \u001b[1;32m\"C:\\Users\\jitae\\AppData\\Local\\Temp/ipykernel_4252/1437534213.py\"\u001b[1;36m, line \u001b[1;32m1\u001b[0m\n\u001b[1;33m    This is an H1\u001b[0m\n\u001b[1;37m               ^\u001b[0m\n\u001b[1;31mSyntaxError\u001b[0m\u001b[1;31m:\u001b[0m invalid syntax\n"
     ]
    }
   ],
   "source": [
    "This is an H1"
   ]
  },
  {
   "cell_type": "code",
   "execution_count": 14,
   "id": "cd6da3c0-dd59-4161-a476-dcce21789449",
   "metadata": {},
   "outputs": [
    {
     "ename": "SyntaxError",
     "evalue": "invalid syntax (Temp/ipykernel_4252/2943537943.py, line 1)",
     "output_type": "error",
     "traceback": [
      "\u001b[1;36m  File \u001b[1;32m\"C:\\Users\\jitae\\AppData\\Local\\Temp/ipykernel_4252/2943537943.py\"\u001b[1;36m, line \u001b[1;32m1\u001b[0m\n\u001b[1;33m    This is an H1\u001b[0m\n\u001b[1;37m               ^\u001b[0m\n\u001b[1;31mSyntaxError\u001b[0m\u001b[1;31m:\u001b[0m invalid syntax\n"
     ]
    }
   ],
   "source": [
    "This is an H1\n",
    "============="
   ]
  },
  {
   "cell_type": "code",
   "execution_count": 15,
   "id": "161406ac-6eee-4da9-924b-5482b04ca1a5",
   "metadata": {},
   "outputs": [],
   "source": [
    "# Hello World\n",
    "\n",
    "##Hello World\n",
    "\n",
    "###Hello World"
   ]
  },
  {
   "cell_type": "code",
   "execution_count": 16,
   "id": "b99efb5d-38b6-4955-a273-c7df91ce1203",
   "metadata": {},
   "outputs": [
    {
     "ename": "SyntaxError",
     "evalue": "invalid syntax (Temp/ipykernel_4252/1039048247.py, line 1)",
     "output_type": "error",
     "traceback": [
      "\u001b[1;36m  File \u001b[1;32m\"C:\\Users\\jitae\\AppData\\Local\\Temp/ipykernel_4252/1039048247.py\"\u001b[1;36m, line \u001b[1;32m1\u001b[0m\n\u001b[1;33m    Header H1\u001b[0m\n\u001b[1;37m           ^\u001b[0m\n\u001b[1;31mSyntaxError\u001b[0m\u001b[1;31m:\u001b[0m invalid syntax\n"
     ]
    }
   ],
   "source": [
    "Header H1\n",
    "==="
   ]
  },
  {
   "cell_type": "markdown",
   "id": "46b775d2-a720-423a-9f84-51de157d1b5d",
   "metadata": {},
   "source": [
    "Header H1\n",
    "==="
   ]
  },
  {
   "cell_type": "markdown",
   "id": "d19c1ce2-b49a-4927-9ed1-7da84bc2595d",
   "metadata": {
    "tags": []
   },
   "source": [
    "파이썬 시작하기\n",
    "==========="
   ]
  },
  {
   "cell_type": "markdown",
   "id": "17b17780-3344-4a00-a72f-82a5c4931835",
   "metadata": {},
   "source": [
    "기본 변수 생성하기\n",
    "-----------"
   ]
  },
  {
   "cell_type": "markdown",
   "id": "a45f0d0c-bc30-4e58-918f-81c9c64b4fcf",
   "metadata": {},
   "source": [
    "# 더하기"
   ]
  },
  {
   "cell_type": "code",
   "execution_count": 18,
   "id": "b7832575-baf9-4c90-a04a-0f953eeeec50",
   "metadata": {},
   "outputs": [
    {
     "name": "stdout",
     "output_type": "stream",
     "text": [
      "300\n"
     ]
    }
   ],
   "source": [
    "a=100\n",
    "b=200\n",
    "print(a+b)"
   ]
  },
  {
   "cell_type": "code",
   "execution_count": null,
   "id": "0beb72ab-ec05-4163-9a62-3a0884c19e97",
   "metadata": {},
   "outputs": [],
   "source": [
    ">a\n",
    ">\t>a\n",
    ">\t>\t>a\n",
    "> This is a first blockqute.\n",
    ">\t> This is a second blockqute.\n",
    ">\t>\t> This is a third blockqute."
   ]
  },
  {
   "cell_type": "markdown",
   "id": "c7ac0b44-b07b-45fc-95c6-5c4600e3c556",
   "metadata": {},
   "source": [
    "> This is a first blockqute.\n",
    ">\t> This is a second blockqute.\n",
    ">\t>\t> This is a third blockqute."
   ]
  },
  {
   "cell_type": "code",
   "execution_count": null,
   "id": "fc3f9a46-8318-49b4-9f40-9a9d6831ecdb",
   "metadata": {
    "tags": []
   },
   "outputs": [],
   "source": [
    ">a\n",
    ">>>a\n",
    ">>>>>a"
   ]
  },
  {
   "cell_type": "code",
   "execution_count": 24,
   "id": "bf13f581-3f96-49d6-8807-26edbddbd09b",
   "metadata": {
    "tags": []
   },
   "outputs": [
    {
     "ename": "SyntaxError",
     "evalue": "EOL while scanning string literal (Temp/ipykernel_4252/1142645919.py, line 1)",
     "output_type": "error",
     "traceback": [
      "\u001b[1;36m  File \u001b[1;32m\"C:\\Users\\jitae\\AppData\\Local\\Temp/ipykernel_4252/1142645919.py\"\u001b[1;36m, line \u001b[1;32m1\u001b[0m\n\u001b[1;33m    \" \" \"\u001b[0m\n\u001b[1;37m         ^\u001b[0m\n\u001b[1;31mSyntaxError\u001b[0m\u001b[1;31m:\u001b[0m EOL while scanning string literal\n"
     ]
    }
   ],
   "source": [
    "\" \" \"\n",
    "a=100\n",
    "b=300\n",
    "print(a+b)\n",
    "\" \" \""
   ]
  },
  {
   "cell_type": "code",
   "execution_count": 25,
   "id": "0395de4f-f86c-465a-ac08-5e087092ddc6",
   "metadata": {},
   "outputs": [
    {
     "data": {
      "text/plain": [
       "'주석시작'"
      ]
     },
     "execution_count": 25,
     "metadata": {},
     "output_type": "execute_result"
    }
   ],
   "source": [
    "\"주석시작\""
   ]
  },
  {
   "cell_type": "code",
   "execution_count": 26,
   "id": "5f0409ce-c9d0-4926-a1cb-7aa94863947c",
   "metadata": {},
   "outputs": [
    {
     "data": {
      "text/plain": [
       "'주석시작\\n계속~~\\naskldfjlkejf\\nskldfjlkdjlkje'"
      ]
     },
     "execution_count": 26,
     "metadata": {},
     "output_type": "execute_result"
    }
   ],
   "source": [
    "\"\"\"주석시작\n",
    "계속~~\n",
    "askldfjlkejf\n",
    "skldfjlkdjlkje\"\"\""
   ]
  },
  {
   "cell_type": "code",
   "execution_count": 27,
   "id": "11269933-4cc9-44d6-892d-823086de005d",
   "metadata": {},
   "outputs": [
    {
     "data": {
      "text/plain": [
       "' africa asia europe '"
      ]
     },
     "execution_count": 27,
     "metadata": {},
     "output_type": "execute_result"
    }
   ],
   "source": [
    "\"\"\" africa asia europe \"\"\"\n",
    "# africa asia europe"
   ]
  },
  {
   "cell_type": "code",
   "execution_count": 28,
   "id": "21ade17a-c71c-45be-b3de-c70bf17ea290",
   "metadata": {},
   "outputs": [
    {
     "name": "stdout",
     "output_type": "stream",
     "text": [
      "HelloWorld\n"
     ]
    }
   ],
   "source": [
    "# print = 메시지를 출력하는 명령어\n",
    "print(\"HelloWorld\")"
   ]
  },
  {
   "cell_type": "code",
   "execution_count": 29,
   "id": "6fb01fcd-c401-4d6a-a5c6-c56abf3883fa",
   "metadata": {},
   "outputs": [],
   "source": [
    "a = 100 # 100을 의미하는 a라는 데이터를 생성\n",
    "b = 200 # 200을 의미하는 b라는 데이터를 생성"
   ]
  },
  {
   "cell_type": "code",
   "execution_count": 32,
   "id": "2ee271fe-351c-47c0-af59-b886c496618c",
   "metadata": {},
   "outputs": [
    {
     "name": "stdout",
     "output_type": "stream",
     "text": [
      "300\n"
     ]
    }
   ],
   "source": [
    "# 합산 결과 출력하기\n",
    "print(a+b)"
   ]
  },
  {
   "cell_type": "code",
   "execution_count": 33,
   "id": "0ced369e-6a75-4e01-a2c9-128a8c309884",
   "metadata": {},
   "outputs": [
    {
     "data": {
      "text/plain": [
       "'\\n쌍따옴표 3개\\n사이에 모든\\n주석들\\n'"
      ]
     },
     "execution_count": 33,
     "metadata": {},
     "output_type": "execute_result"
    }
   ],
   "source": [
    "'''\n",
    "쌍따옴표 3개\n",
    "사이에 모든\n",
    "주석들\n",
    "'''"
   ]
  },
  {
   "cell_type": "code",
   "execution_count": 34,
   "id": "7184a89f-2c4e-4208-9607-65fb8da2cb23",
   "metadata": {},
   "outputs": [
    {
     "name": "stdout",
     "output_type": "stream",
     "text": [
      "60000\n"
     ]
    }
   ],
   "source": [
    "a=200\n",
    "'''\n",
    "a에다 200을 넣고\n",
    "이제 b에다가\n",
    "'''\n",
    "b=300\n",
    "print(a*b)"
   ]
  },
  {
   "cell_type": "code",
   "execution_count": 35,
   "id": "75b4631c-7ccc-4879-9622-b6af541a38e7",
   "metadata": {},
   "outputs": [
    {
     "ename": "NameError",
     "evalue": "name 'helloWorld' is not defined",
     "output_type": "error",
     "traceback": [
      "\u001b[1;31m---------------------------------------------------------------------------\u001b[0m",
      "\u001b[1;31mNameError\u001b[0m                                 Traceback (most recent call last)",
      "\u001b[1;32m~\\AppData\\Local\\Temp/ipykernel_4252/2453290064.py\u001b[0m in \u001b[0;36m<module>\u001b[1;34m\u001b[0m\n\u001b[1;32m----> 1\u001b[1;33m \u001b[0mwrd1\u001b[0m \u001b[1;33m=\u001b[0m \u001b[0mhelloWorld\u001b[0m\u001b[1;33m\u001b[0m\u001b[1;33m\u001b[0m\u001b[0m\n\u001b[0m\u001b[0;32m      2\u001b[0m \u001b[0mwrd1\u001b[0m \u001b[1;33m=\u001b[0m \u001b[0mhello_World\u001b[0m\u001b[1;33m\u001b[0m\u001b[1;33m\u001b[0m\u001b[0m\n",
      "\u001b[1;31mNameError\u001b[0m: name 'helloWorld' is not defined"
     ]
    }
   ],
   "source": [
    "wrd1 = helloWorld\n",
    "wrd1 = hello_World"
   ]
  },
  {
   "cell_type": "code",
   "execution_count": 36,
   "id": "33a3f7e9-0120-476d-a067-700343225f13",
   "metadata": {},
   "outputs": [
    {
     "ename": "NameError",
     "evalue": "name 'helloWorld' is not defined",
     "output_type": "error",
     "traceback": [
      "\u001b[1;31m---------------------------------------------------------------------------\u001b[0m",
      "\u001b[1;31mNameError\u001b[0m                                 Traceback (most recent call last)",
      "\u001b[1;32m~\\AppData\\Local\\Temp/ipykernel_4252/3912233276.py\u001b[0m in \u001b[0;36m<module>\u001b[1;34m\u001b[0m\n\u001b[1;32m----> 1\u001b[1;33m \u001b[0mwrd1\u001b[0m \u001b[1;33m=\u001b[0m \u001b[0mhelloWorld\u001b[0m\u001b[1;33m\u001b[0m\u001b[1;33m\u001b[0m\u001b[0m\n\u001b[0m\u001b[0;32m      2\u001b[0m \u001b[1;31m# wrd1 = hello_World\u001b[0m\u001b[1;33m\u001b[0m\u001b[1;33m\u001b[0m\u001b[0m\n",
      "\u001b[1;31mNameError\u001b[0m: name 'helloWorld' is not defined"
     ]
    }
   ],
   "source": [
    "wrd1 = helloWorld\n",
    "# wrd1 = hello_World"
   ]
  },
  {
   "cell_type": "code",
   "execution_count": 37,
   "id": "64d2f7a3-aadb-441a-a13d-c5e5ad80770e",
   "metadata": {},
   "outputs": [
    {
     "ename": "NameError",
     "evalue": "name 'hello_World' is not defined",
     "output_type": "error",
     "traceback": [
      "\u001b[1;31m---------------------------------------------------------------------------\u001b[0m",
      "\u001b[1;31mNameError\u001b[0m                                 Traceback (most recent call last)",
      "\u001b[1;32m~\\AppData\\Local\\Temp/ipykernel_4252/1983810527.py\u001b[0m in \u001b[0;36m<module>\u001b[1;34m\u001b[0m\n\u001b[0;32m      1\u001b[0m \u001b[0mwrd1\u001b[0m \u001b[1;33m=\u001b[0m \u001b[1;34m\" helloWorld \"\u001b[0m\u001b[1;33m\u001b[0m\u001b[1;33m\u001b[0m\u001b[0m\n\u001b[1;32m----> 2\u001b[1;33m \u001b[0mwrd1\u001b[0m \u001b[1;33m=\u001b[0m \u001b[0mhello_World\u001b[0m\u001b[1;33m\u001b[0m\u001b[1;33m\u001b[0m\u001b[0m\n\u001b[0m",
      "\u001b[1;31mNameError\u001b[0m: name 'hello_World' is not defined"
     ]
    }
   ],
   "source": [
    "wrd1 = \" helloWorld \"\n",
    "wrd1 = hello_World"
   ]
  },
  {
   "cell_type": "code",
   "execution_count": 38,
   "id": "63724506-c0ce-47ef-bfb7-fc0e4aa33c4a",
   "metadata": {},
   "outputs": [
    {
     "ename": "NameError",
     "evalue": "name 'hello_World' is not defined",
     "output_type": "error",
     "traceback": [
      "\u001b[1;31m---------------------------------------------------------------------------\u001b[0m",
      "\u001b[1;31mNameError\u001b[0m                                 Traceback (most recent call last)",
      "\u001b[1;32m~\\AppData\\Local\\Temp/ipykernel_4252/1264859745.py\u001b[0m in \u001b[0;36m<module>\u001b[1;34m\u001b[0m\n\u001b[0;32m      1\u001b[0m \u001b[0mwrd1\u001b[0m \u001b[1;33m=\u001b[0m \u001b[1;34m\"helloWorld\"\u001b[0m\u001b[1;33m\u001b[0m\u001b[1;33m\u001b[0m\u001b[0m\n\u001b[1;32m----> 2\u001b[1;33m \u001b[0mwrd1\u001b[0m \u001b[1;33m=\u001b[0m \u001b[0mhello_World\u001b[0m\u001b[1;33m\u001b[0m\u001b[1;33m\u001b[0m\u001b[0m\n\u001b[0m",
      "\u001b[1;31mNameError\u001b[0m: name 'hello_World' is not defined"
     ]
    }
   ],
   "source": [
    "wrd1 = \"helloWorld\"\n",
    "wrd1 = hello_World"
   ]
  },
  {
   "cell_type": "code",
   "execution_count": 39,
   "id": "2cc62f0c-d722-4a2c-a4fd-77dcad97ccb1",
   "metadata": {},
   "outputs": [
    {
     "name": "stdout",
     "output_type": "stream",
     "text": [
      "helloWorld\n"
     ]
    }
   ],
   "source": [
    "wrd1 = \"helloWorld\"\n",
    "print(wrd1)"
   ]
  },
  {
   "cell_type": "code",
   "execution_count": 40,
   "id": "34506df2-acf9-4a17-b7d7-055ade8b3d8d",
   "metadata": {},
   "outputs": [
    {
     "ename": "NameError",
     "evalue": "name 'Hello_World' is not defined",
     "output_type": "error",
     "traceback": [
      "\u001b[1;31m---------------------------------------------------------------------------\u001b[0m",
      "\u001b[1;31mNameError\u001b[0m                                 Traceback (most recent call last)",
      "\u001b[1;32m~\\AppData\\Local\\Temp/ipykernel_4252/3990786916.py\u001b[0m in \u001b[0;36m<module>\u001b[1;34m\u001b[0m\n\u001b[1;32m----> 1\u001b[1;33m \u001b[0mHello_World\u001b[0m\u001b[1;33m\u001b[0m\u001b[1;33m\u001b[0m\u001b[0m\n\u001b[0m",
      "\u001b[1;31mNameError\u001b[0m: name 'Hello_World' is not defined"
     ]
    }
   ],
   "source": [
    "Hello_World"
   ]
  },
  {
   "cell_type": "code",
   "execution_count": 41,
   "id": "8546ce0a-42d2-4eb3-8239-d68d721203de",
   "metadata": {},
   "outputs": [
    {
     "ename": "NameError",
     "evalue": "name 'Hello_World' is not defined",
     "output_type": "error",
     "traceback": [
      "\u001b[1;31m---------------------------------------------------------------------------\u001b[0m",
      "\u001b[1;31mNameError\u001b[0m                                 Traceback (most recent call last)",
      "\u001b[1;32m~\\AppData\\Local\\Temp/ipykernel_4252/2752145215.py\u001b[0m in \u001b[0;36m<module>\u001b[1;34m\u001b[0m\n\u001b[1;32m----> 1\u001b[1;33m \u001b[0mprint\u001b[0m\u001b[1;33m(\u001b[0m\u001b[0mHello_World\u001b[0m\u001b[1;33m)\u001b[0m\u001b[1;33m\u001b[0m\u001b[1;33m\u001b[0m\u001b[0m\n\u001b[0m",
      "\u001b[1;31mNameError\u001b[0m: name 'Hello_World' is not defined"
     ]
    }
   ],
   "source": [
    "print(Hello_World)"
   ]
  },
  {
   "cell_type": "code",
   "execution_count": 42,
   "id": "1f35fd16-6017-4d20-8dae-d65c6d1722c0",
   "metadata": {},
   "outputs": [
    {
     "ename": "SyntaxError",
     "evalue": "cannot assign to literal (Temp/ipykernel_4252/2999508092.py, line 1)",
     "output_type": "error",
     "traceback": [
      "\u001b[1;36m  File \u001b[1;32m\"C:\\Users\\jitae\\AppData\\Local\\Temp/ipykernel_4252/2999508092.py\"\u001b[1;36m, line \u001b[1;32m1\u001b[0m\n\u001b[1;33m    1 = Hello_World\u001b[0m\n\u001b[1;37m    ^\u001b[0m\n\u001b[1;31mSyntaxError\u001b[0m\u001b[1;31m:\u001b[0m cannot assign to literal\n"
     ]
    }
   ],
   "source": [
    "1 = Hello_World\n",
    "print(1)"
   ]
  },
  {
   "cell_type": "code",
   "execution_count": 43,
   "id": "2d61eae3-e2be-4ae7-b175-57980748b4e7",
   "metadata": {},
   "outputs": [
    {
     "ename": "SyntaxError",
     "evalue": "cannot assign to literal (Temp/ipykernel_4252/576669649.py, line 1)",
     "output_type": "error",
     "traceback": [
      "\u001b[1;36m  File \u001b[1;32m\"C:\\Users\\jitae\\AppData\\Local\\Temp/ipykernel_4252/576669649.py\"\u001b[1;36m, line \u001b[1;32m1\u001b[0m\n\u001b[1;33m    1 = \"Hello_World\"\u001b[0m\n\u001b[1;37m    ^\u001b[0m\n\u001b[1;31mSyntaxError\u001b[0m\u001b[1;31m:\u001b[0m cannot assign to literal\n"
     ]
    }
   ],
   "source": [
    "1 = \"Hello_World\"\n",
    "print(1)"
   ]
  },
  {
   "cell_type": "code",
   "execution_count": 44,
   "id": "77c84bf1-a676-4f5a-84b1-0d67fd5315de",
   "metadata": {},
   "outputs": [
    {
     "name": "stdout",
     "output_type": "stream",
     "text": [
      "Hello_World\n"
     ]
    }
   ],
   "source": [
    "a1 = \"Hello_World\"\n",
    "print(a1)"
   ]
  },
  {
   "cell_type": "code",
   "execution_count": 45,
   "id": "667055dc-c521-46fc-91cf-753d1dd607bd",
   "metadata": {},
   "outputs": [
    {
     "name": "stdout",
     "output_type": "stream",
     "text": [
      "Hello World\n"
     ]
    }
   ],
   "source": [
    "a1 = \"Hello World\"\n",
    "print(a1)"
   ]
  },
  {
   "cell_type": "code",
   "execution_count": 46,
   "id": "0b23712e-c044-4083-9bed-8d0c1918c76a",
   "metadata": {},
   "outputs": [
    {
     "name": "stdout",
     "output_type": "stream",
     "text": [
      "helloWorld\n"
     ]
    }
   ],
   "source": [
    "a1 = \"helloWorld\"\n",
    "print(a1)"
   ]
  },
  {
   "cell_type": "code",
   "execution_count": 47,
   "id": "49c53fcf-2a71-46eb-95bd-458e6cfbc779",
   "metadata": {},
   "outputs": [
    {
     "name": "stdout",
     "output_type": "stream",
     "text": [
      "3\n"
     ]
    }
   ],
   "source": [
    "a = 3\n",
    "b = a\n",
    "print(b)"
   ]
  },
  {
   "cell_type": "code",
   "execution_count": 48,
   "id": "34088bba-2846-4b24-8902-2a0758967f0c",
   "metadata": {},
   "outputs": [
    {
     "name": "stdout",
     "output_type": "stream",
     "text": [
      "15\n"
     ]
    }
   ],
   "source": [
    "a=3\n",
    "b=5\n",
    "print(a*b)"
   ]
  },
  {
   "cell_type": "code",
   "execution_count": null,
   "id": "bc153e74-87bb-43b8-99c9-538264e3417b",
   "metadata": {},
   "outputs": [],
   "source": []
  }
 ],
 "metadata": {
  "kernelspec": {
   "display_name": "Python 3 (ipykernel)",
   "language": "python",
   "name": "python3"
  },
  "language_info": {
   "codemirror_mode": {
    "name": "ipython",
    "version": 3
   },
   "file_extension": ".py",
   "mimetype": "text/x-python",
   "name": "python",
   "nbconvert_exporter": "python",
   "pygments_lexer": "ipython3",
   "version": "3.9.7"
  }
 },
 "nbformat": 4,
 "nbformat_minor": 5
}
