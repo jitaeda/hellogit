{
 "cells": [
  {
   "cell_type": "code",
   "execution_count": 39,
   "id": "a6f3e006-5ff8-48ab-bc31-358ae7412881",
   "metadata": {},
   "outputs": [],
   "source": [
    "a = 100\n",
    "if a > 100: #True면 출력되고 아니면 아무것도 출력 안됨\n",
    "    print(\"쓸만하네\")"
   ]
  },
  {
   "cell_type": "code",
   "execution_count": 44,
   "id": "7116a173-1b2c-4656-b73e-49c53296565b",
   "metadata": {},
   "outputs": [
    {
     "name": "stdout",
     "output_type": "stream",
     "text": [
      "택시타고 가자\n",
      "집에\n"
     ]
    }
   ],
   "source": [
    "money = 10000 #0은 False, 나머진 True\n",
    "if money:\n",
    "    print(\"택시타고 가자\")\n",
    "    print(\"집에\")"
   ]
  },
  {
   "cell_type": "code",
   "execution_count": 47,
   "id": "d44c9595-b480-4d63-88af-ead07478d712",
   "metadata": {},
   "outputs": [
    {
     "name": "stdout",
     "output_type": "stream",
     "text": [
      "뭐\n",
      "뭔데\n"
     ]
    }
   ],
   "source": [
    "name = \"뭐\" #빈 문자열 False\n",
    "if name:\n",
    "    print(name)\n",
    "print(\"뭔데\")"
   ]
  },
  {
   "cell_type": "code",
   "execution_count": 48,
   "id": "d54688fd-8679-401e-9174-6afb8a3c9b99",
   "metadata": {},
   "outputs": [
    {
     "name": "stdout",
     "output_type": "stream",
     "text": [
      "선물사고도 7000원이 남는다\n"
     ]
    }
   ],
   "source": [
    "money = 12000\n",
    "if money >= 5000:\n",
    "    print(\"선물사고도 %d원이 남는다\" % (money-5000))"
   ]
  },
  {
   "cell_type": "code",
   "execution_count": 50,
   "id": "25f9b81f-f1d1-46e5-92e7-8700ef66222b",
   "metadata": {},
   "outputs": [
    {
     "name": "stdout",
     "output_type": "stream",
     "text": [
      "3개 사기엔 3000원이 부족하다\n"
     ]
    }
   ],
   "source": [
    "if money and money < 15000: #money가 0이 아니고 15000 미만이라면\n",
    "    print(\"3개 사기엔 %d원이 부족하다\" % (15000-money))"
   ]
  },
  {
   "cell_type": "code",
   "execution_count": 58,
   "id": "cdf58e4a-ae5f-4514-a8eb-2ec205052b14",
   "metadata": {},
   "outputs": [
    {
     "name": "stdout",
     "output_type": "stream",
     "text": [
      "같다\n"
     ]
    }
   ],
   "source": [
    "a = 123\n",
    "b = 123.0\n",
    "c = 123\n",
    "if a == b:\n",
    "    print(\"같다\") #True\n",
    "\n",
    "if a is b: #==와 동일하지만 is는 변수의 타입까지 비교한다\n",
    "    print(\"같네\") #False"
   ]
  },
  {
   "cell_type": "code",
   "execution_count": 59,
   "id": "94bea36b-2660-4d3e-ad3c-e7b0c173854e",
   "metadata": {},
   "outputs": [
    {
     "name": "stdout",
     "output_type": "stream",
     "text": [
      "다르네\n"
     ]
    }
   ],
   "source": [
    "if a is not b:\n",
    "    print(\"다르네\")\n",
    "if a is not c:\n",
    "    print(\"달라\")"
   ]
  },
  {
   "cell_type": "code",
   "execution_count": 62,
   "id": "15eccad9-1ef0-42db-bdf9-47585c633a3f",
   "metadata": {},
   "outputs": [
    {
     "name": "stdout",
     "output_type": "stream",
     "text": [
      "hello(은)는 이미 가입되어 있습니다.\n"
     ]
    }
   ],
   "source": [
    "user1 = \"hello\"\n",
    "user2 = \"world\"\n",
    "member_list = ['hello', 'python', 'life']\n",
    "if user1 in member_list:\n",
    "    print(user1+\"(은)는 이미 가입되어 있습니다.\")"
   ]
  },
  {
   "cell_type": "code",
   "execution_count": 63,
   "id": "ba2d4c3e-2111-47b1-ac40-736a29cb6aa6",
   "metadata": {},
   "outputs": [
    {
     "name": "stdout",
     "output_type": "stream",
     "text": [
      "world(은)는 정보가 없습니다.\n"
     ]
    }
   ],
   "source": [
    "if user2 not in member_list: #user1이면 결과출력 없음\n",
    "    print(user2+\"(은)는 정보가 없습니다.\")"
   ]
  },
  {
   "cell_type": "code",
   "execution_count": 66,
   "id": "e053482e-2fa4-47e8-bae5-2b57335fe9d1",
   "metadata": {},
   "outputs": [
    {
     "name": "stdout",
     "output_type": "stream",
     "text": [
      "한 값 가능\n"
     ]
    }
   ],
   "source": [
    "money = 5000 #3000이상이면 가능, 적다면 불가능\n",
    "if money > 3000:\n",
    "    print(\"가능\")\n",
    "else: #if와 들여쓰기 같이\n",
    "    print(\"불가능\")"
   ]
  },
  {
   "cell_type": "code",
   "execution_count": 70,
   "id": "e794e21a-bcef-445e-9f7f-4cb09af80008",
   "metadata": {},
   "outputs": [
    {
     "name": "stdout",
     "output_type": "stream",
     "text": [
      "C\n"
     ]
    }
   ],
   "source": [
    "point = 72\n",
    "if point >= 90:\n",
    "    print(\"A\")\n",
    "elif point >= 80:\n",
    "    print(\"B\")\n",
    "elif point >= 70:\n",
    "    print(\"C\")\n",
    "elif point >= 60:\n",
    "    print(\"D\")\n",
    "else:\n",
    "    print(\"때려쳐\")\n",
    "#elif는 if, else 사이에 나열된 조건에서 처음 만나는 참 조건에 대한\n",
    "#블록을 수행하고 나머지 무시하고 종료한다."
   ]
  }
 ],
 "metadata": {
  "kernelspec": {
   "display_name": "Python 3 (ipykernel)",
   "language": "python",
   "name": "python3"
  },
  "language_info": {
   "codemirror_mode": {
    "name": "ipython",
    "version": 3
   },
   "file_extension": ".py",
   "mimetype": "text/x-python",
   "name": "python",
   "nbconvert_exporter": "python",
   "pygments_lexer": "ipython3",
   "version": "3.9.7"
  }
 },
 "nbformat": 4,
 "nbformat_minor": 5
}
