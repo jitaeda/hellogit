{
 "cells": [
  {
   "cell_type": "markdown",
   "id": "32f2fe5b-3de5-4051-828e-8db7a3ae1896",
   "metadata": {},
   "source": [
    "# 김정욱\n",
    "## 프로그래밍 활용 시험"
   ]
  },
  {
   "cell_type": "code",
   "execution_count": 7,
   "id": "fcef7e65-ffbd-42b7-a199-3c2a1a651fc1",
   "metadata": {},
   "outputs": [
    {
     "name": "stdin",
     "output_type": "stream",
     "text": [
      "생년월일과 성별 정보를 입력하세요: 0012211\n"
     ]
    },
    {
     "name": "stdout",
     "output_type": "stream",
     "text": [
      "잘못 입력하셨습니다\n",
      "다시 입력해주세요\n"
     ]
    }
   ],
   "source": [
    "#1번\n",
    "#주민번호의 앞 부분과 뒷 부분의 첫 번째 글자를 아래와 같이 입력 받으시오. (20점)\n",
    "#생년월일과 성별 정보를 입력하세요: 9203211\n",
    "#입력값을 ssn이라는 하나의 변수에 저장하고, 그 값을 통해 아래와 같은 출력 결과를 만드시오.\n",
    "#당신은 30세 남자입니다.\n",
    "\n",
    "ssn = input(\"생년월일과 성별 정보를 입력하세요:\")\n",
    "year = int(ssn[0:2])\n",
    "last = int(ssn[6:])\n",
    "if year <= 21:\n",
    "    age = 21 - year + 1\n",
    "else:\n",
    "    age = 121 - year + 1\n",
    "\n",
    "d = \"\"\n",
    "if last == 1 and year > 21 or last == 3 and year <= 21:\n",
    "    d += \"남자\"\n",
    "elif last == 2 and year > 21 or last == 4 and year <= 21:\n",
    "    d += \"여자\"\n",
    "else:\n",
    "    print(\"잘못 입력하셨습니다\")\n",
    "\n",
    "if last == 1 and year > 21 or last == 3 and year <= 21:\n",
    "    print(\"당신은 %d세 %s입니다.\" % (age, d))\n",
    "elif last == 2 and year > 21 or last == 4 and year <= 21:\n",
    "    print(\"당신은 %d세 %s입니다.\" % (age, d))\n",
    "else:\n",
    "    print(\"다시 입력해주세요\")"
   ]
  },
  {
   "cell_type": "code",
   "execution_count": 18,
   "id": "b6a5420f-9e07-418e-9198-4f25276d951b",
   "metadata": {},
   "outputs": [
    {
     "name": "stdin",
     "output_type": "stream",
     "text": [
      "몇 점? 102\n"
     ]
    },
    {
     "name": "stdout",
     "output_type": "stream",
     "text": [
      "100점 만점입니다.\n"
     ]
    }
   ],
   "source": [
    "#2번\n",
    "#시험 점수를 입력받아 90 ~ 100점은 A, 80 ~ 89점은 B, 70 ~ 79점은 C, 60 ~ 69점은 D\n",
    "#나머지 점수는 F를 출력하는 프로그램을 작성하시오. (20점)\n",
    "grade = float(input(\"몇 점?\"))\n",
    "if grade >= 90 and grade <= 100:\n",
    "    print(\"A\")\n",
    "elif grade >= 80 and grade < 90:\n",
    "    print(\"B\")\n",
    "elif grade >= 70 and grade < 80:\n",
    "    print(\"C\")\n",
    "elif grade >= 60 and grade < 70:\n",
    "    print(\"D\")\n",
    "elif grade > 100:\n",
    "    print(\"100점 만점입니다.\")\n",
    "else:\n",
    "    print(\"F\")"
   ]
  },
  {
   "cell_type": "code",
   "execution_count": 32,
   "id": "260eeacf-25ac-4f67-b8eb-876d7ad70536",
   "metadata": {},
   "outputs": [
    {
     "name": "stdin",
     "output_type": "stream",
     "text": [
      "100~200 사이의 임의의 숫자 입력 201\n"
     ]
    },
    {
     "name": "stdout",
     "output_type": "stream",
     "text": [
      "error\n",
      "다시 입력하세요\n"
     ]
    }
   ],
   "source": [
    "##### 3번\n",
    "#100~200 사이의 임의의 숫자를 입력받아 number 라는 변수에 저장하고\n",
    "#1부터 입력 받은 숫자 사이에서 3의 배수에 대한 총 합을 구하시오. (20점)\n",
    "\n",
    "number = int(input(\"100~200 사이의 임의의 숫자 입력\"))\n",
    "if number > 200 or number < 100:\n",
    "    print(\"error\")\n",
    "    sum = \"다시 입력하세요\"\n",
    "else:\n",
    "    sum = 0\n",
    "    for i in range(1, number+1):\n",
    "        if i % 3 == 0:\n",
    "            sum += i\n",
    "print(sum)"
   ]
  },
  {
   "cell_type": "code",
   "execution_count": 20,
   "id": "9d42c378-423f-41b8-95fe-17e9c6edb5d5",
   "metadata": {},
   "outputs": [
    {
     "name": "stdout",
     "output_type": "stream",
     "text": [
      "[479000, 519000, 549000, 977750, 1419000, 1498000, 1649000, 1738950, 2098000, 2449000]\n"
     ]
    }
   ],
   "source": [
    "#4번\n",
    "#노트북을 구입하기로 한 당신은 인터넷을 통해 가장 인기 있는 노트북 상위 10개를 검색하였고 \n",
    "#검색 결과는 다음과 같았다. 검색 결과에서 가격을 오름차순으로 정렬하여 출력하시오. (20점)\n",
    "#단, len()과 range() 이외의 내장함수를 사용할 수 없습니다.\n",
    "\n",
    "price = [977750, 1649000, 1738950, 549000, 1419000, \n",
    "         479000, 2098000, 519000, 2449000, 1498000]\n",
    "\n",
    "for i in range(0, len(price)-1):\n",
    "    for j in range(i+1, len(price)):\n",
    "        if price[i] > price[j]:\n",
    "            price[i],price[j] = price[j],price[i]\n",
    "print(price)"
   ]
  },
  {
   "cell_type": "code",
   "execution_count": 25,
   "id": "f3386a23-f278-4a59-a66c-0950a71ded3f",
   "metadata": {},
   "outputs": [
    {
     "name": "stdout",
     "output_type": "stream",
     "text": [
      "내 예산에서 살만한 건 3가지\n"
     ]
    }
   ],
   "source": [
    "#5번\n",
    "#한 달 동안 아르바이트를 해서 140~170만원 정도의 노트북을 구매할 수 있게 되었다.\n",
    "#위 3번의 검색 결과에서 구입할 수 있는 노트북은 모두 몇 개 인가? (20점)\n",
    "price = [977750, 1649000, 1738950, 549000, 1419000, \n",
    "         479000, 2098000, 519000, 2449000, 1498000]\n",
    "notebook = []\n",
    "min = 1400000\n",
    "max = 1700000\n",
    "for i in price:\n",
    "    if i >= min and i <= max:\n",
    "        notebook.append(i)\n",
    "print(\"내 예산에서 살만한 건 %d가지\" % len(notebook))"
   ]
  }
 ],
 "metadata": {
  "kernelspec": {
   "display_name": "Python 3 (ipykernel)",
   "language": "python",
   "name": "python3"
  },
  "language_info": {
   "codemirror_mode": {
    "name": "ipython",
    "version": 3
   },
   "file_extension": ".py",
   "mimetype": "text/x-python",
   "name": "python",
   "nbconvert_exporter": "python",
   "pygments_lexer": "ipython3",
   "version": "3.9.7"
  }
 },
 "nbformat": 4,
 "nbformat_minor": 5
}
