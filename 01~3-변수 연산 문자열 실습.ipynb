{
 "cells": [
  {
   "cell_type": "markdown",
   "id": "69ca037b-1a3e-4e8f-862b-eb129decc82c",
   "metadata": {},
   "source": [
    "# 변수의 이해"
   ]
  },
  {
   "cell_type": "code",
   "execution_count": 1,
   "id": "5a4d1a42-9621-4ff4-b0fb-e77d743156cf",
   "metadata": {},
   "outputs": [
    {
     "name": "stdout",
     "output_type": "stream",
     "text": [
      "2000.0\n"
     ]
    }
   ],
   "source": [
    "e = 2e3 #오른쪽 e = 10, 2x10X세제곱\n",
    "print(e)"
   ]
  },
  {
   "cell_type": "code",
   "execution_count": 2,
   "id": "5b3b502a-7de1-4c6e-bddf-ba3bdbd57917",
   "metadata": {},
   "outputs": [
    {
     "name": "stdout",
     "output_type": "stream",
     "text": [
      "(1+2j)\n"
     ]
    }
   ],
   "source": [
    "i=1+2j #복소수 부분 j로 씀\n",
    "print(i)"
   ]
  },
  {
   "cell_type": "code",
   "execution_count": 3,
   "id": "29cc67db-49a1-440d-9517-21a02c844dc4",
   "metadata": {},
   "outputs": [
    {
     "name": "stdout",
     "output_type": "stream",
     "text": [
      "1.0\n"
     ]
    }
   ],
   "source": [
    "print(i.real) #위에 i에서 실수부분"
   ]
  },
  {
   "cell_type": "code",
   "execution_count": 9,
   "id": "508baf98-c23b-4ecb-b5e1-331923dff6ec",
   "metadata": {},
   "outputs": [
    {
     "name": "stdout",
     "output_type": "stream",
     "text": [
      "False\n"
     ]
    }
   ],
   "source": [
    "a = True # 첫 글자 대문자 주의\n",
    "c = not a # 참의 부정이므로\n",
    "print(c)  # 거짓"
   ]
  },
  {
   "cell_type": "markdown",
   "id": "e15ec3c9-2dc0-48cf-bec9-4b5c79375912",
   "metadata": {},
   "source": [
    "# 연산자"
   ]
  },
  {
   "cell_type": "markdown",
   "id": "4e104082-5cf5-49e1-aeb8-f894cfc28c60",
   "metadata": {},
   "source": [
    "### 대입연산자 = 좌변에 우변을 대입"
   ]
  },
  {
   "cell_type": "code",
   "execution_count": 6,
   "id": "f7885c5f-2631-4cf5-a2a6-12dd2f9a0f9e",
   "metadata": {},
   "outputs": [
    {
     "name": "stdout",
     "output_type": "stream",
     "text": [
      "3\n"
     ]
    }
   ],
   "source": [
    "a = 3\n",
    "b = a\n",
    "print(a)\n",
    "print(b)"
   ]
  },
  {
   "cell_type": "markdown",
   "id": "85f61ccf-6bc1-4c8d-8a61-eb1187b2b41f",
   "metadata": {},
   "source": [
    "### 사칙연산자"
   ]
  },
  {
   "cell_type": "markdown",
   "id": "169df9a8-5b9b-4f5f-be80-5a2f5b48b0b7",
   "metadata": {},
   "source": [
    "##### 더하기 = + , 뺴기 = -, 곱하기 = *, 거듭제곱 = **\n",
    "##### 나누기 = / (소수점 계속 연산하다가 오차 발생)\n",
    "#####        = // (정수 몫만 출력)\n",
    "#####        = % (나머지 중 정수부분)"
   ]
  },
  {
   "cell_type": "code",
   "execution_count": 6,
   "id": "f0fa49a3-494c-4f21-b733-d7e7a6d354b9",
   "metadata": {},
   "outputs": [
    {
     "name": "stdout",
     "output_type": "stream",
     "text": [
      "0.7142857142857143\n",
      "0\n",
      "5\n"
     ]
    }
   ],
   "source": [
    "a = 5\n",
    "b = 7\n",
    "print(a / b)\n",
    "print(a // b)\n",
    "print(a % b)"
   ]
  },
  {
   "cell_type": "markdown",
   "id": "594c2d35-60a5-46f4-8889-11741d479598",
   "metadata": {},
   "source": [
    "### 단항연산자"
   ]
  },
  {
   "cell_type": "code",
   "execution_count": 1,
   "id": "2b48c196-1afe-47ee-8c17-c805dc219f27",
   "metadata": {},
   "outputs": [],
   "source": [
    "x = 100\n",
    "x = x+5\n",
    "x += 5"
   ]
  },
  {
   "cell_type": "code",
   "execution_count": 9,
   "id": "6510618a-225e-42be-961d-edfb0777c1fb",
   "metadata": {},
   "outputs": [
    {
     "name": "stdout",
     "output_type": "stream",
     "text": [
      "2187\n",
      "2\n"
     ]
    }
   ],
   "source": [
    "print(3**7)\n",
    "a = 1\n",
    "a += 50\n",
    "a *= 2\n",
    "a %= 4\n",
    "print(a)"
   ]
  },
  {
   "cell_type": "markdown",
   "id": "12ee49be-9054-4ae5-b5e6-a18cf8bb5fc7",
   "metadata": {},
   "source": [
    "### 비교연산자"
   ]
  },
  {
   "cell_type": "code",
   "execution_count": 2,
   "id": "51a05be1-8468-40f7-a5f8-308066d94474",
   "metadata": {},
   "outputs": [
    {
     "name": "stdout",
     "output_type": "stream",
     "text": [
      "True\n"
     ]
    }
   ],
   "source": [
    "x = 100\n",
    "y = 20\n",
    "print(x>y) #참인지 거짓인지만 판별, 결과는 논리값(bool형)으로 생성된다. (True, False 대문자)"
   ]
  },
  {
   "cell_type": "code",
   "execution_count": 3,
   "id": "02fcacf8-7fd8-4b3f-8705-452d5343178f",
   "metadata": {},
   "outputs": [
    {
     "name": "stdout",
     "output_type": "stream",
     "text": [
      "False\n"
     ]
    }
   ],
   "source": [
    "print(y>x)"
   ]
  },
  {
   "cell_type": "code",
   "execution_count": 11,
   "id": "11874094-fb8a-43a9-af99-e22a79ee9628",
   "metadata": {},
   "outputs": [
    {
     "name": "stdout",
     "output_type": "stream",
     "text": [
      "False\n",
      "True\n",
      "False\n",
      "True\n"
     ]
    }
   ],
   "source": [
    "print(x==y)\n",
    "print(x!=y) #다르다\n",
    "print(x<=y)\n",
    "result = 100 != 50\n",
    "print(result)"
   ]
  },
  {
   "cell_type": "markdown",
   "id": "513cd284-6294-4c94-8502-cb2ee86b70a5",
   "metadata": {},
   "source": [
    "### 논리연산자"
   ]
  },
  {
   "cell_type": "markdown",
   "id": "1c43c018-6ef9-4772-b04f-f541e74f57b6",
   "metadata": {},
   "source": [
    "##### and = 다 True면 True, 아니면 False\n",
    "##### or  = 하나라도 True면 True"
   ]
  },
  {
   "cell_type": "code",
   "execution_count": 12,
   "id": "cce99ff2-7da5-4bb5-af2c-283a71ba3799",
   "metadata": {},
   "outputs": [
    {
     "name": "stdout",
     "output_type": "stream",
     "text": [
      "True\n"
     ]
    }
   ],
   "source": [
    "a = 100 > 50\n",
    "b = 20 > 10\n",
    "print(a and b) #True and True"
   ]
  },
  {
   "cell_type": "markdown",
   "id": "e3a25b6e-1b9f-4dd5-8a87-8875efb515b0",
   "metadata": {},
   "source": [
    "### is 연산자"
   ]
  },
  {
   "cell_type": "code",
   "execution_count": 13,
   "id": "c135ac34-4b93-42bb-a316-d81433887910",
   "metadata": {},
   "outputs": [
    {
     "name": "stdout",
     "output_type": "stream",
     "text": [
      "True\n"
     ]
    }
   ],
   "source": [
    "a = 100 > 50\n",
    "b = 20 > 10\n",
    "print(a is b) # 두 변수가 동일한지 판별"
   ]
  },
  {
   "cell_type": "code",
   "execution_count": 14,
   "id": "13aa8e8f-23b7-4b5f-b7eb-bf3dd9896a26",
   "metadata": {},
   "outputs": [
    {
     "name": "stdout",
     "output_type": "stream",
     "text": [
      "True\n",
      "False\n"
     ]
    }
   ],
   "source": [
    "# is 와 ==의 차이\n",
    "x = 100\n",
    "y = 100.0\n",
    "print(x==y) # == 는 값만 비교하므로 True\n",
    "print(x is y) # is는 데이터 타입까지 비교하므로 정수, 실수를 다르다고 판단"
   ]
  },
  {
   "cell_type": "markdown",
   "id": "0d09415a-c9f9-4403-b8d3-43a0d56c9d50",
   "metadata": {},
   "source": [
    "### 문자열(string)"
   ]
  },
  {
   "cell_type": "code",
   "execution_count": 27,
   "id": "0356b4ce-0420-4b35-bec9-693d5b36abb3",
   "metadata": {},
   "outputs": [
    {
     "name": "stdout",
     "output_type": "stream",
     "text": [
      "life is good, life is beautiful\n"
     ]
    },
    {
     "ename": "TypeError",
     "evalue": "can only concatenate str (not \"int\") to str",
     "output_type": "error",
     "traceback": [
      "\u001b[1;31m---------------------------------------------------------------------------\u001b[0m",
      "\u001b[1;31mTypeError\u001b[0m                                 Traceback (most recent call last)",
      "\u001b[1;32m~\\AppData\\Local\\Temp/ipykernel_6888/2668372312.py\u001b[0m in \u001b[0;36m<module>\u001b[1;34m\u001b[0m\n\u001b[0;32m      3\u001b[0m \u001b[0mprint\u001b[0m\u001b[1;33m(\u001b[0m\u001b[0mmsg1\u001b[0m\u001b[1;33m+\u001b[0m\u001b[1;34m\", \"\u001b[0m\u001b[1;33m+\u001b[0m\u001b[0mmsg2\u001b[0m\u001b[1;33m)\u001b[0m\u001b[1;33m\u001b[0m\u001b[1;33m\u001b[0m\u001b[0m\n\u001b[0;32m      4\u001b[0m \u001b[0mmsg3\u001b[0m \u001b[1;33m=\u001b[0m \u001b[1;36m100\u001b[0m\u001b[1;33m\u001b[0m\u001b[1;33m\u001b[0m\u001b[0m\n\u001b[1;32m----> 5\u001b[1;33m \u001b[0mprint\u001b[0m\u001b[1;33m(\u001b[0m\u001b[0mmsg1\u001b[0m\u001b[1;33m+\u001b[0m\u001b[0mmsg3\u001b[0m\u001b[1;33m)\u001b[0m \u001b[1;31m#1은 문자열, 100은 숫자라 불가능\u001b[0m\u001b[1;33m\u001b[0m\u001b[1;33m\u001b[0m\u001b[0m\n\u001b[0m",
      "\u001b[1;31mTypeError\u001b[0m: can only concatenate str (not \"int\") to str"
     ]
    }
   ],
   "source": [
    "msg1 = 'life is good' #쌍,홑따옴표로 감싸야 한다\n",
    "msg2 = \"life is beautiful\" #단, 혼용해선 안된다 (\"life is beautiful')\n",
    "print(msg1+\", \"+msg2)\n",
    "msg3 = 100\n",
    "print(msg1+msg3) #1은 문자열, 100은 숫자라 불가능"
   ]
  },
  {
   "cell_type": "code",
   "execution_count": 26,
   "id": "c5b3f9a7-93f4-4002-a280-cd3f6bbdc488",
   "metadata": {},
   "outputs": [
    {
     "name": "stdout",
     "output_type": "stream",
     "text": [
      "life is good100\n",
      "100100100\n"
     ]
    },
    {
     "ename": "TypeError",
     "evalue": "can't multiply sequence by non-int of type 'str'",
     "output_type": "error",
     "traceback": [
      "\u001b[1;31m---------------------------------------------------------------------------\u001b[0m",
      "\u001b[1;31mTypeError\u001b[0m                                 Traceback (most recent call last)",
      "\u001b[1;32m~\\AppData\\Local\\Temp/ipykernel_6888/2037534672.py\u001b[0m in \u001b[0;36m<module>\u001b[1;34m\u001b[0m\n\u001b[0;32m      2\u001b[0m \u001b[0mprint\u001b[0m\u001b[1;33m(\u001b[0m\u001b[0mmsg1\u001b[0m\u001b[1;33m+\u001b[0m\u001b[0mmsg4\u001b[0m\u001b[1;33m)\u001b[0m \u001b[1;31m#'100' 묶어줘서 가능\u001b[0m\u001b[1;33m\u001b[0m\u001b[1;33m\u001b[0m\u001b[0m\n\u001b[0;32m      3\u001b[0m \u001b[0mprint\u001b[0m\u001b[1;33m(\u001b[0m\u001b[0mmsg4\u001b[0m\u001b[1;33m*\u001b[0m\u001b[1;36m3\u001b[0m\u001b[1;33m)\u001b[0m \u001b[1;31m#곱셈은 반복, 당연히 문자열끼리 곱셈은 불가능\u001b[0m\u001b[1;33m\u001b[0m\u001b[1;33m\u001b[0m\u001b[0m\n\u001b[1;32m----> 4\u001b[1;33m \u001b[0mprint\u001b[0m\u001b[1;33m(\u001b[0m\u001b[0mmsg4\u001b[0m\u001b[1;33m*\u001b[0m\u001b[0mmsg4\u001b[0m\u001b[1;33m)\u001b[0m\u001b[1;33m\u001b[0m\u001b[1;33m\u001b[0m\u001b[0m\n\u001b[0m",
      "\u001b[1;31mTypeError\u001b[0m: can't multiply sequence by non-int of type 'str'"
     ]
    }
   ],
   "source": [
    "msg4 = '100'\n",
    "print(msg1+msg4) #'100' 묶어줘서 가능\n",
    "print(msg4*3) #곱셈은 반복\n",
    "print(msg4*msg4) #당연히 문자열끼리 곱셈은 불가능"
   ]
  },
  {
   "cell_type": "code",
   "execution_count": 29,
   "id": "ec7a118b-c799-44e0-bd35-fbc167f70a5d",
   "metadata": {},
   "outputs": [
    {
     "name": "stdout",
     "output_type": "stream",
     "text": [
      "hello python world\n",
      "hello \"python\" world\n"
     ]
    }
   ],
   "source": [
    "message = \"hello python world\" #python에 쌍따옴표를 넣고 싶다면 \"hello \"python\" world\" 이렇게는 불가\n",
    "message1 = \"hello \\\"python\\\" world\" #역슬래시 따옴표로 가능\n",
    "# 쌍따옴표 사이에 홑, 홑따옴표 사이에 쌍따옴표는 가능\n",
    "print(message)\n",
    "print(message1)"
   ]
  },
  {
   "cell_type": "markdown",
   "id": "281704f3-2717-443a-a4ca-b7235e4df828",
   "metadata": {},
   "source": [
    "##### 이스케이프 문자"
   ]
  },
  {
   "cell_type": "code",
   "execution_count": 2,
   "id": "a86b8980-fb68-4e0b-a4d6-67518fc7de9e",
   "metadata": {},
   "outputs": [
    {
     "name": "stdout",
     "output_type": "stream",
     "text": [
      "life is \"too\" short\n"
     ]
    }
   ],
   "source": [
    "case1 = \"life is \\\"too\\\" short\" #홑따옴표도 가능\n",
    "print(case1)"
   ]
  },
  {
   "cell_type": "code",
   "execution_count": 3,
   "id": "4b055c37-29be-4f8b-a385-73e95bd3ab02",
   "metadata": {},
   "outputs": [
    {
     "name": "stdout",
     "output_type": "stream",
     "text": [
      "Life is 'too' short\n"
     ]
    }
   ],
   "source": [
    "case3 = \"Life is 'too' short\"\n",
    "print(case3)"
   ]
  },
  {
   "cell_type": "code",
   "execution_count": 4,
   "id": "14a4d379-ae91-4bf7-8746-8d9bd2cb8449",
   "metadata": {},
   "outputs": [
    {
     "name": "stdout",
     "output_type": "stream",
     "text": [
      "Life is \"too\" short\n"
     ]
    }
   ],
   "source": [
    "case4 = 'Life is \"too\" short'\n",
    "print(case4)"
   ]
  },
  {
   "cell_type": "code",
   "execution_count": 5,
   "id": "5a893f4f-ab41-423f-8824-145a9adf5d18",
   "metadata": {},
   "outputs": [
    {
     "name": "stdout",
     "output_type": "stream",
     "text": [
      "Life is 'too' short\n",
      "You need Python\n"
     ]
    }
   ],
   "source": [
    "#줄바꿈 n\n",
    "print(\"Life is 'too' short\\nYou need Python\")"
   ]
  },
  {
   "cell_type": "code",
   "execution_count": 6,
   "id": "b1e8cbb7-e09d-4638-9188-d0c2ad08f5e1",
   "metadata": {},
   "outputs": [
    {
     "name": "stdout",
     "output_type": "stream",
     "text": [
      "Life is 'too' short\tYou need Python\n"
     ]
    }
   ],
   "source": [
    "#탭효과 t\n",
    "print(\"Life is 'too' short\\tYou need Python\")"
   ]
  },
  {
   "cell_type": "code",
   "execution_count": 7,
   "id": "67d997ea-5301-4e1a-85d5-753d89537256",
   "metadata": {},
   "outputs": [
    {
     "name": "stdout",
     "output_type": "stream",
     "text": [
      "Life is 'too' short\\You need Python\n"
     ]
    }
   ],
   "source": [
    "#역슬래시를 쓰고 싶을때 한개 더\n",
    "print(\"Life is 'too' short\\\\You need Python\")"
   ]
  },
  {
   "cell_type": "markdown",
   "id": "49aad949-e9a2-4e0f-83ec-c771afa67dd8",
   "metadata": {},
   "source": [
    "### 문자열의 인덱스번호\n",
    "    0부터 시작되며, 공백도 글자로 처리\n",
    "    음수형태의 인덱스는 -1부터 시작"
   ]
  },
  {
   "cell_type": "code",
   "execution_count": 17,
   "id": "9eafc9ab-689a-4f70-bd6c-04020def11dd",
   "metadata": {},
   "outputs": [
    {
     "name": "stdout",
     "output_type": "stream",
     "text": [
      "e\n",
      "\n",
      "\n",
      "y\n",
      "is \n",
      "t\n",
      "Pyt\n"
     ]
    }
   ],
   "source": [
    "str = \"Life is too short\\nyou need Python\"\n",
    "print(str[3])\n",
    "print(str[17]) #띄어쓰기는 공백으로 나옴\n",
    "print(str[-5]) #뒤에서부터 5번쨰, -1부터 시작\n",
    "print(str[5:8]) #5~8번째인 t의 '전'까지 출력해줌\n",
    "print(str[8])\n",
    "print(str[-6:-3]) #-6인 P부터 -3인 h의 '전'까지"
   ]
  },
  {
   "cell_type": "code",
   "execution_count": 21,
   "id": "e9982857-e255-48b1-9604-2916d06208be",
   "metadata": {},
   "outputs": [
    {
     "name": "stdout",
     "output_type": "stream",
     "text": [
      "ou need Python\n",
      "Life is \n",
      " too short\n",
      "you need P\n"
     ]
    }
   ],
   "source": [
    "str = \"Life is too short\\nyou need Python\"\n",
    "print(str[19:]) #19부터 끝까지\n",
    "print(str[:8]) #처음부터 8번째 '전'까지\n",
    "print(str[7:-5]) #7번째부터 -5인 y의 '전'까지"
   ]
  },
  {
   "cell_type": "code",
   "execution_count": null,
   "id": "ccb08753-9c20-4a48-97d0-071bd47c44b2",
   "metadata": {},
   "outputs": [],
   "source": []
  }
 ],
 "metadata": {
  "kernelspec": {
   "display_name": "Python 3 (ipykernel)",
   "language": "python",
   "name": "python3"
  },
  "language_info": {
   "codemirror_mode": {
    "name": "ipython",
    "version": 3
   },
   "file_extension": ".py",
   "mimetype": "text/x-python",
   "name": "python",
   "nbconvert_exporter": "python",
   "pygments_lexer": "ipython3",
   "version": "3.9.7"
  }
 },
 "nbformat": 4,
 "nbformat_minor": 5
}
