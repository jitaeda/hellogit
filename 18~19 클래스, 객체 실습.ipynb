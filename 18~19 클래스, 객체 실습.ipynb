{
 "cells": [
  {
   "cell_type": "markdown",
   "id": "279ca816-cc22-403d-8917-b10bc127e3c4",
   "metadata": {},
   "source": [
    "### 클래스(class)란 객체의 설계도 역할을 하는 프로그램 소스이다.\n",
    "##### 하나의 클래스를 통해 동일한 구조를 갖는 개체를 여러개 생성할 수 있다."
   ]
  },
  {
   "cell_type": "code",
   "execution_count": 9,
   "id": "7e919023-2a76-4c41-ac21-9922db86c0a9",
   "metadata": {},
   "outputs": [
    {
     "name": "stdout",
     "output_type": "stream",
     "text": [
      "python\n",
      "01012345678\n",
      "Life\n",
      "Life@naver.com\n",
      "python\n",
      "hello@daum.net\n"
     ]
    }
   ],
   "source": [
    "\"\"\"\n",
    "class 클래스이름:\n",
    "    멤버변수\n",
    "    def 메서드이름(self, [파라미터...]):\n",
    "        [return 값]\n",
    "\"\"\"\n",
    "#클래스를 통한 객체 생성\n",
    "class member:\n",
    "    userid = \"python\"\n",
    "    email = \"python@gmail.com\"\n",
    "    phone = \"01012345678\"\n",
    "mem1 = member() #mem1 = 객체 = 클래스에서 정의한 구조를 부여받은 변수\n",
    "                #변수이름 = 클래스이름()의 형태로 생성한다.\n",
    "print(mem1.userid)\n",
    "print(mem1.phone)\n",
    "\n",
    "#값 변경하기\n",
    "mem1.userid = \"Life\"\n",
    "print(mem1.userid)\n",
    "mem1.email = \"Life@naver.com\"\n",
    "print(mem1.email)\n",
    "\n",
    "#클래스 재사용\n",
    "mem2 = member() #똑같은 구조의 객체를 쉽게 생성\n",
    "print(mem2.userid)\n",
    "mem2.email = \"hello@daum.net\"\n",
    "print(mem2.email)"
   ]
  },
  {
   "cell_type": "code",
   "execution_count": 11,
   "id": "37b378e3-5355-40b9-9670-120d097e24b7",
   "metadata": {},
   "outputs": [
    {
     "name": "stdout",
     "output_type": "stream",
     "text": [
      "300\n",
      "500\n"
     ]
    }
   ],
   "source": [
    "# 클래스에 메서드 정의하기\n",
    "class Calc:\n",
    "    def sum(self, x, y): #파이썬에서 첫번째 파라미터는 반드시 'self'\n",
    "        return x + y\n",
    "\n",
    "c1 = Calc()\n",
    "a = c1.sum(100, 200) #self엔 값을 전달하지 않음\n",
    "print(a)\n",
    "b = c1.sum(200, 300)\n",
    "print(b)"
   ]
  },
  {
   "cell_type": "code",
   "execution_count": 18,
   "id": "fdeb83bc-ed09-4010-8766-b00414741d29",
   "metadata": {},
   "outputs": [
    {
     "name": "stdout",
     "output_type": "stream",
     "text": [
      "(500, 100)\n",
      "500\n",
      "100\n",
      "500 100\n"
     ]
    }
   ],
   "source": [
    "# self의 용법\n",
    "# 클래스 안에서 'self'를 사용해 '자기자신'을 표현한다.\n",
    "\n",
    "#함수의 그룹화\n",
    "class Calc:\n",
    "    def plus(self, x, y):\n",
    "        return x + y\n",
    "    \n",
    "    def minus(self, x, y):\n",
    "        return x - y\n",
    "    \n",
    "    def all(self, x, y):\n",
    "        a = self.plus(x,y) #플러스를 가져올때 self 사용\n",
    "        b = self.minus(x,y) #마찬가지\n",
    "        \n",
    "        return(a, b) #두 결과값을 튜플로 한번에 리턴\n",
    "\n",
    "cal = Calc() #Calc() 클래스를 cal 객체로 할당\n",
    "print(cal.all(300, 200))\n",
    "print(cal.all(300, 200)[0]) #튜플의 0번째 원소\n",
    "print(cal.all(300, 200)[1])\n",
    "p, m = cal.all(300,200)\n",
    "print(p, m)"
   ]
  },
  {
   "cell_type": "code",
   "execution_count": 26,
   "id": "c8d88560-aa77-4cb0-8c9c-dc6999876af5",
   "metadata": {},
   "outputs": [
    {
     "name": "stdout",
     "output_type": "stream",
     "text": [
      "abc\n",
      "abc@gmail.com\n"
     ]
    }
   ],
   "source": [
    "#변수와 함수 모두 내장하는 클래스 정의\n",
    "class member:\n",
    "    username = \"\" #클래스 레벨에서 정의된 변수로 내장되있는 모든 함수가 공유\n",
    "    email = \"\"    #'전역변수' 혹은 '멤버변수'라고 부름\n",
    "    \n",
    "    def join(self, username, email):\n",
    "        print(username)\n",
    "        print(email)\n",
    "mem = member()\n",
    "mem.join(\"abc\", \"abc@gmail.com\")"
   ]
  },
  {
   "cell_type": "code",
   "execution_count": 28,
   "id": "b98a869f-51b5-4669-aabc-c73b25b264f6",
   "metadata": {},
   "outputs": [
    {
     "name": "stdout",
     "output_type": "stream",
     "text": [
      "abc\n",
      "abc@gmail.com\n"
     ]
    }
   ],
   "source": [
    "class member:\n",
    "    username = \"\" #클래스 레벨에서 정의된 변수로 내장되있는 모든 함수가 공유\n",
    "    email = \"\"    #'전역변수' 혹은 '멤버변수'라고 부름\n",
    "\n",
    "    def join(self, username, email):\n",
    "        self.username = username\n",
    "        self.email = email\n",
    "    def view_info(self): #위처럼 바로 출력도 가능하지만 view에 할당 후\n",
    "        print(self.username)\n",
    "        print(self.email)\n",
    "        \n",
    "mem = member()\n",
    "mem.join(\"abc\", \"abc@gmail.com\")\n",
    "mem.view_info() # 출력도 가능"
   ]
  },
  {
   "cell_type": "code",
   "execution_count": 30,
   "id": "b4dae314-7fdb-47a3-8d4d-4ff56a65074d",
   "metadata": {},
   "outputs": [
    {
     "name": "stdout",
     "output_type": "stream",
     "text": [
      "-----생성자가 실행되었습니다.-----\n",
      "안녕하세요, 저는 야옹이이고, 이메일은 yaong@gmail.com 입니다.\n"
     ]
    }
   ],
   "source": [
    "#생성자 = 객체가 생성될 때 자동으로 실행되는 특수 형태 메서드\n",
    "#값을 리턴하지 않으며 생성자의 이름이 \"__init__\"으로 정해져 있다.\n",
    "\n",
    "class useraccount:\n",
    "    username = None\n",
    "    email = None\n",
    "    \n",
    "    def __init__(self):\n",
    "        print(\"-----생성자가 실행되었습니다.-----\")\n",
    "        self.username = \"야옹이\"\n",
    "        self.email = 'yaong@gmail.com'\n",
    "    \n",
    "    def say_hello(self):\n",
    "        tpl = \"안녕하세요, 저는 {0}이고, 이메일은 {1} 입니다.\"\n",
    "        print(tpl.format(self.username, self.email))\n",
    "\n",
    "ua = useraccount()\n",
    "ua.say_hello()"
   ]
  },
  {
   "cell_type": "code",
   "execution_count": 33,
   "id": "06e77641-4307-4bb8-9586-7cbf00460625",
   "metadata": {},
   "outputs": [
    {
     "name": "stdout",
     "output_type": "stream",
     "text": [
      "----생성자가 실행되었습니다.----\n",
      "이름: 야옹이 / 이메일: yaong@gmail.com\n"
     ]
    }
   ],
   "source": [
    "class userinfo:\n",
    "    username = None\n",
    "    email = None\n",
    "    \n",
    "    def __init__(self, username, email):\n",
    "        print(\"----생성자가 실행되었습니다.----\")\n",
    "        self.username = username\n",
    "        self.email = email\n",
    "    \n",
    "    def view_info(self):\n",
    "        tpl = \"이름: {0} / 이메일: {1}\"\n",
    "        print(tpl.format(self.username, self.email))\n",
    "ui = userinfo(\"야옹이\", \"yaong@gmail.com\")\n",
    "ui.view_info()"
   ]
  },
  {
   "cell_type": "code",
   "execution_count": 38,
   "id": "d441de6d-525f-4a99-92e2-981f367b8a95",
   "metadata": {},
   "outputs": [
    {
     "name": "stdout",
     "output_type": "stream",
     "text": [
      "[질럿1호] 체력: 100, 공격력: 10\n",
      "[질럿2호] 체력: 100, 공격력: 12\n",
      "[드라군1호] 체력: 120, 공격력: 20\n",
      "[드라군2호] 체력: 150, 공격력: 35\n",
      "질럿1호(이)가 적 본진까지 이동합니다.\n",
      "드라군1호(이)가 적 본진까지 이동합니다.\n",
      "질럿1호(이)가 적 본진(을)를 공격합니다. 데미지: 10\n",
      "드라군1호(이)가 적 본진(을)를 공격합니다. 데미지: 20\n",
      "질럿2호(이)가 적 멀티까지 이동합니다.\n",
      "드라군2호(이)가 적 멀티까지 이동합니다.\n",
      "질럿2호(이)가 일꾼(을)를 공격합니다. 데미지: 12\n",
      "드라군2호(이)가 일꾼(을)를 공격합니다. 데미지: 35\n"
     ]
    }
   ],
   "source": [
    "class unit:\n",
    "    name = None\n",
    "    hp = None\n",
    "    dps = None\n",
    "    \n",
    "    def __init__(self, name, hp, dps):\n",
    "        self.name = name\n",
    "        self.hp = hp\n",
    "        self.dps = dps\n",
    "        print(\"[%s] 체력: %d, 공격력: %d\" % (name, hp, dps))\n",
    "    \n",
    "    def move(self, position):\n",
    "        print(\"%s(이)가 %s까지 이동합니다.\" % (self.name, position))\n",
    "    \n",
    "    def attack(self, target):\n",
    "        print(\"%s(이)가 %s(을)를 공격합니다. 데미지: %d\" % (self.name, target, self.dps))\n",
    "\n",
    "#객체를 생성하면서 생성자를 통해 특성 정의\n",
    "u1 = unit(\"질럿1호\", 100, 10)\n",
    "u2 = unit(\"질럿2호\", 100, 12)\n",
    "u3 = unit(\"드라군1호\", 120, 20)\n",
    "u4 = unit(\"드라군2호\", 150, 35)\n",
    "\n",
    "#객체 동작시키기\n",
    "u1.move(\"적 본진\")\n",
    "u3.move(\"적 본진\")\n",
    "u1.attack(\"적 본진\")\n",
    "u3.attack(\"적 본진\")\n",
    "\n",
    "u2.move(\"적 멀티\")\n",
    "u4.move(\"적 멀티\")\n",
    "u2.attack(\"일꾼\")\n",
    "u4.attack(\"일꾼\")"
   ]
  },
  {
   "cell_type": "code",
   "execution_count": null,
   "id": "e57e44fe-417f-4a6f-9289-01889b19bda2",
   "metadata": {},
   "outputs": [],
   "source": []
  }
 ],
 "metadata": {
  "kernelspec": {
   "display_name": "Python 3 (ipykernel)",
   "language": "python",
   "name": "python3"
  },
  "language_info": {
   "codemirror_mode": {
    "name": "ipython",
    "version": 3
   },
   "file_extension": ".py",
   "mimetype": "text/x-python",
   "name": "python",
   "nbconvert_exporter": "python",
   "pygments_lexer": "ipython3",
   "version": "3.9.7"
  }
 },
 "nbformat": 4,
 "nbformat_minor": 5
}
