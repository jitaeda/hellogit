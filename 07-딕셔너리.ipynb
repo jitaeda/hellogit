{
 "cells": [
  {
   "cell_type": "markdown",
   "metadata": {},
   "source": [
    "# 딕셔너리\n",
    "\n",
    "## 딕셔너리 정의하기\n",
    "\n",
    "이름(key)과 값(value)가 쌍을 이루는 자료구조"
   ]
  },
  {
   "cell_type": "code",
   "execution_count": 13,
   "metadata": {},
   "outputs": [
    {
     "name": "stdout",
     "output_type": "stream",
     "text": [
      "{'name': '철수', 'phone': '010-1234-5678', 'birth': '0115'}\n"
     ]
    }
   ],
   "source": [
    "dic = { \"name\": \"철수\", \"phone\": \"010-1234-5678\", \"birth\": \"0115\" }\n",
    "print( dic )"
   ]
  },
  {
   "cell_type": "markdown",
   "metadata": {},
   "source": [
    "## 특정 원소에 접근하기"
   ]
  },
  {
   "cell_type": "code",
   "execution_count": 14,
   "metadata": {},
   "outputs": [
    {
     "name": "stdout",
     "output_type": "stream",
     "text": [
      "철수\n"
     ]
    }
   ],
   "source": [
    "# 특정 원소에 접근하기 -> 직접 출력\n",
    "print( dic[\"name\"] )"
   ]
  },
  {
   "cell_type": "code",
   "execution_count": 41,
   "metadata": {},
   "outputs": [
    {
     "name": "stdout",
     "output_type": "stream",
     "text": [
      "010-1234-5678\n"
     ]
    }
   ],
   "source": [
    "# 특정 원소에 접근하기 -> 다른 변수에 복사\n",
    "phone = dic[\"phone\"]\n",
    "print(phone)"
   ]
  },
  {
   "cell_type": "code",
   "execution_count": 16,
   "metadata": {},
   "outputs": [
    {
     "name": "stdout",
     "output_type": "stream",
     "text": [
      "호영\n"
     ]
    }
   ],
   "source": [
    "# 특정 원소의 값을 변경\n",
    "dic[\"name\"] = \"호영\"\n",
    "print( dic[\"name\"] )"
   ]
  },
  {
   "cell_type": "markdown",
   "metadata": {},
   "source": [
    "## 특정 원소 삭제하기"
   ]
  },
  {
   "cell_type": "code",
   "execution_count": 17,
   "metadata": {},
   "outputs": [
    {
     "name": "stdout",
     "output_type": "stream",
     "text": [
      "{'name': '호영', 'phone': '010-1234-5678'}\n"
     ]
    }
   ],
   "source": [
    "# -> key가 birth인 데이터 삭제\n",
    "del(dic[\"birth\"])\n",
    "print(dic)"
   ]
  },
  {
   "cell_type": "markdown",
   "metadata": {},
   "source": [
    "## 리스트 사용 제약"
   ]
  },
  {
   "cell_type": "code",
   "execution_count": 18,
   "metadata": {},
   "outputs": [
    {
     "ename": "KeyError",
     "evalue": "'weight'",
     "output_type": "error",
     "traceback": [
      "\u001b[0;31m---------------------------------------------------------------------------\u001b[0m",
      "\u001b[0;31mKeyError\u001b[0m                                  Traceback (most recent call last)",
      "\u001b[0;32m<ipython-input-18-2be09b725177>\u001b[0m in \u001b[0;36m<module>\u001b[0;34m\u001b[0m\n\u001b[1;32m      1\u001b[0m \u001b[0;31m# 존재하지 않는 키의 값을 사용하면 에러\u001b[0m\u001b[0;34m\u001b[0m\u001b[0;34m\u001b[0m\u001b[0;34m\u001b[0m\u001b[0m\n\u001b[0;32m----> 2\u001b[0;31m \u001b[0mprint\u001b[0m\u001b[0;34m(\u001b[0m \u001b[0mdic\u001b[0m\u001b[0;34m[\u001b[0m\u001b[0;34m\"weight\"\u001b[0m\u001b[0;34m]\u001b[0m \u001b[0;34m)\u001b[0m\u001b[0;34m\u001b[0m\u001b[0;34m\u001b[0m\u001b[0m\n\u001b[0m",
      "\u001b[0;31mKeyError\u001b[0m: 'weight'"
     ]
    }
   ],
   "source": [
    "# 존재하지 않는 키의 값을 사용하면 에러\n",
    "print( dic[\"weight\"] )"
   ]
  },
  {
   "cell_type": "code",
   "execution_count": 19,
   "metadata": {},
   "outputs": [
    {
     "name": "stdout",
     "output_type": "stream",
     "text": [
      "{'name': '호영', 'phone': '010-1234-5678', 'height': 175}\n"
     ]
    }
   ],
   "source": [
    "# 존재하지 않는 키에 값을 할당하면 확장\n",
    "dic[\"height\"] = 175\n",
    "print( dic )"
   ]
  },
  {
   "cell_type": "code",
   "execution_count": 20,
   "metadata": {},
   "outputs": [
    {
     "name": "stdout",
     "output_type": "stream",
     "text": [
      "python\n"
     ]
    }
   ],
   "source": [
    "# 키가 중복될 경우 하나를 제외한 나머지는 무시됨.\n",
    "# -> 일반적으로 나중에 정의된 항목이 이전에 정의된 항목을 덮어 씀\n",
    "data = {\"msg\": \"hello\", \"msg\": \"world\", \"msg\": \"python\"}\n",
    "print(data['msg'])"
   ]
  },
  {
   "cell_type": "markdown",
   "metadata": {},
   "source": [
    "## 정보의 계층적 표현"
   ]
  },
  {
   "cell_type": "code",
   "execution_count": 22,
   "metadata": {},
   "outputs": [
    {
     "name": "stdout",
     "output_type": "stream",
     "text": [
      "{'userid': 'python', 'age': 20, 'addr': ['서울', '서초구', '강남대로'], 'grade': {'korean': 98, 'math': 77, 'english': 82}}\n"
     ]
    }
   ],
   "source": [
    "# 딕셔너리는 리스트나 다른 딕셔너리를 포함할 수 있다.\n",
    "# -> 정보를 계층화해서 표현 가능함\n",
    "addr = [\"서울\", \"서초구\", \"강남대로\"]\n",
    "grade = {\"korean\": 98, \"math\": 77, \"english\": 82}\n",
    "\n",
    "# 서로 다른 종류의 데이터를 저장할 수 있다.\n",
    "member = {\n",
    "    \"userid\": \"python\",     # 문자열 데이터\n",
    "    \"age\": 20,              # 정수형 데이터\n",
    "    \"addr\": addr,           # 리스트 데이터\n",
    "    \"grade\": grade          # 딕셔너리 데이터\n",
    "}\n",
    "\n",
    "print( member )"
   ]
  },
  {
   "cell_type": "code",
   "execution_count": 23,
   "metadata": {},
   "outputs": [
    {
     "name": "stdout",
     "output_type": "stream",
     "text": [
      "서울\n",
      "98\n"
     ]
    }
   ],
   "source": [
    "# 계층화된 값에 접근하기\n",
    "print( member[\"addr\"][0] )\n",
    "print( member[\"grade\"][\"korean\"] )"
   ]
  },
  {
   "cell_type": "code",
   "execution_count": 26,
   "metadata": {},
   "outputs": [
    {
     "name": "stdout",
     "output_type": "stream",
     "text": [
      "{'total': 1962, 'city': ['서울', '대전', '광주'], 'population': [987, 654, 321], 'date': {'yy': 2018, 'mm': 9, 'dd': 10}}\n"
     ]
    }
   ],
   "source": [
    "# 딕셔너리의 계층화 직접 표현\n",
    "mydic = {\n",
    "    'total' : 1962,\n",
    "    'city' : [\"서울\", \"대전\", \"광주\"],\n",
    "    'population' : [987, 654, 321],\n",
    "    'date' : { 'yy': 2018, 'mm': 9, 'dd': 10 }\n",
    "}\n",
    "\n",
    "print(mydic)"
   ]
  },
  {
   "cell_type": "code",
   "execution_count": 27,
   "metadata": {},
   "outputs": [
    {
     "name": "stdout",
     "output_type": "stream",
     "text": [
      "서울\n",
      "987\n",
      "2018\n"
     ]
    }
   ],
   "source": [
    "print(mydic[\"city\"][0])\n",
    "print(mydic[\"population\"][0])\n",
    "print(mydic[\"date\"][\"yy\"])"
   ]
  },
  {
   "cell_type": "markdown",
   "metadata": {},
   "source": [
    "## 딕셔너리를 원소로 갖는 리스트"
   ]
  },
  {
   "cell_type": "code",
   "execution_count": 29,
   "metadata": {},
   "outputs": [
    {
     "name": "stdout",
     "output_type": "stream",
     "text": [
      "철수의 국어점수:95, 영어점수: 88\n",
      "영희의 국어점수:92, 영어점수: 90\n",
      "철민의 국어점수:88, 영어점수: 76\n"
     ]
    }
   ],
   "source": [
    "# 리스트의 원소가 딕셔너리가 되는 경우 --> 표 자료형\n",
    "grade = [\n",
    "    {\"name\": \"철수\", \"kor\": 95, \"eng\": 88},\n",
    "    {\"name\": \"영희\", \"kor\": 92, \"eng\": 90},\n",
    "    {\"name\": \"철민\", \"kor\": 88, \"eng\": 76}\n",
    "]\n",
    "\n",
    "tpl = \"{0}의 국어점수:{1}, 영어점수: {2}\"\n",
    "print( tpl.format(grade[0][\"name\"], grade[0][\"kor\"], grade[0][\"eng\"]) )\n",
    "print( tpl.format(grade[1][\"name\"], grade[1][\"kor\"], grade[1][\"eng\"]) )\n",
    "print( tpl.format(grade[2][\"name\"], grade[2][\"kor\"], grade[2][\"eng\"]) )"
   ]
  },
  {
   "cell_type": "markdown",
   "metadata": {},
   "source": [
    "## 딕셔너리의 값을 반환하는 함수"
   ]
  },
  {
   "cell_type": "code",
   "execution_count": 30,
   "metadata": {},
   "outputs": [],
   "source": [
    "# 샘플 데이터\n",
    "dic = { \"name\": \"철수\", \"phone\": \"010-1234-5678\", \"birth\": \"0115\" }"
   ]
  },
  {
   "cell_type": "code",
   "execution_count": 31,
   "metadata": {},
   "outputs": [
    {
     "name": "stdout",
     "output_type": "stream",
     "text": [
      "철수\n"
     ]
    }
   ],
   "source": [
    "# 특정 key에 대응하는 값 얻기\n",
    "# -> dic[\"name\"]과 동일\n",
    "print(dic.get(\"name\"))"
   ]
  },
  {
   "cell_type": "code",
   "execution_count": 42,
   "metadata": {},
   "outputs": [
    {
     "name": "stdout",
     "output_type": "stream",
     "text": [
      "None\n"
     ]
    }
   ],
   "source": [
    "# 존재하지 않는 key에 접근하는 경우 --> 에러\n",
    "# print(dic[\"gender\"])\n",
    "# 존재하지 않는 key에 접근하는 경우 --> 에러아님(None이 반환됨)\n",
    "print(dic.get(\"gender\"))"
   ]
  },
  {
   "cell_type": "code",
   "execution_count": 43,
   "metadata": {},
   "outputs": [
    {
     "name": "stdout",
     "output_type": "stream",
     "text": [
      "남자\n"
     ]
    }
   ],
   "source": [
    "# get함수는 전달하는 key가 존재하지 않을 경우\n",
    "# 대신 반환될 값을 함께 설정할 수 있다.\n",
    "print(dic.get(\"gender\", \"남자\"))"
   ]
  },
  {
   "cell_type": "markdown",
   "metadata": {},
   "source": [
    "## key를 분리하기"
   ]
  },
  {
   "cell_type": "code",
   "execution_count": 35,
   "metadata": {},
   "outputs": [
    {
     "name": "stdout",
     "output_type": "stream",
     "text": [
      "dict_keys(['name', 'phone', 'birth'])\n"
     ]
    }
   ],
   "source": [
    "# Key만 모아서 dict_keys라는 객체로 반환\n",
    "keys = dic.keys()\n",
    "print(keys)"
   ]
  },
  {
   "cell_type": "code",
   "execution_count": 36,
   "metadata": {},
   "outputs": [
    {
     "name": "stdout",
     "output_type": "stream",
     "text": [
      "['name', 'phone', 'birth']\n"
     ]
    }
   ],
   "source": [
    "# dict_keys를 list로 변환\n",
    "key_list = list(keys)\n",
    "print(key_list)"
   ]
  },
  {
   "cell_type": "markdown",
   "metadata": {},
   "source": [
    "## value를 분리하기"
   ]
  },
  {
   "cell_type": "code",
   "execution_count": 37,
   "metadata": {},
   "outputs": [
    {
     "name": "stdout",
     "output_type": "stream",
     "text": [
      "dict_values(['철수', '010-1234-5678', '0115'])\n"
     ]
    }
   ],
   "source": [
    "# Value만 모아서 dic_values 객체로 반환\n",
    "values = dic.values()\n",
    "print(values)"
   ]
  },
  {
   "cell_type": "code",
   "execution_count": 38,
   "metadata": {},
   "outputs": [
    {
     "name": "stdout",
     "output_type": "stream",
     "text": [
      "['철수', '010-1234-5678', '0115']\n"
     ]
    }
   ],
   "source": [
    "# dic_values를 list로 변환\n",
    "value_list = list(values)\n",
    "print(value_list)"
   ]
  },
  {
   "cell_type": "markdown",
   "metadata": {},
   "source": [
    "## key와 value의 쌍으로 분리하기"
   ]
  },
  {
   "cell_type": "code",
   "execution_count": 39,
   "metadata": {},
   "outputs": [
    {
     "name": "stdout",
     "output_type": "stream",
     "text": [
      "dict_items([('name', '철수'), ('phone', '010-1234-5678'), ('birth', '0115')])\n"
     ]
    }
   ],
   "source": [
    "# key-value를 쌍으로 묶은 튜플들의 모음인 dict_items 객체 얻기\n",
    "items = dic.items()\n",
    "print(items)"
   ]
  },
  {
   "cell_type": "code",
   "execution_count": 40,
   "metadata": {},
   "outputs": [
    {
     "name": "stdout",
     "output_type": "stream",
     "text": [
      "[('name', '철수'), ('phone', '010-1234-5678'), ('birth', '0115')]\n"
     ]
    }
   ],
   "source": [
    "lists = list(items)\n",
    "print(lists)"
   ]
  },
  {
   "cell_type": "code",
   "execution_count": null,
   "metadata": {},
   "outputs": [],
   "source": []
  }
 ],
 "metadata": {
  "kernelspec": {
   "display_name": "Python 3 (ipykernel)",
   "language": "python",
   "name": "python3"
  },
  "language_info": {
   "codemirror_mode": {
    "name": "ipython",
    "version": 3
   },
   "file_extension": ".py",
   "mimetype": "text/x-python",
   "name": "python",
   "nbconvert_exporter": "python",
   "pygments_lexer": "ipython3",
   "version": "3.9.7"
  }
 },
 "nbformat": 4,
 "nbformat_minor": 4
}
